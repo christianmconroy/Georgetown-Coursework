{
 "cells": [
  {
   "cell_type": "markdown",
   "metadata": {},
   "source": [
    "### Slide 2\n",
    "- Tuples"
   ]
  },
  {
   "cell_type": "code",
   "execution_count": 1,
   "metadata": {},
   "outputs": [],
   "source": [
    "working_days = (\"Monday\", \"Tuesday\",\"Wednesday\", \"Thursday\", \"Friday\",)\n",
    "# I think the difference syntax wise between a tuple and a list is tuples use parantheses and lists use brackets"
   ]
  },
  {
   "cell_type": "code",
   "execution_count": 3,
   "metadata": {},
   "outputs": [
    {
     "data": {
      "text/plain": [
       "tuple"
      ]
     },
     "execution_count": 3,
     "metadata": {},
     "output_type": "execute_result"
    }
   ],
   "source": [
    "type(working_days)"
   ]
  },
  {
   "cell_type": "code",
   "execution_count": 4,
   "metadata": {},
   "outputs": [],
   "source": [
    "myday = 'Monday'"
   ]
  },
  {
   "cell_type": "code",
   "execution_count": 5,
   "metadata": {},
   "outputs": [
    {
     "data": {
      "text/plain": [
       "True"
      ]
     },
     "execution_count": 5,
     "metadata": {},
     "output_type": "execute_result"
    }
   ],
   "source": [
    "myday in working_days"
   ]
  },
  {
   "cell_type": "code",
   "execution_count": 6,
   "metadata": {},
   "outputs": [
    {
     "name": "stdout",
     "output_type": "stream",
     "text": [
      "Monday\n",
      "Tuesday\n",
      "Wednesday\n",
      "Thursday\n",
      "Friday\n"
     ]
    }
   ],
   "source": [
    "for day in working_days:\n",
    "    print(day)"
   ]
  },
  {
   "cell_type": "markdown",
   "metadata": {},
   "source": [
    "### Slide 3\n",
    "- Sets"
   ]
  },
  {
   "cell_type": "code",
   "execution_count": 7,
   "metadata": {},
   "outputs": [],
   "source": [
    "A = {1,2,3,4,5,6}\n",
    "B = {2,4,6,8,10,12}\n",
    "C = {2,4}"
   ]
  },
  {
   "cell_type": "code",
   "execution_count": 8,
   "metadata": {},
   "outputs": [
    {
     "data": {
      "text/plain": [
       "{1, 2, 3, 4, 5, 6, 8, 10, 12}"
      ]
     },
     "execution_count": 8,
     "metadata": {},
     "output_type": "execute_result"
    }
   ],
   "source": [
    "A.union(B)"
   ]
  },
  {
   "cell_type": "code",
   "execution_count": 9,
   "metadata": {},
   "outputs": [
    {
     "data": {
      "text/plain": [
       "{2, 4, 6}"
      ]
     },
     "execution_count": 9,
     "metadata": {},
     "output_type": "execute_result"
    }
   ],
   "source": [
    "A.intersection(B)"
   ]
  },
  {
   "cell_type": "code",
   "execution_count": 10,
   "metadata": {},
   "outputs": [
    {
     "data": {
      "text/plain": [
       "True"
      ]
     },
     "execution_count": 10,
     "metadata": {},
     "output_type": "execute_result"
    }
   ],
   "source": [
    "C.issubset(A)"
   ]
  },
  {
   "cell_type": "code",
   "execution_count": 11,
   "metadata": {},
   "outputs": [
    {
     "data": {
      "text/plain": [
       "False"
      ]
     },
     "execution_count": 11,
     "metadata": {},
     "output_type": "execute_result"
    }
   ],
   "source": [
    "A.issubset(B)"
   ]
  },
  {
   "cell_type": "code",
   "execution_count": 12,
   "metadata": {},
   "outputs": [
    {
     "data": {
      "text/plain": [
       "True"
      ]
     },
     "execution_count": 12,
     "metadata": {},
     "output_type": "execute_result"
    }
   ],
   "source": [
    "B.issuperset(C)"
   ]
  },
  {
   "cell_type": "markdown",
   "metadata": {},
   "source": [
    "### Slide 5"
   ]
  },
  {
   "cell_type": "code",
   "execution_count": 14,
   "metadata": {},
   "outputs": [],
   "source": [
    "# 1. Create an empty dictionary and name it d1\n",
    "d1 = {}"
   ]
  },
  {
   "cell_type": "code",
   "execution_count": 15,
   "metadata": {},
   "outputs": [],
   "source": [
    "# 2. Populate it with the key value pairs: potato:25 and tomato:45\n",
    "d1[\"potato\"] = 25\n",
    "d1[\"tomato\"] = 45"
   ]
  },
  {
   "cell_type": "code",
   "execution_count": 16,
   "metadata": {},
   "outputs": [],
   "source": [
    "# 3. Create a list (mylist) of 2 tuples: ('apple', 15), ('orange', 45)\n",
    "mylist = [('apple', 15), ('orange', 45)]"
   ]
  },
  {
   "cell_type": "code",
   "execution_count": 17,
   "metadata": {},
   "outputs": [],
   "source": [
    "# 4. Create a dictionary d2 from that list of tuples\n",
    "d2 = dict(mylist)"
   ]
  },
  {
   "cell_type": "code",
   "execution_count": 18,
   "metadata": {},
   "outputs": [
    {
     "name": "stdout",
     "output_type": "stream",
     "text": [
      "{'apple': 15, 'orange': 45}\n"
     ]
    }
   ],
   "source": [
    "print(d2)"
   ]
  },
  {
   "cell_type": "code",
   "execution_count": 19,
   "metadata": {},
   "outputs": [],
   "source": [
    "# 5. Create two lists called produce [\"banana\", \"lime\"] and quantity [23,46]\n",
    "produce = [\"banana\", \"lime\"]\n",
    "quantity = [23,46]"
   ]
  },
  {
   "cell_type": "code",
   "execution_count": 20,
   "metadata": {},
   "outputs": [],
   "source": [
    "# 6. Zip produce and quantity into a list named pq\n",
    "pq = zip(produce, quantity)"
   ]
  },
  {
   "cell_type": "code",
   "execution_count": 21,
   "metadata": {},
   "outputs": [],
   "source": [
    "# 7. Create a dictionary called d3 from pq\n",
    "d3 = dict(pq)"
   ]
  },
  {
   "cell_type": "code",
   "execution_count": 22,
   "metadata": {},
   "outputs": [],
   "source": [
    "# 8. Assign the value 333 to the key \"banana\" in d3\n",
    "d3[\"banana\"] = 333"
   ]
  },
  {
   "cell_type": "code",
   "execution_count": 23,
   "metadata": {},
   "outputs": [
    {
     "name": "stdout",
     "output_type": "stream",
     "text": [
      "False\n",
      "True\n"
     ]
    }
   ],
   "source": [
    "# 9. Test the membership of a key in a dictionary; specifically, \n",
    "# test whether \"tomato\" exists in d2 \n",
    "print(\"tomato\" in d2)\n",
    "# and then test whether \"tomato\" exists in d1\n",
    "print(\"tomato\" in d1)"
   ]
  },
  {
   "cell_type": "code",
   "execution_count": 24,
   "metadata": {},
   "outputs": [
    {
     "data": {
      "text/plain": [
       "45"
      ]
     },
     "execution_count": 24,
     "metadata": {},
     "output_type": "execute_result"
    }
   ],
   "source": [
    "# 10. Delete (or remove) a key in a dictionary; specifically, remove \"tomato\" from d1\n",
    "d1.pop('tomato', None)"
   ]
  },
  {
   "cell_type": "code",
   "execution_count": 25,
   "metadata": {},
   "outputs": [
    {
     "name": "stdout",
     "output_type": "stream",
     "text": [
      "Length : 2\n"
     ]
    }
   ],
   "source": [
    "# 11. Obtain the length (or size) of a dictionary; in this case, that of d3\n",
    "print (\"Length : %d\" % len (d3))"
   ]
  },
  {
   "cell_type": "code",
   "execution_count": 26,
   "metadata": {},
   "outputs": [
    {
     "name": "stdout",
     "output_type": "stream",
     "text": [
      "Dictionary is NOT empty\n"
     ]
    }
   ],
   "source": [
    "# 12. Perform an emptiness test on d1\n",
    "if not bool(d1):\n",
    "    print (\"Dictionary is empty\")\n",
    "else:\n",
    "    print (\"Dictionary is NOT empty\")"
   ]
  },
  {
   "cell_type": "code",
   "execution_count": null,
   "metadata": {
    "collapsed": true
   },
   "outputs": [],
   "source": [
    "# 13. Increment the value associated with the key \"lime\" by 210 in d3."
   ]
  },
  {
   "cell_type": "code",
   "execution_count": 27,
   "metadata": {},
   "outputs": [
    {
     "name": "stdout",
     "output_type": "stream",
     "text": [
      "256\n"
     ]
    }
   ],
   "source": [
    "d3[\"lime\"] = d3[\"lime\"] + 210\n",
    "print (d3[\"lime\"])"
   ]
  },
  {
   "cell_type": "code",
   "execution_count": 28,
   "metadata": {},
   "outputs": [
    {
     "name": "stdout",
     "output_type": "stream",
     "text": [
      "{'potato': 25}\n",
      "{'apple': 15, 'orange': 45}\n",
      "{'banana': 333, 'lime': 256}\n"
     ]
    }
   ],
   "source": [
    "print(d1)\n",
    "print(d2)\n",
    "print(d3)"
   ]
  },
  {
   "cell_type": "markdown",
   "metadata": {
    "collapsed": true
   },
   "source": [
    "### Slide 11"
   ]
  },
  {
   "cell_type": "code",
   "execution_count": 29,
   "metadata": {},
   "outputs": [],
   "source": [
    "\"\"\"\n",
    " This function asks a user to enter their name\n",
    " and then greets the user by adding \"Hello\" as salutation\n",
    " Input: None\n",
    " Output: Greeting followed by the user name\n",
    " \"\"\"\n",
    "def names():\n",
    "    your_name = input(\"Please enter your name: \")\n",
    "    print (\"Hello \" + your_name) "
   ]
  },
  {
   "cell_type": "code",
   "execution_count": 30,
   "metadata": {},
   "outputs": [
    {
     "name": "stdout",
     "output_type": "stream",
     "text": [
      "Please enter your name: Christian\n",
      "Hello Christian\n"
     ]
    }
   ],
   "source": [
    "names()"
   ]
  },
  {
   "cell_type": "markdown",
   "metadata": {},
   "source": [
    "### Slide 12"
   ]
  },
  {
   "cell_type": "code",
   "execution_count": 31,
   "metadata": {},
   "outputs": [],
   "source": [
    "def myadd(n1,n2):\n",
    "    try:\n",
    "        myint = int(n1)\n",
    "        myint = int(n2)\n",
    "    except ValueError:\n",
    "        return(\"Wrong input\")\n",
    "    return(n1+n2)"
   ]
  },
  {
   "cell_type": "code",
   "execution_count": 33,
   "metadata": {},
   "outputs": [
    {
     "data": {
      "text/plain": [
       "3"
      ]
     },
     "execution_count": 33,
     "metadata": {},
     "output_type": "execute_result"
    }
   ],
   "source": [
    "a = 2\n",
    "b = \"R\"\n",
    "myadd(a,b)\n",
    "# myadd(1,2) works though"
   ]
  },
  {
   "cell_type": "markdown",
   "metadata": {},
   "source": [
    "### Slide 19"
   ]
  },
  {
   "cell_type": "code",
   "execution_count": 34,
   "metadata": {},
   "outputs": [
    {
     "name": "stdout",
     "output_type": "stream",
     "text": [
      "['Tom', 'Dick', 'Harry']\n",
      "['Hello Tom', 'Hello Dick', 'Hello Harry']\n"
     ]
    }
   ],
   "source": [
    "mynames = ['Tom', 'Dick' , 'Harry']\n",
    "print(mynames)\n",
    "x = ['Hello ' + person for person in mynames]\n",
    "print(x)"
   ]
  },
  {
   "cell_type": "markdown",
   "metadata": {},
   "source": [
    "### Slide 20"
   ]
  },
  {
   "cell_type": "code",
   "execution_count": 35,
   "metadata": {},
   "outputs": [
    {
     "name": "stdout",
     "output_type": "stream",
     "text": [
      "[1.2345, 2.3456, 3, 4567]\n",
      "1.23\n",
      "2.35\n",
      "3\n",
      "4567\n"
     ]
    }
   ],
   "source": [
    "myfloats = [1.2345, 2.3456, 3,4567]\n",
    "print (myfloats)\n",
    "x = [round(mynum,2) for mynum in myfloats]\n",
    "for anumber in x:\n",
    "    print (anumber)"
   ]
  },
  {
   "cell_type": "markdown",
   "metadata": {},
   "source": [
    "### Slide 21"
   ]
  },
  {
   "cell_type": "code",
   "execution_count": 36,
   "metadata": {},
   "outputs": [
    {
     "name": "stdout",
     "output_type": "stream",
     "text": [
      "[2, 5, 10]\n"
     ]
    }
   ],
   "source": [
    "def mysqplusone(a):\n",
    "    return a**2+1\n",
    "\n",
    "mynums = [1,2,3]\n",
    "x = [mysqplusone(i) for i in mynums] \n",
    "print(x)\n",
    "# Function creation actually seems simpler in python. "
   ]
  },
  {
   "cell_type": "markdown",
   "metadata": {},
   "source": [
    "### Slide 22"
   ]
  },
  {
   "cell_type": "code",
   "execution_count": 37,
   "metadata": {},
   "outputs": [
    {
     "name": "stdout",
     "output_type": "stream",
     "text": [
      "4\n",
      "5\n",
      "6\n",
      "5\n",
      "6\n",
      "7\n",
      "6\n",
      "7\n",
      "8\n"
     ]
    }
   ],
   "source": [
    "a = [1,2,3]\n",
    "b = [3,4,5]\n",
    "x = [c+d for c in a for d in b]\n",
    "for anelement in x:\n",
    "    print (anelement)\n",
    "    # Like two nested for loops in this. "
   ]
  },
  {
   "cell_type": "markdown",
   "metadata": {},
   "source": [
    "### Slide 23"
   ]
  },
  {
   "cell_type": "code",
   "execution_count": 38,
   "metadata": {},
   "outputs": [
    {
     "name": "stdout",
     "output_type": "stream",
     "text": [
      "Hello Dick\n",
      "Hello Harry\n"
     ]
    }
   ],
   "source": [
    "mynames = ['Tom', 'Dick', 'Harry']\n",
    "x = ['Hello ' + person for person in mynames if len(person) > 3]\n",
    "for selectedgreetings in x:\n",
    "    print (selectedgreetings) "
   ]
  },
  {
   "cell_type": "markdown",
   "metadata": {},
   "source": [
    "### Slide 24"
   ]
  },
  {
   "cell_type": "code",
   "execution_count": 39,
   "metadata": {},
   "outputs": [
    {
     "name": "stdout",
     "output_type": "stream",
     "text": [
      "[2.35]\n"
     ]
    }
   ],
   "source": [
    "myfloats = [1.2345, 2.3456, 3,4567]\n",
    "x = [round(mynum,2) for mynum in myfloats if int(mynum)%2==0]\n",
    "print (x)"
   ]
  },
  {
   "cell_type": "markdown",
   "metadata": {},
   "source": [
    "### Slide 25"
   ]
  },
  {
   "cell_type": "code",
   "execution_count": 40,
   "metadata": {},
   "outputs": [
    {
     "data": {
      "text/plain": [
       "[(2, 4)]"
      ]
     },
     "execution_count": 40,
     "metadata": {},
     "output_type": "execute_result"
    }
   ],
   "source": [
    "a = [1,2,3]\n",
    "b = [3,4,5]\n",
    "x = [(c,d) for c in a for d in b if c%2 == 0 and d%2 == 0]\n",
    "x"
   ]
  },
  {
   "cell_type": "markdown",
   "metadata": {},
   "source": [
    "### Slide 26"
   ]
  },
  {
   "cell_type": "code",
   "execution_count": null,
   "metadata": {
    "collapsed": true
   },
   "outputs": [],
   "source": [
    "# Let a = [[1,2],[3,4], [5,6]]. Write a list\n",
    "# comprehension that will give [[1,4],[9,16],[25,36]]\n",
    "# – essentially squaring each element "
   ]
  },
  {
   "cell_type": "code",
   "execution_count": null,
   "metadata": {
    "collapsed": true
   },
   "outputs": [],
   "source": []
  },
  {
   "cell_type": "markdown",
   "metadata": {},
   "source": [
    "### Slide 27"
   ]
  },
  {
   "cell_type": "code",
   "execution_count": 42,
   "metadata": {},
   "outputs": [],
   "source": [
    "def greet2(uname):\n",
    "    \"\"\"\n",
    "    This function expects a user name (string) and then\n",
    "    greets the user\n",
    "    Input: user name (string)\n",
    "    Output: Greeting followed by the user name\n",
    "    \"\"\"\n",
    "    print (\"Hello \" + uname)"
   ]
  },
  {
   "cell_type": "code",
   "execution_count": 43,
   "metadata": {},
   "outputs": [
    {
     "name": "stdout",
     "output_type": "stream",
     "text": [
      "Hello Raj\n"
     ]
    }
   ],
   "source": [
    "greet2(\"Raj\")"
   ]
  },
  {
   "cell_type": "markdown",
   "metadata": {},
   "source": [
    "### Slide 40"
   ]
  },
  {
   "cell_type": "markdown",
   "metadata": {},
   "source": [
    "We need to perform three broad actions -input, process, and output. The three actions maps as follows:\n",
    "\n",
    "**input** - Read file\n",
    "**process** - (i) compute mean and (ii) compute standard deviation\n",
    "**output** - print results\n",
    "**Step 1**: Read file: Create a text file called datafile.txt with the following data.\n",
    "\n",
    "12<br>\n",
    "23<br>\n",
    "14<br>\n",
    "23<br>\n",
    "25<br>\n",
    "16<br>\n",
    "12<br>\n",
    "15<br>\n",
    "17<br>\n",
    "11<br>\n",
    "19<br>\n",
    "29<br>\n",
    "26<br>\n",
    "\n",
    " \n",
    "**Step 2**: Compute the mean and standard deviation. Use lists to accomplish both\n",
    " \n",
    "**Step 3**: Report the results (sample size, mean of sample, and the standard deviation around the mean)\n",
    "\n",
    "Now let us move on to write each of the three components. This is a highly simplified version of the divide and conquer strategy that you will end up using for any complex programming task."
   ]
  },
  {
   "cell_type": "code",
   "execution_count": 44,
   "metadata": {},
   "outputs": [
    {
     "name": "stdout",
     "output_type": "stream",
     "text": [
      "[12, 23, 14, 23, 25, 16, 12, 15, 17, 11, 19, 29, 26]\n"
     ]
    }
   ],
   "source": [
    "# Component 1 --- Input ---- to read a file\n",
    "\n",
    "import os\n",
    "filename = os.path.join(os.getcwd(),'datafile.txt') \n",
    "myList = []\n",
    "with open(filename) as f:\n",
    "    for line in f:\n",
    "        myList.append(int(line))\n",
    "print(myList)"
   ]
  },
  {
   "cell_type": "code",
   "execution_count": 47,
   "metadata": {},
   "outputs": [
    {
     "name": "stdout",
     "output_type": "stream",
     "text": [
      "18.615384615384617\n"
     ]
    }
   ],
   "source": [
    "# Component 2a --- Process ---- to compute average\n",
    "\n",
    "mysum = 0.0\n",
    "for i in range(len(myList)):\n",
    "    mysum = mysum + myList[i]\n",
    "mymean = mysum/len(myList)\n",
    "print(mymean)"
   ]
  },
  {
   "cell_type": "code",
   "execution_count": 48,
   "metadata": {},
   "outputs": [],
   "source": [
    "# Component 2b --- Process ---- to compute the SD (without using the 'statistics' package)\n",
    "\n",
    "import math    \n",
    "n = len(myList) \n",
    "mean = sum(myList) / n \n",
    "dev = [x - mean for x in myList] \n",
    "dev2 = [x*x for x in dev] \n",
    "mysd = math.sqrt( sum(dev2) / (n-1)) "
   ]
  },
  {
   "cell_type": "code",
   "execution_count": 49,
   "metadata": {
    "scrolled": true
   },
   "outputs": [
    {
     "name": "stdout",
     "output_type": "stream",
     "text": [
      "The size of the sample is 13\n",
      "The sample mean is      18.62 \n",
      "The sample standard deviation is 5.99            \n"
     ]
    }
   ],
   "source": [
    "# Component 3 --- Output ---- to print results\n",
    "# In order to test this module, you may want to uncomment the \n",
    "# next three lines -- recomment them back when you want to run it in sequence with input and process\n",
    "# myList = [1,2,3,4,5]\n",
    "# mymean = 3.4\n",
    "# mysd = 4.34\n",
    "print (\"The size of the sample is {:d}\".format(len(myList)))\n",
    "print (\"The sample mean is {:10.2f} \".format(mymean))\n",
    "print (\"The sample standard deviation is {:<16.2f}\".format(mysd))"
   ]
  },
  {
   "cell_type": "markdown",
   "metadata": {},
   "source": [
    "### Using Spyder or any other IDE\n",
    "If you stack the code blocks in the above three cells, you will have the fully functioning program as shown below. Name that program oneprogram.py. See slide 41."
   ]
  },
  {
   "cell_type": "code",
   "execution_count": 50,
   "metadata": {},
   "outputs": [
    {
     "name": "stdout",
     "output_type": "stream",
     "text": [
      "The size of the sample is 13\n",
      "The sample mean is      18.62 \n",
      "The sample standard deviation is 5.99            \n"
     ]
    }
   ],
   "source": [
    "# ENTIRE PROGRAM\n",
    "\n",
    "# INPUT\n",
    "import os\n",
    "filename = os.path.join(os.getcwd(),'datafile.txt') \n",
    "myList = []\n",
    "with open(filename) as f:\n",
    "    for line in f:\n",
    "        myList.append(int(line))\n",
    "\n",
    "# PROCESS\n",
    "# -- Compute mean\n",
    "mysum = 0.0\n",
    "for i in range(len(myList)):\n",
    "    mysum = mysum + myList[i]\n",
    "mymean = mysum/len(myList)\n",
    "\n",
    "# -- Compute standard deviation\n",
    "import math    \n",
    "n = len(myList) \n",
    "mean = sum(myList) / n \n",
    "dev = [x - mean for x in myList] \n",
    "dev2 = [x*x for x in dev] \n",
    "mysd = math.sqrt( sum(dev2) / (n-1)) \n",
    "\n",
    "# OUTPUT\n",
    "print (\"The size of the sample is {:d}\".format(len(myList)))\n",
    "print (\"The sample mean is {:10.2f} \".format(mymean))\n",
    "print (\"The sample standard deviation is {:<16.2f}\".format(mysd))"
   ]
  },
  {
   "cell_type": "markdown",
   "metadata": {},
   "source": [
    "### Second version of the program\n",
    "The second bullet in slide 41 asks us to \"Write the same program using functions (name it **withfunctions.py**).\" We will now refactor the program that we wrote so that we can demonstrate the use of functions and how that abstraction can make the program more readable and modular."
   ]
  },
  {
   "cell_type": "raw",
   "metadata": {
    "collapsed": true
   },
   "source": [
    "# refer slide 41\n",
    "# Program with functions\n",
    "# Name this program withfunctions.py\n",
    "# the entire program; there is one small change\n",
    "# that small change is that the file name is not\n",
    "# hard coded into the function\n",
    "\n",
    "def get_input(filename):\n",
    "    \"\"\"Reads a file and returns the file contents.\n",
    "\n",
    "    Args:\n",
    "        filename: the name of the file including the path\n",
    "    Returns:\n",
    "        a list with the file contents\n",
    "    \"\"\"\n",
    "    myList = []\n",
    "    with open(filename) as f:\n",
    "        for line in f:\n",
    "            myList.append(int(line))\n",
    "    return myList\n",
    "\n",
    "\n",
    "def getMean(myList):\n",
    "    \"\"\"returns the mean of numbers in a list\n",
    "\n",
    "    Args:\n",
    "        myList (list): contains numbers for which mean is calculated\n",
    "    Returns:\n",
    "        (float) the mean of numbers in myList\n",
    "    \"\"\"    \n",
    "    mysum = 0.0\n",
    "    for i in range(len(myList)):\n",
    "        mysum = mysum + myList[i]\n",
    "    mymean = mysum/len(myList)\n",
    "    return mymean\n",
    "\n",
    "\n",
    "def getSD(myList):\n",
    "    \"\"\"returns the standard deviation of numbers in a list\n",
    "\n",
    "    Args:\n",
    "        myList (list): contains numbers for which standard deviation is calculated\n",
    "    Returns:\n",
    "        (float) the standard deviation of numbers in myList\n",
    "    \"\"\"    \n",
    "    import math    \n",
    "    n = len(myList) \n",
    "    mean = sum(myList) / n \n",
    "    dev = [x - mean for x in myList] \n",
    "    dev2 = [x*x for x in dev] \n",
    "    mysd = math.sqrt( sum(dev2) / (n-1)) \n",
    "    return mysd\n",
    "\n",
    "\n",
    "def print_output(myList, mymean, mysd):\n",
    "    \"\"\"prints the output\n",
    "\n",
    "    Args:\n",
    "        myList (list): contains numbers to be counted\n",
    "        mymean (float): contains value of mean for numbers in myList\n",
    "        mysd (list): contains value of standard deviation for numbers in myList       \n",
    "    \"\"\"    \n",
    "    print (\"The size of the sample is {:d}\".format(len(myList)))\n",
    "    print (\"The sample mean is {:10.2f} \".format(mymean))\n",
    "    print (\"The sample standard deviation is {:<16.2f}\".format(mysd))\n",
    "\n",
    "\n",
    "# The 'main' part of the script starts here  \n",
    "\n",
    "import os\n",
    "filename = os.path.join(os.getcwd(),'datafile.txt') \n",
    " \n",
    "get_input(filename)    \n",
    "myMean = getMean(myList)\n",
    "mySD = getSD(myList)\n",
    "print_output(myList, myMean, mySD)"
   ]
  },
  {
   "cell_type": "markdown",
   "metadata": {},
   "source": [
    "### Slide 42\n",
    "We now move on to slide 42. We will take this opportunity to revisit the if statement ...\n",
    "\n",
    "if __init__ == \"__main__\"  \n",
    "\n",
    "We will also move to Spyder to do the rest of this exercise. So ... copy and past the following code to Spyder and save as myModule.py (I have intentionally removed the docstring comments that you saw in the cell above). Note that this cell contains only function definitions. This will be the module that we will import into another Python file.\n"
   ]
  },
  {
   "cell_type": "code",
   "execution_count": null,
   "metadata": {
    "collapsed": true
   },
   "outputs": [],
   "source": [
    "# file name: myModule.py\n",
    "\n",
    "def get_input(filename):\n",
    "    \"\"\"Reads a file and returns the file contents.\n",
    "\n",
    "    Args:\n",
    "        filename: the name of the file including the path\n",
    "    Returns:\n",
    "        a list with the file contents\n",
    "    \"\"\"\n",
    "    myList = []\n",
    "    with open(filename) as f:\n",
    "        for line in f:\n",
    "            myList.append(int(line))\n",
    "    return myList\n",
    "\n",
    "\n",
    "def getMean(myList):\n",
    "    \"\"\"returns the mean of numbers in a list\n",
    "\n",
    "    Args:\n",
    "        myList (list): contains numbers for which mean is calculated\n",
    "    Returns:\n",
    "        (float) the mean of numbers in myList\n",
    "    \"\"\"    \n",
    "    mysum = 0.0\n",
    "    for i in range(len(myList)):\n",
    "        mysum = mysum + myList[i]\n",
    "    mymean = mysum/len(myList)\n",
    "    return mymean\n",
    "\n",
    "\n",
    "def getSD(myList):\n",
    "    \"\"\"returns the standard deviation of numbers in a list\n",
    "\n",
    "    Args:\n",
    "        myList (list): contains numbers for which standard deviation is calculated\n",
    "    Returns:\n",
    "        (float) the standard deviation of numbers in myList\n",
    "    \"\"\"    \n",
    "    import math    \n",
    "    n = len(myList) \n",
    "    mean = sum(myList) / n \n",
    "    dev = [x - mean for x in myList] \n",
    "    dev2 = [x*x for x in dev] \n",
    "    mysd = math.sqrt( sum(dev2) / (n-1)) \n",
    "    return mysd\n",
    "\n",
    "\n",
    "def print_output(myList, mymean, mysd):\n",
    "    \"\"\"prints the output\n",
    "\n",
    "    Args:\n",
    "        myList (list): contains numbers to be counted\n",
    "        mymean (float): contains value of mean for numbers in myList\n",
    "        mysd (list): contains value of standard deviation for numbers in myList       \n",
    "    \"\"\"    \n",
    "    print (\"The size of the sample is {:d}\".format(len(myList)))\n",
    "    print (\"The sample mean is {:10.2f} \".format(mymean))\n",
    "    print (\"The sample standard deviation is {:<16.2f}\".format(mysd))\n"
   ]
  },
  {
   "cell_type": "markdown",
   "metadata": {},
   "source": [
    "### Creating main program\n",
    "Then create another Python file (in the same folder as above) and name it myMain.py and that should contain. When you save this file and run it, you will get the expected output. The thing to notice is that the file is far more compact and readable."
   ]
  },
  {
   "cell_type": "code",
   "execution_count": null,
   "metadata": {
    "collapsed": true
   },
   "outputs": [],
   "source": [
    "# file name: myMain.py\n",
    "\n",
    "import myModule\n",
    "\n",
    "print (\"This is myMain.py\")\n",
    "\n",
    "import os\n",
    "filename = os.path.join(os.getcwd(),'datafile.txt') \n",
    " \n",
    "myModule.get_input(filename)    \n",
    "myModule.myMean = getMean(myList)\n",
    "myModule.mySD = getSD(myList)\n",
    "myModule.print_output(myList, myMean, mySD)"
   ]
  },
  {
   "cell_type": "markdown",
   "metadata": {},
   "source": [
    "We are almost done. You need to check out one more thing.\n",
    "\n",
    "First, edit **myModule.py** and add the code lines shown in the next cell at the end of the file and save that file.\n",
    "\n",
    "Now you try the following two things:\n",
    "\n",
    "    Run myModule.py on its own\n",
    "    \n",
    "    Run myMain.py\n",
    "\n",
    "The outputs are almost identical. What is the difference and why is that difference show up?"
   ]
  },
  {
   "cell_type": "code",
   "execution_count": null,
   "metadata": {
    "collapsed": true
   },
   "outputs": [],
   "source": [
    "import os\n",
    "\n",
    "if __name__ = \"__main__\":\n",
    "    filename = os.path.join(os.getcwd(),'datafile.txt') \n",
    "    myModule.get_input(filename)    \n",
    "    myModule.myMean = getMean(myList)\n",
    "    myModule.mySD = getSD(myList)\n",
    "    myModule.print_output(myList, myMean, mySD)"
   ]
  },
  {
   "cell_type": "markdown",
   "metadata": {},
   "source": [
    "Now I want to get a bit nifty and instead of hardcoding the filename I want to provide the user with a GUI to choose a file name - aka file chooser\n",
    "\n",
    "How do we accomplish this?\n",
    "\n",
    "This is where we can demonstrate the utility of modules We will create a function called gui_fname and include it in the myModule.py file. The code for gui_fname is provided below.\n",
    "\n",
    "Following that you need to change only one line in the myMain.py file\n",
    "\n",
    "    filename = 'datafile.txt'  \n",
    "\n",
    "changes to\n",
    "\n",
    "    filename = gui_fname()  \n",
    "    \n",
    "Once you have made that change, you can run the myMain.py file"
   ]
  },
  {
   "cell_type": "code",
   "execution_count": null,
   "metadata": {},
   "outputs": [],
   "source": [
    "# ------ snip ----------------------------------------------------------------\n",
    "from PyQt5 import QtGui\n",
    "from PyQt5.QtWidgets import QApplication\n",
    "from PyQt5.QtWidgets import QFileDialog\n",
    "def gui_fname(dir=None):\n",
    "    \"\"\"\n",
    "    Select a file via a dialog and return the file name.\n",
    "    \"\"\"\n",
    "    if dir is None: \n",
    "        dir ='./'\n",
    "\n",
    "    app = QApplication([dir])\n",
    "    fname = QFileDialog.getOpenFileName(None, \"Select a file...\", \n",
    "            dir, filter=\"All files (*)\")\n",
    "    if isinstance(fname, tuple):\n",
    "        return fname[0]\n",
    "    else: \n",
    "        return str(fname)\n",
    "# ------ snip ----------------------------------------------------------------    \n",
    "\n",
    "# Don't need to copy this; this is just to test this code piece\n",
    "full_fname = gui_fname()\n",
    "print (\"The file's full name is ... \", full_fname)"
   ]
  },
  {
   "cell_type": "markdown",
   "metadata": {},
   "source": [
    "### Slide 49"
   ]
  },
  {
   "cell_type": "code",
   "execution_count": null,
   "metadata": {},
   "outputs": [],
   "source": [
    "import pandas as pd\n",
    "\n",
    "mydata = {\n",
    "    'state': [],\n",
    "    'year':[],\n",
    "    'pop':[]\n",
    "}\n",
    "\n",
    "mydata = {\n",
    "    'state': ['FL', 'FL', 'GA', 'GA', 'GA'],\n",
    "    'year':[2010, 2011, 2008, 2010, 2011],\n",
    "    'pop':[18.8, 19.1, 9.7, 9.8, 9.9]\n",
    "}\n",
    "\n",
    "mydf = pd.DataFrame(mydata)\n",
    "print (mydf)"
   ]
  },
  {
   "cell_type": "markdown",
   "metadata": {},
   "source": [
    "### Slide 50"
   ]
  },
  {
   "cell_type": "code",
   "execution_count": 51,
   "metadata": {},
   "outputs": [
    {
     "data": {
      "text/html": [
       "<div>\n",
       "<style scoped>\n",
       "    .dataframe tbody tr th:only-of-type {\n",
       "        vertical-align: middle;\n",
       "    }\n",
       "\n",
       "    .dataframe tbody tr th {\n",
       "        vertical-align: top;\n",
       "    }\n",
       "\n",
       "    .dataframe thead th {\n",
       "        text-align: right;\n",
       "    }\n",
       "</style>\n",
       "<table border=\"1\" class=\"dataframe\">\n",
       "  <thead>\n",
       "    <tr style=\"text-align: right;\">\n",
       "      <th></th>\n",
       "      <th>yards</th>\n",
       "      <th>goal</th>\n",
       "      <th>practiceormatch</th>\n",
       "    </tr>\n",
       "  </thead>\n",
       "  <tbody>\n",
       "    <tr>\n",
       "      <th>0</th>\n",
       "      <td>18</td>\n",
       "      <td>Y</td>\n",
       "      <td>P</td>\n",
       "    </tr>\n",
       "    <tr>\n",
       "      <th>1</th>\n",
       "      <td>19</td>\n",
       "      <td>Y</td>\n",
       "      <td>P</td>\n",
       "    </tr>\n",
       "    <tr>\n",
       "      <th>2</th>\n",
       "      <td>19</td>\n",
       "      <td>Y</td>\n",
       "      <td>P</td>\n",
       "    </tr>\n",
       "    <tr>\n",
       "      <th>3</th>\n",
       "      <td>19</td>\n",
       "      <td>Y</td>\n",
       "      <td>P</td>\n",
       "    </tr>\n",
       "    <tr>\n",
       "      <th>4</th>\n",
       "      <td>19</td>\n",
       "      <td>Y</td>\n",
       "      <td>P</td>\n",
       "    </tr>\n",
       "  </tbody>\n",
       "</table>\n",
       "</div>"
      ],
      "text/plain": [
       "   yards goal practiceormatch\n",
       "0     18    Y               P\n",
       "1     19    Y               P\n",
       "2     19    Y               P\n",
       "3     19    Y               P\n",
       "4     19    Y               P"
      ]
     },
     "execution_count": 51,
     "metadata": {},
     "output_type": "execute_result"
    }
   ],
   "source": [
    "import pandas as pd\n",
    "mydf = pd.read_csv(\"kicksfootball.csv\")\n",
    "mydf.head(5)"
   ]
  },
  {
   "cell_type": "code",
   "execution_count": 52,
   "metadata": {},
   "outputs": [
    {
     "data": {
      "text/plain": [
       "<matplotlib.axes._subplots.AxesSubplot at 0x16962b9cd30>"
      ]
     },
     "execution_count": 52,
     "metadata": {},
     "output_type": "execute_result"
    },
    {
     "data": {
      "image/png": "[encoded data removed]",
      "text/plain": [
       "<Figure size 432x288 with 1 Axes>"
      ]
     },
     "metadata": {
      "needs_background": "light"
     },
     "output_type": "display_data"
    }
   ],
   "source": [
    "%matplotlib inline\n",
    "mydf.plot.hist(\"yards\")"
   ]
  }
 ],
 "metadata": {
  "anaconda-cloud": {},
  "kernelspec": {
   "display_name": "Python 3",
   "language": "python",
   "name": "python3"
  },
  "language_info": {
   "codemirror_mode": {
    "name": "ipython",
    "version": 3
   },
   "file_extension": ".py",
   "mimetype": "text/x-python",
   "name": "python",
   "nbconvert_exporter": "python",
   "pygments_lexer": "ipython3",
   "version": "3.7.3"
  }
 },
 "nbformat": 4,
 "nbformat_minor": 1
}
