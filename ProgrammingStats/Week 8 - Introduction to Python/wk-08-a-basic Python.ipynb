{
 "cells": [
  {
   "cell_type": "markdown",
   "metadata": {},
   "source": [
    "### Slide 5"
   ]
  },
  {
   "cell_type": "code",
   "execution_count": 1,
   "metadata": {},
   "outputs": [],
   "source": [
    "#Assign 3 to identifier myint\n",
    "myint = 3"
   ]
  },
  {
   "cell_type": "code",
   "execution_count": 2,
   "metadata": {},
   "outputs": [
    {
     "data": {
      "text/plain": [
       "int"
      ]
     },
     "execution_count": 2,
     "metadata": {},
     "output_type": "execute_result"
    }
   ],
   "source": [
    "# Is myint a variable? Why?\n",
    "type(myint)"
   ]
  },
  {
   "cell_type": "code",
   "execution_count": 3,
   "metadata": {},
   "outputs": [],
   "source": [
    "# Assign 4.3 to identifier myfloat (Type is different because of the decimal)\n",
    "myfloat = 4.3"
   ]
  },
  {
   "cell_type": "code",
   "execution_count": 4,
   "metadata": {},
   "outputs": [
    {
     "data": {
      "text/plain": [
       "float"
      ]
     },
     "execution_count": 4,
     "metadata": {},
     "output_type": "execute_result"
    }
   ],
   "source": [
    "type(myfloat)"
   ]
  },
  {
   "cell_type": "code",
   "execution_count": 5,
   "metadata": {},
   "outputs": [],
   "source": [
    "#Assign 3.3 to myint\n",
    "myint = True\n",
    "\n",
    "# What happened here?"
   ]
  },
  {
   "cell_type": "code",
   "execution_count": 6,
   "metadata": {},
   "outputs": [
    {
     "data": {
      "text/plain": [
       "bool"
      ]
     },
     "execution_count": 6,
     "metadata": {},
     "output_type": "execute_result"
    }
   ],
   "source": [
    "type(myint)"
   ]
  },
  {
   "cell_type": "markdown",
   "metadata": {},
   "source": [
    "### Slide 8"
   ]
  },
  {
   "cell_type": "code",
   "execution_count": 7,
   "metadata": {},
   "outputs": [],
   "source": [
    "v1 = 6\n",
    "#print(v1)"
   ]
  },
  {
   "cell_type": "code",
   "execution_count": 8,
   "metadata": {},
   "outputs": [],
   "source": [
    "v2 = 3.5\n",
    "#print(v2)"
   ]
  },
  {
   "cell_type": "code",
   "execution_count": 9,
   "metadata": {},
   "outputs": [],
   "source": [
    "v3 = v1 / v2\n",
    "#print(v3)"
   ]
  },
  {
   "cell_type": "code",
   "execution_count": 10,
   "metadata": {},
   "outputs": [
    {
     "data": {
      "text/plain": [
       "1.7142857142857142"
      ]
     },
     "execution_count": 10,
     "metadata": {},
     "output_type": "execute_result"
    }
   ],
   "source": [
    "v3"
   ]
  },
  {
   "cell_type": "code",
   "execution_count": 11,
   "metadata": {},
   "outputs": [
    {
     "name": "stdout",
     "output_type": "stream",
     "text": [
      "1.0\n"
     ]
    }
   ],
   "source": [
    "v4 = v1 // v2\n",
    "print(v4)\n",
    "# The 1 represents the numerator (no remainder) because 3.5 goes into 6 once (This is evidently what floored quotient means)"
   ]
  },
  {
   "cell_type": "code",
   "execution_count": 12,
   "metadata": {},
   "outputs": [
    {
     "name": "stdout",
     "output_type": "stream",
     "text": [
      "2.5\n"
     ]
    }
   ],
   "source": [
    "v5 = v1 % v2\n",
    "print(v5)\n",
    "# We get the remainder in this case. "
   ]
  },
  {
   "cell_type": "code",
   "execution_count": 13,
   "metadata": {},
   "outputs": [],
   "source": [
    "v6 = True\n",
    "#print(v6)"
   ]
  },
  {
   "cell_type": "code",
   "execution_count": 14,
   "metadata": {},
   "outputs": [
    {
     "name": "stdout",
     "output_type": "stream",
     "text": [
      "False\n"
     ]
    }
   ],
   "source": [
    "v7 = (7 > 8)\n",
    "print(v7)"
   ]
  },
  {
   "cell_type": "code",
   "execution_count": 15,
   "metadata": {},
   "outputs": [
    {
     "name": "stdout",
     "output_type": "stream",
     "text": [
      "7\n"
     ]
    }
   ],
   "source": [
    "v8 = v1 + v6 - v7\n",
    "print(v8)"
   ]
  },
  {
   "cell_type": "code",
   "execution_count": 16,
   "metadata": {},
   "outputs": [],
   "source": [
    "v1 = None\n",
    "#print(v1)"
   ]
  },
  {
   "cell_type": "code",
   "execution_count": 17,
   "metadata": {},
   "outputs": [],
   "source": [
    "del (v2)\n",
    "#print(v2)"
   ]
  },
  {
   "cell_type": "markdown",
   "metadata": {},
   "source": [
    "### Slide 15"
   ]
  },
  {
   "cell_type": "code",
   "execution_count": 18,
   "metadata": {},
   "outputs": [
    {
     "name": "stdout",
     "output_type": "stream",
     "text": [
      "Here\tis a tab character and this\n",
      " is a newline\n",
      "Here\\tis a tab character and this\\n is a newline\n"
     ]
    }
   ],
   "source": [
    "print (\"Here\\tis a tab character and this\\n is a newline\")\n",
    "print (r\"Here\\tis a tab character and this\\n is a newline\")\n",
    "a = (\"Here\\tis a tab character and this\\n is a newline\")\n",
    "# print (a)\n",
    "# print (repr(a))\n",
    "# \\n is next paragraph and \\t is tab\n",
    "# r means print it the way it is and do not format. Instead of r we can also print repr(a)"
   ]
  },
  {
   "cell_type": "markdown",
   "metadata": {},
   "source": [
    "### Slide 16"
   ]
  },
  {
   "cell_type": "code",
   "execution_count": 19,
   "metadata": {},
   "outputs": [],
   "source": [
    "s1 = \"DNSC6119 Programming for Analytics\""
   ]
  },
  {
   "cell_type": "code",
   "execution_count": 20,
   "metadata": {},
   "outputs": [
    {
     "name": "stdout",
     "output_type": "stream",
     "text": [
      "DNSC6119 Programming for Analytics\n"
     ]
    }
   ],
   "source": [
    "print (s1)"
   ]
  },
  {
   "cell_type": "code",
   "execution_count": 21,
   "metadata": {},
   "outputs": [
    {
     "name": "stdout",
     "output_type": "stream",
     "text": [
      "D\n"
     ]
    }
   ],
   "source": [
    "print (s1[0])\n",
    "# First element is indexed by 0, unlike r, which starts indexing at 1 (This is key!)"
   ]
  },
  {
   "cell_type": "code",
   "execution_count": 22,
   "metadata": {},
   "outputs": [
    {
     "name": "stdout",
     "output_type": "stream",
     "text": [
      "s\n"
     ]
    }
   ],
   "source": [
    "print (s1[-1]) # Prints the s of Analytics"
   ]
  },
  {
   "cell_type": "code",
   "execution_count": 23,
   "metadata": {},
   "outputs": [
    {
     "name": "stdout",
     "output_type": "stream",
     "text": [
      "c\n"
     ]
    }
   ],
   "source": [
    "print (s1[-2])"
   ]
  },
  {
   "cell_type": "code",
   "execution_count": 24,
   "metadata": {},
   "outputs": [
    {
     "name": "stdout",
     "output_type": "stream",
     "text": [
      "SC61\n"
     ]
    }
   ],
   "source": [
    "print (s1[2:6])"
   ]
  },
  {
   "cell_type": "code",
   "execution_count": 25,
   "metadata": {},
   "outputs": [
    {
     "name": "stdout",
     "output_type": "stream",
     "text": [
      "6119 Programming for Analytics\n"
     ]
    }
   ],
   "source": [
    "print (s1[4:]) # 4th (Really 5th with the indexing) character and onwards"
   ]
  },
  {
   "cell_type": "code",
   "execution_count": 26,
   "metadata": {},
   "outputs": [
    {
     "name": "stdout",
     "output_type": "stream",
     "text": [
      "DNSC6119 P\n"
     ]
    }
   ],
   "source": [
    "print (s1[:10]) # Stop at 10th"
   ]
  },
  {
   "cell_type": "code",
   "execution_count": 27,
   "metadata": {},
   "outputs": [
    {
     "name": "stdout",
     "output_type": "stream",
     "text": [
      "True\n"
     ]
    }
   ],
   "source": [
    "print (\"DN\" in s1)"
   ]
  },
  {
   "cell_type": "code",
   "execution_count": 28,
   "metadata": {},
   "outputs": [
    {
     "name": "stdout",
     "output_type": "stream",
     "text": [
      "False\n"
     ]
    }
   ],
   "source": [
    "print (\"For\" in s1)"
   ]
  },
  {
   "cell_type": "code",
   "execution_count": 29,
   "metadata": {},
   "outputs": [
    {
     "name": "stdout",
     "output_type": "stream",
     "text": [
      "Dnsc6119 Programming For Analytics\n"
     ]
    }
   ],
   "source": [
    "print (s1.title())   "
   ]
  },
  {
   "cell_type": "code",
   "execution_count": 30,
   "metadata": {},
   "outputs": [
    {
     "name": "stdout",
     "output_type": "stream",
     "text": [
      "dnsc6119 pROGRAMMING FOR aNALYTICS\n"
     ]
    }
   ],
   "source": [
    "print (s1.swapcase())"
   ]
  },
  {
   "cell_type": "code",
   "execution_count": 31,
   "metadata": {},
   "outputs": [
    {
     "name": "stdout",
     "output_type": "stream",
     "text": [
      "DNSC6119 PROGRAMMING FOR ANALYTICS\n"
     ]
    }
   ],
   "source": [
    "print (s1.upper())"
   ]
  },
  {
   "cell_type": "code",
   "execution_count": 32,
   "metadata": {},
   "outputs": [
    {
     "name": "stdout",
     "output_type": "stream",
     "text": [
      "dnsc6119 programming for analytics\n"
     ]
    }
   ],
   "source": [
    "print (s1.lower())"
   ]
  },
  {
   "cell_type": "code",
   "execution_count": 33,
   "metadata": {},
   "outputs": [
    {
     "name": "stdout",
     "output_type": "stream",
     "text": [
      "Dnsc6119 programming for analytics\n"
     ]
    }
   ],
   "source": [
    "print (s1.capitalize())\n",
    "# So we've got upper, lower, inverted, and first letter, but not first letter of each (i.e. normal)"
   ]
  },
  {
   "cell_type": "code",
   "execution_count": 34,
   "metadata": {},
   "outputs": [
    {
     "name": "stdout",
     "output_type": "stream",
     "text": [
      "2\n"
     ]
    }
   ],
   "source": [
    "print (s1.count('a'))"
   ]
  },
  {
   "cell_type": "code",
   "execution_count": 35,
   "metadata": {},
   "outputs": [
    {
     "name": "stdout",
     "output_type": "stream",
     "text": [
      "15\n"
     ]
    }
   ],
   "source": [
    "print (s1.find('mm'))"
   ]
  },
  {
   "cell_type": "code",
   "execution_count": 36,
   "metadata": {},
   "outputs": [
    {
     "name": "stdout",
     "output_type": "stream",
     "text": [
      "mming for Analytics\n"
     ]
    }
   ],
   "source": [
    "print (s1[s1.index('mm'):]) # If I want everything including and after something that starts with the index I call"
   ]
  },
  {
   "cell_type": "code",
   "execution_count": 38,
   "metadata": {},
   "outputs": [
    {
     "name": "stdout",
     "output_type": "stream",
     "text": [
      "27\n"
     ]
    }
   ],
   "source": [
    "print (s1.rfind('a')) # rfind means it starts the find from the end (i.e. reverse)"
   ]
  },
  {
   "cell_type": "code",
   "execution_count": 41,
   "metadata": {},
   "outputs": [
    {
     "name": "stdout",
     "output_type": "stream",
     "text": [
      "17\n"
     ]
    }
   ],
   "source": [
    "print (s1.find('i'))              # do without computing"
   ]
  },
  {
   "cell_type": "code",
   "execution_count": 42,
   "metadata": {},
   "outputs": [
    {
     "ename": "SyntaxError",
     "evalue": "unexpected EOF while parsing (<ipython-input-42-7988331501ef>, line 1)",
     "output_type": "error",
     "traceback": [
      "\u001b[1;36m  File \u001b[1;32m\"<ipython-input-42-7988331501ef>\"\u001b[1;36m, line \u001b[1;32m1\u001b[0m\n\u001b[1;33m    print (s1.rfind('i')             # do without computing\u001b[0m\n\u001b[1;37m                                                           ^\u001b[0m\n\u001b[1;31mSyntaxError\u001b[0m\u001b[1;31m:\u001b[0m unexpected EOF while parsing\n"
     ]
    }
   ],
   "source": [
    "print (s1.rfind('i')             # do without computing"
   ]
  },
  {
   "cell_type": "code",
   "execution_count": 43,
   "metadata": {},
   "outputs": [
    {
     "name": "stdout",
     "output_type": "stream",
     "text": [
      "amming for An\n"
     ]
    }
   ],
   "source": [
    "print (s1[s1.index('a'):s1.rindex('a')]) # Why is the n included...?"
   ]
  },
  {
   "cell_type": "code",
   "execution_count": 44,
   "metadata": {},
   "outputs": [
    {
     "name": "stdout",
     "output_type": "stream",
     "text": [
      "DNSC6119 ProgrZmming for AnZlytics\n"
     ]
    }
   ],
   "source": [
    "s2 = s1.replace('a', 'Z')\n",
    "print (s2)"
   ]
  },
  {
   "cell_type": "code",
   "execution_count": 45,
   "metadata": {},
   "outputs": [
    {
     "name": "stdout",
     "output_type": "stream",
     "text": [
      "['DNSC6119', 'Programming', 'for', 'Analytics']\n"
     ]
    }
   ],
   "source": [
    "mylist = s1.split(' ')\n",
    "print (mylist)\n",
    "# Keep in mind the period format with all of this. The action on the list, df, or object comes after it."
   ]
  },
  {
   "cell_type": "code",
   "execution_count": 46,
   "metadata": {},
   "outputs": [
    {
     "name": "stdout",
     "output_type": "stream",
     "text": [
      "Programming for Analytics\n"
     ]
    }
   ],
   "source": [
    "s3 = mylist[1] + ' ' + mylist[2] + ' ' + mylist[3]\n",
    "print (s3)\n",
    "# There is probably a way to do it dimilar to the collapse part of paste in r that would be easier"
   ]
  },
  {
   "cell_type": "markdown",
   "metadata": {},
   "source": [
    "### Slide 17"
   ]
  },
  {
   "cell_type": "code",
   "execution_count": 47,
   "metadata": {},
   "outputs": [
    {
     "name": "stdout",
     "output_type": "stream",
     "text": [
      "['DNSC6119', 'Programming', 'for', 'Analytics']\n"
     ]
    }
   ],
   "source": [
    "mylist = s1.split(' ')\n",
    "print (mylist)"
   ]
  },
  {
   "cell_type": "code",
   "execution_count": 48,
   "metadata": {},
   "outputs": [
    {
     "name": "stdout",
     "output_type": "stream",
     "text": [
      "Programming for\n"
     ]
    }
   ],
   "source": [
    "s3 = mylist[1] + ' ' + mylist[2]\n",
    "print (s3)"
   ]
  },
  {
   "cell_type": "markdown",
   "metadata": {},
   "source": [
    "### Slide 18"
   ]
  },
  {
   "cell_type": "code",
   "execution_count": 49,
   "metadata": {},
   "outputs": [
    {
     "data": {
      "text/plain": [
       "'3'"
      ]
     },
     "execution_count": 49,
     "metadata": {},
     "output_type": "execute_result"
    }
   ],
   "source": [
    "s = 'a3a'\n",
    "s[1]\n",
    "# s[1] = 'a'  # Error, why?\n",
    "# Imutability - A String is imutable. Can't change individual parts of the string.  "
   ]
  },
  {
   "cell_type": "code",
   "execution_count": 51,
   "metadata": {},
   "outputs": [
    {
     "data": {
      "text/plain": [
       "list"
      ]
     },
     "execution_count": 51,
     "metadata": {},
     "output_type": "execute_result"
    }
   ],
   "source": [
    "# With lists, it's seems good to always first create the empty brackets first\n",
    "ls5 = []\n",
    "ls5.append('a')\n",
    "ls5.append('3')\n",
    "ls5.append('a')\n",
    "ls5"
   ]
  },
  {
   "cell_type": "code",
   "execution_count": 58,
   "metadata": {},
   "outputs": [
    {
     "data": {
      "text/plain": [
       "['jim', 'jan', 'jorje', 'steve']"
      ]
     },
     "execution_count": 58,
     "metadata": {},
     "output_type": "execute_result"
    }
   ],
   "source": [
    "ls5[1] = ('3')\n",
    "ls5\n",
    "\n",
    "# So can directly create here as well\n",
    "friends = ['jim', 'john', 'jan', 'jorje']\n",
    "friends.append('steve')\n",
    "friends\n",
    "friends[2] # Remember this is the third friend because of indexing \n",
    "# How to remove a friend from the list? \n",
    "friends.remove('john')\n",
    "friends"
   ]
  },
  {
   "cell_type": "markdown",
   "metadata": {},
   "source": [
    "### Slide 20"
   ]
  },
  {
   "cell_type": "code",
   "execution_count": 59,
   "metadata": {},
   "outputs": [
    {
     "data": {
      "text/plain": [
       "range(2, 9, 3)"
      ]
     },
     "execution_count": 59,
     "metadata": {},
     "output_type": "execute_result"
    }
   ],
   "source": [
    "range(2,9,3)"
   ]
  },
  {
   "cell_type": "code",
   "execution_count": 60,
   "metadata": {},
   "outputs": [
    {
     "data": {
      "text/plain": [
       "25"
      ]
     },
     "execution_count": 60,
     "metadata": {},
     "output_type": "execute_result"
    }
   ],
   "source": [
    "pow(5,2)"
   ]
  },
  {
   "cell_type": "code",
   "execution_count": 61,
   "metadata": {},
   "outputs": [
    {
     "data": {
      "text/plain": [
       "14"
      ]
     },
     "execution_count": 61,
     "metadata": {},
     "output_type": "execute_result"
    }
   ],
   "source": [
    "sum([3,4,5,2])"
   ]
  },
  {
   "cell_type": "code",
   "execution_count": 62,
   "metadata": {},
   "outputs": [
    {
     "data": {
      "text/plain": [
       "[2, 3, 4, 5]"
      ]
     },
     "execution_count": 62,
     "metadata": {},
     "output_type": "execute_result"
    }
   ],
   "source": [
    "sorted([3,4,5,2])"
   ]
  },
  {
   "cell_type": "code",
   "execution_count": 63,
   "metadata": {},
   "outputs": [
    {
     "data": {
      "text/plain": [
       "['2', '3', '4', '5']"
      ]
     },
     "execution_count": 63,
     "metadata": {},
     "output_type": "execute_result"
    }
   ],
   "source": [
    "# OR\n",
    "sorted(\"3452\")\n",
    "# Can easily sort string into list too! That's hella convenient!"
   ]
  },
  {
   "cell_type": "code",
   "execution_count": 64,
   "metadata": {},
   "outputs": [
    {
     "data": {
      "text/plain": [
       "'  3.40'"
      ]
     },
     "execution_count": 64,
     "metadata": {},
     "output_type": "execute_result"
    }
   ],
   "source": [
    "format(3.4,\"6.2f\")"
   ]
  },
  {
   "cell_type": "markdown",
   "metadata": {},
   "source": [
    "### Slide 22"
   ]
  },
  {
   "cell_type": "code",
   "execution_count": 65,
   "metadata": {},
   "outputs": [
    {
     "name": "stdout",
     "output_type": "stream",
     "text": [
      "None\n"
     ]
    }
   ],
   "source": [
    "c = None\n",
    "print(c)"
   ]
  },
  {
   "cell_type": "code",
   "execution_count": 66,
   "metadata": {},
   "outputs": [],
   "source": [
    "if c:\n",
    "    print(\"Hi\") "
   ]
  },
  {
   "cell_type": "code",
   "execution_count": 67,
   "metadata": {},
   "outputs": [
    {
     "name": "stdout",
     "output_type": "stream",
     "text": [
      "Hi\n"
     ]
    }
   ],
   "source": [
    "if not(c):\n",
    "    print(\"Hi\") "
   ]
  },
  {
   "cell_type": "code",
   "execution_count": 68,
   "metadata": {},
   "outputs": [
    {
     "data": {
      "text/plain": [
       "False"
      ]
     },
     "execution_count": 68,
     "metadata": {},
     "output_type": "execute_result"
    }
   ],
   "source": [
    "c == True\n",
    "# Because True: non-zero numbers, non-empty objects"
   ]
  },
  {
   "cell_type": "code",
   "execution_count": 69,
   "metadata": {},
   "outputs": [
    {
     "data": {
      "text/plain": [
       "True"
      ]
     },
     "execution_count": 69,
     "metadata": {},
     "output_type": "execute_result"
    }
   ],
   "source": [
    "not(c) == True\n",
    "# Because False: zero, None, empty container or object and we set c to None"
   ]
  },
  {
   "cell_type": "code",
   "execution_count": 70,
   "metadata": {},
   "outputs": [
    {
     "data": {
      "text/plain": [
       "False"
      ]
     },
     "execution_count": 70,
     "metadata": {},
     "output_type": "execute_result"
    }
   ],
   "source": [
    "c == False\n"
   ]
  },
  {
   "cell_type": "code",
   "execution_count": 72,
   "metadata": {},
   "outputs": [
    {
     "data": {
      "text/plain": [
       "True"
      ]
     },
     "execution_count": 72,
     "metadata": {},
     "output_type": "execute_result"
    }
   ],
   "source": [
    "not(c) == False\n",
    "# How could not(c) be both true and false?"
   ]
  },
  {
   "cell_type": "markdown",
   "metadata": {},
   "source": [
    "### Slide 23"
   ]
  },
  {
   "cell_type": "code",
   "execution_count": 74,
   "metadata": {},
   "outputs": [
    {
     "name": "stdout",
     "output_type": "stream",
     "text": [
      "I have a number between 0 and 20 in mind and you have to guess it.\n",
      "Enter an integer : 3\n",
      "No, it is higher than that it is 12\n"
     ]
    }
   ],
   "source": [
    "# Random selects a number between 0 and 20 here.Then we use the int(input) sytax to create a box to enter something.\n",
    "# Thenwe use the if else else statement to get a response back based on the entered number. \n",
    "import random\n",
    "number = random.randint(0,20)\n",
    "print(\"I have a number between 0 and 20 in mind and you have to guess it.\")\n",
    "guess = int(input('Enter an integer : '))\n",
    "if guess == number:\n",
    "    print('Congratulations, you guessed it.')\n",
    "elif guess < number:\n",
    "    print('No, it is higher than that it is', number)\n",
    "else:\n",
    "    print('No, it is lower than that it is', number)"
   ]
  },
  {
   "cell_type": "markdown",
   "metadata": {},
   "source": [
    "### Slide 25"
   ]
  },
  {
   "cell_type": "code",
   "execution_count": 75,
   "metadata": {},
   "outputs": [
    {
     "name": "stdout",
     "output_type": "stream",
     "text": [
      "Enter a number:-3\n",
      "Absolute value of   -3  is  3\n"
     ]
    }
   ],
   "source": [
    "numberin = int(input(\"Enter a number:\"))   # raw_input in Python 2.7\n",
    "result = -numberin if numberin < 0 else numberin\n",
    "print (\"Absolute value of  \", numberin, \" is \", result)"
   ]
  },
  {
   "cell_type": "markdown",
   "metadata": {},
   "source": [
    "### Slide 27"
   ]
  },
  {
   "cell_type": "code",
   "execution_count": 76,
   "metadata": {},
   "outputs": [
    {
     "name": "stdout",
     "output_type": "stream",
     "text": [
      "divide by zero\n"
     ]
    }
   ],
   "source": [
    "(x,y) = (5,0)\n",
    "try:\n",
    "    z = x/y\n",
    "except ZeroDivisionError:\n",
    "    print (\"divide by zero\")"
   ]
  },
  {
   "cell_type": "code",
   "execution_count": 77,
   "metadata": {},
   "outputs": [
    {
     "name": "stdout",
     "output_type": "stream",
     "text": [
      "division by zero\n"
     ]
    }
   ],
   "source": [
    "(x,y) = (5,0)\n",
    "try:\n",
    "    z = x/y\n",
    "except ZeroDivisionError as e:\n",
    "    z = e\n",
    "    print (z)"
   ]
  },
  {
   "cell_type": "code",
   "execution_count": 78,
   "metadata": {},
   "outputs": [
    {
     "name": "stdout",
     "output_type": "stream",
     "text": [
      "division by zero\n",
      "ZeroDivisionError('division by zero')\n"
     ]
    }
   ],
   "source": [
    "(x,y) = (5,0)\n",
    "try:\n",
    "    z = x/y\n",
    "except Exception as e:\n",
    "    print (str(e))\n",
    "    print (repr(e))"
   ]
  },
  {
   "cell_type": "markdown",
   "metadata": {},
   "source": [
    "### Slide 28"
   ]
  },
  {
   "cell_type": "code",
   "execution_count": 79,
   "metadata": {},
   "outputs": [
    {
     "name": "stdout",
     "output_type": "stream",
     "text": [
      "0\n",
      "0\n",
      "0\n",
      "1\n",
      "1\n",
      "1\n",
      "2\n",
      "4\n",
      "8\n",
      "3\n",
      "9\n",
      "27\n",
      "4\n",
      "16\n",
      "64\n"
     ]
    }
   ],
   "source": [
    "for i in range(5):\n",
    "    print (i)\n",
    "    print (i**2)\n",
    "    print (i*i*i)\n",
    "    # range(5) will give a list with 0:4"
   ]
  },
  {
   "cell_type": "markdown",
   "metadata": {},
   "source": [
    "### Slide 29"
   ]
  },
  {
   "cell_type": "code",
   "execution_count": 81,
   "metadata": {},
   "outputs": [
    {
     "name": "stdout",
     "output_type": "stream",
     "text": [
      "How many numbers do you have? 10\n",
      "Enter a number >> 1\n",
      "Enter a number >> 2\n",
      "Enter a number >> 3\n",
      "Enter a number >> 4\n",
      "Enter a number >> 5\n",
      "Enter a number >> 6\n",
      "Enter a number >> 7\n",
      "Enter a number >> 7\n",
      "Enter a number >> 7\n",
      "Enter a number >> 7\n",
      "\n",
      "The average of the numbers is 4.9\n"
     ]
    }
   ],
   "source": [
    "n = eval(input(\"How many numbers do you have? \"))\n",
    "sum = 0.0\n",
    "for i in range(n):\n",
    "    x = eval(input(\"Enter a number >> \"))\n",
    "    sum = sum + x\n",
    "print(\"\\nThe average of the numbers is\", sum / n)\n",
    "# We keep adding on the new number until we get the full sum of all and then we divide by the n"
   ]
  },
  {
   "cell_type": "markdown",
   "metadata": {},
   "source": [
    "### Slide 30"
   ]
  },
  {
   "cell_type": "code",
   "execution_count": 82,
   "metadata": {},
   "outputs": [
    {
     "name": "stdout",
     "output_type": "stream",
     "text": [
      "This is index 0\n",
      "This is index 2\n"
     ]
    }
   ],
   "source": [
    "for x in range(0, 4, 2):\n",
    "    print (\"This is index %d\" % (x))\n",
    "    # Remember that the % means remainder"
   ]
  },
  {
   "cell_type": "code",
   "execution_count": 83,
   "metadata": {},
   "outputs": [
    {
     "name": "stdout",
     "output_type": "stream",
     "text": [
      "This is index 7\n",
      "This is index 4\n",
      "This is index 1\n"
     ]
    }
   ],
   "source": [
    "for x in range(7, 0, -3):\n",
    "    print (\"This is index %d\" % (x))"
   ]
  },
  {
   "cell_type": "markdown",
   "metadata": {},
   "source": [
    "### Slide 31"
   ]
  },
  {
   "cell_type": "code",
   "execution_count": 84,
   "metadata": {},
   "outputs": [
    {
     "name": "stdout",
     "output_type": "stream",
     "text": [
      "0 * 0 = 0\n",
      "0 * 1 = 0\n",
      "1 * 0 = 0\n",
      "1 * 1 = 1\n",
      "2 * 0 = 0\n",
      "2 * 1 = 2\n"
     ]
    }
   ],
   "source": [
    "for x in range(0, 3):\n",
    "    for y in range(0, 2):\n",
    "        print ('%d * %d = %d' % (x, y, x*y))\n",
    "        # This is nesting loops"
   ]
  },
  {
   "cell_type": "code",
   "execution_count": 85,
   "metadata": {},
   "outputs": [
    {
     "name": "stdout",
     "output_type": "stream",
     "text": [
      "0\n",
      "1\n",
      "2\n",
      "3\n",
      "4\n",
      "5\n",
      "6\n",
      "7\n",
      "8\n",
      "9\n",
      "10\n",
      "11\n"
     ]
    }
   ],
   "source": [
    "for x in range(300):\n",
    "    print (x)\n",
    "    if x == 11:\n",
    "        break\n",
    "        # Kind of like a while loop"
   ]
  },
  {
   "cell_type": "markdown",
   "metadata": {},
   "source": [
    "### Slide 32"
   ]
  },
  {
   "cell_type": "code",
   "execution_count": 86,
   "metadata": {},
   "outputs": [
    {
     "name": "stdout",
     "output_type": "stream",
     "text": [
      "H\n",
      "e\n",
      "l\n",
      "l\n",
      "o\n",
      " \n",
      "t\n",
      "h\n",
      "e\n",
      "r\n",
      "e\n"
     ]
    }
   ],
   "source": [
    "mystring = \"Hello there\"\n",
    "for x in mystring:\n",
    "    print (x)"
   ]
  },
  {
   "cell_type": "code",
   "execution_count": 87,
   "metadata": {},
   "outputs": [
    {
     "name": "stdout",
     "output_type": "stream",
     "text": [
      "Hello\n",
      "True\n",
      "5\n",
      "5.0\n",
      "(2, 3)\n"
     ]
    }
   ],
   "source": [
    "mycollection = ['Hello', True, 5, 5.0, (2,3)]\n",
    "for x in mycollection:\n",
    "    print (x)"
   ]
  },
  {
   "cell_type": "markdown",
   "metadata": {},
   "source": [
    "### Slide 33"
   ]
  },
  {
   "cell_type": "code",
   "execution_count": 88,
   "metadata": {},
   "outputs": [
    {
     "name": "stdout",
     "output_type": "stream",
     "text": [
      "0\n",
      "1\n",
      "2\n",
      "3\n",
      "4\n",
      "5\n",
      "6\n",
      "7\n",
      "8\n",
      "9\n",
      "10\n"
     ]
    }
   ],
   "source": [
    "i = 0\n",
    "while i <= 10:\n",
    "    print(i)\n",
    "    i = i + 1"
   ]
  },
  {
   "cell_type": "code",
   "execution_count": 89,
   "metadata": {},
   "outputs": [
    {
     "name": "stdout",
     "output_type": "stream",
     "text": [
      "0\n",
      "1\n",
      "2\n",
      "3\n",
      "4\n",
      "5\n",
      "6\n",
      "7\n",
      "8\n",
      "9\n",
      "10\n"
     ]
    }
   ],
   "source": [
    "for i in range(11):\n",
    "    print(i)\n",
    "    # Never forget the indexing peculiarity here!"
   ]
  },
  {
   "cell_type": "markdown",
   "metadata": {},
   "source": [
    "### Slide 34"
   ]
  },
  {
   "cell_type": "code",
   "execution_count": null,
   "metadata": {},
   "outputs": [
    {
     "name": "stdout",
     "output_type": "stream",
     "text": [
      "I have gnerated a number between 0 and 100 and you have to guess it.\n",
      "Enter an integer : 1\n",
      "No, it is higher than that\n",
      "Enter an integer : 1\n",
      "No, it is higher than that\n",
      "Enter an integer : 1\n",
      "No, it is higher than that\n",
      "Enter an integer : 1\n",
      "No, it is higher than that\n",
      "Enter an integer : 1\n",
      "No, it is higher than that\n",
      "Enter an integer : 1\n",
      "No, it is higher than that\n",
      "Enter an integer : 1\n",
      "No, it is higher than that\n",
      "Enter an integer : 1\n",
      "No, it is higher than that\n",
      "Enter an integer : 1\n",
      "No, it is higher than that\n",
      "Enter an integer : 1\n",
      "No, it is higher than that\n",
      "Enter an integer : 1\n",
      "No, it is higher than that\n",
      "Enter an integer : 1\n",
      "No, it is higher than that\n"
     ]
    }
   ],
   "source": [
    "import random\n",
    "number = random.randint(0,100)\n",
    "print(\"I have gnerated a number between 0 and 100 and you have to guess it.\")\n",
    "\n",
    "while ('some condition'):\n",
    "    guess = int(input('Enter an integer : '))\n",
    "    if guess == number:\n",
    "        print('Congratulations, you guessed it.') \n",
    "        break\n",
    "    elif guess < number:\n",
    "        print('No, it is higher than that')\n",
    "    else:\n",
    "        print('No, it is lower than that')\n",
    "        # Unlike the earlier modules, this allows you to go until you get it."
   ]
  },
  {
   "cell_type": "markdown",
   "metadata": {},
   "source": [
    "### Slide 35\n",
    "- Validation not done\n",
    "- Only integers are accepted s inoputs"
   ]
  },
  {
   "cell_type": "code",
   "execution_count": 1,
   "metadata": {},
   "outputs": [
    {
     "name": "stdout",
     "output_type": "stream",
     "text": [
      "1. Add two numbers\n",
      "2. Subtract two numbers\n",
      "3. Quit\n",
      "Enter a number for desired option: 1\n",
      "1. Add two numbers\n",
      "2. Subtract two numbers\n",
      "3. Quit\n",
      "Enter a number for desired option: 2\n",
      "1. Add two numbers\n",
      "2. Subtract two numbers\n",
      "3. Quit\n",
      "Enter a number for desired option: 3\n"
     ]
    }
   ],
   "source": [
    "user_input = 0\n",
    "while user_input != 3:\n",
    "    print(\"1. Add two numbers\")\n",
    "    print(\"2. Subtract two numbers\")\n",
    "    print(\"3. Quit\")\n",
    "    user_input = int(input('Enter a number for desired option: '))\n",
    "    # First he just built the menu. Use while loop. This is the skeleton here. "
   ]
  },
  {
   "cell_type": "code",
   "execution_count": 2,
   "metadata": {},
   "outputs": [
    {
     "name": "stdout",
     "output_type": "stream",
     "text": [
      "1. Add two numbers\n",
      "2. Subtract two numbers\n",
      "3. Quit\n",
      "Enter a number for desired option: 1\n",
      "Enter first number to add: 2\n",
      "Enter secoind number to add: 3\n",
      "The sum of  2  and  3  is  5\n",
      "1. Add two numbers\n",
      "2. Subtract two numbers\n",
      "3. Quit\n",
      "Enter a number for desired option: 2\n",
      "1. Add two numbers\n",
      "2. Subtract two numbers\n",
      "3. Quit\n",
      "Enter a number for desired option: 43432222222\n",
      "1. Add two numbers\n",
      "2. Subtract two numbers\n",
      "3. Quit\n",
      "Enter a number for desired option: 3423323232\n",
      "1. Add two numbers\n",
      "2. Subtract two numbers\n",
      "3. Quit\n",
      "Enter a number for desired option: 2\n",
      "1. Add two numbers\n",
      "2. Subtract two numbers\n",
      "3. Quit\n",
      "Enter a number for desired option: 2\n",
      "1. Add two numbers\n",
      "2. Subtract two numbers\n",
      "3. Quit\n",
      "Enter a number for desired option: 2\n",
      "1. Add two numbers\n",
      "2. Subtract two numbers\n",
      "3. Quit\n",
      "Enter a number for desired option: 3\n"
     ]
    }
   ],
   "source": [
    "user_input = 0\n",
    "while user_input != 3:\n",
    "    print(\"1. Add two numbers\")\n",
    "    print(\"2. Subtract two numbers\")\n",
    "    print(\"3. Quit\")\n",
    "    user_input = int(input('Enter a number for desired option: '))\n",
    "    if user_input == 1:\n",
    "        a1 = int(input('Enter first number to add: '))\n",
    "        a2 = int(input('Enter secoind number to add: '))\n",
    "        print (\"The sum of \", a1, \" and \", a2, \" is \", a1+a2)"
   ]
  },
  {
   "cell_type": "code",
   "execution_count": 3,
   "metadata": {},
   "outputs": [
    {
     "name": "stdout",
     "output_type": "stream",
     "text": [
      "1. Add two numbers\n",
      "2. Subtract two numbers\n",
      "3. Quit\n",
      "Enter a number for desired option: 2\n",
      "Enter first number to subtract from: 333333\n",
      "Enter second number to subtract: 3333\n",
      "The difference of  333333  and  3333  is  330000\n",
      "1. Add two numbers\n",
      "2. Subtract two numbers\n",
      "3. Quit\n",
      "Enter a number for desired option: 3\n"
     ]
    }
   ],
   "source": [
    "user_input = 0\n",
    "while user_input != 3:\n",
    "    print(\"1. Add two numbers\")\n",
    "    print(\"2. Subtract two numbers\")\n",
    "    print(\"3. Quit\")\n",
    "    user_input = int(input('Enter a number for desired option: '))\n",
    "    if user_input == 1:\n",
    "        a1 = int(input('Enter first number to add: '))\n",
    "        a2 = int(input('Enter second number to add: '))\n",
    "        print (\"The sum of \", a1, \" and \", a2, \" is \", a1+a2)\n",
    "    if user_input == 2:\n",
    "        a1 = int(input('Enter first number to subtract from: '))\n",
    "        a2 = int(input('Enter second number to subtract: '))\n",
    "        print (\"The difference of \", a1, \" and \", a2, \" is \", a1-a2)\n",
    "# No need for a if user_input == 3, because that is the default that just ends it here."
   ]
  },
  {
   "cell_type": "markdown",
   "metadata": {},
   "source": [
    "### Slide 36\n",
    "- List of lists\n",
    "- Traversing lists and lists of lists\n",
    "- Pay attention to the \"index\" and \"value\" in the enumerated lists\n",
    "- This is something that you need to go over again "
   ]
  },
  {
   "cell_type": "code",
   "execution_count": 4,
   "metadata": {
    "scrolled": true
   },
   "outputs": [
    {
     "name": "stdout",
     "output_type": "stream",
     "text": [
      "[1, 2, 3] 1\n",
      "[1, 2, 3] 2\n",
      "[1, 2, 3] 3\n",
      "[22, 33, 44] 22\n",
      "[22, 33, 44] 33\n",
      "[22, 33, 44] 44\n",
      "[21, 31, 41, 51, 61] 21\n",
      "[21, 31, 41, 51, 61] 31\n",
      "[21, 31, 41, 51, 61] 41\n",
      "[21, 31, 41, 51, 61] 51\n",
      "[21, 31, 41, 51, 61] 61\n",
      "[111, 222, 333, 444, 555, 666] 111\n",
      "[111, 222, 333, 444, 555, 666] 222\n",
      "[111, 222, 333, 444, 555, 666] 333\n",
      "[111, 222, 333, 444, 555, 666] 444\n",
      "[111, 222, 333, 444, 555, 666] 555\n",
      "[111, 222, 333, 444, 555, 666] 666\n",
      "[101, 202] 101\n",
      "[101, 202] 202\n",
      "0  ---  0  ---  1\n",
      "0  ---  1  ---  2\n",
      "0  ---  2  ---  3\n",
      "1  ---  0  ---  22\n",
      "1  ---  1  ---  33\n",
      "1  ---  2  ---  44\n",
      "2  ---  0  ---  21\n",
      "2  ---  1  ---  31\n",
      "2  ---  2  ---  41\n",
      "2  ---  3  ---  51\n",
      "2  ---  4  ---  61\n",
      "3  ---  0  ---  111\n",
      "3  ---  1  ---  222\n",
      "3  ---  2  ---  333\n",
      "3  ---  3  ---  444\n",
      "3  ---  4  ---  555\n",
      "3  ---  5  ---  666\n",
      "4  ---  0  ---  101\n",
      "4  ---  1  ---  202\n",
      "0  ---   Value ---  [1, 2, 3]\n",
      "1  ---   Value ---  [22, 33, 44]\n",
      "2  ---   Value ---  [21, 31, 41, 51, 61]\n",
      "3  ---   Value ---  [111, 222, 333, 444, 555, 666]\n",
      "4  ---   Value ---  [101, 202]\n"
     ]
    }
   ],
   "source": [
    "lst = [[1,2,3],[22,33,44],[21,31,41,51,61],[111,222,333,444,555,666],[101,202]]\n",
    "\n",
    "for i in lst:\n",
    "    for j in i:\n",
    "         print (i, j)\n",
    "\n",
    "\n",
    "for idx, val1 in enumerate(lst):\n",
    "    for idex, val2 in enumerate(val1):\n",
    "        print (idx,  \" --- \", idex, \" --- \", val2)\n",
    "        \n",
    "for idx, val1 in enumerate(lst):\n",
    "        print (idx,  \" --- \", \" Value --- \", val1)"
   ]
  },
  {
   "cell_type": "markdown",
   "metadata": {},
   "source": [
    "### Slide 37"
   ]
  },
  {
   "cell_type": "code",
   "execution_count": 5,
   "metadata": {},
   "outputs": [
    {
     "name": "stdout",
     "output_type": "stream",
     "text": [
      "Current Letter : P\n",
      "Current Letter : y\n",
      "Current Letter : t\n",
      "Current Letter : o\n",
      "Current Letter : n\n"
     ]
    }
   ],
   "source": [
    "# First Example\n",
    "for letter in 'Python':\n",
    "   if letter == 'h':\n",
    "      continue\n",
    "   print ('Current Letter :', letter)\n"
   ]
  },
  {
   "cell_type": "code",
   "execution_count": 6,
   "metadata": {},
   "outputs": [
    {
     "name": "stdout",
     "output_type": "stream",
     "text": [
      "Current variable value : 9\n",
      "Current variable value : 8\n",
      "Current variable value : 7\n",
      "Current variable value : 6\n",
      "Current variable value : 4\n",
      "Current variable value : 3\n",
      "Current variable value : 2\n",
      "Current variable value : 1\n",
      "Current variable value : 0\n",
      "Good bye!\n"
     ]
    }
   ],
   "source": [
    "# Second Example\n",
    "var = 10\n",
    "while var > 0:              \n",
    "   var = var -1\n",
    "   if var == 5:\n",
    "      continue\n",
    "   print ('Current variable value :', var)\n",
    "print (\"Good bye!\")"
   ]
  },
  {
   "cell_type": "markdown",
   "metadata": {},
   "source": [
    "### Slide 42"
   ]
  },
  {
   "cell_type": "code",
   "execution_count": 7,
   "metadata": {},
   "outputs": [
    {
     "name": "stdout",
     "output_type": "stream",
     "text": [
      "(CNN)The amount of time young children in the United States \n",
      "spend with mobile screens might raise some eyebrows, as a new\n",
      " report found it has tripled in just four years.\n",
      "\n",
      "Children 8 and younger spent about 15 minutes a day staring at\n",
      "a mobile screen in 2013 and now they spend 48 minutes a day, \n",
      "according to the report by Common Sense Media, a nonprofit \n",
      "organization focused on helping children, parents, and educators\n",
      "navigate the world of media and technology.\n",
      "\n",
      "The report, released Thursday, also found that 42% of children 8\n",
      "and younger now have their own tablet devices, a steep increase\n",
      "from 7% four years ago and less than 1% in 2011.\n"
     ]
    }
   ],
   "source": [
    "filepath = \"mytext.txt\"\n",
    "file_handle = open(filepath, 'r')\n",
    "content = file_handle.read()\n",
    "print (content)\n",
    "file_handle.close()"
   ]
  },
  {
   "cell_type": "markdown",
   "metadata": {},
   "source": [
    "### Slide 43"
   ]
  },
  {
   "cell_type": "code",
   "execution_count": 8,
   "metadata": {},
   "outputs": [
    {
     "name": "stdout",
     "output_type": "stream",
     "text": [
      "(CNN)The amount of time young children in the United States \n",
      "spend with mobile screens might raise some eyebrows, as a new\n",
      " report found it has tripled in just four years.\n",
      "\n",
      "Children 8 and younger spent about 15 minutes a day staring at\n",
      "a mobile screen in 2013 and now they spend 48 minutes a day, \n",
      "according to the report by Common Sense Media, a nonprofit \n",
      "organization focused on helping children, parents, and educators\n",
      "navigate the world of media and technology.\n",
      "\n",
      "The report, released Thursday, also found that 42% of children 8\n",
      "and younger now have their own tablet devices, a steep increase\n",
      "from 7% four years ago and less than 1% in 2011.\n"
     ]
    }
   ],
   "source": [
    "with open('mytext.txt', 'r') as f:\n",
    "    content = f.read() \n",
    "print(content)"
   ]
  },
  {
   "cell_type": "markdown",
   "metadata": {},
   "source": [
    "### Slide 45"
   ]
  },
  {
   "cell_type": "code",
   "execution_count": 9,
   "metadata": {},
   "outputs": [],
   "source": [
    "fh = open('test-file.txt', 'w')\n",
    "fh.write(\"Hello, there!\")\n",
    "fh.write(\"How are you doing\")\n",
    "fh.close()"
   ]
  },
  {
   "cell_type": "code",
   "execution_count": 10,
   "metadata": {},
   "outputs": [],
   "source": [
    "with open('output.txt', 'w') as f:\n",
    "    f.write('Hi there!'+'\\n')\n",
    "    f.write(\"How are you doing\")"
   ]
  }
 ],
 "metadata": {
  "anaconda-cloud": {},
  "kernelspec": {
   "display_name": "Python 3",
   "language": "python",
   "name": "python3"
  },
  "language_info": {
   "codemirror_mode": {
    "name": "ipython",
    "version": 3
   },
   "file_extension": ".py",
   "mimetype": "text/x-python",
   "name": "python",
   "nbconvert_exporter": "python",
   "pygments_lexer": "ipython3",
   "version": "3.7.3"
  }
 },
 "nbformat": 4,
 "nbformat_minor": 1
}
