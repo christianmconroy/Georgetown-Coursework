{
 "cells": [
  {
   "cell_type": "markdown",
   "metadata": {},
   "source": [
    "# Module 1: News classification with topic models in gensim\n",
    "### https://markroxor.github.io/gensim/static/notebooks/gensim_news_classification.html"
   ]
  },
  {
   "cell_type": "markdown",
   "metadata": {},
   "source": [
    "News article classification is a task which is performed on a huge scale by news agencies all over the world. We will be looking into how topic modeling can be used to accurately classify news articles into different categories such as sports, technology, politics etc.\n",
    "\n",
    "For this tutorial, we will be using the Lee corpus which is a shortened version of the Lee Background Corpus. The shortened version consists of 300 documents selected from the Australian Broadcasting Corporation's news mail service. It consists of texts of headline stories from around the year 2000-2001.\n",
    "\n",
    "In this tutorial we look at how different topic models can be easily created using gensim.\n",
    "\n",
    "We will be playing around with 4 different topic models here:\n",
    "\n",
    "- LSI (Latent Semantic Indexing)\n",
    "- HDP (Hierarchical Dirichlet Process)\n",
    "- LDA (Latent Dirichlet Allocation)\n",
    "- LDA (tweaked with topic coherence to find optimal number of topics) and\n",
    "- LDA as LSI with the help of topic coherence metrics\n",
    "\n",
    "First we'll fit those topic models on our existing data then we'll compare each against the other and see how they rank in terms of human interpretability.\n",
    "\n",
    "All can be found in gensim and can be easily used in a plug-and-play fashion. "
   ]
  },
  {
   "cell_type": "code",
   "execution_count": 17,
   "metadata": {},
   "outputs": [],
   "source": [
    "import os\n",
    "import re\n",
    "import operator\n",
    "import matplotlib.pyplot as plt\n",
    "import warnings\n",
    "import gensim\n",
    "import numpy as np\n",
    "warnings.filterwarnings('ignore')  # Let's not pay heed to them right now\n",
    "\n",
    "from gensim.models import CoherenceModel, LdaModel, LsiModel, HdpModel\n",
    "from gensim.models.wrappers import LdaMallet\n",
    "from gensim.corpora import Dictionary\n",
    "from pprint import pprint\n",
    "\n",
    "%matplotlib inline"
   ]
  },
  {
   "cell_type": "code",
   "execution_count": 18,
   "metadata": {},
   "outputs": [],
   "source": [
    "test_data_dir = '{}'.format(os.sep).join([gensim.__path__[0], 'test', 'test_data'])\n",
    "lee_train_file = test_data_dir + os.sep + 'lee_background.cor'"
   ]
  },
  {
   "cell_type": "markdown",
   "metadata": {},
   "source": [
    "Analysing our corpus.\n",
    "\n",
    "- The first document talks about a bushfire that had occured in New South Wales.\n",
    "- The second talks about conflict between India and Pakistan in Kashmir.\n",
    "- The third talks about road accidents in the New South Wales area.\n",
    "- The fourth one talks about Argentina's economic and political crisis during that time.\n",
    "- The last one talks about the use of drugs by midwives in a Sydney hospital.\n",
    "Our final topic model should be giving us keywords which we can easily interpret and make a small summary out of. Without this the topic model cannot be of much practical use."
   ]
  },
  {
   "cell_type": "code",
   "execution_count": 52,
   "metadata": {},
   "outputs": [
    {
     "name": "stdout",
     "output_type": "stream",
     "text": [
      "['Hundreds of people have been forced to vacate their homes in the Southern Highlands of New South Wales as strong winds today pushed a huge bushfire towards the town of Hill Top. A new blaze near Goulburn, south-west of Sydney, has forced the closure of the Hume Highway. At about 4:00pm AEDT, a marked deterioration in the weather as a storm cell moved east across the Blue Mountains forced authorities to make a decision to evacuate people from homes in outlying streets at Hill Top in the New South Wales southern highlands. An estimated 500 residents have left their homes for nearby Mittagong. The New South Wales Rural Fire Service says the weather conditions which caused the fire to burn in a finger formation have now eased and about 60 fire units in and around Hill Top are optimistic of defending all properties. As more than 100 blazes burn on New Year\\'s Eve in New South Wales, fire crews have been called to new fire at Gunning, south of Goulburn. While few details are available at this stage, fire authorities says it has closed the Hume Highway in both directions. Meanwhile, a new fire in Sydney\\'s west is no longer threatening properties in the Cranebrook area. Rain has fallen in some parts of the Illawarra, Sydney, the Hunter Valley and the north coast. But the Bureau of Meteorology\\'s Claire Richards says the rain has done little to ease any of the hundred fires still burning across the state. \"The falls have been quite isolated in those areas and generally the falls have been less than about five millimetres,\" she said. \"In some places really not significant at all, less than a millimetre, so there hasn\\'t been much relief as far as rain is concerned. \"In fact, they\\'ve probably hampered the efforts of the firefighters more because of the wind gusts that are associated with those thunderstorms.\" \\n']\n",
      "[\"Indian security forces have shot dead eight suspected militants in a night-long encounter in southern Kashmir. The shootout took place at Dora village some 50 kilometers south of the Kashmiri summer capital Srinagar. The deaths came as Pakistani police arrested more than two dozen militants from extremist groups accused of staging an attack on India's parliament. India has accused Pakistan-based Lashkar-e-Taiba and Jaish-e-Mohammad of carrying out the attack on December 13 at the behest of Pakistani military intelligence. Military tensions have soared since the raid, with both sides massing troops along their border and trading tit-for-tat diplomatic sanctions. Yesterday, Pakistan announced it had arrested Lashkar-e-Taiba chief Hafiz Mohammed Saeed. Police in Karachi say it is likely more raids will be launched against the two groups as well as other militant organisations accused of targetting India. Military tensions between India and Pakistan have escalated to a level not seen since their 1971 war. \\n\"]\n",
      "['The national road toll for the Christmas-New Year holiday period stands at 45, eight fewer than for the same time last year. 20 people have died on New South Wales roads, with eight fatalities in both Queensland and Victoria. Western Australia, the Northern Territory and South Australia have each recorded three deaths, while the ACT and Tasmania remain fatality free. \\n']\n",
      "[\"Argentina's political and economic crisis has deepened with the resignation of its interim President who took office just a week ago. Aldolfo Rodregiuez Saa told a stunned nation that he could not rescue Argentina because key fellow Peronists would not support his default on massive foreign debt repayment or his plan for a new currency. It was only a week ago that he was promising a million new jobs to end four years of recession, days after his predecessor resigned following a series of failed rescue packages. After announcing that the senate leader, Ramon Puerta, would assume the presidency until congress appoints a new caretaker president, the government said he too had quit and another senior lawmaker would act in the role. Fresh elections are not scheduled until March leaving whoever assumes the presidency with the daunting task of tackling Argentina's worst crisis in 12 years, but this time, isolated by international lending agencies. \\n\"]\n",
      "['Six midwives have been suspended at Wollongong Hospital, south of Sydney, for inappropriate use of nitrous oxide during work hours, on some occasions while women were in labour. The Illawarra Area Health Service says that following an investigation of unprofessional conduct, a further four midwives have been relocated to other areas within the hospital. The service\\'s chief executive officer, Tony Sherbon, says no one was put at risk, because other staff not involved in the use of nitrous oxide were able to take over caring for women in labour. \"Well we\\'re very concerned and the body of midwives to the hospital - there are over 70 midwives that work in our service - are very annoyed and angry at the inappropriate behaviour of these very senior people who should know better,\" he said. \"And that\\'s why we\\'ve take the action of suspending them and we\\'ll consider further action next week.\" \\n']\n"
     ]
    }
   ],
   "source": [
    "with open(lee_train_file, 'r') as f:\n",
    "    for n, l in enumerate(f):\n",
    "        if n < 5:\n",
    "            print([l])"
   ]
  },
  {
   "cell_type": "code",
   "execution_count": 72,
   "metadata": {},
   "outputs": [],
   "source": [
    "def build_texts(fname):\n",
    "    \"\"\"\n",
    "    Function to build tokenized texts from file\n",
    "    \n",
    "    Parameters:\n",
    "    ----------\n",
    "    fname: File to be read\n",
    "    \n",
    "    Returns:\n",
    "    -------\n",
    "    yields preprocessed line\n",
    "    \"\"\"\n",
    "    with open(fname, 'r') as f:\n",
    "        for line in f:\n",
    "            yield gensim.utils.simple_preprocess(line, deacc=True, min_len=3)"
   ]
  },
  {
   "cell_type": "code",
   "execution_count": 162,
   "metadata": {},
   "outputs": [],
   "source": [
    "train_texts = list(build_texts(lee_train_file))"
   ]
  },
  {
   "cell_type": "code",
   "execution_count": 146,
   "metadata": {},
   "outputs": [
    {
     "data": {
      "text/plain": [
       "300"
      ]
     },
     "execution_count": 146,
     "metadata": {},
     "output_type": "execute_result"
    }
   ],
   "source": [
    "len(train_texts)"
   ]
  },
  {
   "cell_type": "markdown",
   "metadata": {},
   "source": [
    "### Preprocessing the Data \n",
    "\n",
    "- Stopword removal using NLTK's english stopwords dataset.\n",
    "- Bigram collocation detection (frequently co-occuring tokens) using gensim's Phrases. This is our first attempt to find some hidden structure in the corpus. You can even try trigram collocation detection.\n",
    "- Lemmatization (using gensim's lemmatize) to only keep the nouns. Lemmatization is generally better than stemming in the case of topic modeling since the words after lemmatization still remain understable. However, generally stemming might be preferred if the data is being fed into a vectorizer and isn't intended to be viewed."
   ]
  },
  {
   "cell_type": "code",
   "execution_count": 86,
   "metadata": {},
   "outputs": [],
   "source": [
    "bigram = gensim.models.Phrases(train_texts)  # for bigram collocation detection"
   ]
  },
  {
   "cell_type": "code",
   "execution_count": 87,
   "metadata": {},
   "outputs": [
    {
     "data": {
      "text/plain": [
       "['new_york', 'example']"
      ]
     },
     "execution_count": 87,
     "metadata": {},
     "output_type": "execute_result"
    }
   ],
   "source": [
    "bigram[['new', 'york', 'example']]"
   ]
  },
  {
   "cell_type": "code",
   "execution_count": 128,
   "metadata": {},
   "outputs": [],
   "source": [
    "from gensim.utils import lemmatize\n",
    "import nltk\n",
    "from nltk.corpus import stopwords\n",
    "from nltk.stem import WordNetLemmatizer"
   ]
  },
  {
   "cell_type": "code",
   "execution_count": 89,
   "metadata": {},
   "outputs": [],
   "source": [
    "stops = set(stopwords.words('english'))"
   ]
  },
  {
   "cell_type": "code",
   "execution_count": 165,
   "metadata": {},
   "outputs": [],
   "source": [
    "def process_texts(texts):\n",
    "    \"\"\"\n",
    "    Function to process texts. Following are the steps we take:\n",
    "    \n",
    "    1. Stopword Removal.\n",
    "    2. Collocation detection.\n",
    "    3. Lemmatization (not stem since stemming can reduce the interpretability).\n",
    "    \n",
    "    Parameters:\n",
    "    ----------\n",
    "    texts: Tokenized texts.\n",
    "    \n",
    "    Returns:\n",
    "    -------\n",
    "    texts: Pre-processed tokenized texts.\n",
    "    \"\"\"\n",
    "    texts = [[word for word in line if word not in stops] for line in texts]\n",
    "    texts = [bigram[line] for line in texts]\n",
    "    #lemmatizer = WordNetLemmatizer()\n",
    "    #texts = [lemmatizer.lemmatize(word) for word in texts]\n",
    "    # texts = [[word.split('/')[0] for word in lemmatize(' '.join(line), allowed_tags=re.compile('(NN)'), min_length=3)] for line in texts]\n",
    "    return texts\n",
    "\n",
    "# So we're setting the word limit in one go here.\n",
    "# I skipped the lemmative part as I just couldn't get it working with the bytes strings issue"
   ]
  },
  {
   "cell_type": "code",
   "execution_count": 166,
   "metadata": {},
   "outputs": [
    {
     "data": {
      "text/plain": [
       "[['federal_government',\n",
       "  'says',\n",
       "  'safe',\n",
       "  'afghani',\n",
       "  'asylum_seekers',\n",
       "  'australia',\n",
       "  'return',\n",
       "  'home',\n",
       "  'environment',\n",
       "  'becomes',\n",
       "  'secure',\n",
       "  'government',\n",
       "  'suspended',\n",
       "  'applications',\n",
       "  'interim_government',\n",
       "  'established',\n",
       "  'kabul',\n",
       "  'foreign_affairs',\n",
       "  'minister_alexander',\n",
       "  'downer',\n",
       "  'refused',\n",
       "  'say',\n",
       "  'long',\n",
       "  'claims',\n",
       "  'process',\n",
       "  'put',\n",
       "  'hold',\n",
       "  'says',\n",
       "  'major',\n",
       "  'threat',\n",
       "  'people',\n",
       "  'seeking',\n",
       "  'asylum',\n",
       "  'longer',\n",
       "  'many',\n",
       "  'afghans',\n",
       "  'tried',\n",
       "  'get',\n",
       "  'australia',\n",
       "  'matter',\n",
       "  'britain',\n",
       "  'countries',\n",
       "  'north',\n",
       "  'west',\n",
       "  'europe',\n",
       "  'claimed',\n",
       "  'fleeing',\n",
       "  'taliban',\n",
       "  'said',\n",
       "  'well',\n",
       "  'taliban',\n",
       "  'longer',\n",
       "  'power',\n",
       "  'afghanistan',\n",
       "  'taliban',\n",
       "  'finished',\n",
       "  'meanwhile',\n",
       "  'mass',\n",
       "  'airlift',\n",
       "  'detainees',\n",
       "  'christmas',\n",
       "  'island',\n",
       "  'pacific',\n",
       "  'island',\n",
       "  'nauru',\n",
       "  'total',\n",
       "  'people',\n",
       "  'flown',\n",
       "  'island',\n",
       "  'two',\n",
       "  'operations',\n",
       "  'using',\n",
       "  'chartered',\n",
       "  'aircraft',\n",
       "  'second',\n",
       "  'airlift',\n",
       "  'today',\n",
       "  'delivered',\n",
       "  'asylum_seekers',\n",
       "  'nauru',\n",
       "  'await',\n",
       "  'processing',\n",
       "  'claims',\n",
       "  'temporary',\n",
       "  'visas',\n",
       "  'department',\n",
       "  'immigration',\n",
       "  'says',\n",
       "  'detainees',\n",
       "  'remaining',\n",
       "  'christmas',\n",
       "  'island',\n",
       "  'spokesman',\n",
       "  'says',\n",
       "  'decision',\n",
       "  'regarding',\n",
       "  'future',\n",
       "  'yet',\n",
       "  'made']]"
      ]
     },
     "execution_count": 166,
     "metadata": {},
     "output_type": "execute_result"
    }
   ],
   "source": [
    "train_texts = process_texts(train_texts)\n",
    "train_texts[5:6]\n",
    "\n",
    "# Originally got error when I ran this due to Py3 encoding issue. \n",
    "# In Py3, the default string type is unicode. encode converts it to bytestring. \n",
    "# To apply strip to bytestring, you need to provide a matching character:"
   ]
  },
  {
   "cell_type": "markdown",
   "metadata": {},
   "source": [
    "Finalising our dictionary and corpus"
   ]
  },
  {
   "cell_type": "code",
   "execution_count": 167,
   "metadata": {},
   "outputs": [],
   "source": [
    "dictionary = Dictionary(train_texts)\n",
    "corpus = [dictionary.doc2bow(text) for text in train_texts]"
   ]
  },
  {
   "cell_type": "markdown",
   "metadata": {},
   "source": [
    "Topic modeling with LSI\n",
    "\n",
    "This is a useful topic modeling algorithm in that it can rank topics by itself. Thus it outputs topics in a ranked order. However it does require a num_topics parameter (set to 200 by default) to determine the number of latent dimensions after the SVD."
   ]
  },
  {
   "cell_type": "code",
   "execution_count": 168,
   "metadata": {},
   "outputs": [],
   "source": [
    "lsimodel = LsiModel(corpus=corpus, num_topics=10, id2word=dictionary)\n",
    "# Like LDA, it requires input of number of topics"
   ]
  },
  {
   "cell_type": "code",
   "execution_count": 169,
   "metadata": {},
   "outputs": [
    {
     "data": {
      "text/plain": [
       "[(0,\n",
       "  '0.542*\"said\" + 0.349*\"says\" + 0.127*\"arafat\" + 0.122*\"palestinian\" + 0.118*\"people\" + 0.117*\"israeli\" + 0.112*\"two\" + 0.110*\"australian\" + 0.110*\"also\" + 0.107*\"australia\"'),\n",
       " (1,\n",
       "  '-0.407*\"says\" + 0.321*\"arafat\" + 0.315*\"palestinian\" + 0.273*\"israeli\" + 0.192*\"israel\" + 0.173*\"sharon\" + -0.145*\"australia\" + -0.143*\"australian\" + 0.140*\"west_bank\" + 0.136*\"hamas\"'),\n",
       " (2,\n",
       "  '-0.349*\"says\" + 0.330*\"said\" + 0.202*\"afghanistan\" + 0.191*\"bin_laden\" + 0.178*\"taliban\" + 0.169*\"pakistan\" + -0.161*\"australia\" + -0.149*\"arafat\" + 0.126*\"tora_bora\" + -0.124*\"israeli\"'),\n",
       " (3,\n",
       "  '0.292*\"fire\" + 0.240*\"sydney\" + -0.215*\"says\" + 0.184*\"firefighters\" + 0.171*\"south\" + 0.164*\"wales\" + 0.164*\"new_south\" + 0.163*\"north\" + 0.161*\"fires\" + -0.151*\"afghanistan\"'),\n",
       " (4,\n",
       "  '-0.220*\"said\" + -0.171*\"match\" + -0.171*\"test\" + 0.154*\"afghanistan\" + 0.150*\"government\" + 0.148*\"says\" + -0.144*\"first\" + 0.142*\"fire\" + -0.138*\"australia\" + 0.135*\"force\"')]"
      ]
     },
     "execution_count": 169,
     "metadata": {},
     "output_type": "execute_result"
    }
   ],
   "source": [
    "lsimodel.show_topics(num_topics=5)  # Showing only the top 5 topics\n",
    "# The results aren't as goos as if I had lemmatized, but still not bad. "
   ]
  },
  {
   "cell_type": "code",
   "execution_count": 170,
   "metadata": {},
   "outputs": [],
   "source": [
    "lsitopics = lsimodel.show_topics(formatted=False)"
   ]
  },
  {
   "cell_type": "markdown",
   "metadata": {},
   "source": [
    "Topic modeling with HDP\n",
    "\n",
    "An HDP model is fully unsupervised. It can also determine the ideal number of topics it needs through posterior inference. (So this is a big advantage)"
   ]
  },
  {
   "cell_type": "code",
   "execution_count": 171,
   "metadata": {},
   "outputs": [],
   "source": [
    "hdpmodel = HdpModel(corpus=corpus, id2word=dictionary)"
   ]
  },
  {
   "cell_type": "code",
   "execution_count": 172,
   "metadata": {},
   "outputs": [
    {
     "data": {
      "text/plain": [
       "[(0,\n",
       "  '0.003*said + 0.003*israeli + 0.003*match + 0.002*says + 0.002*australia + 0.002*rafter + 0.002*human + 0.002*team + 0.002*research + 0.001*hamas + 0.001*guarantee + 0.001*played + 0.001*launched + 0.001*france + 0.001*government + 0.001*tennis + 0.001*groups + 0.001*australian + 0.001*destroyer + 0.001*singles'),\n",
       " (1,\n",
       "  '0.004*said + 0.003*palestinian + 0.002*government + 0.002*sharon + 0.002*called + 0.002*israeli + 0.002*suicide_attacks + 0.001*public + 0.001*group + 0.001*human_rights + 0.001*call + 0.001*arafat + 0.001*justice + 0.001*security + 0.001*israel + 0.001*terrorism + 0.001*owen + 0.001*armed + 0.001*statement + 0.001*gaza_strip'),\n",
       " (2,\n",
       "  '0.006*said + 0.003*airport + 0.003*australia + 0.003*taliban + 0.002*kandahar + 0.002*killed + 0.002*half + 0.002*opposition + 0.002*day + 0.001*people + 0.001*gul + 0.001*civilians + 0.001*near + 0.001*left + 0.001*city + 0.001*conference + 0.001*says + 0.001*night + 0.001*agha + 0.001*wounded'),\n",
       " (3,\n",
       "  '0.003*says + 0.003*team + 0.003*said + 0.002*rafter + 0.002*president + 0.002*australia + 0.002*rabbani + 0.002*doubles + 0.002*win + 0.002*levelled + 0.002*final + 0.001*good + 0.001*make + 0.001*security + 0.001*expect + 0.001*know + 0.001*government + 0.001*day + 0.001*also + 0.001*match'),\n",
       " (4,\n",
       "  '0.003*said + 0.003*says + 0.002*israeli + 0.002*troops + 0.002*arrest + 0.002*palestinian + 0.002*police + 0.002*hamas + 0.002*afp + 0.002*source + 0.002*two + 0.002*arrests + 0.002*australian + 0.001*soldiers + 0.001*militants + 0.001*arrested + 0.001*another + 0.001*afghanistan + 0.001*lead + 0.001*west_bank'),\n",
       " (5,\n",
       "  '0.003*krishna + 0.003*benares + 0.003*ashes + 0.002*hare + 0.002*cow + 0.002*harrison + 0.002*ganges + 0.002*take + 0.001*japan + 0.001*ceremony + 0.001*disease + 0.001*river + 0.001*holy + 0.001*hundreds + 0.001*economies + 0.001*former + 0.001*third + 0.001*devotees + 0.001*place + 0.001*members'),\n",
       " (6,\n",
       "  '0.004*arafat + 0.003*sharon + 0.003*israeli + 0.003*said + 0.002*palestinian + 0.002*west_bank + 0.002*lee + 0.002*yesterday + 0.001*official + 0.001*military + 0.001*test + 0.001*airport + 0.001*war + 0.001*terrorism + 0.001*match + 0.001*palestinian_security + 0.001*new_zealand + 0.001*offices + 0.001*day + 0.001*gaza'),\n",
       " (7,\n",
       "  '0.003*storm + 0.002*says + 0.002*ses + 0.002*sydney + 0.002*trees + 0.002*around + 0.002*australia + 0.002*said + 0.002*services + 0.002*worst + 0.002*storms + 0.002*hornsby + 0.001*homes + 0.001*areas + 0.001*brought + 0.001*hit + 0.001*welfare + 0.001*pictures + 0.001*two + 0.001*debus'),\n",
       " (8,\n",
       "  '0.004*company + 0.004*says + 0.003*india + 0.002*entitlements + 0.002*austar + 0.002*jobs + 0.002*staff + 0.002*said + 0.002*australian + 0.002*australia + 0.002*million + 0.002*administrators + 0.002*union + 0.002*sector + 0.002*outsource + 0.001*receive + 0.001*laws + 0.001*escalation + 0.001*report + 0.001*stores'),\n",
       " (9,\n",
       "  '0.001*agreement + 0.001*test + 0.001*says + 0.001*afghan + 0.001*afghanistan + 0.001*brett_lee + 0.001*calls + 0.001*matthew + 0.001*towards + 0.001*buchanan + 0.001*win + 0.001*would + 0.001*expressed + 0.001*australia + 0.001*day + 0.001*enough + 0.001*four + 0.001*time + 0.001*mark + 0.001*assembly'),\n",
       " (10,\n",
       "  '0.002*indonesia + 0.002*howard + 0.002*brain + 0.002*president + 0.002*summit + 0.002*team + 0.002*cells + 0.002*megawati + 0.001*used + 0.001*talks + 0.001*immigrants + 0.001*meeting + 0.001*australia + 0.001*issues + 0.001*workers + 0.001*administrator + 0.001*jakarta + 0.001*says + 0.001*revealed + 0.001*assessments'),\n",
       " (11,\n",
       "  '0.003*harrison + 0.003*said + 0.002*george + 0.002*people + 0.002*music + 0.002*family + 0.002*tonight + 0.002*died + 0.002*beatle + 0.001*liverpool + 0.001*memory + 0.001*see + 0.001*fourteen + 0.001*losing + 0.001*lives + 0.001*vigil + 0.001*man + 0.001*another + 0.001*planted + 0.001*wilton'),\n",
       " (12,\n",
       "  '0.003*economy + 0.003*says + 0.002*australia + 0.002*strong + 0.001*economic + 0.001*australian + 0.001*bourne + 0.001*hometown + 0.001*also + 0.001*rich + 0.001*follow + 0.001*set + 0.001*recession + 0.001*rural + 0.001*quite + 0.001*suspicion + 0.001*taylor + 0.001*banksa + 0.001*firm + 0.001*link'),\n",
       " (13,\n",
       "  '0.002*north + 0.002*said + 0.002*sydney + 0.002*hit + 0.001*disaster + 0.001*damage + 0.001*wales + 0.001*new_south + 0.001*walker + 0.001*back + 0.001*trees + 0.001*expected + 0.001*slashing + 0.001*areas + 0.001*struck + 0.001*volunteers + 0.001*state + 0.001*house + 0.001*natural + 0.001*bend'),\n",
       " (14,\n",
       "  '0.002*canyoning + 0.002*adventure_world + 0.002*three + 0.002*one + 0.002*interlaken + 0.002*guides + 0.002*struck + 0.001*occur + 0.001*weather + 0.001*thunderstorm + 0.001*manslaughter + 0.001*staff + 0.001*lack + 0.001*safety + 0.001*alleged + 0.001*managers + 0.001*allowed + 0.001*tomorrow + 0.001*place + 0.001*charged'),\n",
       " (15,\n",
       "  '0.002*band + 0.002*songs + 0.002*mcdonald + 0.001*beatle + 0.001*going + 0.001*second + 0.001*says + 0.001*travel + 0.001*day + 0.001*lennon + 0.001*something + 0.001*known + 0.001*harrison + 0.001*success + 0.001*beatles + 0.001*limelight + 0.001*dead + 0.001*actor + 0.001*every + 0.001*rising'),\n",
       " (16,\n",
       "  '0.002*per_cent + 0.002*job + 0.002*olivier + 0.002*says + 0.002*apologies + 0.001*lowest + 0.001*since + 0.001*obstacle + 0.001*advertising + 0.001*predicted + 0.001*australian + 0.001*evening + 0.001*anz + 0.001*index + 0.001*market + 0.001*fall + 0.001*employment + 0.001*beat + 0.001*week + 0.001*mourning'),\n",
       " (17,\n",
       "  '0.003*afghanistan + 0.002*southern + 0.002*powell + 0.002*taliban + 0.002*said + 0.002*says + 0.002*also + 0.002*bin_laden + 0.001*kandahar + 0.001*optimism + 0.001*united_states + 0.001*troops + 0.001*osama_bin + 0.001*marines + 0.001*matter + 0.001*another + 0.001*officers + 0.001*coups + 0.001*dusty + 0.001*time'),\n",
       " (18,\n",
       "  '0.001*adam + 0.001*graveyard + 0.001*said + 0.001*series + 0.001*rapid + 0.001*always + 0.001*blow + 0.001*rain + 0.001*list + 0.001*bonn + 0.001*social + 0.001*challenged + 0.001*angry + 0.001*ashes + 0.001*attachments + 0.001*coveted + 0.001*discount + 0.001*indicated + 0.001*clothes + 0.001*loyalty'),\n",
       " (19,\n",
       "  '0.003*friedli + 0.002*replied + 0.002*know + 0.002*company + 0.002*people + 0.002*director + 0.002*denied + 0.002*responsibility + 0.002*positve + 0.002*said + 0.001*region + 0.001*preventable + 0.001*first + 0.001*think + 0.001*river + 0.001*organised + 0.001*court + 0.001*aware + 0.001*swiss + 0.001*tragedy')]"
      ]
     },
     "execution_count": 172,
     "metadata": {},
     "output_type": "execute_result"
    }
   ],
   "source": [
    "hdpmodel.show_topics()"
   ]
  },
  {
   "cell_type": "code",
   "execution_count": 173,
   "metadata": {},
   "outputs": [],
   "source": [
    "hdptopics = hdpmodel.show_topics(formatted=False)"
   ]
  },
  {
   "cell_type": "markdown",
   "metadata": {},
   "source": [
    "Topic modeling using LDA\n",
    "\n",
    "This is one the most popular topic modeling algorithms today. It is a generative model in that it assumes each document is a mixture of topics and in turn, each topic is a mixture of words. To understand it better you can watch this lecture by David Blei. Let's choose 10 topics to initialize this.\n",
    "\n"
   ]
  },
  {
   "cell_type": "code",
   "execution_count": 175,
   "metadata": {},
   "outputs": [],
   "source": [
    "ldamodel = LdaModel(corpus=corpus, num_topics=10, id2word=dictionary)\n",
    "\n",
    "# I don't know if I have less data or what, but I'm used to this taking much longer with R topicmodeling"
   ]
  },
  {
   "cell_type": "markdown",
   "metadata": {},
   "source": [
    "pyLDAvis is a great way to visualize an LDA model. To summarize in short, the area of the circles represent the prevelance of the topic. The length of the bars on the right represent the membership of a term in a particular topic."
   ]
  },
  {
   "cell_type": "code",
   "execution_count": 177,
   "metadata": {},
   "outputs": [
    {
     "name": "stderr",
     "output_type": "stream",
     "text": [
      "C:\\Users\\Christian Conroy\\Anaconda3\\lib\\site-packages\\past\\types\\oldstr.py:33: DeprecationWarning: invalid escape sequence \\d\n",
      "  \"\"\"\n"
     ]
    }
   ],
   "source": [
    "import pyLDAvis.gensim"
   ]
  },
  {
   "cell_type": "code",
   "execution_count": 178,
   "metadata": {},
   "outputs": [],
   "source": [
    "pyLDAvis.enable_notebook()"
   ]
  },
  {
   "cell_type": "code",
   "execution_count": 179,
   "metadata": {},
   "outputs": [
    {
     "data": {
      "text/html": [
       "\n",
       "<link rel=\"stylesheet\" type=\"text/css\" href=\"https://cdn.rawgit.com/bmabey/pyLDAvis/files/ldavis.v1.0.0.css\">\n",
       "\n",
       "\n",
       "<div id=\"ldavis_el16948291170376890422416936\"></div>\n",
       "<script type=\"text/javascript\">\n",
       "\n",
       "var ldavis_el16948291170376890422416936_data = {\"mdsDat\": {\"x\": [0.019561932528418636, 0.017840505592349287, 0.02909760451581823, 0.048621052087881145, -0.016090831015696132, -0.05779590658400557, -0.0010487453526149659, -0.015135639910755772, -0.003980656899103685, -0.02106931496229122], \"y\": [0.015357416509759955, 0.004561229465199482, -0.00367844363225578, -0.03467324962245638, 0.0034956429129858625, -0.014850008088463934, 0.04173187868901762, 0.020959713532042627, 0.016198040255032638, -0.0491022200208621], \"topics\": [1, 2, 3, 4, 5, 6, 7, 8, 9, 10], \"cluster\": [1, 1, 1, 1, 1, 1, 1, 1, 1, 1], \"Freq\": [14.527071952819824, 14.486257553100586, 12.63298511505127, 10.311127662658691, 9.441515922546387, 9.233745574951172, 9.198901176452637, 8.858338356018066, 7.461198329925537, 3.8488540649414062]}, \"tinfo\": {\"Category\": [\"Default\", \"Default\", \"Default\", \"Default\", \"Default\", \"Default\", \"Default\", \"Default\", \"Default\", \"Default\", \"Default\", \"Default\", \"Default\", \"Default\", \"Default\", \"Default\", \"Default\", \"Default\", \"Default\", \"Default\", \"Default\", \"Default\", \"Default\", \"Default\", \"Default\", \"Default\", \"Default\", \"Default\", \"Default\", \"Default\", \"Topic1\", \"Topic1\", \"Topic1\", \"Topic1\", \"Topic1\", \"Topic1\", \"Topic1\", \"Topic1\", \"Topic1\", \"Topic1\", \"Topic1\", \"Topic1\", \"Topic1\", \"Topic1\", \"Topic1\", \"Topic1\", \"Topic1\", \"Topic1\", \"Topic1\", \"Topic1\", \"Topic1\", \"Topic1\", \"Topic1\", \"Topic1\", \"Topic1\", \"Topic1\", \"Topic1\", \"Topic1\", \"Topic1\", \"Topic1\", \"Topic1\", \"Topic1\", \"Topic1\", \"Topic1\", \"Topic1\", \"Topic1\", \"Topic1\", \"Topic1\", \"Topic1\", \"Topic1\", \"Topic1\", \"Topic1\", \"Topic1\", \"Topic1\", \"Topic1\", \"Topic1\", \"Topic1\", \"Topic1\", \"Topic1\", \"Topic1\", \"Topic1\", \"Topic1\", \"Topic1\", \"Topic1\", \"Topic1\", \"Topic1\", \"Topic1\", \"Topic1\", \"Topic1\", \"Topic1\", \"Topic1\", \"Topic1\", \"Topic1\", \"Topic1\", \"Topic1\", \"Topic1\", \"Topic1\", \"Topic1\", \"Topic1\", \"Topic1\", \"Topic1\", \"Topic1\", \"Topic1\", \"Topic1\", \"Topic1\", \"Topic1\", \"Topic1\", \"Topic1\", \"Topic1\", \"Topic1\", \"Topic1\", \"Topic2\", \"Topic2\", \"Topic2\", \"Topic2\", \"Topic2\", \"Topic2\", \"Topic2\", \"Topic2\", \"Topic2\", \"Topic2\", \"Topic2\", \"Topic2\", \"Topic2\", \"Topic2\", \"Topic2\", \"Topic2\", \"Topic2\", \"Topic2\", \"Topic2\", \"Topic2\", \"Topic2\", \"Topic2\", \"Topic2\", \"Topic2\", \"Topic2\", \"Topic2\", \"Topic2\", \"Topic2\", \"Topic2\", \"Topic2\", \"Topic2\", \"Topic2\", \"Topic2\", \"Topic2\", \"Topic2\", \"Topic2\", \"Topic2\", \"Topic2\", \"Topic2\", \"Topic2\", \"Topic2\", \"Topic2\", \"Topic2\", \"Topic2\", \"Topic2\", \"Topic2\", \"Topic2\", \"Topic2\", \"Topic2\", \"Topic2\", \"Topic2\", \"Topic2\", \"Topic2\", \"Topic2\", \"Topic2\", \"Topic2\", \"Topic2\", \"Topic2\", \"Topic2\", \"Topic2\", \"Topic2\", \"Topic2\", \"Topic2\", \"Topic2\", \"Topic2\", \"Topic2\", \"Topic2\", \"Topic2\", \"Topic2\", \"Topic2\", \"Topic2\", \"Topic2\", \"Topic2\", \"Topic2\", \"Topic2\", \"Topic2\", \"Topic3\", \"Topic3\", \"Topic3\", \"Topic3\", \"Topic3\", \"Topic3\", \"Topic3\", \"Topic3\", \"Topic3\", \"Topic3\", \"Topic3\", \"Topic3\", \"Topic3\", \"Topic3\", \"Topic3\", \"Topic3\", \"Topic3\", \"Topic3\", \"Topic3\", \"Topic3\", \"Topic3\", \"Topic3\", \"Topic3\", \"Topic3\", \"Topic3\", \"Topic3\", \"Topic3\", \"Topic3\", \"Topic3\", \"Topic3\", \"Topic3\", \"Topic3\", \"Topic3\", \"Topic3\", \"Topic3\", \"Topic3\", \"Topic3\", \"Topic3\", \"Topic3\", \"Topic3\", \"Topic3\", \"Topic3\", \"Topic3\", \"Topic3\", \"Topic3\", \"Topic3\", \"Topic3\", \"Topic3\", \"Topic3\", \"Topic3\", \"Topic3\", \"Topic3\", \"Topic3\", \"Topic3\", \"Topic3\", \"Topic3\", \"Topic3\", \"Topic3\", \"Topic3\", \"Topic3\", \"Topic3\", \"Topic3\", \"Topic3\", \"Topic3\", \"Topic3\", \"Topic3\", \"Topic3\", \"Topic3\", \"Topic3\", \"Topic3\", \"Topic3\", \"Topic3\", \"Topic4\", \"Topic4\", \"Topic4\", \"Topic4\", \"Topic4\", \"Topic4\", \"Topic4\", \"Topic4\", \"Topic4\", \"Topic4\", \"Topic4\", \"Topic4\", \"Topic4\", \"Topic4\", \"Topic4\", \"Topic4\", \"Topic4\", \"Topic4\", \"Topic4\", \"Topic4\", \"Topic4\", \"Topic4\", \"Topic4\", \"Topic4\", \"Topic4\", \"Topic4\", \"Topic4\", \"Topic4\", \"Topic4\", \"Topic4\", \"Topic4\", \"Topic4\", \"Topic4\", \"Topic4\", \"Topic4\", \"Topic4\", \"Topic4\", \"Topic4\", \"Topic4\", \"Topic4\", \"Topic4\", \"Topic4\", \"Topic4\", \"Topic4\", \"Topic4\", \"Topic4\", \"Topic4\", \"Topic4\", \"Topic4\", \"Topic4\", \"Topic4\", \"Topic4\", \"Topic4\", \"Topic4\", \"Topic4\", \"Topic4\", \"Topic4\", \"Topic4\", \"Topic4\", \"Topic4\", \"Topic4\", \"Topic4\", \"Topic4\", \"Topic4\", \"Topic4\", \"Topic4\", \"Topic4\", \"Topic4\", \"Topic4\", \"Topic4\", \"Topic4\", \"Topic4\", \"Topic5\", \"Topic5\", \"Topic5\", \"Topic5\", \"Topic5\", \"Topic5\", \"Topic5\", \"Topic5\", \"Topic5\", \"Topic5\", \"Topic5\", \"Topic5\", \"Topic5\", \"Topic5\", \"Topic5\", \"Topic5\", \"Topic5\", \"Topic5\", \"Topic5\", \"Topic5\", \"Topic5\", \"Topic5\", \"Topic5\", \"Topic5\", \"Topic5\", \"Topic5\", \"Topic5\", \"Topic5\", \"Topic5\", \"Topic5\", \"Topic5\", \"Topic5\", \"Topic5\", \"Topic5\", \"Topic5\", \"Topic5\", \"Topic5\", \"Topic5\", \"Topic5\", \"Topic5\", \"Topic5\", \"Topic5\", \"Topic5\", \"Topic5\", \"Topic5\", \"Topic5\", \"Topic5\", \"Topic5\", \"Topic5\", \"Topic5\", \"Topic5\", \"Topic5\", \"Topic5\", \"Topic5\", \"Topic5\", \"Topic5\", \"Topic5\", \"Topic5\", \"Topic5\", \"Topic5\", \"Topic5\", \"Topic5\", \"Topic5\", \"Topic5\", \"Topic5\", \"Topic5\", \"Topic5\", \"Topic5\", \"Topic5\", \"Topic5\", \"Topic5\", \"Topic5\", \"Topic5\", \"Topic5\", \"Topic5\", \"Topic5\", \"Topic5\", \"Topic6\", \"Topic6\", \"Topic6\", \"Topic6\", \"Topic6\", \"Topic6\", \"Topic6\", \"Topic6\", \"Topic6\", \"Topic6\", \"Topic6\", \"Topic6\", \"Topic6\", \"Topic6\", \"Topic6\", \"Topic6\", \"Topic6\", \"Topic6\", \"Topic6\", \"Topic6\", \"Topic6\", \"Topic6\", \"Topic6\", \"Topic6\", \"Topic6\", \"Topic6\", \"Topic6\", \"Topic6\", \"Topic6\", \"Topic6\", \"Topic6\", \"Topic6\", \"Topic6\", \"Topic6\", \"Topic6\", \"Topic6\", \"Topic6\", \"Topic6\", \"Topic6\", \"Topic6\", \"Topic6\", \"Topic6\", \"Topic6\", \"Topic6\", \"Topic6\", \"Topic6\", \"Topic6\", \"Topic6\", \"Topic6\", \"Topic6\", \"Topic6\", \"Topic6\", \"Topic6\", \"Topic6\", \"Topic6\", \"Topic6\", \"Topic6\", \"Topic6\", \"Topic6\", \"Topic6\", \"Topic6\", \"Topic6\", \"Topic6\", \"Topic6\", \"Topic6\", \"Topic6\", \"Topic6\", \"Topic6\", \"Topic6\", \"Topic6\", \"Topic6\", \"Topic6\", \"Topic6\", \"Topic6\", \"Topic6\", \"Topic6\", \"Topic6\", \"Topic6\", \"Topic7\", \"Topic7\", \"Topic7\", \"Topic7\", \"Topic7\", \"Topic7\", \"Topic7\", \"Topic7\", \"Topic7\", \"Topic7\", \"Topic7\", \"Topic7\", \"Topic7\", \"Topic7\", \"Topic7\", \"Topic7\", \"Topic7\", \"Topic7\", \"Topic7\", \"Topic7\", \"Topic7\", \"Topic7\", \"Topic7\", \"Topic7\", \"Topic7\", \"Topic7\", \"Topic7\", \"Topic7\", \"Topic7\", \"Topic7\", \"Topic7\", \"Topic7\", \"Topic7\", \"Topic7\", \"Topic7\", \"Topic7\", \"Topic7\", \"Topic7\", \"Topic7\", \"Topic7\", \"Topic7\", \"Topic7\", \"Topic7\", \"Topic7\", \"Topic7\", \"Topic7\", \"Topic7\", \"Topic7\", \"Topic7\", \"Topic7\", \"Topic7\", \"Topic7\", \"Topic7\", \"Topic7\", \"Topic7\", \"Topic7\", \"Topic7\", \"Topic7\", \"Topic7\", \"Topic7\", \"Topic7\", \"Topic7\", \"Topic7\", \"Topic7\", \"Topic7\", \"Topic7\", \"Topic7\", \"Topic7\", \"Topic7\", \"Topic7\", \"Topic7\", \"Topic7\", \"Topic7\", \"Topic7\", \"Topic7\", \"Topic7\", \"Topic7\", \"Topic7\", \"Topic7\", \"Topic7\", \"Topic8\", \"Topic8\", \"Topic8\", \"Topic8\", \"Topic8\", \"Topic8\", \"Topic8\", \"Topic8\", \"Topic8\", \"Topic8\", \"Topic8\", \"Topic8\", \"Topic8\", \"Topic8\", \"Topic8\", \"Topic8\", \"Topic8\", \"Topic8\", \"Topic8\", \"Topic8\", \"Topic8\", \"Topic8\", \"Topic8\", \"Topic8\", \"Topic8\", \"Topic8\", \"Topic8\", \"Topic8\", \"Topic8\", \"Topic8\", \"Topic8\", \"Topic8\", \"Topic8\", \"Topic8\", \"Topic8\", \"Topic8\", \"Topic8\", \"Topic8\", \"Topic8\", \"Topic8\", \"Topic8\", \"Topic8\", \"Topic8\", \"Topic8\", \"Topic8\", \"Topic8\", \"Topic8\", \"Topic8\", \"Topic8\", \"Topic8\", \"Topic8\", \"Topic8\", \"Topic8\", \"Topic8\", \"Topic8\", \"Topic8\", \"Topic8\", \"Topic8\", \"Topic8\", \"Topic8\", \"Topic8\", \"Topic8\", \"Topic8\", \"Topic8\", \"Topic8\", \"Topic8\", \"Topic8\", \"Topic8\", \"Topic8\", \"Topic8\", \"Topic8\", \"Topic8\", \"Topic8\", \"Topic9\", \"Topic9\", \"Topic9\", \"Topic9\", \"Topic9\", \"Topic9\", \"Topic9\", \"Topic9\", \"Topic9\", \"Topic9\", \"Topic9\", \"Topic9\", \"Topic9\", \"Topic9\", \"Topic9\", \"Topic9\", \"Topic9\", \"Topic9\", \"Topic9\", \"Topic9\", \"Topic9\", \"Topic9\", \"Topic9\", \"Topic9\", \"Topic9\", \"Topic9\", \"Topic9\", \"Topic9\", \"Topic9\", \"Topic9\", \"Topic9\", \"Topic9\", \"Topic9\", \"Topic9\", \"Topic9\", \"Topic9\", \"Topic9\", \"Topic9\", \"Topic9\", \"Topic9\", \"Topic9\", \"Topic9\", \"Topic9\", \"Topic9\", \"Topic9\", \"Topic9\", \"Topic9\", \"Topic9\", \"Topic9\", \"Topic9\", \"Topic9\", \"Topic9\", \"Topic9\", \"Topic9\", \"Topic9\", \"Topic9\", \"Topic9\", \"Topic9\", \"Topic9\", \"Topic9\", \"Topic9\", \"Topic9\", \"Topic9\", \"Topic9\", \"Topic9\", \"Topic9\", \"Topic9\", \"Topic9\", \"Topic9\", \"Topic9\", \"Topic9\", \"Topic9\", \"Topic9\", \"Topic9\", \"Topic9\", \"Topic9\", \"Topic9\", \"Topic10\", \"Topic10\", \"Topic10\", \"Topic10\", \"Topic10\", \"Topic10\", \"Topic10\", \"Topic10\", \"Topic10\", \"Topic10\", \"Topic10\", \"Topic10\", \"Topic10\", \"Topic10\", \"Topic10\", \"Topic10\", \"Topic10\", \"Topic10\", \"Topic10\", \"Topic10\", \"Topic10\", \"Topic10\", \"Topic10\", \"Topic10\", \"Topic10\", \"Topic10\", \"Topic10\", \"Topic10\", \"Topic10\", \"Topic10\", \"Topic10\", \"Topic10\", \"Topic10\", \"Topic10\", \"Topic10\", \"Topic10\", \"Topic10\", \"Topic10\", \"Topic10\", \"Topic10\", \"Topic10\", \"Topic10\", \"Topic10\", \"Topic10\", \"Topic10\", \"Topic10\", \"Topic10\", \"Topic10\", \"Topic10\", \"Topic10\", \"Topic10\", \"Topic10\", \"Topic10\", \"Topic10\", \"Topic10\", \"Topic10\", \"Topic10\", \"Topic10\", \"Topic10\", \"Topic10\", \"Topic10\", \"Topic10\", \"Topic10\", \"Topic10\", \"Topic10\", \"Topic10\", \"Topic10\", \"Topic10\", \"Topic10\", \"Topic10\", \"Topic10\", \"Topic10\", \"Topic10\", \"Topic10\", \"Topic10\"], \"Freq\": [332.0, 30.0, 116.0, 386.0, 54.0, 49.0, 64.0, 70.0, 17.0, 118.0, 46.0, 26.0, 98.0, 96.0, 9.0, 7.0, 28.0, 15.0, 69.0, 71.0, 37.0, 33.0, 16.0, 17.0, 19.0, 18.0, 40.0, 28.0, 64.0, 58.0, 2.180469512939453, 2.0602540969848633, 1.7645201683044434, 1.1418163776397705, 1.1408677101135254, 1.1405079364776611, 1.1392141580581665, 6.93786096572876, 1.6145380735397339, 1.0602660179138184, 1.6066945791244507, 1.5426859855651855, 4.160553932189941, 1.0198768377304077, 1.5640594959259033, 0.9944528937339783, 1.5201690196990967, 1.0074074268341064, 0.9819275140762329, 1.5060425996780396, 1.9833133220672607, 1.5224467515945435, 1.98163640499115, 0.9819969534873962, 0.9727367162704468, 1.4323517084121704, 2.9388298988342285, 1.4157899618148804, 1.9314563274383545, 1.4413180351257324, 1.8591703176498413, 2.662489414215088, 2.1993601322174072, 1.7681188583374023, 6.273883819580078, 8.104568481445312, 5.270264148712158, 3.108306884765625, 5.404018402099609, 9.720391273498535, 20.23323631286621, 5.875383377075195, 3.199535369873047, 9.821471214294434, 16.375999450683594, 9.23805046081543, 5.542760848999023, 4.304985523223877, 3.094327688217163, 5.076210021972656, 17.402009963989258, 25.066625595092773, 7.801602363586426, 9.720197677612305, 10.054598808288574, 13.660746574401855, 6.166236877441406, 12.391691207885742, 44.432498931884766, 13.233222007751465, 8.171221733093262, 7.074751377105713, 32.33915328979492, 8.401537895202637, 13.129137992858887, 10.286952018737793, 16.249271392822266, 14.855216026306152, 14.371759414672852, 14.819829940795898, 9.618803977966309, 11.161971092224121, 11.2040376663208, 11.257102012634277, 9.1392822265625, 9.079302787780762, 10.101049423217773, 10.801371574401855, 11.03684139251709, 10.193171501159668, 9.356940269470215, 2.147304058074951, 3.490737199783325, 6.794317722320557, 1.9843043088912964, 3.9494311809539795, 3.1605920791625977, 1.1248247623443604, 1.1248115301132202, 1.1246436834335327, 3.457334041595459, 1.0676549673080444, 1.0632976293563843, 1.0645476579666138, 1.0618139505386353, 4.4201459884643555, 1.0553784370422363, 1.0528512001037598, 1.050919532775879, 1.0527125597000122, 1.0475187301635742, 1.047619104385376, 1.029897689819336, 1.0227090120315552, 1.4776519536972046, 2.0284526348114014, 4.442977428436279, 1.4397649765014648, 2.3770344257354736, 0.9518945813179016, 3.361893653869629, 13.66211223602295, 3.2893576622009277, 2.8226940631866455, 6.743983268737793, 4.7655205726623535, 3.973893880844116, 2.341216802597046, 5.261753559112549, 6.413172721862793, 2.2459664344787598, 2.2817883491516113, 3.8494153022766113, 2.2026584148406982, 13.494626998901367, 74.1160888671875, 4.8361382484436035, 27.41084861755371, 22.317384719848633, 5.856015205383301, 15.356372833251953, 6.391119003295898, 17.090694427490234, 39.60050964355469, 8.912964820861816, 12.706665992736816, 14.621208190917969, 6.739844799041748, 11.95323657989502, 14.7829008102417, 10.371931076049805, 10.695332527160645, 14.313323974609375, 7.418214321136475, 11.500871658325195, 8.967301368713379, 7.53826904296875, 12.019793510437012, 7.957859992980957, 7.738530158996582, 9.756217002868652, 7.544243335723877, 8.347743034362793, 7.724256992340088, 7.774039268493652, 7.547865390777588, 7.518417835235596, 2.7702689170837402, 3.2703075408935547, 3.589324712753296, 2.5933854579925537, 5.705883502960205, 2.0335981845855713, 1.4448621273040771, 1.4574638605117798, 1.4464219808578491, 1.4261139631271362, 1.419710397720337, 1.4172184467315674, 1.3973660469055176, 1.395702600479126, 1.8810924291610718, 1.382175087928772, 1.3565597534179688, 1.3580243587493896, 1.3436115980148315, 1.3420456647872925, 1.3180029392242432, 1.8127723932266235, 1.2924048900604248, 1.2833781242370605, 1.2808043956756592, 1.627151370048523, 1.7286533117294312, 1.772491693496704, 1.2391196489334106, 1.6864389181137085, 3.002375841140747, 2.148970603942871, 2.5118160247802734, 3.4936017990112305, 2.740097999572754, 3.3014936447143555, 2.2713420391082764, 14.555351257324219, 2.9053168296813965, 9.280509948730469, 53.47474670410156, 15.185896873474121, 12.251643180847168, 19.8560733795166, 8.92978572845459, 5.278895378112793, 41.33405303955078, 14.355457305908203, 9.687302589416504, 15.03657054901123, 8.900309562683105, 6.471371650695801, 17.36138343811035, 4.152401924133301, 7.837521553039551, 15.123579978942871, 4.452234268188477, 6.926393985748291, 9.892629623413086, 8.446311950683594, 11.922345161437988, 9.34422492980957, 9.842482566833496, 9.720152854919434, 10.49628734588623, 8.731785774230957, 8.033246040344238, 10.886103630065918, 8.208844184875488, 9.223756790161133, 7.180446624755859, 6.986102104187012, 2.358774185180664, 2.3571393489837646, 3.2612736225128174, 1.5340293645858765, 1.52045476436615, 1.9502193927764893, 0.9959309697151184, 0.9954746961593628, 3.287619113922119, 1.416120171546936, 3.7169322967529297, 5.593915939331055, 1.3879114389419556, 1.3652217388153076, 1.7737195491790771, 1.8175119161605835, 0.8756852149963379, 0.8769374489784241, 0.8432916402816772, 0.8415131568908691, 0.8416049480438232, 1.6493844985961914, 3.793269395828247, 2.172346353530884, 0.8297886252403259, 4.1998982429504395, 0.8213870525360107, 2.1684536933898926, 0.818479061126709, 0.8137357831001282, 2.0423426628112793, 1.576003909111023, 5.834523677825928, 2.9783120155334473, 1.566833734512329, 3.527238607406616, 1.544415831565857, 4.418795108795166, 6.325534820556641, 3.1118147373199463, 3.82006573677063, 16.600961685180664, 60.51624298095703, 7.3503265380859375, 11.338342666625977, 8.875395774841309, 13.299556732177734, 5.039618015289307, 15.768988609313965, 5.160976886749268, 6.8718342781066895, 10.923974990844727, 6.547199249267578, 8.557377815246582, 13.592114448547363, 9.498260498046875, 7.4523749351501465, 10.25777816772461, 12.633668899536133, 8.397333145141602, 10.674684524536133, 11.3153076171875, 8.335549354553223, 14.714086532592773, 8.08338737487793, 7.065920829772949, 7.426027297973633, 7.566796779632568, 6.511031150817871, 6.0614094734191895, 6.372008323669434, 6.001112937927246, 2.5279428958892822, 3.3251254558563232, 1.3341118097305298, 1.312145709991455, 1.7470762729644775, 1.2921123504638672, 1.2711002826690674, 1.21146559715271, 1.2107950448989868, 1.2025361061096191, 0.7970291376113892, 1.4969390630722046, 1.1815167665481567, 1.1125297546386719, 1.5710128545761108, 1.4662357568740845, 0.7595425248146057, 1.1269078254699707, 0.7449935674667358, 0.7233839631080627, 1.0378106832504272, 1.885014295578003, 1.4849509000778198, 0.7364697456359863, 2.484588861465454, 1.0920851230621338, 1.4431893825531006, 1.3752400875091553, 1.0363420248031616, 0.6800782084465027, 1.3312820196151733, 2.1979222297668457, 2.153148889541626, 2.113605260848999, 3.228367805480957, 2.0859875679016113, 8.447280883789062, 3.874077558517456, 46.196998596191406, 2.772865056991577, 10.690567016601562, 6.071383476257324, 2.4357120990753174, 6.005490303039551, 35.31379318237305, 13.214494705200195, 9.284305572509766, 13.727080345153809, 5.764453411102295, 6.261847496032715, 9.053013801574707, 4.769375324249268, 5.525312900543213, 4.913570404052734, 5.536624908447266, 5.66801643371582, 5.479028224945068, 5.609586238861084, 4.351485252380371, 7.166095733642578, 4.601149559020996, 4.709227085113525, 5.974234580993652, 7.4443182945251465, 5.550373077392578, 8.237201690673828, 7.755445957183838, 7.067214012145996, 6.002533435821533, 6.321071147918701, 6.238739490509033, 6.106806755065918, 6.157111167907715, 6.526272296905518, 5.943105697631836, 6.0314412117004395, 5.993235111236572, 2.7787718772888184, 2.102288246154785, 1.599156379699707, 1.5867384672164917, 2.0062098503112793, 1.4687855243682861, 1.465286374092102, 1.4630526304244995, 1.4448089599609375, 1.4358747005462646, 1.4332314729690552, 1.4320188760757446, 1.4099698066711426, 1.3954590559005737, 1.7372699975967407, 1.3019590377807617, 1.275124192237854, 0.839050829410553, 0.8387865424156189, 0.8387227654457092, 1.235453724861145, 0.8381780982017517, 0.8382053375244141, 0.8379887342453003, 0.836992621421814, 0.8366919755935669, 0.8361620306968689, 0.8353488445281982, 0.834898829460144, 0.8348674774169922, 3.336453437805176, 5.461009502410889, 3.6201868057250977, 1.2120916843414307, 3.9656598567962646, 3.5881571769714355, 2.325544834136963, 2.1340320110321045, 6.2447896003723145, 1.4858378171920776, 1.8112748861312866, 3.7176239490509033, 5.534111976623535, 24.050506591796875, 6.424968719482422, 9.758098602294922, 40.31785583496094, 4.239214897155762, 9.663762092590332, 3.0030088424682617, 10.76200008392334, 6.849907875061035, 4.291993618011475, 6.961026668548584, 9.144800186157227, 4.013533115386963, 10.684025764465332, 8.827386856079102, 21.72926139831543, 10.398225784301758, 4.810746669769287, 4.928908348083496, 9.472512245178223, 9.930849075317383, 9.177186012268066, 5.296222686767578, 6.588580131530762, 6.732018947601318, 6.038176536560059, 5.55609655380249, 5.089838027954102, 6.190369606018066, 5.054664611816406, 5.591943264007568, 6.225762367248535, 5.1521759033203125, 5.200460433959961, 5.367334365844727, 1.7156760692596436, 1.715327501296997, 2.255309820175171, 1.4804660081863403, 1.480080485343933, 2.2930355072021484, 3.647937297821045, 1.780778169631958, 0.8985381126403809, 0.89847731590271, 0.8984468579292297, 0.8983768820762634, 0.8983675837516785, 0.8982575535774231, 1.2297899723052979, 1.286740779876709, 1.266905426979065, 0.8091801404953003, 0.8073009848594666, 0.8045718669891357, 0.803325891494751, 0.8034041523933411, 0.8004554510116577, 1.6257799863815308, 0.7947350144386292, 1.6085963249206543, 1.6101475954055786, 0.7894710302352905, 0.7891579270362854, 0.7875334620475769, 2.609036922454834, 1.532026767730713, 2.9648241996765137, 2.55704927444458, 6.002511501312256, 1.825269341468811, 2.5491645336151123, 2.376450538635254, 2.4084229469299316, 2.649338722229004, 8.779244422912598, 7.911814212799072, 3.0453097820281982, 2.9046149253845215, 7.673457622528076, 4.13844633102417, 3.397010087966919, 3.0303585529327393, 40.60406494140625, 4.08318567276001, 35.71280288696289, 4.171582221984863, 4.324443340301514, 3.078691244125366, 3.979684352874756, 5.844707012176514, 10.9353666305542, 7.807572364807129, 7.64157772064209, 9.139350891113281, 5.458498477935791, 9.500310897827148, 9.546921730041504, 6.291626930236816, 8.745542526245117, 5.683370113372803, 4.4917073249816895, 6.1644086837768555, 4.912601947784424, 6.487411975860596, 7.773476600646973, 6.956847667694092, 5.355518341064453, 4.6529459953308105, 5.728118896484375, 4.695265769958496, 5.205864906311035, 4.862589359283447, 4.763790130615234, 4.7104949951171875, 1.600045919418335, 5.174627780914307, 2.9032225608825684, 2.3500869274139404, 2.7459347248077393, 1.343942642211914, 3.001408100128174, 1.7355692386627197, 1.6829627752304077, 1.2526922225952148, 0.8388013243675232, 0.838591456413269, 0.8377650380134583, 0.8377707600593567, 1.235141634941101, 1.196616768836975, 1.6565297842025757, 1.1783888339996338, 1.1501436233520508, 1.1553360223770142, 1.5036027431488037, 1.1261723041534424, 2.3030405044555664, 2.4131603240966797, 0.6873459815979004, 0.6802261471748352, 1.0019450187683105, 0.674009382724762, 0.6728498339653015, 0.6623488068580627, 2.347804546356201, 3.1744885444641113, 1.5526167154312134, 2.323831081390381, 1.246659755706787, 3.5173237323760986, 1.7023744583129883, 5.782688140869141, 41.75037384033203, 11.655414581298828, 5.827775001525879, 3.672938346862793, 12.376460075378418, 5.857661724090576, 2.0074968338012695, 27.317989349365234, 6.939345836639404, 4.400406837463379, 8.813032150268555, 3.6092708110809326, 7.168713569641113, 4.590033531188965, 5.693362712860107, 6.553550720214844, 8.97014045715332, 8.620591163635254, 8.891678810119629, 6.128966331481934, 8.030889511108398, 6.534985542297363, 5.817058086395264, 4.839519023895264, 5.356942653656006, 6.724843502044678, 6.498836994171143, 6.747691631317139, 4.668261528015137, 5.6101813316345215, 5.520935535430908, 4.97621488571167, 5.151739120483398, 5.324165344238281, 5.0681257247924805, 2.60414719581604, 2.5686583518981934, 2.563518524169922, 1.3486160039901733, 1.317225456237793, 3.3056695461273193, 1.127709150314331, 3.6532845497131348, 1.818258285522461, 0.7103480100631714, 0.7077029943466187, 0.7075696587562561, 0.706232488155365, 0.7033429145812988, 1.0342621803283691, 0.9856600165367126, 1.0319918394088745, 0.6940842866897583, 0.692834198474884, 0.6922584176063538, 0.6903808116912842, 0.6875289082527161, 0.6866450905799866, 0.6867479681968689, 0.6855866312980652, 1.697047233581543, 0.6816216111183167, 0.680932343006134, 0.6807904839515686, 0.6795408725738525, 0.9416664242744446, 1.276023030281067, 1.808171272277832, 0.9115009307861328, 3.60329532623291, 2.0890326499938965, 0.9452884197235107, 2.008157730102539, 0.8933903574943542, 3.4951171875, 5.820148468017578, 4.214714050292969, 1.3322935104370117, 29.61207389831543, 2.922722101211548, 1.885864019393921, 2.9699878692626953, 5.892049789428711, 10.969173431396484, 3.729865074157715, 2.7401413917541504, 26.361780166625977, 12.349472999572754, 3.931161880493164, 4.1052327156066895, 10.346416473388672, 9.331750869750977, 8.173043251037598, 8.138259887695312, 5.280203342437744, 6.712742805480957, 6.11342716217041, 6.26563835144043, 6.923509120941162, 4.264035701751709, 5.147719383239746, 5.522977352142334, 4.517639636993408, 5.770896911621094, 5.303236961364746, 4.783006191253662, 4.329581260681152, 4.861839294433594, 4.4676194190979, 4.337578296661377, 4.285060405731201, 4.217029571533203, 0.9075703620910645, 0.8815277218818665, 0.5195642709732056, 0.48474252223968506, 0.4703364372253418, 0.4578689932823181, 1.5418051481246948, 0.449422150850296, 1.0884277820587158, 0.6229724884033203, 0.9091740250587463, 0.4297489821910858, 0.8144525289535522, 0.4137241840362549, 0.5981560945510864, 0.5936449766159058, 0.5840196013450623, 0.38439229130744934, 0.35917460918426514, 0.36698678135871887, 0.38040176033973694, 0.3753601312637329, 0.379075288772583, 0.5482084155082703, 0.70470130443573, 0.3670650124549866, 0.3661944270133972, 0.34716731309890747, 0.3684246838092804, 0.49817243218421936, 1.1064163446426392, 1.2303310632705688, 0.913092851638794, 0.6626456379890442, 0.520401120185852, 2.5043179988861084, 0.9516226649284363, 0.7344138026237488, 2.522183895111084, 2.2253360748291016, 1.9620558023452759, 1.753099799156189, 2.116063117980957, 3.7370188236236572, 1.449415922164917, 2.0297231674194336, 3.2243494987487793, 3.79734468460083, 2.766188859939575, 1.951229453086853, 3.072718381881714, 1.7303699254989624, 1.7885456085205078, 4.102994918823242, 2.4141147136688232, 2.2975261211395264, 7.523028373718262, 2.2970597743988037, 6.276029109954834, 2.2489378452301025, 2.9487545490264893, 2.2384302616119385, 3.1211283206939697, 3.4060325622558594, 2.103506326675415, 2.6494040489196777, 2.177311420440674, 2.294551134109497, 2.755155563354492, 2.3920485973358154, 2.340651273727417, 2.5277185440063477, 2.3001718521118164, 2.3310320377349854, 2.129774808883667], \"Term\": [\"says\", \"qantas\", \"australian\", \"said\", \"company\", \"fire\", \"afghanistan\", \"palestinian\", \"river\", \"australia\", \"sydney\", \"metres\", \"two\", \"government\", \"virus\", \"lockett\", \"workers\", \"hollingworth\", \"israeli\", \"new\", \"year\", \"report\", \"winds\", \"cut\", \"firefighters\", \"australians\", \"per_cent\", \"india\", \"today\", \"arafat\", \"stoppage\", \"hilton\", \"bloodshed\", \"beck\", \"proxies\", \"complaints\", \"shareholders\", \"zinni\", \"voting\", \"apparent\", \"vicario\", \"abortion\", \"giuliani\", \"hosted\", \"accepting\", \"installations\", \"slam\", \"favourably\", \"explosion\", \"sanchez\", \"tommy\", \"hoax\", \"counting\", \"marred\", \"constant\", \"numerous\", \"focus\", \"links\", \"confessed\", \"teamed\", \"advani\", \"ashes\", \"reportedly\", \"peru\", \"bill\", \"win\", \"planning\", \"krishna\", \"cancer\", \"sharon\", \"israeli\", \"cup\", \"lung\", \"city\", \"say\", \"peace\", \"thought\", \"karzai\", \"debate\", \"mission\", \"palestinian\", \"australia\", \"officials\", \"test\", \"hamas\", \"day\", \"new_york\", \"man\", \"said\", \"today\", \"melbourne\", \"official\", \"says\", \"war\", \"first\", \"fire\", \"australian\", \"one\", \"two\", \"people\", \"israel\", \"police\", \"afghanistan\", \"three\", \"yesterday\", \"meeting\", \"arafat\", \"would\", \"government\", \"new\", \"also\", \"freeman\", \"farina\", \"debt\", \"stringer\", \"project\", \"knop\", \"cathy\", \"olympics\", \"olympic\", \"launceston\", \"repay\", \"reoffending\", \"owe\", \"slim\", \"virgin\", \"jails\", \"educate\", \"accumulated\", \"developing\", \"anne\", \"vastly\", \"repossessed\", \"deducting\", \"repayment\", \"terminal\", \"gas\", \"peronists\", \"competition\", \"defaulting\", \"prisoners\", \"metres\", \"races\", \"treasurer\", \"space\", \"virus\", \"tape\", \"soccer\", \"argentina\", \"event\", \"hass\", \"contract\", \"endeavour\", \"freestyle\", \"taliban\", \"said\", \"east_timor\", \"australia\", \"government\", \"station\", \"new\", \"detainees\", \"also\", \"says\", \"centre\", \"told\", \"would\", \"economy\", \"could\", \"one\", \"four\", \"united_states\", \"people\", \"spokesman\", \"first\", \"world\", \"bin_laden\", \"australian\", \"morning\", \"well\", \"two\", \"meeting\", \"day\", \"sydney\", \"around\", \"company\", \"man\", \"midwives\", \"embassy\", \"boat_people\", \"airspace\", \"nauru\", \"franklin\", \"senator\", \"oxide\", \"nitrous\", \"kerry\", \"nettle\", \"greens\", \"upside\", \"romaszko\", \"fatality\", \"bourne\", \"friends\", \"raft\", \"alarm\", \"mental\", \"inexperienced\", \"downgrade\", \"provisions\", \"hijackings\", \"defunctoperator\", \"defendants\", \"breathing\", \"reading\", \"missile\", \"utn\", \"holiday\", \"pretty\", \"centrelink\", \"condition\", \"president_bush\", \"professor\", \"ill\", \"arafat\", \"interlaken\", \"staff\", \"said\", \"three\", \"time\", \"one\", \"group\", \"water\", \"says\", \"first\", \"yesterday\", \"would\", \"pakistan\", \"hospital\", \"australia\", \"canyoning\", \"hours\", \"people\", \"deaths\", \"team\", \"united_states\", \"world\", \"two\", \"day\", \"israeli\", \"new\", \"also\", \"told\", \"four\", \"australian\", \"could\", \"government\", \"killed\", \"security\", \"alei\", \"sinai\", \"goshen\", \"wood\", \"tank\", \"indiana\", \"bettering\", \"klim\", \"opened_fire\", \"millwork\", \"factory\", \"gunmen\", \"cosgrove\", \"decorative\", \"gunman\", \"settler\", \"uprising\", \"wings\", \"battles\", \"rifles\", \"outlawed\", \"crack\", \"land\", \"route\", \"chicago\", \"reid\", \"settlements\", \"huegill\", \"brings\", \"infiltrated\", \"shooting\", \"saadi\", \"shot\", \"israeli_army\", \"fought\", \"jenin\", \"baker\", \"killing\", \"palestinians\", \"record\", \"virus\", \"palestinian\", \"said\", \"militants\", \"killed\", \"hamas\", \"israeli\", \"army\", \"two\", \"gaza_strip\", \"sharon\", \"arafat\", \"west_bank\", \"israel\", \"one\", \"company\", \"attacks\", \"three\", \"australian\", \"fire\", \"also\", \"people\", \"police\", \"says\", \"told\", \"day\", \"first\", \"would\", \"around\", \"yesterday\", \"today\", \"still\", \"rudd\", \"projects\", \"facts\", \"ascertain\", \"engines\", \"phillip\", \"advise\", \"treason\", \"casa\", \"piston\", \"afford\", \"termination\", \"failure\", \"payout\", \"spills\", \"mitsubishi\", \"unresolved\", \"disruptions\", \"imposed\", \"permitted\", \"salary\", \"shadow\", \"spill\", \"stoppages\", \"oil\", \"prosecution\", \"command\", \"fate\", \"rodriguez\", \"varying\", \"crimes\", \"mcgrath\", \"safety_bureau\", \"transport\", \"cost\", \"band\", \"qantas\", \"northern_alliance\", \"says\", \"wage_freeze\", \"company\", \"unions\", \"payment\", \"tora_bora\", \"said\", \"government\", \"say\", \"people\", \"workers\", \"report\", \"afghanistan\", \"pay\", \"forces\", \"christmas\", \"month\", \"members\", \"afghan\", \"war\", \"control\", \"still\", \"troops\", \"qaeda\", \"morning\", \"three\", \"area\", \"australian\", \"one\", \"would\", \"four\", \"today\", \"told\", \"could\", \"palestinian\", \"also\", \"day\", \"first\", \"two\", \"casinos\", \"musical\", \"alp\", \"lawrence\", \"megawati\", \"nominations\", \"gaming\", \"comedy\", \"actress\", \"crowe\", \"rouge\", \"golden\", \"gambling\", \"moulin\", \"olivier\", \"bulli\", \"picton\", \"generations\", \"annoy\", \"polls\", \"motorists\", \"differentiated\", \"obliterated\", \"maintaining\", \"extinguishment\", \"carmen\", \"momentum\", \"sections\", \"compromised\", \"carefully\", \"wind\", \"howard\", \"closed\", \"southerly\", \"highway\", \"blue_mountains\", \"actor\", \"taliban_forces\", \"cut\", \"globe\", \"hume\", \"road\", \"change\", \"australian\", \"best\", \"per_cent\", \"says\", \"forced\", \"sydney\", \"indonesia\", \"new\", \"report\", \"rate\", \"year\", \"police\", \"policy\", \"also\", \"could\", \"said\", \"two\", \"radio\", \"found\", \"government\", \"australia\", \"people\", \"federal\", \"company\", \"afghanistan\", \"fire\", \"back\", \"know\", \"israeli\", \"qantas\", \"still\", \"one\", \"state\", \"morning\", \"say\", \"rich\", \"tel\", \"plant\", \"chain\", \"mcdonald\", \"dixon\", \"asic\", \"administrator\", \"jodee\", \"baseless\", \"proceedings\", \"discrepancies\", \"insolvent\", \"mislead\", \"abbott\", \"theatre\", \"shaft\", \"latrobe\", \"interruptions\", \"terry\", \"jeff\", \"selling\", \"halted\", \"striking\", \"coal\", \"ongoing\", \"anglican\", \"sixty\", \"downed\", \"modernises\", \"drug\", \"supply\", \"respond\", \"legal_advice\", \"hollingworth\", \"sexual\", \"yallourn\", \"would_like\", \"lording\", \"table\", \"qantas\", \"workers\", \"maintenance_workers\", \"hotel\", \"claims\", \"industrial_action\", \"figures\", \"macgill\", \"says\", \"jobs\", \"said\", \"governor_general\", \"issue\", \"strike\", \"abuse\", \"power\", \"two\", \"man\", \"company\", \"would\", \"former\", \"people\", \"australian\", \"world\", \"one\", \"pakistan\", \"looking\", \"time\", \"union\", \"today\", \"australia\", \"also\", \"per_cent\", \"saying\", \"three\", \"way\", \"day\", \"take\", \"back\", \"new\", \"nominate\", \"lockett\", \"draft\", \"swans\", \"francs\", \"lavarch\", \"petrol\", \"dewar\", \"emissions\", \"kemp\", \"kicker\", \"comfortable\", \"intends\", \"intention\", \"killmier\", \"retirement\", \"alcohol\", \"afl\", \"nurse\", \"punishment\", \"comeback\", \"pollutants\", \"aboriginal\", \"child_sex\", \"guarantees\", \"story\", \"potts\", \"safeguards\", \"gafner\", \"respiratory\", \"rates\", \"study\", \"mcmenamin\", \"season\", \"templeton\", \"boy\", \"sergeant\", \"family\", \"says\", \"afghanistan\", \"years\", \"guilty\", \"government\", \"power\", \"world_heritage\", \"said\", \"force\", \"help\", \"new\", \"person\", \"man\", \"children\", \"year_old\", \"security\", \"australian\", \"people\", \"australia\", \"still\", \"one\", \"could\", \"time\", \"bin_laden\", \"israel\", \"also\", \"would\", \"two\", \"afghan\", \"today\", \"police\", \"think\", \"united_states\", \"first\", \"four\", \"cow\", \"gutnick\", \"ticket\", \"mad\", \"szondy\", \"club\", \"locals\", \"zimbabwe\", \"ministerial\", \"incinerated\", \"organs\", \"outbreak\", \"meat\", \"dairy\", \"typhoid\", \"sorrow\", \"caird\", \"unite\", \"overwhelmingly\", \"comprehensively\", \"settle\", \"demon\", \"vision\", \"saviour\", \"cherry\", \"suspension\", \"football\", \"regardless\", \"flower\", \"divide\", \"trips\", \"communications\", \"republic\", \"catastrophe\", \"disease\", \"japan\", \"malaysian\", \"spread\", \"supervisors\", \"side\", \"india\", \"australians\", \"boje\", \"says\", \"commonwealth\", \"fast_bowler\", \"case\", \"test\", \"also\", \"river\", \"island\", \"said\", \"australia\", \"confirmed\", \"third\", \"australian\", \"people\", \"government\", \"two\", \"president\", \"palestinian\", \"united_states\", \"afghanistan\", \"would\", \"match\", \"security\", \"police\", \"year_old\", \"first\", \"could\", \"told\", \"meeting\", \"one\", \"day\", \"israeli\", \"new\", \"arafat\", \"annan\", \"nobel\", \"kofi\", \"ghana\", \"oslo\", \"sacrificed\", \"products\", \"gala\", \"individual\", \"paddling\", \"prize\", \"accepted\", \"tyco\", \"bombarding\", \"grocery\", \"hooke\", \"eden\", \"intensified\", \"dusty\", \"smell\", \"minibus\", \"climax\", \"experienced\", \"fanned\", \"jackson\", \"bartels\", \"mile\", \"enjoying\", \"blocking\", \"wrongdoing\", \"save\", \"yachts\", \"consumers\", \"reserve\", \"resources\", \"winds\", \"weather_conditions\", \"aids\", \"firefighters\", \"river\", \"fires\", \"coast\", \"overnight\", \"fire\", \"guides\", \"asked\", \"sydney\", \"today\", \"south\", \"court\", \"around\", \"director\", \"damage\", \"two\", \"centre\", \"north\", \"said\", \"days\", \"says\", \"new_south\", \"told\", \"wales\", \"first\", \"australian\", \"areas\", \"new\", \"year\", \"world\", \"one\", \"three\", \"police\", \"people\", \"also\", \"australia\", \"still\"], \"Total\": [332.0, 30.0, 116.0, 386.0, 54.0, 49.0, 64.0, 70.0, 17.0, 118.0, 46.0, 26.0, 98.0, 96.0, 9.0, 7.0, 28.0, 15.0, 69.0, 71.0, 37.0, 33.0, 16.0, 17.0, 19.0, 18.0, 40.0, 28.0, 64.0, 58.0, 2.8943278789520264, 2.860384225845337, 2.8250508308410645, 1.8507537841796875, 1.8501814603805542, 1.8501194715499878, 1.8496785163879395, 11.356206893920898, 2.7192046642303467, 1.827529788017273, 2.7837934494018555, 2.6935741901397705, 7.465325355529785, 1.842464804649353, 2.838036298751831, 1.8077644109725952, 2.7763524055480957, 1.8410778045654297, 1.804209589958191, 2.7718334197998047, 3.671372890472412, 2.8234007358551025, 3.7098538875579834, 1.8386099338531494, 1.8365870714187622, 2.714616537094116, 5.585549354553223, 2.6944069862365723, 3.676973581314087, 2.7588412761688232, 3.5975255966186523, 5.232668399810791, 4.374619483947754, 3.4632375240325928, 14.626052856445312, 20.661279678344727, 12.525075912475586, 6.803111553192139, 13.547969818115234, 27.776214599609375, 69.40979766845703, 15.374479293823242, 7.1533966064453125, 29.819974899291992, 57.74227523803711, 28.703325271606445, 14.699462890625, 10.58336353302002, 6.8931989669799805, 13.402420043945312, 70.12693786621094, 118.37179565429688, 24.775367736816406, 35.4738655090332, 37.96855926513672, 60.841209411621094, 19.163217544555664, 54.921268463134766, 386.49822998046875, 64.31004333496094, 30.652212142944336, 24.72357177734375, 332.7452087402344, 33.6204833984375, 75.02433776855469, 49.802886962890625, 116.3460693359375, 101.46094512939453, 98.13507843017578, 108.45667266845703, 45.30387496948242, 63.27892303466797, 64.8678207397461, 68.42316436767578, 42.31297302246094, 41.61555480957031, 58.22413635253906, 83.47196197509766, 96.6520767211914, 71.98536682128906, 91.77993774414062, 2.8526878356933594, 4.7881760597229, 9.382061004638672, 2.796309471130371, 5.598494052886963, 4.728070259094238, 1.8302042484283447, 1.8301904201507568, 1.8300238847732544, 5.656707763671875, 1.8120629787445068, 1.8072562217712402, 1.8118404150009155, 1.8089189529418945, 7.547058582305908, 1.8068585395812988, 1.803993821144104, 1.8025380373001099, 1.806813359260559, 1.804202914237976, 1.8048067092895508, 1.7992687225341797, 1.795814037322998, 2.680049180984497, 3.701202154159546, 8.172964096069336, 2.6687612533569336, 4.447186470031738, 1.7877768278121948, 6.368260860443115, 26.16305923461914, 6.240895748138428, 5.44667911529541, 14.38794994354248, 9.92119312286377, 8.17356014251709, 4.4866533279418945, 11.523043632507324, 14.887422561645508, 4.415430068969727, 4.555509090423584, 8.782855987548828, 4.427955627441406, 41.53821563720703, 386.49822998046875, 12.16397762298584, 118.37179565429688, 96.6520767211914, 16.494182586669922, 71.98536682128906, 20.578115463256836, 91.77993774414062, 332.7452087402344, 35.22297668457031, 63.17795181274414, 83.47196197509766, 23.09132194519043, 64.57040405273438, 101.46094512939453, 53.16184997558594, 58.895355224609375, 108.45667266845703, 29.005573272705078, 75.02433776855469, 46.16518020629883, 33.007164001464844, 116.3460693359375, 40.02616500854492, 38.273719787597656, 98.13507843017578, 41.61555480957031, 60.841209411621094, 46.58844757080078, 50.77785110473633, 54.78908157348633, 54.921268463134766, 3.8703904151916504, 4.596317768096924, 5.194426536560059, 3.847203016281128, 8.498885154724121, 3.0354950428009033, 2.296948194503784, 2.325136661529541, 2.3292970657348633, 2.2991552352905273, 2.299724817276001, 2.3001978397369385, 2.2917280197143555, 2.2919986248016357, 3.1300880908966064, 2.3032705783843994, 2.275738000869751, 2.2933950424194336, 2.2934765815734863, 2.295403242111206, 2.2622487545013428, 3.114555835723877, 2.267803907394409, 2.2596981525421143, 2.2591710090637207, 2.9439334869384766, 3.1396374702453613, 3.220305919647217, 2.2538933753967285, 3.0844240188598633, 5.56236457824707, 3.9602041244506836, 4.7542266845703125, 6.950551986694336, 5.383670330047607, 6.8827080726623535, 4.533749103546143, 58.22413635253906, 6.4452128410339355, 32.657020568847656, 386.49822998046875, 68.42316436767578, 50.4714241027832, 101.46094512939453, 32.95036697387695, 15.822425842285156, 332.7452087402344, 75.02433776855469, 42.31297302246094, 83.47196197509766, 37.695655822753906, 23.308584213256836, 118.37179565429688, 11.871891021728516, 34.67979049682617, 108.45667266845703, 13.487995147705078, 29.652423858642578, 58.895355224609375, 46.16518020629883, 98.13507843017578, 60.841209411621094, 69.40979766845703, 71.98536682128906, 91.77993774414062, 63.17795181274414, 53.16184997558594, 116.3460693359375, 64.57040405273438, 96.6520767211914, 52.736637115478516, 52.117210388183594, 3.449680805206299, 3.4473280906677246, 5.061478137969971, 2.542482852935791, 2.554184675216675, 3.3136396408081055, 1.713037371635437, 1.7125831842422485, 5.8483734130859375, 2.521723508834839, 6.642467021942139, 10.092878341674805, 2.54366397857666, 2.5172104835510254, 3.35734486579895, 3.482606887817383, 1.692699670791626, 1.6951791048049927, 1.689866304397583, 1.6870311498641968, 1.6896158456802368, 3.325971841812134, 7.679267406463623, 4.414804935455322, 1.6880403757095337, 8.550480842590332, 1.6839332580566406, 4.451925277709961, 1.68338942527771, 1.68234384059906, 4.289452075958252, 3.2997851371765137, 13.377737998962402, 6.8278727531433105, 3.373795509338379, 8.433358192443848, 3.3346219062805176, 11.0110445022583, 17.454082489013672, 7.710855007171631, 9.92119312286377, 70.12693786621094, 386.49822998046875, 26.258956909179688, 52.736637115478516, 37.96855926513672, 69.40979766845703, 16.887359619140625, 98.13507843017578, 17.753450393676758, 27.776214599609375, 58.22413635253906, 26.693313598632812, 45.30387496948242, 101.46094512939453, 54.78908157348633, 37.75761032104492, 68.42316436767578, 116.3460693359375, 49.802886962890625, 91.77993774414062, 108.45667266845703, 63.27892303466797, 332.7452087402344, 63.17795181274414, 60.841209411621094, 75.02433776855469, 83.47196197509766, 50.77785110473633, 42.31297302246094, 64.31004333496094, 54.084129333496094, 3.9726545810699463, 5.933924674987793, 2.391831398010254, 2.3891429901123047, 3.189436435699463, 2.4387998580932617, 2.4314470291137695, 2.378756284713745, 2.389770984649658, 2.3879635334014893, 1.6041710376739502, 3.0382230281829834, 2.4129481315612793, 2.3166215419769287, 3.3060481548309326, 3.144346237182617, 1.6408411264419556, 2.4554479122161865, 1.644626259803772, 1.5997064113616943, 2.30474853515625, 4.194418430328369, 3.3093719482421875, 1.647043228149414, 5.583051681518555, 2.469874143600464, 3.3036372661590576, 3.1817429065704346, 2.400221824645996, 1.5977741479873657, 3.167384624481201, 5.44077730178833, 5.573737621307373, 5.551558971405029, 9.181394577026367, 5.469017028808594, 30.32522964477539, 12.511712074279785, 332.7452087402344, 8.246835708618164, 54.78908157348633, 25.409137725830078, 7.1593499183654785, 26.661848068237305, 386.49822998046875, 96.6520767211914, 57.74227523803711, 108.45667266845703, 28.21632194519043, 33.290409088134766, 64.8678207397461, 22.083864212036133, 28.657676696777344, 23.915096282958984, 29.427940368652344, 30.87395668029785, 30.30884552001953, 33.6204833984375, 21.092388153076172, 54.084129333496094, 23.64678192138672, 24.841533660888672, 40.02616500854492, 68.42316436767578, 36.29079818725586, 116.3460693359375, 101.46094512939453, 83.47196197509766, 53.16184997558594, 64.31004333496094, 63.17795181274414, 64.57040405273438, 70.12693786621094, 91.77993774414062, 60.841209411621094, 75.02433776855469, 98.13507843017578, 3.8270103931427, 3.069742202758789, 2.346247434616089, 2.3462464809417725, 3.159264087677002, 2.3243367671966553, 2.3228960037231445, 2.3225669860839844, 2.315059185028076, 2.3140389919281006, 2.3144102096557617, 2.3148152828216553, 2.314298391342163, 2.307692289352417, 3.0531961917877197, 2.3292055130004883, 2.327361583709717, 1.5768682956695557, 1.576886773109436, 1.5770543813705444, 2.3242688179016113, 1.5768762826919556, 1.5771642923355103, 1.576902985572815, 1.5771877765655518, 1.5768290758132935, 1.5770821571350098, 1.5767340660095215, 1.5767922401428223, 1.5771470069885254, 6.380760192871094, 10.730618476867676, 7.077756881713867, 2.34613037109375, 8.533077239990234, 7.822784900665283, 4.908512115478516, 4.561896800994873, 17.26433563232422, 3.1174023151397705, 3.970003604888916, 10.05357837677002, 17.136981964111328, 116.3460693359375, 21.103269577026367, 40.87990188598633, 332.7452087402344, 13.409270286560059, 46.58844757080078, 8.023266792297363, 71.98536682128906, 33.290409088134766, 15.351686477661133, 37.84035873413086, 63.27892303466797, 14.665816307067871, 91.77993774414062, 64.57040405273438, 386.49822998046875, 98.13507843017578, 22.073225021362305, 23.832632064819336, 96.6520767211914, 118.37179565429688, 108.45667266845703, 29.16339874267578, 54.78908157348633, 64.8678207397461, 49.802886962890625, 39.944488525390625, 29.528034210205078, 69.40979766845703, 30.32522964477539, 54.084129333496094, 101.46094512939453, 35.53538131713867, 40.02616500854492, 57.74227523803711, 2.4416427612304688, 2.4412951469421387, 3.2376644611358643, 2.419585704803467, 2.4195175170898438, 4.082502365112305, 6.504269599914551, 3.1836040019989014, 1.6245033740997314, 1.624442458152771, 1.624412178993225, 1.6243419647216797, 1.624333143234253, 1.6242233514785767, 2.3716976642608643, 2.523589849472046, 2.5248806476593018, 1.6176263093948364, 1.6176968812942505, 1.6173317432403564, 1.6157927513122559, 1.6173672676086426, 1.616830587387085, 3.286436080932617, 1.6167993545532227, 3.2747840881347656, 3.288881778717041, 1.616032600402832, 1.6160616874694824, 1.6162207126617432, 5.420009136199951, 3.2547075748443604, 6.670886993408203, 5.760189056396484, 15.18287467956543, 4.065339088439941, 6.004411697387695, 5.66616153717041, 5.822299957275391, 6.519281387329102, 30.32522964477539, 28.21632194519043, 8.30259895324707, 7.873882293701172, 29.45619773864746, 12.819058418273926, 9.845829963684082, 8.50452995300293, 332.7452087402344, 13.310930252075195, 386.49822998046875, 14.263946533203125, 15.329554557800293, 9.056257247924805, 13.940006256103516, 30.444482803344727, 98.13507843017578, 54.921268463134766, 54.78908157348633, 83.47196197509766, 29.18623161315918, 108.45667266845703, 116.3460693359375, 46.16518020629883, 101.46094512939453, 37.695655822753906, 21.652101516723633, 50.4714241027832, 29.573457717895508, 64.31004333496094, 118.37179565429688, 91.77993774414062, 40.87990188598633, 27.167646408081055, 68.42316436767578, 29.53032875061035, 60.841209411621094, 41.92554473876953, 39.944488525390625, 71.98536682128906, 2.3448233604431152, 7.7407307624816895, 4.712101936340332, 3.8917675018310547, 4.772364139556885, 2.368183135986328, 5.4144768714904785, 3.174523115158081, 3.1109280586242676, 2.3429551124572754, 1.576128602027893, 1.576125979423523, 1.575910210609436, 1.5762159824371338, 2.3393735885620117, 2.350485324859619, 3.2943010330200195, 2.3502612113952637, 2.345327854156494, 2.390885591506958, 3.127347707748413, 2.3425779342651367, 4.8483476638793945, 5.479404449462891, 1.582510232925415, 1.5770295858383179, 2.345378875732422, 1.5804474353790283, 1.5949863195419312, 1.574682354927063, 5.712291717529297, 7.798585891723633, 3.8121068477630615, 6.122736930847168, 3.124992609024048, 11.133025169372559, 4.601370334625244, 22.246971130371094, 332.7452087402344, 64.8678207397461, 24.273603439331055, 13.644623756408691, 96.6520767211914, 30.444482803344727, 5.733334064483643, 386.49822998046875, 42.66482162475586, 20.4311466217041, 71.98536682128906, 15.8620023727417, 54.921268463134766, 25.0280818939209, 37.7769660949707, 52.117210388183594, 116.3460693359375, 108.45667266845703, 118.37179565429688, 54.084129333496094, 101.46094512939453, 64.57040405273438, 50.4714241027832, 33.007164001464844, 45.30387496948242, 91.77993774414062, 83.47196197509766, 98.13507843017578, 30.30884552001953, 64.31004333496094, 63.27892303466797, 43.260169982910156, 58.895355224609375, 75.02433776855469, 53.16184997558594, 3.445410966873169, 3.439744234085083, 3.4399287700653076, 2.1212337017059326, 2.1239523887634277, 5.642211437225342, 2.1483724117279053, 7.2360453605651855, 3.6226134300231934, 1.4636049270629883, 1.4643051624298096, 1.4645582437515259, 1.4649546146392822, 1.4659515619277954, 2.160855770111084, 2.071708917617798, 2.172778367996216, 1.4652234315872192, 1.4651274681091309, 1.4658825397491455, 1.4658920764923096, 1.4659441709518433, 1.4660212993621826, 1.466575026512146, 1.4668357372283936, 3.648649215698242, 1.4673484563827515, 1.4673120975494385, 1.4679208993911743, 1.4682104587554932, 2.065154552459717, 2.917905569076538, 4.3570661544799805, 2.065484046936035, 10.910421371459961, 5.964212894439697, 2.1998202800750732, 5.9306864738464355, 2.0630991458892822, 13.623746871948242, 28.18423843383789, 18.804231643676758, 3.6915555000305176, 332.7452087402344, 11.72965145111084, 6.198461532592773, 12.332196235656738, 35.4738655090332, 91.77993774414062, 17.860675811767578, 11.154621124267578, 386.49822998046875, 118.37179565429688, 20.113039016723633, 22.90603256225586, 116.3460693359375, 108.45667266845703, 96.6520767211914, 98.13507843017578, 41.8161735534668, 70.12693786621094, 58.895355224609375, 64.8678207397461, 83.47196197509766, 28.654016494750977, 52.117210388183594, 63.27892303466797, 37.7769660949707, 75.02433776855469, 64.57040405273438, 63.17795181274414, 41.61555480957031, 101.46094512939453, 60.841209411621094, 69.40979766845703, 71.98536682128906, 58.22413635253906, 2.0203561782836914, 2.0324785709381104, 1.395169973373413, 1.4121451377868652, 1.4191242456436157, 1.4251459836959839, 4.9000163078308105, 1.4294073581695557, 3.4750168323516846, 2.0099658966064453, 2.9611728191375732, 1.4390017986297607, 2.8847765922546387, 1.4742580652236938, 2.146958351135254, 2.1453728675842285, 2.2100977897644043, 1.495113730430603, 1.4046612977981567, 1.4576961994171143, 1.511720061302185, 1.4961391687393188, 1.5170143842697144, 2.2023441791534424, 2.8346171379089355, 1.4795231819152832, 1.4826362133026123, 1.4064085483551025, 1.4979422092437744, 2.0390212535858154, 5.209452152252197, 5.983954906463623, 4.3123860359191895, 2.9860267639160156, 2.263497829437256, 16.890993118286133, 5.15598201751709, 3.6507606506347656, 19.75168800354004, 17.860675811767578, 16.49616050720215, 13.932595252990723, 19.81595230102539, 49.802886962890625, 10.85966968536377, 20.27752685546875, 46.58844757080078, 64.31004333496094, 37.30361557006836, 20.90411376953125, 50.77785110473633, 17.033756256103516, 18.459714889526367, 98.13507843017578, 35.22297668457031, 32.18994140625, 386.49822998046875, 32.69865417480469, 332.7452087402344, 32.454315185546875, 63.17795181274414, 32.199153900146484, 75.02433776855469, 116.3460693359375, 30.299741744995117, 71.98536682128906, 37.84035873413086, 46.16518020629883, 101.46094512939453, 68.42316436767578, 63.27892303466797, 108.45667266845703, 91.77993774414062, 118.37179565429688, 54.084129333496094], \"loglift\": [30.0, 29.0, 28.0, 27.0, 26.0, 25.0, 24.0, 23.0, 22.0, 21.0, 20.0, 19.0, 18.0, 17.0, 16.0, 15.0, 14.0, 13.0, 12.0, 11.0, 10.0, 9.0, 8.0, 7.0, 6.0, 5.0, 4.0, 3.0, 2.0, 1.0, 1.645900011062622, 1.6009999513626099, 1.4585000276565552, 1.4462000131607056, 1.4457000494003296, 1.4453999996185303, 1.4444999694824219, 1.436400055885315, 1.4078999757766724, 1.3846999406814575, 1.3795000314712524, 1.3717999458312988, 1.344499945640564, 1.3377000093460083, 1.333299994468689, 1.3315000534057617, 1.326799988746643, 1.326200008392334, 1.3207999467849731, 1.319100022315979, 1.3134000301361084, 1.3114999532699585, 1.3020999431610107, 1.3020000457763672, 1.2935999631881714, 1.2898000478744507, 1.2869999408721924, 1.2856999635696411, 1.2853000164031982, 1.2798999547958374, 1.2690000534057617, 1.253499984741211, 1.2415000200271606, 1.2568999528884888, 1.0827000141143799, 0.9933000206947327, 1.0635000467300415, 1.145900011062622, 1.01010000705719, 0.8791999816894531, 0.6965000033378601, 0.967199981212616, 1.1246000528335571, 0.8184999823570251, 0.6690000295639038, 0.7954999804496765, 0.9538000226020813, 1.0296000242233276, 1.1282000541687012, 0.958299994468689, 0.5353999733924866, 0.37689998745918274, 0.7735999822616577, 0.6345999836921692, 0.6003999710083008, 0.43540000915527344, 0.7953000068664551, 0.44029998779296875, -0.23399999737739563, 0.3481999933719635, 0.6071000099182129, 0.6779000163078308, -0.4018999934196472, 0.5424000024795532, 0.18619999289512634, 0.35199999809265137, -0.039400000125169754, 0.007799999788403511, 0.008100000210106373, -0.06120000034570694, 0.37950000166893005, 0.1941000074148178, 0.17309999465942383, 0.12439999729394913, 0.39660000801086426, 0.4066999852657318, 0.17749999463558197, -0.11569999903440475, -0.24070000648498535, -0.025599999353289604, -0.35409998893737793, 1.6478999853134155, 1.6159000396728516, 1.6093000173568726, 1.5888999700546265, 1.5829999446868896, 1.5291999578475952, 1.445199966430664, 1.445199966430664, 1.445099949836731, 1.4395999908447266, 1.402999997138977, 1.4014999866485596, 1.4002000093460083, 1.3991999626159668, 1.3969999551773071, 1.3942999839782715, 1.3934999704360962, 1.3924000263214111, 1.391800045967102, 1.3882999420166016, 1.3880000114440918, 1.3739999532699585, 1.36899995803833, 1.3365999460220337, 1.3306000232696533, 1.3224999904632568, 1.3148000240325928, 1.3056000471115112, 1.3016999959945679, 1.2930999994277954, 1.2821999788284302, 1.2914999723434448, 1.2747000455856323, 1.1742000579833984, 1.198699951171875, 1.210800051689148, 1.281499981880188, 1.1481000185012817, 1.0898000001907349, 1.25600004196167, 1.2405999898910522, 1.107100009918213, 1.2337000370025635, 0.8076000213623047, 0.28049999475479126, 1.009600043296814, 0.4690999984741211, 0.46619999408721924, 0.896399974822998, 0.3869999945163727, 0.7627000212669373, 0.25110000371932983, -0.19660000503063202, 0.5577999949455261, 0.3280999958515167, 0.1898999959230423, 0.7005000114440918, 0.2451999932527542, 0.005799999926239252, 0.2976999878883362, 0.22599999606609344, -0.09319999814033508, 0.5684000253677368, 0.05660000070929527, 0.29330000281333923, 0.4551999866962433, -0.33799999952316284, 0.3165999948978424, 0.33340001106262207, -0.3765000104904175, 0.22429999709129333, -0.05429999902844429, 0.13500000536441803, 0.05530000105500221, -0.0502999983727932, -0.05660000070929527, 1.7344000339508057, 1.7285000085830688, 1.6992000341415405, 1.6744999885559082, 1.6704000234603882, 1.6683000326156616, 1.605299949645996, 1.6017999649047852, 1.5923999547958374, 1.5913000106811523, 1.5865000486373901, 1.5845999717712402, 1.5741000175476074, 1.5728000402450562, 1.5597000122070312, 1.5582000017166138, 1.5514999628067017, 1.5448999404907227, 1.5341999530792236, 1.532099962234497, 1.5285999774932861, 1.5276000499725342, 1.506600022315979, 1.503100037574768, 1.5012999773025513, 1.4759000539779663, 1.472100019454956, 1.4717999696731567, 1.4706000089645386, 1.4651000499725342, 1.4522000551223755, 1.4575999975204468, 1.430799961090088, 1.38100004196167, 1.3934999704360962, 1.3342000246047974, 1.3776999711990356, 0.6825000047683716, 1.2720999717712402, 0.810699999332428, 0.0908999964594841, 0.5634999871253967, 0.6531000137329102, 0.4377000033855438, 0.7631999850273132, 0.9710999727249146, -0.01679999940097332, 0.41519999504089355, 0.5946000218391418, 0.3547999858856201, 0.6254000067710876, 0.7874000072479248, 0.1492999941110611, 1.018399953842163, 0.58160001039505, 0.09880000352859497, 0.9605000019073486, 0.6147000193595886, 0.2849000096321106, 0.37040001153945923, -0.03909999877214432, 0.19539999961853027, 0.11550000309944153, 0.066600002348423, -0.09950000047683716, 0.08990000188350677, 0.17910000681877136, -0.3001999855041504, 0.006300000008195639, -0.28049999475479126, 0.07490000128746033, 0.059300001710653305, 1.891800045967102, 1.891800045967102, 1.8323999643325806, 1.766700029373169, 1.7532000541687012, 1.7417999505996704, 1.729599952697754, 1.7294000387191772, 1.6958999633789062, 1.6949000358581543, 1.6914000511169434, 1.6818000078201294, 1.666100025177002, 1.660099983215332, 1.6339000463485718, 1.6216000318527222, 1.6129000186920166, 1.6128000020980835, 1.5769000053405762, 1.5764000415802002, 1.5750000476837158, 1.5706000328063965, 1.5666999816894531, 1.5628000497817993, 1.5618000030517578, 1.5609999895095825, 1.5541000366210938, 1.5526000261306763, 1.5507999658584595, 1.5456000566482544, 1.5298999547958374, 1.5329999923706055, 1.4421000480651855, 1.4422999620437622, 1.5049999952316284, 1.4003000259399414, 1.5022000074386597, 1.3588999509811401, 1.2569999694824219, 1.3645000457763672, 1.3174999952316284, 0.8310999870300293, 0.41769999265670776, 0.9987000226974487, 0.7347999811172485, 0.8184999823570251, 0.6195999979972839, 1.0627000331878662, 0.44359999895095825, 1.0364999771118164, 0.8751999735832214, 0.5985999703407288, 0.866599977016449, 0.6053000092506409, 0.26179999113082886, 0.519599974155426, 0.6492999792098999, 0.3743000030517578, 0.05169999971985817, 0.4918000102043152, 0.12039999663829803, 0.011800000444054604, 0.24490000307559967, -0.8465999960899353, 0.21580000221729279, 0.11900000274181366, -0.04089999943971634, -0.12880000472068787, 0.21799999475479126, 0.3287999927997589, -0.039900001138448715, 0.07339999824762344, 1.9079999923706055, 1.780900001525879, 1.7762999534606934, 1.7608000040054321, 1.7582000494003296, 1.7247999906539917, 1.711400032043457, 1.6852999925613403, 1.6800999641418457, 1.6740000247955322, 1.660599946975708, 1.6521999835968018, 1.6460000276565552, 1.6266000270843506, 1.6160000562667847, 1.597100019454956, 1.5898000001907349, 1.5812000036239624, 1.5681999921798706, 1.5664000511169434, 1.5621999502182007, 1.5601999759674072, 1.5586999654769897, 1.5551999807357788, 1.5504000186920166, 1.5440000295639038, 1.5319000482559204, 1.521299958229065, 1.5202000141143799, 1.5059000253677368, 1.493299961090088, 1.4536000490188599, 1.4089000225067139, 1.3944000005722046, 1.3149000406265259, 1.3961999416351318, 1.0819000005722046, 1.1877000331878662, 0.3856000006198883, 1.2700999975204468, 0.7258999943733215, 0.9284999966621399, 1.2819000482559204, 0.8694999814033508, -0.03280000016093254, 0.3702999949455261, 0.5324000120162964, 0.2930999994277954, 0.7718999981880188, 0.689300000667572, 0.39079999923706055, 0.8274000287055969, 0.7139999866485596, 0.7774999737739563, 0.6894999742507935, 0.6650000214576721, 0.6495000123977661, 0.5694000124931335, 0.7817000150680542, 0.33889999985694885, 0.7231000065803528, 0.6970999836921692, 0.4580000042915344, 0.14180000126361847, 0.48240000009536743, -0.28790000081062317, -0.21119999885559082, -0.10899999737739563, 0.17890000343322754, 0.04019999876618385, 0.04490000009536743, 0.0017000000225380063, -0.07259999960660934, -0.28349998593330383, 0.03400000184774399, -0.1607999950647354, -0.435699999332428, 2.0622000694274902, 2.003700017929077, 1.9989999532699585, 1.9911999702453613, 1.9282000064849854, 1.92330002784729, 1.9214999675750732, 1.920199990272522, 1.9107999801635742, 1.9050999879837036, 1.9031000137329102, 1.9020999670028687, 1.8868000507354736, 1.8792999982833862, 1.8184000253677368, 1.8006000518798828, 1.7805999517440796, 1.7513999938964844, 1.751099944114685, 1.7509000301361084, 1.7503000497817993, 1.7503000497817993, 1.7502000331878662, 1.750100016593933, 1.7487000226974487, 1.7486000061035156, 1.7477999925613403, 1.746999979019165, 1.746500015258789, 1.7461999654769897, 1.7338999509811401, 1.7067999839782715, 1.711899995803833, 1.7218999862670898, 1.6160000562667847, 1.6029000282287598, 1.6353000402450562, 1.6225999593734741, 1.365399956703186, 1.6412999629974365, 1.597599983215332, 1.3875000476837158, 1.2519999742507935, 0.805899977684021, 1.1930999755859375, 0.9498000144958496, 0.271699994802475, 1.2307000160217285, 0.8093000054359436, 1.3996000289916992, 0.48190000653266907, 0.8012999892234802, 1.107800006866455, 0.689300000667572, 0.4478999972343445, 1.0865000486373901, 0.23170000314712524, 0.39239999651908875, -0.49619999527931213, 0.13760000467300415, 0.8587999939918518, 0.8064000010490417, 0.05959999933838844, -0.09589999914169312, -0.08730000257492065, 0.6764000058174133, 0.26420000195503235, 0.11680000275373459, 0.27230000495910645, 0.4097000062465668, 0.6241999864578247, -0.034699998795986176, 0.5906000137329102, 0.11309999972581863, -0.40869998931884766, 0.451200008392334, 0.34150001406669617, 0.006599999964237213, 2.0332000255584717, 2.0332000255584717, 2.0244998931884766, 1.8947999477386475, 1.8946000337600708, 1.8092999458312988, 1.807800054550171, 1.8050999641418457, 1.7939000129699707, 1.7939000129699707, 1.7939000129699707, 1.7937999963760376, 1.7937999963760376, 1.7937999963760376, 1.7293000221252441, 1.712499976158142, 1.6964999437332153, 1.6934000253677368, 1.690999984741211, 1.6878999471664429, 1.6872999668121338, 1.686400055885315, 1.6829999685287476, 1.6822999715805054, 1.6758999824523926, 1.6751999855041504, 1.6719000339508057, 1.669700026512146, 1.6692999601364136, 1.667099952697754, 1.6549999713897705, 1.632599949836731, 1.5751999616622925, 1.5740000009536743, 1.4580999612808228, 1.5852999687194824, 1.5293999910354614, 1.517199993133545, 1.5033999681472778, 1.4855999946594238, 1.1464999914169312, 1.1145000457763672, 1.3831000328063965, 1.388800024986267, 1.0408999919891357, 1.2554999589920044, 1.3219000101089478, 1.354200005531311, 0.2825999855995178, 1.2043999433517456, 0.0044999998062849045, 1.156599998474121, 1.1205999851226807, 1.3071000576019287, 1.1325000524520874, 0.7357000112533569, 0.19169999659061432, 0.43529999256134033, 0.41620001196861267, 0.17419999837875366, 0.7095999717712402, -0.048900000751018524, -0.11429999768733978, 0.39309999346733093, -0.06499999761581421, 0.49410000443458557, 0.8131999969482422, 0.28349998593330383, 0.5910000205039978, 0.09220000356435776, -0.3370000123977661, -0.19359999895095825, 0.35359999537467957, 0.6215999722480774, -0.094200000166893, 0.5472000241279602, -0.07240000367164612, 0.23180000483989716, 0.2596000134944916, -0.34060001373291016, 2.041599988937378, 2.0211000442504883, 1.9394999742507935, 1.9193999767303467, 1.8710999488830566, 1.857300043106079, 1.833799958229065, 1.8200000524520874, 1.809399962425232, 1.797700047492981, 1.7930999994277954, 1.792799949645996, 1.7920000553131104, 1.7918000221252441, 1.785099983215332, 1.7487000226974487, 1.736299991607666, 1.7333999872207642, 1.711300015449524, 1.6964999437332153, 1.691499948501587, 1.6914000511169434, 1.6793999671936035, 1.6038000583648682, 1.589900016784668, 1.582900047302246, 1.5733000040054321, 1.5715999603271484, 1.5607000589370728, 1.557800054550171, 1.5347000360488892, 1.524999976158142, 1.5255999565124512, 1.4550000429153442, 1.5047999620437622, 1.2716000080108643, 1.4294999837875366, 1.0765000581741333, 0.3481000065803528, 0.7071999907493591, 0.9970999956130981, 1.1115000247955322, 0.3684999942779541, 0.7756999731063843, 1.374400019645691, -0.22579999268054962, 0.6075999736785889, 0.8884000182151794, 0.32359999418258667, 0.9434000253677368, 0.38760000467300415, 0.7276999950408936, 0.5314000248908997, 0.35030001401901245, -0.1388999968767166, -0.10840000212192535, -0.164900004863739, 0.24629999697208405, -0.11259999871253967, 0.133200004696846, 0.2632000148296356, 0.5038999915122986, 0.2888000011444092, -0.18979999423027039, -0.1290999948978424, -0.2533000111579895, 0.5532000064849854, -0.015300000086426735, -0.015200000256299973, 0.2612000107765198, -0.012600000016391277, -0.22169999778270721, 0.07339999824762344, 2.315500020980835, 2.3034000396728516, 2.3013999462127686, 2.1424999237060547, 2.1177000999450684, 2.060800075531006, 1.9508999586105347, 1.9119999408721924, 1.9061000347137451, 1.8725999593734741, 1.868299961090088, 1.8680000305175781, 1.8658000230789185, 1.8609999418258667, 1.8586000204086304, 1.8525999784469604, 1.8509000539779663, 1.8482999801635742, 1.846500039100647, 1.8451999425888062, 1.8424999713897705, 1.8382999897003174, 1.8370000123977661, 1.8366999626159668, 1.8349000215530396, 1.8300000429153442, 1.8286999464035034, 1.8277000188827515, 1.8271000385284424, 1.8250999450683594, 1.8100999593734741, 1.7683000564575195, 1.715999960899353, 1.777400016784668, 1.4875999689102173, 1.5463999509811401, 1.7508000135421753, 1.5125000476837158, 1.7584999799728394, 1.2350000143051147, 1.0180000066757202, 1.100000023841858, 1.576300024986267, 0.17630000412464142, 1.2058000564575195, 1.405500054359436, 1.1718000173568726, 0.8003000020980835, 0.47110000252723694, 1.0291999578475952, 1.19159996509552, -0.08980000019073486, 0.3352000117301941, 0.9629999995231628, 0.8762999773025513, 0.17550000548362732, 0.14249999821186066, 0.12520000338554382, 0.10570000112056732, 0.5260999798774719, 0.2492000013589859, 0.3301999866962433, 0.2581999897956848, 0.10589999705553055, 0.6904000043869019, 0.28049999475479126, 0.15680000185966492, 0.4717000126838684, 0.030500000342726707, 0.09600000083446503, 0.014600000344216824, 0.33250001072883606, -0.44279998540878296, -0.01600000075995922, -0.17730000615119934, -0.22589999437332153, -0.02969999983906746, 2.4570999145507812, 2.421999931335449, 2.2695999145507812, 2.1881000995635986, 2.1530001163482666, 2.1219000816345215, 2.101099967956543, 2.1003000736236572, 2.0964999198913574, 2.0859999656677246, 2.0766000747680664, 2.0488998889923096, 1.9926999807357788, 1.9867000579833984, 1.9794000387191772, 1.972599983215332, 1.9264999628067017, 1.8990999460220337, 1.8937000036239624, 1.878100037574768, 1.8775999546051025, 1.8746000528335571, 1.8705999851226807, 1.8667999505996704, 1.8654999732971191, 1.8634999990463257, 1.8589999675750732, 1.8583999872207642, 1.8547999858856201, 1.848099946975708, 1.7079999446868896, 1.6756000518798828, 1.7050000429153442, 1.7518999576568604, 1.7872999906539917, 1.3486000299453735, 1.5677000284194946, 1.6538000106811523, 1.1993000507354736, 1.1747000217437744, 1.1282999515533447, 1.184499979019165, 1.0204999446868896, 0.6675999760627747, 1.243499994277954, 0.9557999968528748, 0.5867999792098999, 0.42800000309944153, 0.6557999849319458, 0.8859000205993652, 0.45249998569488525, 0.9704999923706055, 0.9232000112533569, 0.0828000009059906, 0.5770000219345093, 0.6176000237464905, -0.6818000078201294, 0.6017000079154968, -0.7131999731063843, 0.5879999995231628, 0.19280000030994415, 0.5911999940872192, 0.07779999822378159, -0.2736000120639801, 0.589900016784668, -0.04470000043511391, 0.40209999680519104, 0.2556999921798706, -0.34880000352859497, -0.09619999676942825, -0.03970000147819519, -0.5016000270843506, -0.42899999022483826, -0.6700999736785889, 0.02290000021457672], \"logprob\": [30.0, 29.0, 28.0, 27.0, 26.0, 25.0, 24.0, 23.0, 22.0, 21.0, 20.0, 19.0, 18.0, 17.0, 16.0, 15.0, 14.0, 13.0, 12.0, 11.0, 10.0, 9.0, 8.0, 7.0, 6.0, 5.0, 4.0, 3.0, 2.0, 1.0, -7.668399810791016, -7.725100040435791, -7.880099773406982, -8.315299987792969, -8.316200256347656, -8.316499710083008, -8.31760025024414, -6.511000156402588, -7.968900203704834, -8.389399528503418, -7.973800182342529, -8.014399528503418, -7.022299766540527, -8.428299903869629, -8.000699996948242, -8.453499794006348, -8.02910041809082, -8.440600395202637, -8.46619987487793, -8.03849983215332, -7.763199806213379, -8.027600288391113, -7.763999938964844, -8.466099739074707, -8.475600242614746, -8.088600158691406, -7.369900226593018, -8.100299835205078, -7.789700031280518, -8.08240032196045, -7.8277997970581055, -7.468699932098389, -7.659800052642822, -7.877999782562256, -6.611599922180176, -6.355500221252441, -6.785900115966797, -7.313899993896484, -6.760799884796143, -6.173699855804443, -5.4405999183654785, -6.677199840545654, -7.284900188446045, -6.163400173187256, -5.652100086212158, -6.224599838256836, -6.735499858856201, -6.9882001876831055, -7.318399906158447, -6.823400020599365, -5.591400146484375, -5.226399898529053, -6.393599987030029, -6.173699855804443, -6.139900207519531, -5.833399772644043, -6.628900051116943, -5.9309000968933105, -4.6539998054504395, -5.865200042724609, -6.347300052642822, -6.491399765014648, -4.971700191497803, -6.319499969482422, -5.8730998039245605, -6.117099761962891, -5.659900188446045, -5.749599933624268, -5.782700061798096, -5.751999855041504, -6.184199810028076, -6.035399913787842, -6.031700134277344, -6.0269999504089355, -6.235400199890137, -6.242000102996826, -6.135300159454346, -6.068299770355225, -6.0467000007629395, -6.126200199127197, -6.2118000984191895, -7.6809000968933105, -7.195000171661377, -6.529099941253662, -7.759900093078613, -7.071599960327148, -7.294400215148926, -8.327500343322754, -8.327500343322754, -8.327699661254883, -7.204599857330322, -8.37969970703125, -8.38379955291748, -8.382599830627441, -8.385199546813965, -6.959000110626221, -8.391200065612793, -8.393600463867188, -8.395500183105469, -8.393799781799316, -8.398699760437012, -8.398599624633789, -8.41569995880127, -8.422699928283691, -8.054699897766113, -7.7378997802734375, -6.953800201416016, -8.080699920654297, -7.5792999267578125, -8.494400024414062, -7.232600212097168, -5.83050012588501, -7.25439977645874, -7.407400131225586, -6.536499977111816, -6.883699893951416, -7.065400123596191, -7.5945000648498535, -6.7846999168396, -6.5868000984191895, -7.636000156402588, -7.620200157165527, -7.0971999168396, -7.6554999351501465, -5.842800140380859, -4.139500141143799, -6.86899995803833, -5.134200096130371, -5.339799880981445, -6.677700042724609, -5.713600158691406, -6.590199947357178, -5.606599807739258, -4.766300201416016, -6.257599830627441, -5.9029998779296875, -5.762700080871582, -6.537099838256836, -5.964099884033203, -5.751699924468994, -6.105999946594238, -6.075300216674805, -5.783899784088135, -6.441199779510498, -6.002699851989746, -6.2515997886657715, -6.425099849700928, -5.958600044250488, -6.370999813079834, -6.398900032043457, -6.167200088500977, -6.4243998527526855, -6.3231000900268555, -6.4008002281188965, -6.3942999839782715, -6.423900127410889, -6.427800178527832, -7.289299964904785, -7.1234002113342285, -7.030300140380859, -7.355299949645996, -6.566800117492676, -7.598400115966797, -7.940199851989746, -7.931600093841553, -7.939199924468994, -7.9532999992370605, -7.957799911499023, -7.95959997177124, -7.973700046539307, -7.974899768829346, -7.676400184631348, -7.984600067138672, -8.003299713134766, -8.00220012664795, -8.012900352478027, -8.014100074768066, -8.032099723815918, -7.713399887084961, -8.0516996383667, -8.058799743652344, -8.060799598693848, -7.821400165557861, -7.760900020599365, -7.735899925231934, -8.093799591064453, -7.785600185394287, -7.208799839019775, -7.543300151824951, -7.387199878692627, -7.057300090789795, -7.300300121307373, -7.113900184631348, -7.4878997802734375, -5.630300045013428, -7.241700172424316, -6.0802998542785645, -4.328999996185303, -5.587900161743164, -5.802599906921387, -5.319699764251709, -6.118899822235107, -6.644499778747559, -4.586599826812744, -5.644100189208984, -6.037399768829346, -5.597799777984619, -6.122200012207031, -6.440899848937988, -5.453999996185303, -6.8846001625061035, -6.249300003051758, -5.5920000076293945, -6.814799785614014, -6.372900009155273, -6.016499996185303, -6.174499988555908, -5.829800128936768, -6.073500156402588, -6.021500110626221, -6.033999919891357, -5.957200050354004, -6.141300201416016, -6.224699974060059, -5.92080020904541, -6.203000068664551, -6.08650016784668, -6.336900234222412, -6.364299774169922, -7.247000217437744, -7.247700214385986, -6.922999858856201, -7.677299976348877, -7.686200141906738, -7.43720006942749, -8.109199523925781, -8.109700202941895, -6.914999961853027, -7.757199764251709, -6.792300224304199, -6.383500099182129, -7.777400016784668, -7.793799877166748, -7.532100200653076, -7.507699966430664, -8.237899780273438, -8.236499786376953, -8.27560043334961, -8.277700424194336, -8.277600288391113, -7.604800224304199, -6.771900177001953, -7.329400062561035, -8.29170036315918, -6.670100212097168, -8.301899909973145, -7.331099987030029, -8.305500030517578, -8.311300277709961, -7.39109992980957, -7.650300025939941, -6.341400146484375, -7.013800144195557, -7.656099796295166, -6.844600200653076, -7.670499801635742, -6.61929988861084, -6.2606000900268555, -6.96999979019165, -6.764900207519531, -5.2957000732421875, -4.002299785614014, -6.110400199890137, -5.677000045776367, -5.921899795532227, -5.517399787902832, -6.487800121307373, -5.347099781036377, -6.464000225067139, -6.177700042724609, -5.714200019836426, -6.226099967956543, -5.958399772644043, -5.495699882507324, -5.854100227355957, -6.09660005569458, -5.777100086212158, -5.56879997253418, -5.977200031280518, -5.737299919128418, -5.678999900817871, -5.984600067138672, -5.416399955749512, -6.015399932861328, -6.149899959564209, -6.100200176239014, -6.081399917602539, -6.2316999435424805, -6.303199768066406, -6.253200054168701, -6.313199996948242, -7.089600086212158, -6.815499782562256, -7.728799819946289, -7.7453999519348145, -7.459099769592285, -7.760799884796143, -7.777200222015381, -7.825200080871582, -7.825799942016602, -7.832600116729736, -8.243900299072266, -7.61359977722168, -7.850299835205078, -7.910399913787842, -7.565299987792969, -7.634399890899658, -8.292099952697754, -7.897600173950195, -8.311400413513184, -8.340900421142578, -7.979899883270264, -7.3831000328063965, -7.621699810028076, -8.32289981842041, -7.106900215148926, -7.928999900817871, -7.650199890136719, -7.698400020599365, -7.981400012969971, -8.402600288391113, -7.730899810791016, -7.229499816894531, -7.250100135803223, -7.268700122833252, -6.845099925994873, -7.281799793243408, -5.883200168609619, -6.662700176239014, -4.184100151062012, -6.997200012207031, -5.64769983291626, -6.213500022888184, -7.126800060272217, -6.224400043487549, -4.4527997970581055, -5.435699939727783, -5.788700103759766, -5.39769983291626, -6.2652997970581055, -6.182600021362305, -5.814000129699707, -6.454800128936768, -6.307700157165527, -6.425099849700928, -6.305699825286865, -6.282199859619141, -6.316100120544434, -6.292600154876709, -6.546500205993652, -6.047699928283691, -6.490699768066406, -6.46750020980835, -6.229599952697754, -6.0096001625061035, -6.303199768066406, -5.908400058746338, -5.968699932098389, -6.061600208282471, -6.224899768829346, -6.1732001304626465, -6.186299800872803, -6.207699775695801, -6.199399948120117, -6.141200065612793, -6.234799861907959, -6.220099925994873, -6.226399898529053, -6.972799777984619, -7.251800060272217, -7.525300025939941, -7.533100128173828, -7.298600196838379, -7.610400199890137, -7.612800121307373, -7.614299774169922, -7.626800060272217, -7.632999897003174, -7.634900093078613, -7.635700225830078, -7.651199817657471, -7.661600112915039, -7.442500114440918, -7.730899810791016, -7.751800060272217, -8.170299530029297, -8.170599937438965, -8.170700073242188, -7.783400058746338, -8.171299934387207, -8.171299934387207, -8.171600341796875, -8.172699928283691, -8.173100471496582, -8.173700332641602, -8.174699783325195, -8.175200462341309, -8.175299644470215, -6.789899826049805, -6.2972002029418945, -6.7083001136779785, -7.802499771118164, -6.617099761962891, -6.717199802398682, -7.1508002281188965, -7.236800193786621, -6.163099765777588, -7.598800182342529, -7.4008002281188965, -6.681700229644775, -6.283899784088135, -4.814599990844727, -6.1346001625061035, -5.716700077056885, -4.297999858856201, -6.5503997802734375, -5.726399898529053, -6.895199775695801, -5.618800163269043, -6.0706000328063965, -6.538099765777588, -6.054500102996826, -5.781599998474121, -6.605100154876709, -5.626100063323975, -5.81689977645874, -4.916100025177002, -5.653200149536133, -6.423999786376953, -6.399700164794922, -5.746399879455566, -5.69920015335083, -5.77810001373291, -6.3277997970581055, -6.109499931335449, -6.087900161743164, -6.196700096130371, -6.279900074005127, -6.367599964141846, -6.171800136566162, -6.374499797821045, -6.273499965667725, -6.166100025177002, -6.355400085449219, -6.346099853515625, -6.314499855041504, -7.451200008392334, -7.451399803161621, -7.177700042724609, -7.598700046539307, -7.598899841308594, -7.161099910736084, -6.696899890899658, -7.414000034332275, -8.097999572753906, -8.098099708557129, -8.098099708557129, -8.098199844360352, -8.098199844360352, -8.098299980163574, -7.784200191497803, -7.738900184631348, -7.75439977645874, -8.202799797058105, -8.205100059509277, -8.208499908447266, -8.210000038146973, -8.20989990234375, -8.213600158691406, -7.505000114440918, -8.220800399780273, -7.515699863433838, -7.514699935913086, -8.227399826049805, -8.227800369262695, -8.229900360107422, -7.0320000648498535, -7.5644001960754395, -6.904200077056885, -7.052199840545654, -6.198800086975098, -7.3892998695373535, -7.055300235748291, -7.125400066375732, -7.112100124359131, -7.01669979095459, -5.818600177764893, -5.922699928283691, -6.877399921417236, -6.924699783325195, -5.9532999992370605, -6.570700168609619, -6.768099784851074, -6.882299900054932, -4.287199974060059, -6.584099769592285, -4.415500164031982, -6.562699794769287, -6.526700019836426, -6.866499900817871, -6.609799861907959, -6.225500106811523, -5.598999977111816, -5.9359002113342285, -5.957399845123291, -5.77839994430542, -6.293799877166748, -5.739699840545654, -5.734799861907959, -6.151800155639648, -5.822500228881836, -6.253499984741211, -6.488800048828125, -6.1722002029418945, -6.399199962615967, -6.121200084686279, -5.940299987792969, -6.051300048828125, -6.312900066375732, -6.453499794006348, -6.24560022354126, -6.444499969482422, -6.34119987487793, -6.4095001220703125, -6.429999828338623, -6.441199779510498, -7.48330020904541, -6.309500217437744, -6.887499809265137, -7.098800182342529, -6.94320011138916, -7.657700061798096, -6.8541998863220215, -7.4019999504089355, -7.432700157165527, -7.728000164031982, -8.12909984588623, -8.129300117492676, -8.13029956817627, -8.13029956817627, -7.742099761962891, -7.773799896240234, -7.448599815368652, -7.7891998291015625, -7.813399791717529, -7.808899879455566, -7.545400142669678, -7.834499835968018, -7.119100093841553, -7.072400093078613, -8.328200340270996, -8.338600158691406, -7.951399803161621, -8.347800254821777, -8.349499702453613, -8.365300178527832, -7.099800109863281, -6.7982001304626465, -7.513400077819824, -7.110099792480469, -7.732800006866455, -6.6956000328063965, -7.421299934387207, -6.198400020599365, -4.22160005569458, -5.497499942779541, -6.190700054168701, -6.652299880981445, -5.4375, -6.185500144958496, -7.256400108337402, -4.6458001136779785, -6.01609992980957, -6.47160005569458, -5.777100086212158, -6.6697998046875, -5.98360013961792, -6.4293999671936035, -6.214000225067139, -6.073299884796143, -5.759399890899658, -5.799099922180176, -5.768199920654297, -6.1402997970581055, -5.869999885559082, -6.076099872589111, -6.192500114440918, -6.376500129699707, -6.274899959564209, -6.047500133514404, -6.081699848175049, -6.044099807739258, -6.412499904632568, -6.228700160980225, -6.244800090789795, -6.348599910736084, -6.314000129699707, -6.281000137329102, -6.3302998542785645, -6.8246002197265625, -6.8383002281188965, -6.8403000831604, -7.482600212097168, -7.506100177764893, -6.585999965667725, -7.661499977111816, -6.486000061035156, -7.183800220489502, -8.123700141906738, -8.127400398254395, -8.127599716186523, -8.129500389099121, -8.133600234985352, -7.748000144958496, -7.79610013961792, -7.750199794769287, -8.14680004119873, -8.148599624633789, -8.149499893188477, -8.152199745178223, -8.156299591064453, -8.157600402832031, -8.157400131225586, -8.159099578857422, -7.252799987792969, -8.164899826049805, -8.165900230407715, -8.166199684143066, -8.168000221252441, -7.841800212860107, -7.537899971008301, -7.189300060272217, -7.874300003051758, -6.499800205230713, -7.045000076293945, -7.837900161743164, -7.084400177001953, -7.894400119781494, -6.530300140380859, -6.020299911499023, -6.343100070953369, -7.494800090789795, -4.393499851226807, -6.709099769592285, -7.147299766540527, -6.6930999755859375, -6.0081000328063965, -5.386600017547607, -6.4653000831604, -6.773600101470947, -4.509699821472168, -5.26800012588501, -6.412700176239014, -6.3694000244140625, -5.445000171661377, -5.5482001304626465, -5.680799961090088, -5.685100078582764, -6.117700099945068, -5.877600193023682, -5.971199989318848, -5.946599960327148, -5.846700191497803, -6.331399917602539, -6.143099784851074, -6.072700023651123, -6.27370023727417, -6.028800010681152, -6.11329984664917, -6.216599941253662, -6.316199779510498, -6.200200080871582, -6.284800052642822, -6.314300060272217, -6.326499938964844, -6.34250020980835, -7.216700077056885, -7.245800018310547, -7.774499893188477, -7.843900203704834, -7.874000072479248, -7.900899887084961, -6.686800003051758, -7.91949987411499, -7.034999847412109, -7.5929999351501465, -7.214900016784668, -7.964300155639648, -7.324999809265137, -8.002300262451172, -7.633600234985352, -7.641200065612793, -7.65749979019165, -8.075799942016602, -8.143699645996094, -8.122099876403809, -8.086199760437012, -8.099599838256836, -8.089699745178223, -7.720799922943115, -7.469699859619141, -8.121899604797363, -8.124300003051758, -8.17770004272461, -8.118200302124023, -7.816500186920166, -7.018599987030029, -6.912399768829346, -7.210599899291992, -7.531199932098389, -7.772900104522705, -6.201700210571289, -7.169300079345703, -7.428400039672852, -6.1946001052856445, -6.319799900054932, -6.445700168609619, -6.558300018310547, -6.370200157165527, -5.801400184631348, -6.748600006103516, -6.411799907684326, -5.948999881744385, -5.785399913787842, -6.102200031280518, -6.451300144195557, -5.997200012207031, -6.571400165557861, -6.538300037384033, -5.708000183105469, -6.238399982452393, -6.287899971008301, -5.1016998291015625, -6.288099765777588, -5.2829999923706055, -6.309299945831299, -6.038300037384033, -6.313899993896484, -5.981500148773193, -5.894199848175049, -6.376100063323975, -6.145400047302246, -6.341599941253662, -6.2891998291015625, -6.106200218200684, -6.247600078582764, -6.2692999839782715, -6.192399978637695, -6.2866997718811035, -6.273399829864502, -6.363699913024902]}, \"token.table\": {\"Topic\": [7, 8, 1, 1, 2, 5, 6, 7, 8, 9, 1, 2, 2, 2, 6, 6, 3, 7, 1, 2, 5, 5, 1, 2, 3, 4, 5, 6, 7, 8, 9, 1, 2, 3, 4, 5, 6, 7, 8, 9, 10, 8, 10, 3, 3, 1, 8, 4, 6, 1, 2, 3, 4, 5, 6, 7, 8, 9, 10, 7, 10, 2, 6, 1, 1, 2, 3, 4, 5, 6, 7, 8, 9, 10, 1, 2, 3, 4, 5, 6, 7, 8, 9, 10, 1, 2, 3, 4, 5, 6, 7, 8, 9, 10, 1, 2, 3, 5, 6, 8, 1, 2, 3, 4, 5, 6, 7, 8, 9, 1, 2, 3, 4, 5, 6, 7, 8, 9, 10, 5, 1, 7, 4, 7, 1, 2, 3, 4, 5, 6, 7, 8, 9, 10, 1, 2, 3, 4, 5, 6, 7, 8, 9, 10, 1, 2, 3, 4, 5, 6, 7, 8, 9, 10, 1, 2, 3, 4, 5, 6, 7, 8, 9, 10, 1, 2, 3, 4, 6, 7, 8, 9, 10, 1, 2, 3, 4, 5, 6, 7, 8, 9, 10, 4, 6, 1, 5, 8, 10, 7, 4, 1, 1, 2, 3, 4, 5, 6, 7, 8, 9, 10, 4, 1, 2, 3, 5, 6, 8, 9, 1, 2, 3, 4, 5, 6, 7, 8, 9, 10, 1, 1, 2, 6, 8, 10, 3, 9, 6, 9, 3, 1, 2, 3, 4, 5, 6, 8, 9, 3, 4, 4, 6, 9, 1, 2, 4, 9, 2, 3, 4, 8, 9, 10, 6, 6, 5, 2, 3, 4, 6, 7, 8, 9, 6, 9, 2, 1, 2, 3, 4, 5, 6, 7, 8, 9, 10, 2, 3, 7, 1, 2, 3, 4, 5, 6, 7, 8, 9, 9, 4, 5, 8, 9, 1, 2, 3, 4, 5, 6, 7, 8, 9, 10, 1, 2, 3, 4, 5, 6, 7, 8, 9, 10, 1, 2, 3, 4, 5, 6, 7, 8, 9, 10, 1, 2, 3, 4, 5, 6, 7, 8, 9, 10, 3, 4, 6, 5, 8, 9, 7, 1, 2, 3, 4, 5, 6, 7, 8, 10, 5, 8, 6, 8, 5, 2, 3, 4, 5, 7, 8, 9, 9, 1, 2, 3, 4, 5, 6, 7, 8, 9, 10, 2, 7, 1, 9, 6, 3, 4, 7, 1, 2, 1, 2, 3, 4, 5, 6, 7, 8, 9, 10, 1, 3, 5, 7, 9, 10, 2, 7, 8, 1, 2, 3, 4, 5, 6, 7, 8, 9, 10, 4, 1, 2, 5, 6, 8, 9, 1, 2, 3, 4, 5, 6, 7, 8, 9, 10, 1, 4, 5, 1, 2, 3, 4, 5, 6, 7, 8, 9, 10, 9, 4, 5, 6, 6, 1, 2, 3, 4, 7, 8, 1, 2, 3, 4, 5, 6, 7, 8, 9, 10, 9, 1, 2, 3, 4, 5, 6, 7, 8, 9, 10, 1, 2, 3, 4, 5, 6, 7, 8, 9, 10, 1, 2, 3, 4, 5, 6, 7, 8, 9, 10, 1, 2, 3, 4, 6, 7, 8, 9, 10, 1, 3, 2, 6, 8, 4, 2, 2, 3, 3, 9, 1, 2, 3, 4, 5, 6, 7, 8, 9, 10, 2, 8, 6, 1, 2, 3, 4, 5, 6, 7, 8, 9, 10, 7, 3, 5, 6, 8, 9, 5, 9, 5, 7, 7, 3, 8, 6, 7, 9, 2, 3, 4, 5, 6, 7, 8, 1, 2, 3, 4, 5, 6, 7, 8, 9, 10, 10, 2, 3, 6, 8, 2, 3, 4, 7, 5, 1, 2, 3, 4, 9, 1, 6, 4, 8, 5, 5, 1, 2, 3, 4, 5, 6, 7, 8, 9, 10, 2, 1, 4, 5, 7, 9, 3, 5, 1, 1, 2, 3, 4, 5, 6, 7, 8, 9, 10, 1, 2, 5, 6, 7, 9, 1, 2, 3, 4, 5, 6, 7, 8, 9, 10, 1, 2, 3, 4, 5, 6, 7, 8, 9, 10, 1, 2, 3, 4, 5, 6, 7, 8, 9, 10, 1, 2, 3, 4, 5, 6, 7, 8, 9, 10, 9, 1, 4, 9, 1, 2, 3, 4, 5, 6, 7, 8, 9, 10, 1, 2, 3, 4, 5, 6, 8, 9, 10, 1, 2, 3, 4, 5, 6, 7, 8, 9, 10, 1, 2, 3, 4, 5, 6, 7, 8, 9, 10, 4, 1, 2, 3, 4, 5, 6, 7, 8, 9, 10, 1, 2, 3, 4, 5, 6, 7, 8, 9, 10, 3, 4, 8, 3, 2, 2, 3, 4, 3, 8, 6, 6, 1, 2, 5, 8, 1, 2, 3, 4, 5, 6, 8, 9, 6, 1, 4, 8, 6, 6, 4, 8, 1, 2, 3, 4, 5, 6, 7, 8, 9, 10, 1, 5, 6, 7, 8, 9, 3, 5, 10, 1, 2, 3, 4, 5, 6, 7, 8, 9, 8, 3, 4, 8, 9, 10, 1, 2, 3, 4, 5, 6, 8, 9, 4, 4, 5, 6, 8, 9, 9, 7, 1, 2, 3, 4, 5, 6, 7, 8, 9, 10, 2, 3, 1, 2, 3, 4, 5, 6, 7, 8, 9, 10, 1, 3, 6, 8, 9, 3, 1, 1, 2, 1, 3, 1, 5, 6, 7, 8, 5, 10, 1, 2, 3, 4, 5, 6, 7, 8, 9, 10, 1, 1, 7, 1, 2, 3, 4, 5, 6, 7, 8, 9, 1, 2, 5, 6, 7, 2, 4, 1, 6, 3, 9, 5, 9, 1, 2, 3, 4, 5, 6, 7, 8, 9, 10, 4, 4, 10, 2, 3, 6, 9, 1, 2, 3, 4, 5, 6, 7, 3, 4, 7, 1, 8, 8, 3, 9, 10, 7, 1, 2, 3, 4, 5, 7, 9, 10, 1, 2, 3, 4, 5, 6, 7, 8, 9, 10, 1, 2, 3, 4, 5, 6, 7, 8, 9, 10, 1, 3, 4, 9, 1, 2, 3, 5, 6, 7, 8, 9, 3, 10, 2, 3, 5, 7, 9, 7, 1, 3, 4, 6, 9, 1, 2, 3, 5, 6, 7, 8, 9, 7, 1, 2, 5, 7, 8, 9, 8, 3, 8, 1, 2, 3, 4, 5, 6, 7, 8, 9, 10, 1, 2, 3, 4, 5, 6, 9, 8, 4, 2, 1, 2, 3, 4, 5, 6, 7, 8, 9, 10, 10, 1, 6, 7, 10, 1, 4, 8, 9, 7, 2, 4, 8, 6, 1, 3, 7, 1, 9, 5, 8, 1, 2, 3, 5, 6, 7, 8, 9, 10, 2, 3, 7, 1, 4, 9, 1, 2, 3, 4, 7, 9, 6, 4, 5, 6, 7, 9, 1, 2, 3, 4, 5, 6, 7, 8, 9, 1, 1, 2, 3, 4, 5, 7, 8, 9, 10, 7, 3, 5, 10, 8, 9, 9, 1, 2, 3, 4, 5, 6, 7, 8, 9, 10, 6, 1, 2, 3, 4, 5, 7, 8, 9, 1, 2, 3, 4, 5, 6, 7, 8, 9, 10, 3, 1, 2, 3, 4, 5, 7, 8, 9, 3, 1, 2, 3, 4, 5, 6, 7, 8, 9, 10, 4, 9, 7, 3, 1, 2, 3, 4, 7, 8, 9, 5, 7, 7, 6, 1, 2, 3, 4, 5, 6, 7, 8, 9, 10, 1, 2, 3, 4, 5, 6, 7, 8, 9, 10, 6, 6, 6, 2, 3, 3, 1, 2, 3, 4, 5, 6, 7, 8, 9, 10, 1, 2, 3, 4, 5, 6, 7, 8, 9, 10, 1, 2, 3, 4, 5, 6, 7, 8, 9, 10, 3, 10, 8, 6, 1, 2, 3, 4, 5, 6, 7, 8, 9, 10, 1, 2, 3, 5, 7, 8, 9, 10, 1, 8, 6, 1, 2, 3, 4, 5, 6, 7, 8, 9, 1, 2, 3, 4, 5, 6, 7, 8, 9, 10, 3, 4, 5, 6, 6, 9, 2, 2, 1, 2, 3, 4, 5, 6, 7, 8, 9, 10, 7, 4, 6, 9, 9, 4, 1, 2, 3, 4, 5, 6, 7, 8, 10, 9, 2, 3, 9, 10, 1, 2, 3, 4, 5, 6, 7, 8, 9, 10, 1, 2, 3, 4, 5, 6, 7, 8, 9, 10, 1, 2, 3, 4, 5, 6, 7, 8, 9, 1, 2, 3, 4, 5, 7, 8, 9, 10, 2, 3, 5, 7, 8, 10, 5, 1, 2, 3, 4, 5, 6, 7, 8, 9, 10, 1, 2, 3, 4, 5, 6, 7, 8, 9, 10, 1, 2, 3, 4, 5, 6, 7, 8, 9, 10, 5, 2, 1, 2, 3, 4, 5, 6, 7, 8, 1, 5, 6, 8, 5, 6, 5, 1, 2, 4, 6, 7, 8, 9, 7, 1, 2, 3, 4, 5, 6, 7, 8, 9, 10, 1, 2, 3, 4, 5, 6, 7, 8, 9, 6, 8, 6, 8, 1, 2, 3, 4, 5, 6, 7, 8, 9, 10, 1, 2, 3, 4, 5, 6, 7, 8, 9, 10, 2, 3, 1, 3, 1, 2, 2, 10, 7, 5, 7, 10, 3, 5, 8, 2, 8, 1, 5, 4, 5, 3, 1, 8, 1, 2, 3, 4, 5, 6, 7, 8, 9, 10, 1, 2, 3, 4, 5, 6, 7, 8, 2, 3, 4, 1, 2, 3, 4, 5, 6, 7, 8, 9, 10, 3, 1, 2, 3, 4, 5, 6, 7, 8, 9, 10, 1, 2, 6, 7, 8, 1, 3, 1, 2, 3, 4, 6, 9, 9, 2, 4, 5, 6, 7, 8, 2, 2, 2, 1, 2, 3, 4, 5, 6, 7, 8, 9, 10, 1, 2, 3, 9, 6, 10, 10, 8, 1, 2, 7, 9, 8, 7, 4, 1, 2, 3, 4, 6, 7, 9, 10, 2, 3, 6, 7, 8, 9, 5, 7, 3, 6, 2, 4, 7, 5, 4, 8, 5, 6, 8, 1, 2, 3, 4, 5, 6, 7, 8, 9, 10, 5, 1, 2, 3, 5, 7, 10, 9, 1, 2, 3, 4, 5, 6, 7, 8, 9, 10, 1, 2, 3, 4, 5, 6, 7, 8, 9, 10, 1, 2, 3, 4, 5, 6, 7, 8, 9, 10, 3, 5, 8, 9, 6, 1, 2, 3, 4, 5, 6, 7, 8, 9, 10, 7, 3, 3, 6, 8, 9, 4, 4, 7, 2, 5, 1, 7, 1, 1, 2, 3, 4, 5, 6, 8, 9, 1, 4, 8, 1, 2, 3, 4, 6, 8, 9, 1, 2, 3, 4, 5, 7, 8, 9, 4, 7, 1, 2, 2, 3, 9, 1, 2, 3, 4, 5, 6, 7, 8, 9, 10, 6, 2, 3, 4, 5, 7, 4, 5, 4, 5, 1, 2, 3, 4, 5, 6, 7, 8, 9, 10, 1, 3, 7, 8, 9, 1, 2, 3, 4, 5, 6, 7, 8, 9, 1, 2, 3, 4, 5, 6, 7, 8, 9, 10, 1, 2, 3, 4, 5, 6, 7, 8, 9, 1, 2, 3, 4, 5, 6, 7, 8, 9, 10, 1, 5, 8, 1, 2, 3, 5, 6, 7, 8, 7, 2, 1, 3, 6, 8, 9, 9, 7, 8, 7, 9, 5, 8, 1, 2, 3, 4, 5, 6, 7, 8, 9, 10, 9, 2, 3, 7, 9, 1, 2, 3, 4, 5, 6, 7, 8, 9, 10, 1, 2, 3, 4, 5, 6, 7, 8, 9, 10, 6, 8, 9, 4, 1, 2, 4, 5, 1, 2, 3, 4, 5, 6, 7, 8, 9, 10, 1, 7, 5, 8, 2, 4, 5, 7, 1, 2, 3, 4, 5, 6, 7, 8, 9, 1, 7, 1, 2, 3, 4, 5, 6, 7, 8, 9, 10, 1, 2, 3, 4, 5, 6, 7, 8, 9, 1, 2, 3, 5, 6, 7, 8, 1, 2, 3, 4, 5, 6, 7, 8, 9, 10, 9, 1, 2, 3, 4, 5, 6, 7, 8, 9, 10, 1, 2, 3, 4, 5, 6, 7, 8, 9, 10, 1, 2, 3, 4, 5, 6, 7, 8, 9, 10, 1, 1, 2, 3, 4, 5, 6, 7, 8, 9, 10, 5, 6, 8, 5, 2, 4, 7, 9, 1, 2, 3, 4, 5, 6, 7, 8, 9, 10, 1, 2, 3, 4, 5, 6, 7, 8, 9, 10, 6, 10, 9, 1, 2, 3, 4, 5, 6, 7, 8, 9, 1, 2, 3, 4, 5, 6, 7, 8, 9, 9, 1, 2, 3, 4, 5, 6, 7, 8, 9, 10, 5, 4, 3, 3, 5, 2, 1, 2, 4, 7, 2, 4, 10, 9, 1, 2, 4, 5, 6, 7, 1, 2, 3, 4, 5, 6, 7, 8, 9, 10, 1, 2, 3, 4, 5, 6, 7, 8, 9, 10, 1, 2, 3, 4, 9, 10, 1, 2, 3, 4, 5, 6, 7, 8, 9, 10, 1, 2, 3, 6, 9, 10, 1, 2, 3, 4, 5, 6, 7, 8, 9, 10, 1, 2, 3, 4, 5, 6, 7, 8, 9, 1, 2, 3, 4, 5, 7, 8, 9, 1, 6, 7, 8, 1, 2, 3, 4, 5, 6, 7, 8, 9, 10, 4, 4, 1, 2, 3, 4, 5, 6, 7, 8, 9, 1, 2, 3, 4, 5, 6, 7, 8, 9, 10, 1, 5, 8, 1, 2, 3, 4, 5, 6, 7, 8, 9, 10, 2, 3, 7, 9, 1, 3, 6, 7, 10, 2, 7, 8, 1, 2, 3, 4, 5, 6, 7, 8, 9, 10, 1, 2, 3, 4, 5, 6, 7, 8, 9, 10, 1, 2, 3, 4, 5, 6, 7, 8, 9, 10, 1, 2, 3, 4, 5, 6, 7, 8, 9, 10, 2, 3, 7, 9, 1, 2, 4], \"Freq\": [0.4216389060020447, 0.4125116765499115, 0.7425078749656677, 0.14347195625305176, 0.07173597812652588, 0.14347195625305176, 0.07173597812652588, 0.2869439125061035, 0.21520793437957764, 0.07173597812652588, 0.7047126293182373, 0.35235631465911865, 0.5547733306884766, 0.20372772216796875, 0.4074554443359375, 0.43195441365242004, 0.3141094148159027, 0.6282188296318054, 0.555937647819519, 0.2779688239097595, 0.411277711391449, 0.6233749389648438, 0.13197466731071472, 0.23095567524433136, 0.03299366682767868, 0.06598733365535736, 0.164968341588974, 0.03299366682767868, 0.03299366682767868, 0.164968341588974, 0.09898100793361664, 0.16957560181617737, 0.10791175067424774, 0.10791175067424774, 0.030831927433609962, 0.13874368369579315, 0.10791175067424774, 0.04624789208173752, 0.18499156832695007, 0.09249578416347504, 0.030831927433609962, 0.42548462748527527, 0.27391552925109863, 0.7797873020172119, 0.43601927161216736, 0.3035545349121094, 0.6071090698242188, 0.5797637701034546, 0.8524250388145447, 0.09806064516305923, 0.18522566556930542, 0.10895626991987228, 0.11985190212726593, 0.07626938819885254, 0.11985190212726593, 0.07626938819885254, 0.07626938819885254, 0.11985190212726593, 0.021791255101561546, 0.6081094145774841, 0.494962215423584, 0.5542613863945007, 0.6341609358787537, 0.5471867322921753, 0.17175008356571198, 0.08587504178285599, 0.25762513279914856, 0.18892508745193481, 0.06870003044605255, 0.017175007611513138, 0.06870003044605255, 0.06870003044605255, 0.06870003044605255, 0.017175007611513138, 0.165331169962883, 0.165331169962883, 0.1102207750082016, 0.0826655849814415, 0.165331169962883, 0.1102207750082016, 0.0275551937520504, 0.0826655849814415, 0.0275551937520504, 0.0551103875041008, 0.16501790285110474, 0.13201431930065155, 0.09901074320077896, 0.09901074320077896, 0.09901074320077896, 0.13201431930065155, 0.09901074320077896, 0.06600715965032578, 0.06600715965032578, 0.06600715965032578, 0.08678262680768967, 0.43391314148902893, 0.08678262680768967, 0.08678262680768967, 0.17356525361537933, 0.08678262680768967, 0.177647665143013, 0.059215888381004333, 0.11843177676200867, 0.2960794270038605, 0.059215888381004333, 0.059215888381004333, 0.059215888381004333, 0.11843177676200867, 0.059215888381004333, 0.17724263668060303, 0.15754900872707367, 0.09846813231706619, 0.1378553807735443, 0.07877450436353683, 0.09846813231706619, 0.09846813231706619, 0.07877450436353683, 0.03938725218176842, 0.05908087641000748, 0.41856011748313904, 0.5733212232589722, 0.19110707938671112, 0.1537451595067978, 0.6149806380271912, 0.0986313596367836, 0.0986313596367836, 0.0986313596367836, 0.0986313596367836, 0.1479470431804657, 0.0986313596367836, 0.0986313596367836, 0.0493156798183918, 0.0986313596367836, 0.0986313596367836, 0.15890836715698242, 0.13242363929748535, 0.13242363929748535, 0.1853930950164795, 0.13242363929748535, 0.02648472785949707, 0.05296945571899414, 0.07945418357849121, 0.07945418357849121, 0.02648472785949707, 0.21119895577430725, 0.22809487581253052, 0.14361529052257538, 0.033791832625865936, 0.033791832625865936, 0.08447958528995514, 0.06758366525173187, 0.0760316252708435, 0.10137549787759781, 0.016895916312932968, 0.13752076029777527, 0.10314057022333145, 0.09454552084207535, 0.11173561960458755, 0.06876038014888763, 0.2062811404466629, 0.08595047891139984, 0.07735542953014374, 0.08595047891139984, 0.025785142555832863, 0.10635904222726822, 0.05317952111363411, 0.10635904222726822, 0.10635904222726822, 0.05317952111363411, 0.10635904222726822, 0.15953855216503143, 0.21271808445453644, 0.10635904222726822, 0.10013896971940994, 0.17524319887161255, 0.10013896971940994, 0.0751042291522026, 0.10013896971940994, 0.1502084583044052, 0.12517371773719788, 0.0751042291522026, 0.0751042291522026, 0.05006948485970497, 0.5997681617736816, 0.2998840808868408, 0.18284821510314941, 0.36569643020629883, 0.18284821510314941, 0.18284821510314941, 0.615595817565918, 0.5917627811431885, 0.5403203964233398, 0.14215806126594543, 0.14215806126594543, 0.04738602042198181, 0.04738602042198181, 0.04738602042198181, 0.28431612253189087, 0.04738602042198181, 0.09477204084396362, 0.04738602042198181, 0.04738602042198181, 0.5837584137916565, 0.41022688150405884, 0.06837114691734314, 0.13674229383468628, 0.06837114691734314, 0.13674229383468628, 0.06837114691734314, 0.06837114691734314, 0.1817787140607834, 0.24237161874771118, 0.12118580937385559, 0.030296452343463898, 0.15148226916790009, 0.060592904686927795, 0.030296452343463898, 0.15148226916790009, 0.030296452343463898, 0.030296452343463898, 0.7079518437385559, 0.12783171236515045, 0.12783171236515045, 0.5113268494606018, 0.12783171236515045, 0.12783171236515045, 0.7700561285018921, 0.19251403212547302, 0.2708885073661804, 0.2708885073661804, 0.43416523933410645, 0.08982284367084503, 0.08982284367084503, 0.17964568734169006, 0.08982284367084503, 0.08982284367084503, 0.08982284367084503, 0.3592913746833801, 0.08982284367084503, 0.637016236782074, 0.318508118391037, 0.5940396189689636, 0.4293309450149536, 0.4602402150630951, 0.3690589964389801, 0.14762359857559204, 0.22143539786338806, 0.07381179928779602, 0.08423257619142532, 0.3369303047657013, 0.16846515238285065, 0.08423257619142532, 0.16846515238285065, 0.08423257619142532, 0.6340563297271729, 0.6341841220855713, 0.41845014691352844, 0.16217711567878723, 0.08108855783939362, 0.08108855783939362, 0.16217711567878723, 0.08108855783939362, 0.16217711567878723, 0.24326567351818085, 0.7839016914367676, 0.4841480255126953, 0.5463870763778687, 0.14195279777050018, 0.25551503896713257, 0.08517167717218399, 0.08517167717218399, 0.08517167717218399, 0.056781116873025894, 0.056781116873025894, 0.056781116873025894, 0.056781116873025894, 0.056781116873025894, 0.21033914387226105, 0.6310174465179443, 0.41329389810562134, 0.05835333094000816, 0.05835333094000816, 0.11670666188001633, 0.05835333094000816, 0.05835333094000816, 0.3501199781894684, 0.11670666188001633, 0.05835333094000816, 0.11670666188001633, 0.6817395687103271, 0.5924028754234314, 0.18250158429145813, 0.36500316858291626, 0.18250158429145813, 0.07991024106740952, 0.1997755914926529, 0.15982048213481903, 0.07991024106740952, 0.03995512053370476, 0.03995512053370476, 0.03995512053370476, 0.1997755914926529, 0.11986535787582397, 0.03995512053370476, 0.041814591735601425, 0.12544377148151398, 0.20907296240329742, 0.041814591735601425, 0.20907296240329742, 0.041814591735601425, 0.1672583669424057, 0.041814591735601425, 0.08362918347120285, 0.041814591735601425, 0.33534568548202515, 0.13413827121257782, 0.033534567803144455, 0.10060370713472366, 0.06706913560628891, 0.06706913560628891, 0.033534567803144455, 0.10060370713472366, 0.033534567803144455, 0.033534567803144455, 0.23764099180698395, 0.13579484820365906, 0.1018461361527443, 0.033948712050914764, 0.033948712050914764, 0.033948712050914764, 0.2715896964073181, 0.06789742410182953, 0.033948712050914764, 0.033948712050914764, 0.141287699341774, 0.141287699341774, 0.565150797367096, 0.1772354692220688, 0.1772354692220688, 0.5317063927650452, 0.6185059547424316, 0.14354828000068665, 0.07177414000034332, 0.21532240509986877, 0.07177414000034332, 0.07177414000034332, 0.14354828000068665, 0.07177414000034332, 0.07177414000034332, 0.14354828000068665, 0.3197597861289978, 0.6395195722579956, 0.43055808544158936, 0.6344670653343201, 0.30269667506217957, 0.17050805687904358, 0.17050805687904358, 0.08525402843952179, 0.08525402843952179, 0.08525402843952179, 0.08525402843952179, 0.2557620704174042, 0.34271156787872314, 0.0730072483420372, 0.1460144966840744, 0.09125905483961105, 0.16426630318164825, 0.20076993107795715, 0.12776267528533936, 0.1460144966840744, 0.0182518120855093, 0.0182518120855093, 0.0365036241710186, 0.4497225284576416, 0.2248612642288208, 0.5405056476593018, 0.6821829080581665, 0.6341989636421204, 0.43162038922309875, 0.14387346804141998, 0.14387346804141998, 0.5439255833625793, 0.2719627916812897, 0.19887596368789673, 0.09943798184394836, 0.04971899092197418, 0.04971899092197418, 0.09943798184394836, 0.04971899092197418, 0.09943798184394836, 0.09943798184394836, 0.19887596368789673, 0.04971899092197418, 0.5444881916046143, 0.23189018666744232, 0.23189018666744232, 0.23189018666744232, 0.23189018666744232, 0.23189018666744232, 0.43902885913848877, 0.21951442956924438, 0.21951442956924438, 0.14223140478134155, 0.14223140478134155, 0.09482093900442123, 0.04741046950221062, 0.18964187800884247, 0.09482093900442123, 0.09482093900442123, 0.04741046950221062, 0.04741046950221062, 0.04741046950221062, 0.3931336998939514, 0.2178318351507187, 0.10891591757535934, 0.32674774527549744, 0.10891591757535934, 0.10891591757535934, 0.10891591757535934, 0.09292183071374893, 0.18584366142749786, 0.12389577180147171, 0.09292183071374893, 0.09292183071374893, 0.1393827497959137, 0.07743486016988754, 0.10840880125761032, 0.07743486016988754, 0.030973942950367928, 0.5391048192977905, 0.26955240964889526, 0.26955240964889526, 0.09567494690418243, 0.09567494690418243, 0.19134989380836487, 0.14351242780685425, 0.09567494690418243, 0.04783747345209122, 0.04783747345209122, 0.09567494690418243, 0.09567494690418243, 0.09567494690418243, 0.8707234263420105, 0.6013280153274536, 0.3157179057598114, 0.3157179057598114, 0.4321448504924774, 0.3902571201324463, 0.19512856006622314, 0.06504285335540771, 0.13008570671081543, 0.06504285335540771, 0.06504285335540771, 0.11584575474262238, 0.05792287737131119, 0.05792287737131119, 0.05792287737131119, 0.11584575474262238, 0.3475372791290283, 0.05792287737131119, 0.05792287737131119, 0.05792287737131119, 0.05792287737131119, 0.6821507811546326, 0.1625160574913025, 0.10834403336048126, 0.05417201668024063, 0.10834403336048126, 0.1625160574913025, 0.1625160574913025, 0.05417201668024063, 0.10834403336048126, 0.05417201668024063, 0.10834403336048126, 0.23010718822479248, 0.1314898282289505, 0.14792604744434357, 0.11505359411239624, 0.09861736744642258, 0.016436228528618813, 0.08218114078044891, 0.06574491411447525, 0.06574491411447525, 0.032872457057237625, 0.18349379301071167, 0.18349379301071167, 0.09174689650535583, 0.09174689650535583, 0.06116459518671036, 0.06116459518671036, 0.06116459518671036, 0.06116459518671036, 0.12232919037342072, 0.06116459518671036, 0.14828000962734222, 0.07414000481367111, 0.29656001925468445, 0.14828000962734222, 0.07414000481367111, 0.14828000962734222, 0.07414000481367111, 0.07414000481367111, 0.07414000481367111, 0.43521156907081604, 0.2901410460472107, 0.7461047172546387, 0.10658638924360275, 0.10658638924360275, 0.39726513624191284, 0.5568505525588989, 0.5593539476394653, 0.6793631911277771, 0.4426402449607849, 0.6821542382240295, 0.14578594267368317, 0.29157188534736633, 0.09719063341617584, 0.04859531670808792, 0.14578594267368317, 0.04859531670808792, 0.04859531670808792, 0.04859531670808792, 0.04859531670808792, 0.04859531670808792, 0.5534605979919434, 0.6300159096717834, 0.6341651678085327, 0.05870695784687996, 0.11741391569375992, 0.17612087726593018, 0.11741391569375992, 0.11741391569375992, 0.11741391569375992, 0.11741391569375992, 0.05870695784687996, 0.05870695784687996, 0.11741391569375992, 0.6156339049339294, 0.2749664783477783, 0.09165548533201218, 0.09165548533201218, 0.09165548533201218, 0.3666219413280487, 0.40725767612457275, 0.6811012625694275, 0.24494780600070953, 0.48989561200141907, 0.6187882423400879, 0.642146110534668, 0.6366585493087769, 0.1845015287399292, 0.5535045862197876, 0.1845015287399292, 0.4110497534275055, 0.08220995217561722, 0.08220995217561722, 0.08220995217561722, 0.08220995217561722, 0.08220995217561722, 0.08220995217561722, 0.08661262691020966, 0.3031441867351532, 0.08661262691020966, 0.04330631345510483, 0.04330631345510483, 0.1732252538204193, 0.08661262691020966, 0.08661262691020966, 0.08661262691020966, 0.04330631345510483, 0.4524686634540558, 0.5543256402015686, 0.6526963710784912, 0.321447491645813, 0.642894983291626, 0.4554327130317688, 0.2277163565158844, 0.1138581782579422, 0.1138581782579422, 0.6270700097084045, 0.06717079132795334, 0.4030247628688812, 0.2015123814344406, 0.13434158265590668, 0.06717079132795334, 0.5542593598365784, 0.6340399384498596, 0.6021859049797058, 0.15054647624492645, 0.4180896580219269, 0.41443079710006714, 0.17979975044727325, 0.08989987522363663, 0.13484981656074524, 0.044949937611818314, 0.08989987522363663, 0.044949937611818314, 0.08989987522363663, 0.2696996331214905, 0.044949937611818314, 0.4540616273880005, 0.626543402671814, 0.16133035719394684, 0.16133035719394684, 0.16133035719394684, 0.16133035719394684, 0.3226607143878937, 0.6389596462249756, 0.31429314613342285, 0.543160080909729, 0.10286866873502731, 0.10286866873502731, 0.10286866873502731, 0.06857911497354507, 0.10286866873502731, 0.1714477837085724, 0.13715822994709015, 0.10286866873502731, 0.03428955748677254, 0.03428955748677254, 0.10156583786010742, 0.10156583786010742, 0.10156583786010742, 0.10156583786010742, 0.30469751358032227, 0.10156583786010742, 0.20079156756401062, 0.040158312767744064, 0.10039578378200531, 0.16063325107097626, 0.10039578378200531, 0.12047494202852249, 0.08031662553548813, 0.060237471014261246, 0.040158312767744064, 0.08031662553548813, 0.10125716775655746, 0.10125716775655746, 0.10125716775655746, 0.1518857479095459, 0.05062858387827873, 0.10125716775655746, 0.10125716775655746, 0.05062858387827873, 0.05062858387827873, 0.1518857479095459, 0.12124033272266388, 0.12124033272266388, 0.06062016636133194, 0.06062016636133194, 0.12124033272266388, 0.18186050653457642, 0.06062016636133194, 0.06062016636133194, 0.06062016636133194, 0.12124033272266388, 0.1732771098613739, 0.15994809567928314, 0.18660610914230347, 0.09330305457115173, 0.07997404783964157, 0.05331603065133095, 0.05331603065133095, 0.06664504110813141, 0.07997404783964157, 0.039987023919820786, 0.6812356114387512, 0.5371002554893494, 0.17903341352939606, 0.6815013885498047, 0.18750810623168945, 0.11719256639480591, 0.1406310796737671, 0.04687702655792236, 0.11719256639480591, 0.07031553983688354, 0.09375405311584473, 0.16406959295272827, 0.07031553983688354, 0.02343851327896118, 0.074575275182724, 0.074575275182724, 0.149150550365448, 0.074575275182724, 0.149150550365448, 0.298301100730896, 0.074575275182724, 0.074575275182724, 0.074575275182724, 0.1395786553621292, 0.1395786553621292, 0.10468399524688721, 0.0697893276810646, 0.20936799049377441, 0.0697893276810646, 0.0697893276810646, 0.1395786553621292, 0.0697893276810646, 0.0348946638405323, 0.13705092668533325, 0.20557639002799988, 0.13705092668533325, 0.06852546334266663, 0.06852546334266663, 0.03426273167133331, 0.17131365835666656, 0.10278819501399994, 0.06852546334266663, 0.03426273167133331, 0.5928041338920593, 0.12587782740592957, 0.08391855657100677, 0.08391855657100677, 0.08391855657100677, 0.08391855657100677, 0.20979638397693634, 0.04195927828550339, 0.16783711314201355, 0.12587782740592957, 0.04195927828550339, 0.11286289244890213, 0.18810482323169708, 0.1504838466644287, 0.09405241161584854, 0.11286289244890213, 0.056431446224451065, 0.07524192333221436, 0.09405241161584854, 0.056431446224451065, 0.03762096166610718, 0.2095397561788559, 0.2095397561788559, 0.6286192536354065, 0.6588711142539978, 0.7010931968688965, 0.4516757130622864, 0.2258378565311432, 0.2258378565311432, 0.43941789865493774, 0.6269646286964417, 0.432096391916275, 0.43049710988998413, 0.12235462665557861, 0.48941850662231445, 0.12235462665557861, 0.12235462665557861, 0.16898123919963837, 0.11265415698289871, 0.16898123919963837, 0.2816354036331177, 0.056327078491449356, 0.11265415698289871, 0.056327078491449356, 0.056327078491449356, 0.6341683864593506, 0.5358105301856995, 0.13395263254642487, 0.13395263254642487, 0.3207798898220062, 0.43199992179870605, 0.5927122235298157, 0.19757074117660522, 0.11381027847528458, 0.22762055695056915, 0.09311750531196594, 0.062078334391117096, 0.1345030665397644, 0.09311750531196594, 0.031039167195558548, 0.12415666878223419, 0.08277111500501633, 0.02069277875125408, 0.28042730689048767, 0.14021365344524384, 0.07010682672262192, 0.28042730689048767, 0.14021365344524384, 0.07010682672262192, 0.4347452223300934, 0.4657752215862274, 0.4657752215862274, 0.12139470130205154, 0.12139470130205154, 0.2731380760669708, 0.12139470130205154, 0.030348675325512886, 0.06069735065102577, 0.06069735065102577, 0.06069735065102577, 0.06069735065102577, 0.6319074630737305, 0.27625149488449097, 0.09208383411169052, 0.09208383411169052, 0.18416766822338104, 0.09208383411169052, 0.1465778797864914, 0.0732889398932457, 0.0732889398932457, 0.0732889398932457, 0.1465778797864914, 0.0732889398932457, 0.2931557595729828, 0.0732889398932457, 0.5957088470458984, 0.5944786071777344, 0.09907976537942886, 0.09907976537942886, 0.09907976537942886, 0.09907976537942886, 0.872157871723175, 0.6184939742088318, 0.26337581872940063, 0.07901274412870407, 0.1053503230214119, 0.23703822493553162, 0.05267516151070595, 0.05267516151070595, 0.05267516151070595, 0.07901274412870407, 0.05267516151070595, 0.026337580755352974, 0.45295700430870056, 0.22647850215435028, 0.14683464169502258, 0.048944879323244095, 0.14683464169502258, 0.048944879323244095, 0.048944879323244095, 0.09788975864648819, 0.09788975864648819, 0.19577951729297638, 0.09788975864648819, 0.048944879323244095, 0.11719101667404175, 0.11719101667404175, 0.468764066696167, 0.11719101667404175, 0.11719101667404175, 0.44253697991371155, 0.6992067694664001, 0.7083656191825867, 0.35418280959129333, 0.17977966368198395, 0.5393389463424683, 0.26345470547676086, 0.06586367636919022, 0.06586367636919022, 0.3951820731163025, 0.13172735273838043, 0.4661194384098053, 0.4661194384098053, 0.04290264844894409, 0.12870794534683228, 0.25741589069366455, 0.21451324224472046, 0.04290264844894409, 0.08580529689788818, 0.04290264844894409, 0.04290264844894409, 0.08580529689788818, 0.04290264844894409, 0.5427511930465698, 0.3810064494609833, 0.3810064494609833, 0.1730114221572876, 0.144176185131073, 0.2306818962097168, 0.0576704740524292, 0.1153409481048584, 0.0576704740524292, 0.1153409481048584, 0.0865057110786438, 0.0576704740524292, 0.18638254702091217, 0.09319127351045609, 0.09319127351045609, 0.46595636010169983, 0.09319127351045609, 0.22462192177772522, 0.44924384355545044, 0.2518889307975769, 0.5037778615951538, 0.4411360025405884, 0.2205680012702942, 0.6080408692359924, 0.6832444667816162, 0.17740412056446075, 0.07096164673566818, 0.14192329347133636, 0.03548082336783409, 0.03548082336783409, 0.10644247382879257, 0.10644247382879257, 0.07096164673566818, 0.21288494765758514, 0.03548082336783409, 0.6035659313201904, 0.2877683937549591, 0.2877683937549591, 0.12463750690221786, 0.12463750690221786, 0.3739125430583954, 0.12463750690221786, 0.1560177057981491, 0.07800885289907455, 0.07800885289907455, 0.23402655124664307, 0.07800885289907455, 0.07800885289907455, 0.3120354115962982, 0.44203802943229675, 0.5944088101387024, 0.6156372427940369, 0.5531694293022156, 0.6345539093017578, 0.6344308257102966, 0.46546173095703125, 0.15515391528606415, 0.15515391528606415, 0.6181627511978149, 0.08964894711971283, 0.2689468264579773, 0.08964894711971283, 0.08964894711971283, 0.08964894711971283, 0.08964894711971283, 0.2689468264579773, 0.08964894711971283, 0.2207316756248474, 0.0882926657795906, 0.1103658378124237, 0.19865849614143372, 0.0882926657795906, 0.02207316644489765, 0.0662195011973381, 0.1103658378124237, 0.0882926657795906, 0.02207316644489765, 0.28814375400543213, 0.057628750801086426, 0.14407187700271606, 0.18729344010353088, 0.07203593850135803, 0.08644312620162964, 0.028814375400543213, 0.04322156310081482, 0.057628750801086426, 0.014407187700271606, 0.14645850658416748, 0.14645850658416748, 0.43937548995018005, 0.14645850658416748, 0.13046693801879883, 0.13046693801879883, 0.13046693801879883, 0.06523346900939941, 0.06523346900939941, 0.26093387603759766, 0.06523346900939941, 0.13046693801879883, 0.3527813255786896, 0.3527813255786896, 0.5534467697143555, 0.1676667183637619, 0.1676667183637619, 0.1676667183637619, 0.3353334367275238, 0.6188912391662598, 0.11857672780752182, 0.11857672780752182, 0.4743069112300873, 0.11857672780752182, 0.11857672780752182, 0.07512623071670532, 0.07512623071670532, 0.07512623071670532, 0.07512623071670532, 0.15025246143341064, 0.3005049228668213, 0.07512623071670532, 0.15025246143341064, 0.6155727505683899, 0.3779516816139221, 0.09448792040348053, 0.18897584080696106, 0.09448792040348053, 0.09448792040348053, 0.09448792040348053, 0.42681142687797546, 0.434942364692688, 0.6344659924507141, 0.15169720351696014, 0.11377289891242981, 0.13273504376411438, 0.20858363807201385, 0.09481074661016464, 0.07584860175848007, 0.056886449456214905, 0.09481074661016464, 0.056886449456214905, 0.018962150439620018, 0.0908179059624672, 0.0908179059624672, 0.0908179059624672, 0.3632716238498688, 0.0908179059624672, 0.0908179059624672, 0.0908179059624672, 0.42746487259864807, 0.583913266658783, 0.6345083117485046, 0.13546448945999146, 0.13546448945999146, 0.13546448945999146, 0.10159836709499359, 0.06773224472999573, 0.16933061182498932, 0.06773224472999573, 0.06773224472999573, 0.06773224472999573, 0.033866122364997864, 0.7167585492134094, 0.4409746825695038, 0.146991565823555, 0.146991565823555, 0.146991565823555, 0.13022075593471527, 0.5208830237388611, 0.13022075593471527, 0.13022075593471527, 0.6181897521018982, 0.5303438305854797, 0.17678126692771912, 0.42226463556289673, 0.8524253368377686, 0.17360541224479675, 0.17360541224479675, 0.5208162665367126, 0.37113916873931885, 0.4654686450958252, 0.12918676435947418, 0.6459338665008545, 0.18473957479000092, 0.1385546773672104, 0.09236978739500046, 0.09236978739500046, 0.09236978739500046, 0.18473957479000092, 0.09236978739500046, 0.04618489369750023, 0.04618489369750023, 0.1717534363269806, 0.1717534363269806, 0.3435068726539612, 0.41938120126724243, 0.27958744764328003, 0.13979372382164001, 0.11758439242839813, 0.11758439242839813, 0.11758439242839813, 0.23516878485679626, 0.3527531921863556, 0.47142377495765686, 0.6341544389724731, 0.24088843166828156, 0.12044421583414078, 0.12044421583414078, 0.36133265495300293, 0.4545826017856598, 0.21849459409713745, 0.1456630527973175, 0.09103941172361374, 0.10924729704856873, 0.036415763199329376, 0.07283152639865875, 0.1456630527973175, 0.12745517492294312, 0.036415763199329376, 0.5438891649246216, 0.1744956076145172, 0.10469736158847809, 0.13959649205207825, 0.13959649205207825, 0.06979824602603912, 0.13959649205207825, 0.03489912301301956, 0.13959649205207825, 0.03489912301301956, 0.4133055508136749, 0.18379727005958557, 0.36759454011917114, 0.18379727005958557, 0.5246442556381226, 0.2623221278190613, 0.6826149821281433, 0.21626529097557068, 0.1922358125448227, 0.07208842784166336, 0.09611790627241135, 0.07208842784166336, 0.09611790627241135, 0.09611790627241135, 0.04805895313620567, 0.09611790627241135, 0.024029476568102837, 0.6330588459968567, 0.2609925866127014, 0.22836850583553314, 0.09787221997976303, 0.1304962933063507, 0.06524814665317535, 0.06524814665317535, 0.03262407332658768, 0.09787221997976303, 0.12955904006958008, 0.09716927260160446, 0.09716927260160446, 0.06477952003479004, 0.19433854520320892, 0.09716927260160446, 0.09716927260160446, 0.09716927260160446, 0.09716927260160446, 0.03238976001739502, 0.43565329909324646, 0.038221828639507294, 0.5351056456565857, 0.15288731455802917, 0.15288731455802917, 0.038221828639507294, 0.038221828639507294, 0.038221828639507294, 0.038221828639507294, 0.7751156091690063, 0.1523289680480957, 0.038082242012023926, 0.19041122496128082, 0.2665756940841675, 0.07616448402404785, 0.07616448402404785, 0.038082242012023926, 0.07616448402404785, 0.038082242012023926, 0.038082242012023926, 0.396554172039032, 0.5520876049995422, 0.6156788468360901, 0.4436767101287842, 0.3730669617652893, 0.22384017705917358, 0.14922678470611572, 0.07461339235305786, 0.07461339235305786, 0.07461339235305786, 0.07461339235305786, 0.3180311322212219, 0.3180311322212219, 0.6187273859977722, 0.6340823769569397, 0.20388786494731903, 0.06796262413263321, 0.10194393247365952, 0.06796262413263321, 0.20388786494731903, 0.06796262413263321, 0.10194393247365952, 0.06796262413263321, 0.10194393247365952, 0.033981312066316605, 0.14990194141864777, 0.19986926019191742, 0.09993463009595871, 0.07495097070932388, 0.14990194141864777, 0.12491828948259354, 0.049967315047979355, 0.049967315047979355, 0.049967315047979355, 0.049967315047979355, 0.4302428364753723, 0.4333333373069763, 0.6515204906463623, 0.11766248941421509, 0.7059749364852905, 0.43483462929725647, 0.13891711831092834, 0.20837567746639252, 0.13891711831092834, 0.0416751354932785, 0.0416751354932785, 0.15280883014202118, 0.06945855915546417, 0.1250254064798355, 0.05556684732437134, 0.0416751354932785, 0.12325017154216766, 0.030812542885541916, 0.1848752647638321, 0.15406271815299988, 0.09243763238191605, 0.12325017154216766, 0.09243763238191605, 0.06162508577108383, 0.06162508577108383, 0.06162508577108383, 0.31309983134269714, 0.052183303982019424, 0.10436660796403885, 0.2087332159280777, 0.052183303982019424, 0.052183303982019424, 0.052183303982019424, 0.052183303982019424, 0.052183303982019424, 0.052183303982019424, 0.4293140769004822, 0.49201011657714844, 0.852942705154419, 0.4302302598953247, 0.0931968167424202, 0.12426242232322693, 0.12426242232322693, 0.0931968167424202, 0.15532802045345306, 0.12426242232322693, 0.062131211161613464, 0.0931968167424202, 0.031065605580806732, 0.062131211161613464, 0.07992511242628098, 0.07992511242628098, 0.15985022485256195, 0.3197004497051239, 0.07992511242628098, 0.07992511242628098, 0.07992511242628098, 0.07992511242628098, 0.3683761656284332, 0.42637962102890015, 0.6340493559837341, 0.28313061594963074, 0.08089446276426315, 0.08089446276426315, 0.12134169042110443, 0.08089446276426315, 0.12134169042110443, 0.08089446276426315, 0.08089446276426315, 0.08089446276426315, 0.3229013681411743, 0.08072534203529358, 0.04036267101764679, 0.12108801305294037, 0.12108801305294037, 0.08072534203529358, 0.08072534203529358, 0.08072534203529358, 0.08072534203529358, 0.04036267101764679, 0.179113507270813, 0.179113507270813, 0.358227014541626, 0.179113507270813, 0.6550512313842773, 0.32752561569213867, 0.5464409589767456, 0.5463912487030029, 0.14784014225006104, 0.14784014225006104, 0.19712018966674805, 0.13798412680625916, 0.07884807139635086, 0.059136055409908295, 0.08870407938957214, 0.07884807139635086, 0.04928004741668701, 0.029568027704954147, 0.6107273101806641, 0.5129631161689758, 0.17098771035671234, 0.6829177737236023, 0.682799756526947, 0.5918505191802979, 0.15139317512512207, 0.10092878341674805, 0.10092878341674805, 0.05046439170837402, 0.10092878341674805, 0.15139317512512207, 0.10092878341674805, 0.05046439170837402, 0.10092878341674805, 0.6825344562530518, 0.551925003528595, 0.4300822615623474, 0.49752089381217957, 0.49752089381217957, 0.0795847699046135, 0.159169539809227, 0.2387543022632599, 0.02652825601398945, 0.0795847699046135, 0.02652825601398945, 0.159169539809227, 0.1061130240559578, 0.1061130240559578, 0.02652825601398945, 0.24241754412651062, 0.08555912971496582, 0.08555912971496582, 0.24241754412651062, 0.08555912971496582, 0.07129927724599838, 0.04277956485748291, 0.04277956485748291, 0.09981898963451385, 0.014259855262935162, 0.11458637565374374, 0.05729318782687187, 0.11458637565374374, 0.34375911951065063, 0.11458637565374374, 0.11458637565374374, 0.05729318782687187, 0.05729318782687187, 0.05729318782687187, 0.04528193175792694, 0.2264096587896347, 0.13584579527378082, 0.04528193175792694, 0.2264096587896347, 0.18112772703170776, 0.04528193175792694, 0.04528193175792694, 0.04528193175792694, 0.1396774798631668, 0.1396774798631668, 0.2793549597263336, 0.1396774798631668, 0.1396774798631668, 0.1396774798631668, 0.4316630959510803, 0.31355252861976624, 0.06967833638191223, 0.06967833638191223, 0.10451750457286835, 0.10451750457286835, 0.034839168190956116, 0.13935667276382446, 0.034839168190956116, 0.10451750457286835, 0.034839168190956116, 0.13830406963825226, 0.1290838122367859, 0.13830406963825226, 0.1014229878783226, 0.1290838122367859, 0.08298244327306747, 0.09220271557569504, 0.08298244327306747, 0.08298244327306747, 0.02766081504523754, 0.12230949103832245, 0.07338569313287735, 0.12230949103832245, 0.0489237979054451, 0.07338569313287735, 0.2446189820766449, 0.12230949103832245, 0.0978475958108902, 0.07338569313287735, 0.02446189895272255, 0.6251146793365479, 0.3747056722640991, 0.0630437433719635, 0.126087486743927, 0.126087486743927, 0.1891312301158905, 0.0630437433719635, 0.0630437433719635, 0.0630437433719635, 0.252174973487854, 0.5774943232536316, 0.2887471616268158, 0.36938008666038513, 0.5540701746940613, 0.4100377559661865, 0.42967110872268677, 0.4187668561935425, 0.3991991877555847, 0.15967966616153717, 0.07983983308076859, 0.07983983308076859, 0.07983983308076859, 0.07983983308076859, 0.07983983308076859, 0.6177292466163635, 0.17383354902267456, 0.11062134802341461, 0.11062134802341461, 0.1264244019985199, 0.06321220099925995, 0.14222745597362518, 0.06321220099925995, 0.09481830149888992, 0.09481830149888992, 0.031606100499629974, 0.06818576902151108, 0.13637153804302216, 0.13637153804302216, 0.06818576902151108, 0.06818576902151108, 0.2727430760860443, 0.06818576902151108, 0.06818576902151108, 0.06818576902151108, 0.6340935230255127, 0.4268801510334015, 0.4263703525066376, 0.4263703525066376, 0.09854002296924591, 0.19708004593849182, 0.09854002296924591, 0.03284667432308197, 0.06569334864616394, 0.06569334864616394, 0.19708004593849182, 0.19708004593849182, 0.06569334864616394, 0.03284667432308197, 0.07174257934093475, 0.1673993468284607, 0.1434851586818695, 0.07174257934093475, 0.09565676748752594, 0.09565676748752594, 0.09565676748752594, 0.11957096308469772, 0.11957096308469772, 0.023914191871881485, 0.18574689328670502, 0.5572406649589539, 0.25251224637031555, 0.5050244927406311, 0.15702874958515167, 0.4710862338542938, 0.33770403265953064, 0.33770403265953064, 0.6156073212623596, 0.2040809541940689, 0.2040809541940689, 0.4081619083881378, 0.43587493896484375, 0.14529164135456085, 0.14529164135456085, 0.7144778370857239, 0.17861945927143097, 0.3370450735092163, 0.5055676102638245, 0.4048789441585541, 0.4048789441585541, 0.4409552216529846, 0.54048752784729, 0.4182550609111786, 0.2012758105993271, 0.1610206514596939, 0.1610206514596939, 0.04025516286492348, 0.2012758105993271, 0.04025516286492348, 0.04025516286492348, 0.08051032572984695, 0.08051032572984695, 0.04025516286492348, 0.03297584131360054, 0.06595168262720108, 0.03297584131360054, 0.09892752766609192, 0.2638067305088043, 0.1648792177438736, 0.29678258299827576, 0.03297584131360054, 0.48070022463798523, 0.16023340821266174, 0.16023340821266174, 0.1359112709760666, 0.18121501803398132, 0.09060750901699066, 0.09060750901699066, 0.04530375450849533, 0.22651877999305725, 0.09060750901699066, 0.04530375450849533, 0.09060750901699066, 0.04530375450849533, 0.43603476881980896, 0.06513942033052444, 0.06513942033052444, 0.06513942033052444, 0.06513942033052444, 0.1302788406610489, 0.2605576813220978, 0.19541826844215393, 0.06513942033052444, 0.06513942033052444, 0.06513942033052444, 0.17506109178066254, 0.17506109178066254, 0.17506109178066254, 0.17506109178066254, 0.3501221835613251, 0.310529500246048, 0.621059000492096, 0.12968730926513672, 0.12968730926513672, 0.12968730926513672, 0.38906192779541016, 0.12968730926513672, 0.12968730926513672, 0.6815182566642761, 0.11695248633623123, 0.4678099453449249, 0.11695248633623123, 0.11695248633623123, 0.11695248633623123, 0.11695248633623123, 0.5533249974250793, 0.5518571734428406, 0.3731274902820587, 0.2403094470500946, 0.09011604636907578, 0.06007736176252365, 0.030038680881261826, 0.18023209273815155, 0.21027077734470367, 0.030038680881261826, 0.06007736176252365, 0.09011604636907578, 0.030038680881261826, 0.4571826159954071, 0.555781364440918, 0.22951224446296692, 0.45902448892593384, 0.3348931670188904, 0.3348931670188904, 0.44179409742355347, 0.6350486874580383, 0.14990510046482086, 0.14990510046482086, 0.4497153162956238, 0.14990510046482086, 0.4254440665245056, 0.8191206455230713, 0.5927572846412659, 0.11197784543037415, 0.05598892271518707, 0.2239556908607483, 0.05598892271518707, 0.05598892271518707, 0.11197784543037415, 0.2239556908607483, 0.11197784543037415, 0.09946706891059875, 0.1989341378211975, 0.397868275642395, 0.09946706891059875, 0.09946706891059875, 0.09946706891059875, 0.4166281521320343, 0.4166281521320343, 0.4363004267215729, 0.43207553029060364, 0.22651056945323944, 0.4530211389064789, 0.22651056945323944, 0.7551625370979309, 0.6061000823974609, 0.6327322125434875, 0.3588256537914276, 0.1794128268957138, 0.1794128268957138, 0.11384269595146179, 0.1914627104997635, 0.13712869584560394, 0.15782737731933594, 0.09055668860673904, 0.056921347975730896, 0.0931440219283104, 0.06985801458358765, 0.0672706812620163, 0.02069867216050625, 0.4338868260383606, 0.721544086933136, 0.19195877015590668, 0.19195877015590668, 0.19195877015590668, 0.19195877015590668, 0.19195877015590668, 0.6818608045578003, 0.2770933508872986, 0.12122833728790283, 0.08659166842699051, 0.06927333772182465, 0.15586499869823456, 0.08659166842699051, 0.06927333772182465, 0.051955003291368484, 0.051955003291368484, 0.01731833443045616, 0.18404243886470795, 0.07361697405576706, 0.18404243886470795, 0.07361697405576706, 0.11042546480894089, 0.07361697405576706, 0.18404243886470795, 0.07361697405576706, 0.03680848702788353, 0.03680848702788353, 0.09616968035697937, 0.12021210044622421, 0.12321740388870239, 0.045079536736011505, 0.1382439136505127, 0.12021210044622421, 0.12321740388870239, 0.12622269988059998, 0.09015907347202301, 0.018031815066933632, 0.16332565248012543, 0.16332565248012543, 0.32665130496025085, 0.16332565248012543, 0.6342223882675171, 0.11512511968612671, 0.11512511968612671, 0.13431264460086823, 0.11512511968612671, 0.09593759477138519, 0.07675007730722427, 0.07675007730722427, 0.13431264460086823, 0.09593759477138519, 0.01918751932680607, 0.6182887554168701, 0.43536028265953064, 0.4346531331539154, 0.2173265665769577, 0.4346531331539154, 0.6821784377098083, 0.5938477516174316, 0.5742824673652649, 0.4919638931751251, 0.2384120672941208, 0.4768241345882416, 0.3960583209991455, 0.3960583209991455, 0.5406345129013062, 0.360020250082016, 0.1080060750246048, 0.0720040500164032, 0.2520141899585724, 0.0360020250082016, 0.0360020250082016, 0.0360020250082016, 0.0720040500164032, 0.23313000798225403, 0.46626001596450806, 0.23313000798225403, 0.07475104928016663, 0.07475104928016663, 0.14950209856033325, 0.44850632548332214, 0.07475104928016663, 0.07475104928016663, 0.07475104928016663, 0.14680249989032745, 0.07340124994516373, 0.07340124994516373, 0.14680249989032745, 0.14680249989032745, 0.07340124994516373, 0.07340124994516373, 0.22020374238491058, 0.5801594853401184, 0.6187993884086609, 0.7203696370124817, 0.5528163909912109, 0.4457665681838989, 0.22288328409194946, 0.48269328474998474, 0.10722821205854416, 0.10722821205854416, 0.13403525948524475, 0.08042115718126297, 0.10722821205854416, 0.13403525948524475, 0.10722821205854416, 0.10722821205854416, 0.05361410602927208, 0.08042115718126297, 0.42623376846313477, 0.4865182340145111, 0.13900521397590637, 0.20850782096385956, 0.06950260698795319, 0.06950260698795319, 0.30217212438583374, 0.30217212438583374, 0.3024759292602539, 0.6049518585205078, 0.10342840105295181, 0.24133293330669403, 0.17238067090511322, 0.06895226240158081, 0.06895226240158081, 0.06895226240158081, 0.06895226240158081, 0.10342840105295181, 0.10342840105295181, 0.034476131200790405, 0.16861455142498016, 0.16861455142498016, 0.16861455142498016, 0.16861455142498016, 0.3372291028499603, 0.18372772634029388, 0.1531064361333847, 0.27559158205986023, 0.06124257296323776, 0.06124257296323776, 0.03062128648161888, 0.12248514592647552, 0.06124257296323776, 0.03062128648161888, 0.16884580254554749, 0.19698676466941833, 0.08442290127277374, 0.08442290127277374, 0.056281935423612595, 0.14070484042167664, 0.056281935423612595, 0.11256387084722519, 0.056281935423612595, 0.056281935423612595, 0.06062743440270424, 0.36376461386680603, 0.18188230693340302, 0.18188230693340302, 0.06062743440270424, 0.06062743440270424, 0.06062743440270424, 0.06062743440270424, 0.06062743440270424, 0.1294279843568802, 0.11093827337026596, 0.11093827337026596, 0.11093827337026596, 0.1294279843568802, 0.11093827337026596, 0.0739588513970375, 0.11093827337026596, 0.05546913668513298, 0.03697942569851875, 0.6910067200660706, 0.6071485877037048, 0.634103536605835, 0.11042089015245438, 0.11042089015245438, 0.11042089015245438, 0.11042089015245438, 0.11042089015245438, 0.3312626779079437, 0.11042089015245438, 0.6085619926452637, 0.7152284383773804, 0.12822838127613068, 0.25645676255226135, 0.12822838127613068, 0.38468512892723083, 0.12822838127613068, 0.48470768332481384, 0.6144945025444031, 0.30724725127220154, 0.2740740180015564, 0.5481480360031128, 0.2569526433944702, 0.5139052867889404, 0.08585819602012634, 0.17171639204025269, 0.08585819602012634, 0.08585819602012634, 0.08585819602012634, 0.21464549005031586, 0.06439364701509476, 0.08585819602012634, 0.06439364701509476, 0.06439364701509476, 0.4708203375339508, 0.15339113771915436, 0.15339113771915436, 0.46017342805862427, 0.15339113771915436, 0.19081445038318634, 0.14311084151268005, 0.14311084151268005, 0.09540722519159317, 0.11925903707742691, 0.07155542075634003, 0.11925903707742691, 0.07155542075634003, 0.047703612595796585, 0.023851806297898293, 0.1444453001022339, 0.3129648268222809, 0.04814843460917473, 0.024074217304587364, 0.09629686921834946, 0.07222265005111694, 0.07222265005111694, 0.12037108093500137, 0.04814843460917473, 0.024074217304587364, 0.4384141266345978, 0.2192070633172989, 0.2192070633172989, 0.7830287218093872, 0.1223457083106041, 0.4893828332424164, 0.1223457083106041, 0.1223457083106041, 0.20234432816505432, 0.10117216408252716, 0.23606839776039124, 0.06744810938835144, 0.10117216408252716, 0.06744810938835144, 0.06744810938835144, 0.03372405469417572, 0.10117216408252716, 0.06744810938835144, 0.3624710142612457, 0.8192372918128967, 0.3200007677078247, 0.3200007677078247, 0.5403649806976318, 0.2701824903488159, 0.329139769077301, 0.6183023452758789, 0.2818976640701294, 0.0845692977309227, 0.056379534304142, 0.112759068608284, 0.0845692977309227, 0.028189767152071, 0.112759068608284, 0.056379534304142, 0.1691385954618454, 0.39626091718673706, 0.39626091718673706, 0.16181166470050812, 0.09246380627155304, 0.16181166470050812, 0.1155797615647316, 0.09246380627155304, 0.06934785842895508, 0.06934785842895508, 0.1155797615647316, 0.09246380627155304, 0.02311595156788826, 0.13096986711025238, 0.13096986711025238, 0.043656621128320694, 0.13096986711025238, 0.043656621128320694, 0.08731324225664139, 0.08731324225664139, 0.13096986711025238, 0.17462648451328278, 0.4081781804561615, 0.06802969425916672, 0.13605938851833344, 0.06802969425916672, 0.13605938851833344, 0.13605938851833344, 0.06802969425916672, 0.16076426208019257, 0.10230453312397003, 0.2192240059375763, 0.14614933729171753, 0.10230453312397003, 0.0438448004424572, 0.0876896008849144, 0.0438448004424572, 0.05845973268151283, 0.029229866340756416, 0.8721110820770264, 0.13869233429431915, 0.11887914687395096, 0.23775829374790192, 0.039626382291316986, 0.07925276458263397, 0.05943957343697548, 0.11887914687395096, 0.11887914687395096, 0.05943957343697548, 0.019813191145658493, 0.20214572548866272, 0.10884769260883331, 0.10884769260883331, 0.09329802542924881, 0.09329802542924881, 0.07774835079908371, 0.09329802542924881, 0.09329802542924881, 0.06219868361949921, 0.06219868361949921, 0.14245475828647614, 0.20576798915863037, 0.14245475828647614, 0.12662644684314728, 0.09496983885765076, 0.06331322342157364, 0.04748491942882538, 0.06331322342157364, 0.0791415348649025, 0.04748491942882538, 0.5447553396224976, 0.1500271111726761, 0.1875338852405548, 0.11252032965421677, 0.03750677779316902, 0.22504065930843353, 0.03750677779316902, 0.03750677779316902, 0.11252032965421677, 0.03750677779316902, 0.03750677779316902, 0.36025917530059814, 0.18012958765029907, 0.18012958765029907, 0.42038774490356445, 0.5507943630218506, 0.1835981160402298, 0.1835981160402298, 0.4842252731323242, 0.1268671602010727, 0.08457810431718826, 0.08457810431718826, 0.08457810431718826, 0.21144525706768036, 0.08457810431718826, 0.04228905215859413, 0.1268671602010727, 0.1268671602010727, 0.08457810431718826, 0.14266051352024078, 0.1019003614783287, 0.12228043377399445, 0.16304057836532593, 0.06114021688699722, 0.1019003614783287, 0.11209040135145187, 0.07133025676012039, 0.08152028918266296, 0.04076014459133148, 0.3466472923755646, 0.3466472923755646, 0.46277961134910583, 0.23669873178005219, 0.13525642454624176, 0.13525642454624176, 0.06762821227312088, 0.06762821227312088, 0.06762821227312088, 0.1690705269575119, 0.03381410613656044, 0.10144231468439102, 0.11806776374578476, 0.11806776374578476, 0.039355918765068054, 0.11806776374578476, 0.23613552749156952, 0.11806776374578476, 0.11806776374578476, 0.07871183753013611, 0.039355918765068054, 0.6824897527694702, 0.13583414256572723, 0.1867719441652298, 0.16979268193244934, 0.08489634096622467, 0.08489634096622467, 0.06791707128286362, 0.050937801599502563, 0.08489634096622467, 0.10187560319900513, 0.03395853564143181, 0.6094435453414917, 0.590772271156311, 0.4363519549369812, 0.6484192609786987, 0.6258707046508789, 0.5540759563446045, 0.7184441089630127, 0.5300078392028809, 0.13250195980072021, 0.13250195980072021, 0.5039716362953186, 0.40317732095718384, 0.10079433023929596, 0.6821183562278748, 0.7355091571807861, 0.12125863134860992, 0.12125863134860992, 0.3637758791446686, 0.12125863134860992, 0.24251726269721985, 0.12422686815261841, 0.062113434076309204, 0.1863403022289276, 0.12422686815261841, 0.0931701511144638, 0.155283585190773, 0.0931701511144638, 0.062113434076309204, 0.062113434076309204, 0.062113434076309204, 0.2379501760005951, 0.11897508800029755, 0.05948754400014877, 0.14871886372566223, 0.17846263945102692, 0.029743772000074387, 0.08923131972551346, 0.05948754400014877, 0.05948754400014877, 0.029743772000074387, 0.0632014349102974, 0.2528057396411896, 0.31600716710090637, 0.0632014349102974, 0.1264028698205948, 0.0632014349102974, 0.10159046947956085, 0.16931745409965515, 0.1354539543390274, 0.10159046947956085, 0.10159046947956085, 0.0677269771695137, 0.16931745409965515, 0.0677269771695137, 0.10159046947956085, 0.03386348858475685, 0.19394947588443756, 0.19394947588443756, 0.19394947588443756, 0.19394947588443756, 0.19394947588443756, 0.19394947588443756, 0.18289311230182648, 0.2090207040309906, 0.13063794374465942, 0.1045103520154953, 0.05225517600774765, 0.07838276773691177, 0.07838276773691177, 0.07838276773691177, 0.07838276773691177, 0.026127588003873825, 0.1498502641916275, 0.07492513209581375, 0.1498502641916275, 0.2622379660606384, 0.11238769441843033, 0.07492513209581375, 0.037462566047906876, 0.037462566047906876, 0.07492513209581375, 0.38719770312309265, 0.14519913494586945, 0.04839971289038658, 0.14519913494586945, 0.04839971289038658, 0.04839971289038658, 0.04839971289038658, 0.04839971289038658, 0.15672114491462708, 0.47016340494155884, 0.15672114491462708, 0.15672114491462708, 0.05920315161347389, 0.11840630322694778, 0.11840630322694778, 0.05920315161347389, 0.11840630322694778, 0.11840630322694778, 0.11840630322694778, 0.05920315161347389, 0.05920315161347389, 0.17760944366455078, 0.5899081826210022, 0.7866326570510864, 0.0708809569478035, 0.10632143914699554, 0.0708809569478035, 0.10632143914699554, 0.2126428782939911, 0.10632143914699554, 0.283523827791214, 0.03544047847390175, 0.03544047847390175, 0.10830673575401306, 0.194952130317688, 0.17329077422618866, 0.1299680769443512, 0.021661346778273582, 0.043322693556547165, 0.1299680769443512, 0.0649840384721756, 0.0649840384721756, 0.043322693556547165, 0.3488371670246124, 0.1744185835123062, 0.3488371670246124, 0.13178077340126038, 0.1797010600566864, 0.1797010600566864, 0.09584056586027145, 0.08386049419641495, 0.04792028293013573, 0.10782063752412796, 0.07188042253255844, 0.08386049419641495, 0.023960141465067863, 0.1764863133430481, 0.1764863133430481, 0.3529726266860962, 0.49043136835098267, 0.1671135574579239, 0.1671135574579239, 0.1671135574579239, 0.1671135574579239, 0.1671135574579239, 0.3330884277820587, 0.4996326267719269, 0.16654421389102936, 0.18498767912387848, 0.07928043603897095, 0.1585608720779419, 0.07928043603897095, 0.026426810771226883, 0.18498767912387848, 0.13213405013084412, 0.026426810771226883, 0.07928043603897095, 0.052853621542453766, 0.1058846265077591, 0.07941347360610962, 0.1852981001138687, 0.07941347360610962, 0.13235577940940857, 0.05294231325387955, 0.05294231325387955, 0.15882694721221924, 0.13235577940940857, 0.05294231325387955, 0.08239402621984482, 0.08239402621984482, 0.16478805243968964, 0.04119701310992241, 0.08239402621984482, 0.12359104305505753, 0.08239402621984482, 0.24718208611011505, 0.08239402621984482, 0.04119701310992241, 0.2127007246017456, 0.09453365206718445, 0.23633414506912231, 0.14180047810077667, 0.047266826033592224, 0.047266826033592224, 0.07090023905038834, 0.07090023905038834, 0.047266826033592224, 0.023633413016796112, 0.13819703459739685, 0.13819703459739685, 0.13819703459739685, 0.5527881383895874, 0.6164029836654663, 0.08805757015943527, 0.08805757015943527], \"Term\": [\"abbott\", \"aboriginal\", \"abortion\", \"abuse\", \"abuse\", \"abuse\", \"abuse\", \"abuse\", \"abuse\", \"abuse\", \"accepting\", \"accepting\", \"accumulated\", \"actor\", \"actor\", \"actress\", \"administrator\", \"administrator\", \"advani\", \"advani\", \"advise\", \"afford\", \"afghan\", \"afghan\", \"afghan\", \"afghan\", \"afghan\", \"afghan\", \"afghan\", \"afghan\", \"afghan\", \"afghanistan\", \"afghanistan\", \"afghanistan\", \"afghanistan\", \"afghanistan\", \"afghanistan\", \"afghanistan\", \"afghanistan\", \"afghanistan\", \"afghanistan\", \"afl\", \"aids\", \"airspace\", \"alarm\", \"alcohol\", \"alcohol\", \"alei\", \"alp\", \"also\", \"also\", \"also\", \"also\", \"also\", \"also\", \"also\", \"also\", \"also\", \"also\", \"anglican\", \"annan\", \"anne\", \"annoy\", \"apparent\", \"arafat\", \"arafat\", \"arafat\", \"arafat\", \"arafat\", \"arafat\", \"arafat\", \"arafat\", \"arafat\", \"arafat\", \"area\", \"area\", \"area\", \"area\", \"area\", \"area\", \"area\", \"area\", \"area\", \"area\", \"areas\", \"areas\", \"areas\", \"areas\", \"areas\", \"areas\", \"areas\", \"areas\", \"areas\", \"areas\", \"argentina\", \"argentina\", \"argentina\", \"argentina\", \"argentina\", \"argentina\", \"army\", \"army\", \"army\", \"army\", \"army\", \"army\", \"army\", \"army\", \"army\", \"around\", \"around\", \"around\", \"around\", \"around\", \"around\", \"around\", \"around\", \"around\", \"around\", \"ascertain\", \"ashes\", \"ashes\", \"asic\", \"asic\", \"asked\", \"asked\", \"asked\", \"asked\", \"asked\", \"asked\", \"asked\", \"asked\", \"asked\", \"asked\", \"attacks\", \"attacks\", \"attacks\", \"attacks\", \"attacks\", \"attacks\", \"attacks\", \"attacks\", \"attacks\", \"attacks\", \"australia\", \"australia\", \"australia\", \"australia\", \"australia\", \"australia\", \"australia\", \"australia\", \"australia\", \"australia\", \"australian\", \"australian\", \"australian\", \"australian\", \"australian\", \"australian\", \"australian\", \"australian\", \"australian\", \"australian\", \"australians\", \"australians\", \"australians\", \"australians\", \"australians\", \"australians\", \"australians\", \"australians\", \"australians\", \"back\", \"back\", \"back\", \"back\", \"back\", \"back\", \"back\", \"back\", \"back\", \"back\", \"baker\", \"baker\", \"band\", \"band\", \"band\", \"band\", \"baseless\", \"battles\", \"beck\", \"best\", \"best\", \"best\", \"best\", \"best\", \"best\", \"best\", \"best\", \"best\", \"best\", \"bettering\", \"bill\", \"bill\", \"bill\", \"bill\", \"bill\", \"bill\", \"bill\", \"bin_laden\", \"bin_laden\", \"bin_laden\", \"bin_laden\", \"bin_laden\", \"bin_laden\", \"bin_laden\", \"bin_laden\", \"bin_laden\", \"bin_laden\", \"bloodshed\", \"blue_mountains\", \"blue_mountains\", \"blue_mountains\", \"blue_mountains\", \"blue_mountains\", \"boat_people\", \"boat_people\", \"boje\", \"boje\", \"bourne\", \"boy\", \"boy\", \"boy\", \"boy\", \"boy\", \"boy\", \"boy\", \"boy\", \"breathing\", \"breathing\", \"brings\", \"bulli\", \"caird\", \"cancer\", \"cancer\", \"cancer\", \"cancer\", \"canyoning\", \"canyoning\", \"canyoning\", \"canyoning\", \"canyoning\", \"canyoning\", \"carefully\", \"carmen\", \"casa\", \"case\", \"case\", \"case\", \"case\", \"case\", \"case\", \"case\", \"casinos\", \"catastrophe\", \"cathy\", \"centre\", \"centre\", \"centre\", \"centre\", \"centre\", \"centre\", \"centre\", \"centre\", \"centre\", \"centre\", \"centrelink\", \"centrelink\", \"chain\", \"change\", \"change\", \"change\", \"change\", \"change\", \"change\", \"change\", \"change\", \"change\", \"cherry\", \"chicago\", \"child_sex\", \"child_sex\", \"child_sex\", \"children\", \"children\", \"children\", \"children\", \"children\", \"children\", \"children\", \"children\", \"children\", \"children\", \"christmas\", \"christmas\", \"christmas\", \"christmas\", \"christmas\", \"christmas\", \"christmas\", \"christmas\", \"christmas\", \"christmas\", \"city\", \"city\", \"city\", \"city\", \"city\", \"city\", \"city\", \"city\", \"city\", \"city\", \"claims\", \"claims\", \"claims\", \"claims\", \"claims\", \"claims\", \"claims\", \"claims\", \"claims\", \"claims\", \"closed\", \"closed\", \"closed\", \"club\", \"club\", \"club\", \"coal\", \"coast\", \"coast\", \"coast\", \"coast\", \"coast\", \"coast\", \"coast\", \"coast\", \"coast\", \"comeback\", \"comeback\", \"comedy\", \"comfortable\", \"command\", \"commonwealth\", \"commonwealth\", \"commonwealth\", \"commonwealth\", \"commonwealth\", \"commonwealth\", \"commonwealth\", \"communications\", \"company\", \"company\", \"company\", \"company\", \"company\", \"company\", \"company\", \"company\", \"company\", \"company\", \"competition\", \"competition\", \"complaints\", \"comprehensively\", \"compromised\", \"condition\", \"condition\", \"condition\", \"confessed\", \"confessed\", \"confirmed\", \"confirmed\", \"confirmed\", \"confirmed\", \"confirmed\", \"confirmed\", \"confirmed\", \"confirmed\", \"confirmed\", \"confirmed\", \"constant\", \"consumers\", \"consumers\", \"consumers\", \"consumers\", \"consumers\", \"contract\", \"contract\", \"contract\", \"control\", \"control\", \"control\", \"control\", \"control\", \"control\", \"control\", \"control\", \"control\", \"control\", \"cosgrove\", \"cost\", \"cost\", \"cost\", \"cost\", \"cost\", \"cost\", \"could\", \"could\", \"could\", \"could\", \"could\", \"could\", \"could\", \"could\", \"could\", \"could\", \"counting\", \"counting\", \"counting\", \"court\", \"court\", \"court\", \"court\", \"court\", \"court\", \"court\", \"court\", \"court\", \"court\", \"cow\", \"crack\", \"crimes\", \"crimes\", \"crowe\", \"cup\", \"cup\", \"cup\", \"cup\", \"cup\", \"cup\", \"cut\", \"cut\", \"cut\", \"cut\", \"cut\", \"cut\", \"cut\", \"cut\", \"cut\", \"cut\", \"dairy\", \"damage\", \"damage\", \"damage\", \"damage\", \"damage\", \"damage\", \"damage\", \"damage\", \"damage\", \"damage\", \"day\", \"day\", \"day\", \"day\", \"day\", \"day\", \"day\", \"day\", \"day\", \"day\", \"days\", \"days\", \"days\", \"days\", \"days\", \"days\", \"days\", \"days\", \"days\", \"days\", \"deaths\", \"deaths\", \"deaths\", \"deaths\", \"deaths\", \"deaths\", \"deaths\", \"deaths\", \"deaths\", \"debate\", \"debate\", \"debt\", \"debt\", \"debt\", \"decorative\", \"deducting\", \"defaulting\", \"defendants\", \"defunctoperator\", \"demon\", \"detainees\", \"detainees\", \"detainees\", \"detainees\", \"detainees\", \"detainees\", \"detainees\", \"detainees\", \"detainees\", \"detainees\", \"developing\", \"dewar\", \"differentiated\", \"director\", \"director\", \"director\", \"director\", \"director\", \"director\", \"director\", \"director\", \"director\", \"director\", \"discrepancies\", \"disease\", \"disease\", \"disease\", \"disease\", \"disease\", \"disruptions\", \"divide\", \"dixon\", \"dixon\", \"downed\", \"downgrade\", \"draft\", \"drug\", \"drug\", \"drug\", \"east_timor\", \"east_timor\", \"east_timor\", \"east_timor\", \"east_timor\", \"east_timor\", \"east_timor\", \"economy\", \"economy\", \"economy\", \"economy\", \"economy\", \"economy\", \"economy\", \"economy\", \"economy\", \"economy\", \"eden\", \"educate\", \"embassy\", \"emissions\", \"emissions\", \"endeavour\", \"endeavour\", \"endeavour\", \"endeavour\", \"engines\", \"event\", \"event\", \"event\", \"event\", \"event\", \"explosion\", \"extinguishment\", \"factory\", \"factory\", \"facts\", \"failure\", \"family\", \"family\", \"family\", \"family\", \"family\", \"family\", \"family\", \"family\", \"family\", \"fanned\", \"farina\", \"fast_bowler\", \"fast_bowler\", \"fast_bowler\", \"fast_bowler\", \"fast_bowler\", \"fatality\", \"fate\", \"favourably\", \"federal\", \"federal\", \"federal\", \"federal\", \"federal\", \"federal\", \"federal\", \"federal\", \"federal\", \"federal\", \"figures\", \"figures\", \"figures\", \"figures\", \"figures\", \"figures\", \"fire\", \"fire\", \"fire\", \"fire\", \"fire\", \"fire\", \"fire\", \"fire\", \"fire\", \"fire\", \"firefighters\", \"firefighters\", \"firefighters\", \"firefighters\", \"firefighters\", \"firefighters\", \"firefighters\", \"firefighters\", \"firefighters\", \"firefighters\", \"fires\", \"fires\", \"fires\", \"fires\", \"fires\", \"fires\", \"fires\", \"fires\", \"fires\", \"fires\", \"first\", \"first\", \"first\", \"first\", \"first\", \"first\", \"first\", \"first\", \"first\", \"first\", \"flower\", \"focus\", \"focus\", \"football\", \"force\", \"force\", \"force\", \"force\", \"force\", \"force\", \"force\", \"force\", \"force\", \"force\", \"forced\", \"forced\", \"forced\", \"forced\", \"forced\", \"forced\", \"forced\", \"forced\", \"forced\", \"forces\", \"forces\", \"forces\", \"forces\", \"forces\", \"forces\", \"forces\", \"forces\", \"forces\", \"forces\", \"former\", \"former\", \"former\", \"former\", \"former\", \"former\", \"former\", \"former\", \"former\", \"former\", \"fought\", \"found\", \"found\", \"found\", \"found\", \"found\", \"found\", \"found\", \"found\", \"found\", \"found\", \"four\", \"four\", \"four\", \"four\", \"four\", \"four\", \"four\", \"four\", \"four\", \"four\", \"francs\", \"francs\", \"francs\", \"franklin\", \"freeman\", \"freestyle\", \"freestyle\", \"freestyle\", \"friends\", \"gafner\", \"gambling\", \"gaming\", \"gas\", \"gas\", \"gas\", \"gas\", \"gaza_strip\", \"gaza_strip\", \"gaza_strip\", \"gaza_strip\", \"gaza_strip\", \"gaza_strip\", \"gaza_strip\", \"gaza_strip\", \"generations\", \"giuliani\", \"giuliani\", \"giuliani\", \"globe\", \"golden\", \"goshen\", \"goshen\", \"government\", \"government\", \"government\", \"government\", \"government\", \"government\", \"government\", \"government\", \"government\", \"government\", \"governor_general\", \"governor_general\", \"governor_general\", \"governor_general\", \"governor_general\", \"governor_general\", \"greens\", \"grocery\", \"grocery\", \"group\", \"group\", \"group\", \"group\", \"group\", \"group\", \"group\", \"group\", \"group\", \"guarantees\", \"guides\", \"guides\", \"guides\", \"guides\", \"guides\", \"guilty\", \"guilty\", \"guilty\", \"guilty\", \"guilty\", \"guilty\", \"guilty\", \"guilty\", \"gunman\", \"gunmen\", \"gunmen\", \"gunmen\", \"gunmen\", \"gunmen\", \"gutnick\", \"halted\", \"hamas\", \"hamas\", \"hamas\", \"hamas\", \"hamas\", \"hamas\", \"hamas\", \"hamas\", \"hamas\", \"hamas\", \"hass\", \"hass\", \"help\", \"help\", \"help\", \"help\", \"help\", \"help\", \"help\", \"help\", \"help\", \"help\", \"highway\", \"highway\", \"highway\", \"highway\", \"highway\", \"hijackings\", \"hilton\", \"hoax\", \"hoax\", \"holiday\", \"holiday\", \"hollingworth\", \"hollingworth\", \"hollingworth\", \"hollingworth\", \"hollingworth\", \"hooke\", \"hooke\", \"hospital\", \"hospital\", \"hospital\", \"hospital\", \"hospital\", \"hospital\", \"hospital\", \"hospital\", \"hospital\", \"hospital\", \"hosted\", \"hotel\", \"hotel\", \"hours\", \"hours\", \"hours\", \"hours\", \"hours\", \"hours\", \"hours\", \"hours\", \"hours\", \"howard\", \"howard\", \"howard\", \"howard\", \"howard\", \"huegill\", \"huegill\", \"hume\", \"hume\", \"ill\", \"ill\", \"imposed\", \"incinerated\", \"india\", \"india\", \"india\", \"india\", \"india\", \"india\", \"india\", \"india\", \"india\", \"india\", \"indiana\", \"individual\", \"individual\", \"indonesia\", \"indonesia\", \"indonesia\", \"indonesia\", \"industrial_action\", \"industrial_action\", \"industrial_action\", \"industrial_action\", \"industrial_action\", \"industrial_action\", \"industrial_action\", \"inexperienced\", \"infiltrated\", \"insolvent\", \"installations\", \"intends\", \"intention\", \"interlaken\", \"interlaken\", \"interlaken\", \"interruptions\", \"island\", \"island\", \"island\", \"island\", \"island\", \"island\", \"island\", \"island\", \"israel\", \"israel\", \"israel\", \"israel\", \"israel\", \"israel\", \"israel\", \"israel\", \"israel\", \"israel\", \"israeli\", \"israeli\", \"israeli\", \"israeli\", \"israeli\", \"israeli\", \"israeli\", \"israeli\", \"israeli\", \"israeli\", \"israeli_army\", \"israeli_army\", \"israeli_army\", \"israeli_army\", \"issue\", \"issue\", \"issue\", \"issue\", \"issue\", \"issue\", \"issue\", \"issue\", \"jackson\", \"jackson\", \"jails\", \"japan\", \"japan\", \"japan\", \"japan\", \"jeff\", \"jenin\", \"jenin\", \"jenin\", \"jenin\", \"jenin\", \"jobs\", \"jobs\", \"jobs\", \"jobs\", \"jobs\", \"jobs\", \"jobs\", \"jobs\", \"jodee\", \"karzai\", \"karzai\", \"karzai\", \"karzai\", \"karzai\", \"karzai\", \"kemp\", \"kerry\", \"kicker\", \"killed\", \"killed\", \"killed\", \"killed\", \"killed\", \"killed\", \"killed\", \"killed\", \"killed\", \"killed\", \"killing\", \"killing\", \"killing\", \"killing\", \"killing\", \"killing\", \"killing\", \"killmier\", \"klim\", \"knop\", \"know\", \"know\", \"know\", \"know\", \"know\", \"know\", \"know\", \"know\", \"know\", \"know\", \"kofi\", \"krishna\", \"krishna\", \"krishna\", \"krishna\", \"land\", \"land\", \"land\", \"land\", \"latrobe\", \"launceston\", \"launceston\", \"lavarch\", \"lawrence\", \"legal_advice\", \"legal_advice\", \"legal_advice\", \"links\", \"locals\", \"lockett\", \"lockett\", \"looking\", \"looking\", \"looking\", \"looking\", \"looking\", \"looking\", \"looking\", \"looking\", \"looking\", \"lording\", \"lording\", \"lording\", \"lung\", \"lung\", \"lung\", \"macgill\", \"macgill\", \"macgill\", \"macgill\", \"macgill\", \"mad\", \"maintaining\", \"maintenance_workers\", \"maintenance_workers\", \"maintenance_workers\", \"maintenance_workers\", \"malaysian\", \"man\", \"man\", \"man\", \"man\", \"man\", \"man\", \"man\", \"man\", \"man\", \"marred\", \"match\", \"match\", \"match\", \"match\", \"match\", \"match\", \"match\", \"match\", \"match\", \"mcdonald\", \"mcgrath\", \"mcgrath\", \"mcgrath\", \"mcmenamin\", \"mcmenamin\", \"meat\", \"meeting\", \"meeting\", \"meeting\", \"meeting\", \"meeting\", \"meeting\", \"meeting\", \"meeting\", \"meeting\", \"meeting\", \"megawati\", \"melbourne\", \"melbourne\", \"melbourne\", \"melbourne\", \"melbourne\", \"melbourne\", \"melbourne\", \"melbourne\", \"members\", \"members\", \"members\", \"members\", \"members\", \"members\", \"members\", \"members\", \"members\", \"members\", \"mental\", \"metres\", \"metres\", \"metres\", \"metres\", \"metres\", \"metres\", \"metres\", \"metres\", \"midwives\", \"militants\", \"militants\", \"militants\", \"militants\", \"militants\", \"militants\", \"militants\", \"militants\", \"militants\", \"militants\", \"millwork\", \"ministerial\", \"mislead\", \"missile\", \"mission\", \"mission\", \"mission\", \"mission\", \"mission\", \"mission\", \"mission\", \"mitsubishi\", \"mitsubishi\", \"modernises\", \"momentum\", \"month\", \"month\", \"month\", \"month\", \"month\", \"month\", \"month\", \"month\", \"month\", \"month\", \"morning\", \"morning\", \"morning\", \"morning\", \"morning\", \"morning\", \"morning\", \"morning\", \"morning\", \"morning\", \"motorists\", \"moulin\", \"musical\", \"nauru\", \"nauru\", \"nettle\", \"new\", \"new\", \"new\", \"new\", \"new\", \"new\", \"new\", \"new\", \"new\", \"new\", \"new_south\", \"new_south\", \"new_south\", \"new_south\", \"new_south\", \"new_south\", \"new_south\", \"new_south\", \"new_south\", \"new_south\", \"new_york\", \"new_york\", \"new_york\", \"new_york\", \"new_york\", \"new_york\", \"new_york\", \"new_york\", \"new_york\", \"new_york\", \"nitrous\", \"nobel\", \"nominate\", \"nominations\", \"north\", \"north\", \"north\", \"north\", \"north\", \"north\", \"north\", \"north\", \"north\", \"north\", \"northern_alliance\", \"northern_alliance\", \"northern_alliance\", \"northern_alliance\", \"northern_alliance\", \"northern_alliance\", \"northern_alliance\", \"northern_alliance\", \"numerous\", \"nurse\", \"obliterated\", \"official\", \"official\", \"official\", \"official\", \"official\", \"official\", \"official\", \"official\", \"official\", \"officials\", \"officials\", \"officials\", \"officials\", \"officials\", \"officials\", \"officials\", \"officials\", \"officials\", \"officials\", \"oil\", \"oil\", \"oil\", \"oil\", \"olivier\", \"olivier\", \"olympic\", \"olympics\", \"one\", \"one\", \"one\", \"one\", \"one\", \"one\", \"one\", \"one\", \"one\", \"one\", \"ongoing\", \"opened_fire\", \"opened_fire\", \"organs\", \"outbreak\", \"outlawed\", \"overnight\", \"overnight\", \"overnight\", \"overnight\", \"overnight\", \"overnight\", \"overnight\", \"overnight\", \"overnight\", \"overwhelmingly\", \"owe\", \"oxide\", \"paddling\", \"paddling\", \"pakistan\", \"pakistan\", \"pakistan\", \"pakistan\", \"pakistan\", \"pakistan\", \"pakistan\", \"pakistan\", \"pakistan\", \"pakistan\", \"palestinian\", \"palestinian\", \"palestinian\", \"palestinian\", \"palestinian\", \"palestinian\", \"palestinian\", \"palestinian\", \"palestinian\", \"palestinian\", \"palestinians\", \"palestinians\", \"palestinians\", \"palestinians\", \"palestinians\", \"palestinians\", \"palestinians\", \"palestinians\", \"palestinians\", \"pay\", \"pay\", \"pay\", \"pay\", \"pay\", \"pay\", \"pay\", \"pay\", \"pay\", \"payment\", \"payment\", \"payment\", \"payment\", \"payment\", \"payment\", \"payout\", \"peace\", \"peace\", \"peace\", \"peace\", \"peace\", \"peace\", \"peace\", \"peace\", \"peace\", \"peace\", \"people\", \"people\", \"people\", \"people\", \"people\", \"people\", \"people\", \"people\", \"people\", \"people\", \"per_cent\", \"per_cent\", \"per_cent\", \"per_cent\", \"per_cent\", \"per_cent\", \"per_cent\", \"per_cent\", \"per_cent\", \"per_cent\", \"permitted\", \"peronists\", \"person\", \"person\", \"person\", \"person\", \"person\", \"person\", \"person\", \"person\", \"peru\", \"peru\", \"petrol\", \"petrol\", \"phillip\", \"picton\", \"piston\", \"planning\", \"planning\", \"planning\", \"planning\", \"planning\", \"planning\", \"planning\", \"plant\", \"police\", \"police\", \"police\", \"police\", \"police\", \"police\", \"police\", \"police\", \"police\", \"police\", \"policy\", \"policy\", \"policy\", \"policy\", \"policy\", \"policy\", \"policy\", \"policy\", \"policy\", \"polls\", \"pollutants\", \"potts\", \"potts\", \"power\", \"power\", \"power\", \"power\", \"power\", \"power\", \"power\", \"power\", \"power\", \"power\", \"president\", \"president\", \"president\", \"president\", \"president\", \"president\", \"president\", \"president\", \"president\", \"president\", \"president_bush\", \"president_bush\", \"pretty\", \"pretty\", \"prisoners\", \"prisoners\", \"prize\", \"prize\", \"proceedings\", \"products\", \"products\", \"products\", \"professor\", \"professor\", \"professor\", \"project\", \"project\", \"projects\", \"projects\", \"prosecution\", \"prosecution\", \"provisions\", \"proxies\", \"punishment\", \"qaeda\", \"qaeda\", \"qaeda\", \"qaeda\", \"qaeda\", \"qaeda\", \"qaeda\", \"qaeda\", \"qaeda\", \"qaeda\", \"qantas\", \"qantas\", \"qantas\", \"qantas\", \"qantas\", \"qantas\", \"qantas\", \"qantas\", \"races\", \"races\", \"races\", \"radio\", \"radio\", \"radio\", \"radio\", \"radio\", \"radio\", \"radio\", \"radio\", \"radio\", \"radio\", \"raft\", \"rate\", \"rate\", \"rate\", \"rate\", \"rate\", \"rate\", \"rate\", \"rate\", \"rate\", \"rate\", \"rates\", \"rates\", \"rates\", \"rates\", \"rates\", \"reading\", \"reading\", \"record\", \"record\", \"record\", \"record\", \"record\", \"record\", \"regardless\", \"reid\", \"reid\", \"reid\", \"reid\", \"reid\", \"reid\", \"reoffending\", \"repay\", \"repayment\", \"report\", \"report\", \"report\", \"report\", \"report\", \"report\", \"report\", \"report\", \"report\", \"report\", \"reportedly\", \"repossessed\", \"republic\", \"republic\", \"reserve\", \"reserve\", \"resources\", \"respiratory\", \"respond\", \"respond\", \"respond\", \"respond\", \"retirement\", \"rich\", \"rifles\", \"river\", \"river\", \"river\", \"river\", \"river\", \"river\", \"river\", \"river\", \"road\", \"road\", \"road\", \"road\", \"road\", \"road\", \"rodriguez\", \"rodriguez\", \"romaszko\", \"rouge\", \"route\", \"route\", \"route\", \"rudd\", \"saadi\", \"safeguards\", \"safety_bureau\", \"safety_bureau\", \"safety_bureau\", \"said\", \"said\", \"said\", \"said\", \"said\", \"said\", \"said\", \"said\", \"said\", \"said\", \"salary\", \"sanchez\", \"save\", \"save\", \"save\", \"save\", \"save\", \"saviour\", \"say\", \"say\", \"say\", \"say\", \"say\", \"say\", \"say\", \"say\", \"say\", \"say\", \"saying\", \"saying\", \"saying\", \"saying\", \"saying\", \"saying\", \"saying\", \"saying\", \"saying\", \"saying\", \"says\", \"says\", \"says\", \"says\", \"says\", \"says\", \"says\", \"says\", \"says\", \"says\", \"season\", \"season\", \"season\", \"season\", \"sections\", \"security\", \"security\", \"security\", \"security\", \"security\", \"security\", \"security\", \"security\", \"security\", \"security\", \"selling\", \"senator\", \"sergeant\", \"sergeant\", \"sergeant\", \"settle\", \"settlements\", \"settler\", \"sexual\", \"shadow\", \"shadow\", \"shaft\", \"shaft\", \"shareholders\", \"sharon\", \"sharon\", \"sharon\", \"sharon\", \"sharon\", \"sharon\", \"sharon\", \"sharon\", \"shooting\", \"shooting\", \"shooting\", \"shot\", \"shot\", \"shot\", \"shot\", \"shot\", \"shot\", \"shot\", \"side\", \"side\", \"side\", \"side\", \"side\", \"side\", \"side\", \"side\", \"sinai\", \"sixty\", \"slam\", \"slim\", \"soccer\", \"soccer\", \"sorrow\", \"south\", \"south\", \"south\", \"south\", \"south\", \"south\", \"south\", \"south\", \"south\", \"south\", \"southerly\", \"space\", \"space\", \"space\", \"space\", \"space\", \"spill\", \"spill\", \"spills\", \"spills\", \"spokesman\", \"spokesman\", \"spokesman\", \"spokesman\", \"spokesman\", \"spokesman\", \"spokesman\", \"spokesman\", \"spokesman\", \"spokesman\", \"spread\", \"spread\", \"spread\", \"spread\", \"spread\", \"staff\", \"staff\", \"staff\", \"staff\", \"staff\", \"staff\", \"staff\", \"staff\", \"staff\", \"state\", \"state\", \"state\", \"state\", \"state\", \"state\", \"state\", \"state\", \"state\", \"state\", \"station\", \"station\", \"station\", \"station\", \"station\", \"station\", \"station\", \"station\", \"station\", \"still\", \"still\", \"still\", \"still\", \"still\", \"still\", \"still\", \"still\", \"still\", \"still\", \"stoppage\", \"stoppages\", \"story\", \"strike\", \"strike\", \"strike\", \"strike\", \"strike\", \"strike\", \"strike\", \"striking\", \"stringer\", \"study\", \"study\", \"study\", \"study\", \"study\", \"supervisors\", \"supply\", \"supply\", \"suspension\", \"suspension\", \"swans\", \"swans\", \"sydney\", \"sydney\", \"sydney\", \"sydney\", \"sydney\", \"sydney\", \"sydney\", \"sydney\", \"sydney\", \"sydney\", \"szondy\", \"table\", \"table\", \"table\", \"table\", \"take\", \"take\", \"take\", \"take\", \"take\", \"take\", \"take\", \"take\", \"take\", \"take\", \"taliban\", \"taliban\", \"taliban\", \"taliban\", \"taliban\", \"taliban\", \"taliban\", \"taliban\", \"taliban\", \"taliban\", \"taliban_forces\", \"taliban_forces\", \"taliban_forces\", \"tank\", \"tape\", \"tape\", \"tape\", \"tape\", \"team\", \"team\", \"team\", \"team\", \"team\", \"team\", \"team\", \"team\", \"team\", \"team\", \"teamed\", \"tel\", \"templeton\", \"templeton\", \"terminal\", \"terminal\", \"termination\", \"terry\", \"test\", \"test\", \"test\", \"test\", \"test\", \"test\", \"test\", \"test\", \"test\", \"theatre\", \"theatre\", \"think\", \"think\", \"think\", \"think\", \"think\", \"think\", \"think\", \"think\", \"think\", \"think\", \"third\", \"third\", \"third\", \"third\", \"third\", \"third\", \"third\", \"third\", \"third\", \"thought\", \"thought\", \"thought\", \"thought\", \"thought\", \"thought\", \"thought\", \"three\", \"three\", \"three\", \"three\", \"three\", \"three\", \"three\", \"three\", \"three\", \"three\", \"ticket\", \"time\", \"time\", \"time\", \"time\", \"time\", \"time\", \"time\", \"time\", \"time\", \"time\", \"today\", \"today\", \"today\", \"today\", \"today\", \"today\", \"today\", \"today\", \"today\", \"today\", \"told\", \"told\", \"told\", \"told\", \"told\", \"told\", \"told\", \"told\", \"told\", \"told\", \"tommy\", \"tora_bora\", \"tora_bora\", \"tora_bora\", \"tora_bora\", \"tora_bora\", \"tora_bora\", \"tora_bora\", \"tora_bora\", \"tora_bora\", \"tora_bora\", \"transport\", \"transport\", \"transport\", \"treason\", \"treasurer\", \"treasurer\", \"treasurer\", \"trips\", \"troops\", \"troops\", \"troops\", \"troops\", \"troops\", \"troops\", \"troops\", \"troops\", \"troops\", \"troops\", \"two\", \"two\", \"two\", \"two\", \"two\", \"two\", \"two\", \"two\", \"two\", \"two\", \"tyco\", \"tyco\", \"typhoid\", \"union\", \"union\", \"union\", \"union\", \"union\", \"union\", \"union\", \"union\", \"union\", \"unions\", \"unions\", \"unions\", \"unions\", \"unions\", \"unions\", \"unions\", \"unions\", \"unions\", \"unite\", \"united_states\", \"united_states\", \"united_states\", \"united_states\", \"united_states\", \"united_states\", \"united_states\", \"united_states\", \"united_states\", \"united_states\", \"unresolved\", \"uprising\", \"upside\", \"utn\", \"varying\", \"vastly\", \"vicario\", \"virgin\", \"virgin\", \"virgin\", \"virus\", \"virus\", \"virus\", \"vision\", \"voting\", \"wage_freeze\", \"wage_freeze\", \"wage_freeze\", \"wage_freeze\", \"wage_freeze\", \"wales\", \"wales\", \"wales\", \"wales\", \"wales\", \"wales\", \"wales\", \"wales\", \"wales\", \"wales\", \"war\", \"war\", \"war\", \"war\", \"war\", \"war\", \"war\", \"war\", \"war\", \"war\", \"water\", \"water\", \"water\", \"water\", \"water\", \"water\", \"way\", \"way\", \"way\", \"way\", \"way\", \"way\", \"way\", \"way\", \"way\", \"way\", \"weather_conditions\", \"weather_conditions\", \"weather_conditions\", \"weather_conditions\", \"weather_conditions\", \"weather_conditions\", \"well\", \"well\", \"well\", \"well\", \"well\", \"well\", \"well\", \"well\", \"well\", \"well\", \"west_bank\", \"west_bank\", \"west_bank\", \"west_bank\", \"west_bank\", \"west_bank\", \"west_bank\", \"west_bank\", \"west_bank\", \"win\", \"win\", \"win\", \"win\", \"win\", \"win\", \"win\", \"win\", \"wind\", \"wind\", \"wind\", \"wind\", \"winds\", \"winds\", \"winds\", \"winds\", \"winds\", \"winds\", \"winds\", \"winds\", \"winds\", \"winds\", \"wings\", \"wood\", \"workers\", \"workers\", \"workers\", \"workers\", \"workers\", \"workers\", \"workers\", \"workers\", \"workers\", \"world\", \"world\", \"world\", \"world\", \"world\", \"world\", \"world\", \"world\", \"world\", \"world\", \"world_heritage\", \"world_heritage\", \"world_heritage\", \"would\", \"would\", \"would\", \"would\", \"would\", \"would\", \"would\", \"would\", \"would\", \"would\", \"would_like\", \"would_like\", \"would_like\", \"wrongdoing\", \"yachts\", \"yachts\", \"yachts\", \"yachts\", \"yachts\", \"yallourn\", \"yallourn\", \"yallourn\", \"year\", \"year\", \"year\", \"year\", \"year\", \"year\", \"year\", \"year\", \"year\", \"year\", \"year_old\", \"year_old\", \"year_old\", \"year_old\", \"year_old\", \"year_old\", \"year_old\", \"year_old\", \"year_old\", \"year_old\", \"years\", \"years\", \"years\", \"years\", \"years\", \"years\", \"years\", \"years\", \"years\", \"years\", \"yesterday\", \"yesterday\", \"yesterday\", \"yesterday\", \"yesterday\", \"yesterday\", \"yesterday\", \"yesterday\", \"yesterday\", \"yesterday\", \"zimbabwe\", \"zimbabwe\", \"zimbabwe\", \"zimbabwe\", \"zinni\", \"zinni\", \"zinni\"]}, \"R\": 30, \"lambda.step\": 0.01, \"plot.opts\": {\"xlab\": \"PC1\", \"ylab\": \"PC2\"}, \"topic.order\": [2, 7, 5, 4, 9, 3, 6, 8, 1, 10]};\n",
       "\n",
       "function LDAvis_load_lib(url, callback){\n",
       "  var s = document.createElement('script');\n",
       "  s.src = url;\n",
       "  s.async = true;\n",
       "  s.onreadystatechange = s.onload = callback;\n",
       "  s.onerror = function(){console.warn(\"failed to load library \" + url);};\n",
       "  document.getElementsByTagName(\"head\")[0].appendChild(s);\n",
       "}\n",
       "\n",
       "if(typeof(LDAvis) !== \"undefined\"){\n",
       "   // already loaded: just create the visualization\n",
       "   !function(LDAvis){\n",
       "       new LDAvis(\"#\" + \"ldavis_el16948291170376890422416936\", ldavis_el16948291170376890422416936_data);\n",
       "   }(LDAvis);\n",
       "}else if(typeof define === \"function\" && define.amd){\n",
       "   // require.js is available: use it to load d3/LDAvis\n",
       "   require.config({paths: {d3: \"https://cdnjs.cloudflare.com/ajax/libs/d3/3.5.5/d3.min\"}});\n",
       "   require([\"d3\"], function(d3){\n",
       "      window.d3 = d3;\n",
       "      LDAvis_load_lib(\"https://cdn.rawgit.com/bmabey/pyLDAvis/files/ldavis.v1.0.0.js\", function(){\n",
       "        new LDAvis(\"#\" + \"ldavis_el16948291170376890422416936\", ldavis_el16948291170376890422416936_data);\n",
       "      });\n",
       "    });\n",
       "}else{\n",
       "    // require.js not available: dynamically load d3 & LDAvis\n",
       "    LDAvis_load_lib(\"https://cdnjs.cloudflare.com/ajax/libs/d3/3.5.5/d3.min.js\", function(){\n",
       "         LDAvis_load_lib(\"https://cdn.rawgit.com/bmabey/pyLDAvis/files/ldavis.v1.0.0.js\", function(){\n",
       "                 new LDAvis(\"#\" + \"ldavis_el16948291170376890422416936\", ldavis_el16948291170376890422416936_data);\n",
       "            })\n",
       "         });\n",
       "}\n",
       "</script>"
      ],
      "text/plain": [
       "PreparedData(topic_coordinates=              x         y  topics  cluster       Freq\n",
       "topic                                                \n",
       "1      0.019562  0.015357       1        1  14.527072\n",
       "6      0.017841  0.004561       2        1  14.486258\n",
       "4      0.029098 -0.003678       3        1  12.632985\n",
       "3      0.048621 -0.034673       4        1  10.311128\n",
       "8     -0.016091  0.003496       5        1   9.441516\n",
       "2     -0.057796 -0.014850       6        1   9.233746\n",
       "5     -0.001049  0.041732       7        1   9.198901\n",
       "7     -0.015136  0.020960       8        1   8.858338\n",
       "0     -0.003981  0.016198       9        1   7.461198\n",
       "9     -0.021069 -0.049102      10        1   3.848854, topic_info=     Category        Freq          Term       Total  loglift  logprob\n",
       "99    Default  332.000000          says  332.000000  30.0000  30.0000\n",
       "2780  Default   30.000000        qantas   30.000000  29.0000  29.0000\n",
       "986   Default  116.000000    australian  116.000000  28.0000  28.0000\n",
       "98    Default  386.000000          said  386.000000  27.0000  27.0000\n",
       "2738  Default   54.000000       company   54.000000  26.0000  26.0000\n",
       "43    Default   49.000000          fire   49.000000  25.0000  25.0000\n",
       "349   Default   64.000000   afghanistan   64.000000  24.0000  24.0000\n",
       "967   Default   70.000000   palestinian   70.000000  23.0000  23.0000\n",
       "565   Default   17.000000         river   17.000000  22.0000  22.0000\n",
       "356   Default  118.000000     australia  118.000000  21.0000  21.0000\n",
       "110   Default   46.000000        sydney   46.000000  20.0000  20.0000\n",
       "1556  Default   26.000000        metres   26.000000  19.0000  19.0000\n",
       "200   Default   98.000000           two   98.000000  18.0000  18.0000\n",
       "258   Default   96.000000    government   96.000000  17.0000  17.0000\n",
       "6364  Default    9.000000         virus    9.000000  16.0000  16.0000\n",
       "4941  Default    7.000000       lockett    7.000000  15.0000  15.0000\n",
       "1164  Default   28.000000       workers   28.000000  14.0000  14.0000\n",
       "2716  Default   15.000000  hollingworth   15.000000  13.0000  13.0000\n",
       "956   Default   69.000000       israeli   69.000000  12.0000  12.0000\n",
       "80    Default   71.000000           new   71.000000  11.0000  11.0000\n",
       "126   Default   37.000000          year   37.000000  10.0000  10.0000\n",
       "1500  Default   33.000000        report   33.000000   9.0000   9.0000\n",
       "125   Default   16.000000         winds   16.000000   8.0000   8.0000\n",
       "738   Default   17.000000           cut   17.000000   7.0000   7.0000\n",
       "44    Default   19.000000  firefighters   19.000000   6.0000   6.0000\n",
       "3254  Default   18.000000   australians   18.000000   5.0000   5.0000\n",
       "1075  Default   40.000000      per_cent   40.000000   4.0000   4.0000\n",
       "150   Default   28.000000         india   28.000000   3.0000   3.0000\n",
       "113   Default   64.000000         today   64.000000   2.0000   2.0000\n",
       "2551  Default   58.000000        arafat   58.000000   1.0000   1.0000\n",
       "...       ...         ...           ...         ...      ...      ...\n",
       "655   Topic10    2.029723         asked   20.277527   0.9558  -6.4118\n",
       "110   Topic10    3.224349        sydney   46.588448   0.5868  -5.9490\n",
       "113   Topic10    3.797345         today   64.310043   0.4280  -5.7854\n",
       "102   Topic10    2.766189         south   37.303616   0.6558  -6.1022\n",
       "1385  Topic10    1.951229         court   20.904114   0.8859  -6.4513\n",
       "4     Topic10    3.072718        around   50.777851   0.4525  -5.9972\n",
       "1098  Topic10    1.730370      director   17.033756   0.9705  -6.5714\n",
       "1926  Topic10    1.788546        damage   18.459715   0.9232  -6.5383\n",
       "200   Topic10    4.102995           two   98.135078   0.0828  -5.7080\n",
       "1476  Topic10    2.414115        centre   35.222977   0.5770  -6.2384\n",
       "82    Topic10    2.297526         north   32.189941   0.6176  -6.2879\n",
       "98    Topic10    7.523028          said  386.498230  -0.6818  -5.1017\n",
       "245   Topic10    2.297060          days   32.698654   0.6017  -6.2881\n",
       "99    Topic10    6.276029          says  332.745209  -0.7132  -5.2830\n",
       "81    Topic10    2.248938     new_south   32.454315   0.5880  -6.3093\n",
       "299   Topic10    2.948755          told   63.177952   0.1928  -6.0383\n",
       "120   Topic10    2.238430         wales   32.199154   0.5912  -6.3139\n",
       "450   Topic10    3.121128         first   75.024338   0.0778  -5.9815\n",
       "986   Topic10    3.406033    australian  116.346069  -0.2736  -5.8942\n",
       "3     Topic10    2.103506         areas   30.299742   0.5899  -6.3761\n",
       "80    Topic10    2.649404           new   71.985367  -0.0447  -6.1454\n",
       "126   Topic10    2.177311          year   37.840359   0.4021  -6.3416\n",
       "537   Topic10    2.294551         world   46.165180   0.2557  -6.2892\n",
       "329   Topic10    2.755156           one  101.460945  -0.3488  -6.1062\n",
       "225   Topic10    2.392049         three   68.423164  -0.0962  -6.2476\n",
       "175   Topic10    2.340651        police   63.278923  -0.0397  -6.2693\n",
       "86    Topic10    2.527719        people  108.456673  -0.5016  -6.1924\n",
       "574   Topic10    2.300172          also   91.779938  -0.4290  -6.2867\n",
       "356   Topic10    2.331032     australia  118.371796  -0.6701  -6.2734\n",
       "106   Topic10    2.129775         still   54.084129   0.0229  -6.3637\n",
       "\n",
       "[791 rows x 6 columns], token_table=      Topic      Freq           Term\n",
       "term                                \n",
       "4717      7  0.421639         abbott\n",
       "3730      8  0.412512     aboriginal\n",
       "3604      1  0.742508       abortion\n",
       "2693      1  0.143472          abuse\n",
       "2693      2  0.071736          abuse\n",
       "2693      5  0.143472          abuse\n",
       "2693      6  0.071736          abuse\n",
       "2693      7  0.286944          abuse\n",
       "2693      8  0.215208          abuse\n",
       "2693      9  0.071736          abuse\n",
       "5879      1  0.704713      accepting\n",
       "5879      2  0.352356      accepting\n",
       "2373      2  0.554773    accumulated\n",
       "2108      2  0.203728          actor\n",
       "2108      6  0.407455          actor\n",
       "2871      6  0.431954        actress\n",
       "3753      3  0.314109  administrator\n",
       "3753      7  0.628219  administrator\n",
       "5862      1  0.555938         advani\n",
       "5862      2  0.277969         advani\n",
       "5461      5  0.411278         advise\n",
       "5462      5  0.623375         afford\n",
       "901       1  0.131975         afghan\n",
       "901       2  0.230956         afghan\n",
       "901       3  0.032994         afghan\n",
       "901       4  0.065987         afghan\n",
       "901       5  0.164968         afghan\n",
       "901       6  0.032994         afghan\n",
       "901       7  0.032994         afghan\n",
       "901       8  0.164968         afghan\n",
       "...     ...       ...            ...\n",
       "538       8  0.158827       year_old\n",
       "538       9  0.132356       year_old\n",
       "538      10  0.052942       year_old\n",
       "304       1  0.082394          years\n",
       "304       2  0.082394          years\n",
       "304       3  0.164788          years\n",
       "304       4  0.041197          years\n",
       "304       5  0.082394          years\n",
       "304       6  0.123591          years\n",
       "304       7  0.082394          years\n",
       "304       8  0.247182          years\n",
       "304       9  0.082394          years\n",
       "304      10  0.041197          years\n",
       "204       1  0.212701      yesterday\n",
       "204       2  0.094534      yesterday\n",
       "204       3  0.236334      yesterday\n",
       "204       4  0.141800      yesterday\n",
       "204       5  0.047267      yesterday\n",
       "204       6  0.047267      yesterday\n",
       "204       7  0.070900      yesterday\n",
       "204       8  0.070900      yesterday\n",
       "204       9  0.047267      yesterday\n",
       "204      10  0.023633      yesterday\n",
       "3149      2  0.138197       zimbabwe\n",
       "3149      3  0.138197       zimbabwe\n",
       "3149      7  0.138197       zimbabwe\n",
       "3149      9  0.552788       zimbabwe\n",
       "1472      1  0.616403          zinni\n",
       "1472      2  0.088058          zinni\n",
       "1472      4  0.088058          zinni\n",
       "\n",
       "[2195 rows x 3 columns], R=30, lambda_step=0.01, plot_opts={'xlab': 'PC1', 'ylab': 'PC2'}, topic_order=[2, 7, 5, 4, 9, 3, 6, 8, 1, 10])"
      ]
     },
     "execution_count": 179,
     "metadata": {},
     "output_type": "execute_result"
    }
   ],
   "source": [
    "pyLDAvis.gensim.prepare(ldamodel, corpus, dictionary)"
   ]
  },
  {
   "cell_type": "code",
   "execution_count": 180,
   "metadata": {},
   "outputs": [],
   "source": [
    "ldatopics = ldamodel.show_topics(formatted=False)"
   ]
  },
  {
   "cell_type": "markdown",
   "metadata": {},
   "source": [
    "### ldatopics = ldamodel.show_topics(formatted=False)\n",
    "\n",
    "Topic coherence in essence measures the human interpretability of a topic model. Traditionally perplexity has been used to evaluate topic models however this does not correlate with human annotations at times. Topic coherence is another way to evaluate topic models with a much higher guarantee on human interpretability. Thus this can be used to compare different topic models among many other use-cases."
   ]
  },
  {
   "cell_type": "code",
   "execution_count": 181,
   "metadata": {},
   "outputs": [],
   "source": [
    "def evaluate_graph(dictionary, corpus, texts, limit):\n",
    "    \"\"\"\n",
    "    Function to display num_topics - LDA graph using c_v coherence\n",
    "    \n",
    "    Parameters:\n",
    "    ----------\n",
    "    dictionary : Gensim dictionary\n",
    "    corpus : Gensim corpus\n",
    "    limit : topic limit\n",
    "    \n",
    "    Returns:\n",
    "    -------\n",
    "    lm_list : List of LDA topic models\n",
    "    c_v : Coherence values corresponding to the LDA model with respective number of topics\n",
    "    \"\"\"\n",
    "    c_v = []\n",
    "    lm_list = []\n",
    "    for num_topics in range(1, limit):\n",
    "        lm = LdaModel(corpus=corpus, num_topics=num_topics, id2word=dictionary)\n",
    "        lm_list.append(lm)\n",
    "        cm = CoherenceModel(model=lm, texts=texts, dictionary=dictionary, coherence='c_v')\n",
    "        c_v.append(cm.get_coherence())\n",
    "        \n",
    "    # Show graph\n",
    "    x = range(1, limit)\n",
    "    plt.plot(x, c_v)\n",
    "    plt.xlabel(\"num_topics\")\n",
    "    plt.ylabel(\"Coherence score\")\n",
    "    plt.legend((\"c_v\"), loc='best')\n",
    "    plt.show()\n",
    "    \n",
    "    return lm_list, c_v"
   ]
  },
  {
   "cell_type": "code",
   "execution_count": 184,
   "metadata": {},
   "outputs": [
    {
     "data": {
      "image/png": "[encoded data removed]",
      "text/plain": [
       "<Figure size 432x288 with 1 Axes>"
      ]
     },
     "metadata": {
      "needs_background": "light"
     },
     "output_type": "display_data"
    },
    {
     "name": "stdout",
     "output_type": "stream",
     "text": [
      "Wall time: 2min 16s\n"
     ]
    }
   ],
   "source": [
    "%%time\n",
    "lmlist, c_v = evaluate_graph(dictionary=dictionary, corpus=corpus, texts=train_texts, limit=10)\n",
    "\n",
    "# This time function is nifty!"
   ]
  },
  {
   "cell_type": "code",
   "execution_count": 188,
   "metadata": {},
   "outputs": [
    {
     "ename": "NameError",
     "evalue": "name 'lmlist' is not defined",
     "output_type": "error",
     "traceback": [
      "\u001b[1;31m---------------------------------------------------------------------------\u001b[0m",
      "\u001b[1;31mNameError\u001b[0m                                 Traceback (most recent call last)",
      "\u001b[1;32m<ipython-input-188-ae699679fdf4>\u001b[0m in \u001b[0;36m<module>\u001b[1;34m\u001b[0m\n\u001b[1;32m----> 1\u001b[1;33m \u001b[0mpyLDAvis\u001b[0m\u001b[1;33m.\u001b[0m\u001b[0mgensim\u001b[0m\u001b[1;33m.\u001b[0m\u001b[0mprepare\u001b[0m\u001b[1;33m(\u001b[0m\u001b[0mlmlist\u001b[0m\u001b[1;33m[\u001b[0m\u001b[1;36m2\u001b[0m\u001b[1;33m]\u001b[0m\u001b[1;33m,\u001b[0m \u001b[0mcorpus\u001b[0m\u001b[1;33m,\u001b[0m \u001b[0mdictionary\u001b[0m\u001b[1;33m)\u001b[0m\u001b[1;33m\u001b[0m\u001b[1;33m\u001b[0m\u001b[0m\n\u001b[0m\u001b[0;32m      2\u001b[0m \u001b[1;31m# For some reason it is not saving the lmlist object...\u001b[0m\u001b[1;33m\u001b[0m\u001b[1;33m\u001b[0m\u001b[1;33m\u001b[0m\u001b[0m\n",
      "\u001b[1;31mNameError\u001b[0m: name 'lmlist' is not defined"
     ]
    }
   ],
   "source": [
    "pyLDAvis.gensim.prepare(lmlist[2], corpus, dictionary)\n",
    "# For some reason it is not saving the lmlist object... "
   ]
  },
  {
   "cell_type": "code",
   "execution_count": 187,
   "metadata": {},
   "outputs": [
    {
     "ename": "NameError",
     "evalue": "name 'lmlist' is not defined",
     "output_type": "error",
     "traceback": [
      "\u001b[1;31m---------------------------------------------------------------------------\u001b[0m",
      "\u001b[1;31mNameError\u001b[0m                                 Traceback (most recent call last)",
      "\u001b[1;32m<ipython-input-187-d52a1fd28407>\u001b[0m in \u001b[0;36m<module>\u001b[1;34m\u001b[0m\n\u001b[1;32m----> 1\u001b[1;33m \u001b[0mlmtopics\u001b[0m \u001b[1;33m=\u001b[0m \u001b[0mlmlist\u001b[0m\u001b[1;33m[\u001b[0m\u001b[1;36m5\u001b[0m\u001b[1;33m]\u001b[0m\u001b[1;33m.\u001b[0m\u001b[0mshow_topics\u001b[0m\u001b[1;33m(\u001b[0m\u001b[0mformatted\u001b[0m\u001b[1;33m=\u001b[0m\u001b[1;32mFalse\u001b[0m\u001b[1;33m)\u001b[0m\u001b[1;33m\u001b[0m\u001b[1;33m\u001b[0m\u001b[0m\n\u001b[0m",
      "\u001b[1;31mNameError\u001b[0m: name 'lmlist' is not defined"
     ]
    }
   ],
   "source": [
    "lmtopics = lmlist[5].show_topics(formatted=False)"
   ]
  },
  {
   "cell_type": "markdown",
   "metadata": {},
   "source": [
    "One of the problem with LDA is that if we train it on a large number of topics, the topics get \"lost\" among the numbers. Let us see if we can dig out the best topics from the best LDA model we can produce. The function below can be used to control the quality of the LDA model we produce."
   ]
  },
  {
   "cell_type": "code",
   "execution_count": 189,
   "metadata": {},
   "outputs": [],
   "source": [
    "def ret_top_model():\n",
    "    \"\"\"\n",
    "    Since LDAmodel is a probabilistic model, it comes up different topics each time we run it. To control the\n",
    "    quality of the topic model we produce, we can see what the interpretability of the best topic is and keep\n",
    "    evaluating the topic model until this threshold is crossed. \n",
    "    \n",
    "    Returns:\n",
    "    -------\n",
    "    lm: Final evaluated topic model\n",
    "    top_topics: ranked topics in decreasing order. List of tuples\n",
    "    \"\"\"\n",
    "    top_topics = [(0, 0)]\n",
    "    while top_topics[0][1] < 0.97:\n",
    "        lm = LdaModel(corpus=corpus, id2word=dictionary)\n",
    "        coherence_values = {}\n",
    "        for n, topic in lm.show_topics(num_topics=-1, formatted=False):\n",
    "            topic = [word for word, _ in topic]\n",
    "            cm = CoherenceModel(topics=[topic], texts=train_texts, dictionary=dictionary, window_size=10)\n",
    "            coherence_values[n] = cm.get_coherence()\n",
    "        top_topics = sorted(coherence_values.items(), key=operator.itemgetter(1), reverse=True)\n",
    "    return lm, top_topics"
   ]
  },
  {
   "cell_type": "code",
   "execution_count": 190,
   "metadata": {},
   "outputs": [
    {
     "ename": "KeyboardInterrupt",
     "evalue": "",
     "output_type": "error",
     "traceback": [
      "\u001b[1;31m---------------------------------------------------------------------------\u001b[0m",
      "\u001b[1;31mKeyboardInterrupt\u001b[0m                         Traceback (most recent call last)",
      "\u001b[1;32m<ipython-input-190-19e404f4489c>\u001b[0m in \u001b[0;36m<module>\u001b[1;34m\u001b[0m\n\u001b[1;32m----> 1\u001b[1;33m \u001b[0mlm\u001b[0m\u001b[1;33m,\u001b[0m \u001b[0mtop_topics\u001b[0m \u001b[1;33m=\u001b[0m \u001b[0mret_top_model\u001b[0m\u001b[1;33m(\u001b[0m\u001b[1;33m)\u001b[0m\u001b[1;33m\u001b[0m\u001b[1;33m\u001b[0m\u001b[0m\n\u001b[0m",
      "\u001b[1;32m<ipython-input-189-80617956c01d>\u001b[0m in \u001b[0;36mret_top_model\u001b[1;34m()\u001b[0m\n\u001b[0;32m     17\u001b[0m             \u001b[0mtopic\u001b[0m \u001b[1;33m=\u001b[0m \u001b[1;33m[\u001b[0m\u001b[0mword\u001b[0m \u001b[1;32mfor\u001b[0m \u001b[0mword\u001b[0m\u001b[1;33m,\u001b[0m \u001b[0m_\u001b[0m \u001b[1;32min\u001b[0m \u001b[0mtopic\u001b[0m\u001b[1;33m]\u001b[0m\u001b[1;33m\u001b[0m\u001b[1;33m\u001b[0m\u001b[0m\n\u001b[0;32m     18\u001b[0m             \u001b[0mcm\u001b[0m \u001b[1;33m=\u001b[0m \u001b[0mCoherenceModel\u001b[0m\u001b[1;33m(\u001b[0m\u001b[0mtopics\u001b[0m\u001b[1;33m=\u001b[0m\u001b[1;33m[\u001b[0m\u001b[0mtopic\u001b[0m\u001b[1;33m]\u001b[0m\u001b[1;33m,\u001b[0m \u001b[0mtexts\u001b[0m\u001b[1;33m=\u001b[0m\u001b[0mtrain_texts\u001b[0m\u001b[1;33m,\u001b[0m \u001b[0mdictionary\u001b[0m\u001b[1;33m=\u001b[0m\u001b[0mdictionary\u001b[0m\u001b[1;33m,\u001b[0m \u001b[0mwindow_size\u001b[0m\u001b[1;33m=\u001b[0m\u001b[1;36m10\u001b[0m\u001b[1;33m)\u001b[0m\u001b[1;33m\u001b[0m\u001b[1;33m\u001b[0m\u001b[0m\n\u001b[1;32m---> 19\u001b[1;33m             \u001b[0mcoherence_values\u001b[0m\u001b[1;33m[\u001b[0m\u001b[0mn\u001b[0m\u001b[1;33m]\u001b[0m \u001b[1;33m=\u001b[0m \u001b[0mcm\u001b[0m\u001b[1;33m.\u001b[0m\u001b[0mget_coherence\u001b[0m\u001b[1;33m(\u001b[0m\u001b[1;33m)\u001b[0m\u001b[1;33m\u001b[0m\u001b[1;33m\u001b[0m\u001b[0m\n\u001b[0m\u001b[0;32m     20\u001b[0m         \u001b[0mtop_topics\u001b[0m \u001b[1;33m=\u001b[0m \u001b[0msorted\u001b[0m\u001b[1;33m(\u001b[0m\u001b[0mcoherence_values\u001b[0m\u001b[1;33m.\u001b[0m\u001b[0mitems\u001b[0m\u001b[1;33m(\u001b[0m\u001b[1;33m)\u001b[0m\u001b[1;33m,\u001b[0m \u001b[0mkey\u001b[0m\u001b[1;33m=\u001b[0m\u001b[0moperator\u001b[0m\u001b[1;33m.\u001b[0m\u001b[0mitemgetter\u001b[0m\u001b[1;33m(\u001b[0m\u001b[1;36m1\u001b[0m\u001b[1;33m)\u001b[0m\u001b[1;33m,\u001b[0m \u001b[0mreverse\u001b[0m\u001b[1;33m=\u001b[0m\u001b[1;32mTrue\u001b[0m\u001b[1;33m)\u001b[0m\u001b[1;33m\u001b[0m\u001b[1;33m\u001b[0m\u001b[0m\n\u001b[0;32m     21\u001b[0m     \u001b[1;32mreturn\u001b[0m \u001b[0mlm\u001b[0m\u001b[1;33m,\u001b[0m \u001b[0mtop_topics\u001b[0m\u001b[1;33m\u001b[0m\u001b[1;33m\u001b[0m\u001b[0m\n",
      "\u001b[1;32m~\\Anaconda3\\lib\\site-packages\\gensim\\models\\coherencemodel.py\u001b[0m in \u001b[0;36mget_coherence\u001b[1;34m(self)\u001b[0m\n\u001b[0;32m    607\u001b[0m \u001b[1;33m\u001b[0m\u001b[0m\n\u001b[0;32m    608\u001b[0m         \"\"\"\n\u001b[1;32m--> 609\u001b[1;33m         \u001b[0mconfirmed_measures\u001b[0m \u001b[1;33m=\u001b[0m \u001b[0mself\u001b[0m\u001b[1;33m.\u001b[0m\u001b[0mget_coherence_per_topic\u001b[0m\u001b[1;33m(\u001b[0m\u001b[1;33m)\u001b[0m\u001b[1;33m\u001b[0m\u001b[1;33m\u001b[0m\u001b[0m\n\u001b[0m\u001b[0;32m    610\u001b[0m         \u001b[1;32mreturn\u001b[0m \u001b[0mself\u001b[0m\u001b[1;33m.\u001b[0m\u001b[0maggregate_measures\u001b[0m\u001b[1;33m(\u001b[0m\u001b[0mconfirmed_measures\u001b[0m\u001b[1;33m)\u001b[0m\u001b[1;33m\u001b[0m\u001b[1;33m\u001b[0m\u001b[0m\n\u001b[0;32m    611\u001b[0m \u001b[1;33m\u001b[0m\u001b[0m\n",
      "\u001b[1;32m~\\Anaconda3\\lib\\site-packages\\gensim\\models\\coherencemodel.py\u001b[0m in \u001b[0;36mget_coherence_per_topic\u001b[1;34m(self, segmented_topics, with_std, with_support)\u001b[0m\n\u001b[0;32m    567\u001b[0m             \u001b[0msegmented_topics\u001b[0m \u001b[1;33m=\u001b[0m \u001b[0mmeasure\u001b[0m\u001b[1;33m.\u001b[0m\u001b[0mseg\u001b[0m\u001b[1;33m(\u001b[0m\u001b[0mself\u001b[0m\u001b[1;33m.\u001b[0m\u001b[0mtopics\u001b[0m\u001b[1;33m)\u001b[0m\u001b[1;33m\u001b[0m\u001b[1;33m\u001b[0m\u001b[0m\n\u001b[0;32m    568\u001b[0m         \u001b[1;32mif\u001b[0m \u001b[0mself\u001b[0m\u001b[1;33m.\u001b[0m\u001b[0m_accumulator\u001b[0m \u001b[1;32mis\u001b[0m \u001b[1;32mNone\u001b[0m\u001b[1;33m:\u001b[0m\u001b[1;33m\u001b[0m\u001b[1;33m\u001b[0m\u001b[0m\n\u001b[1;32m--> 569\u001b[1;33m             \u001b[0mself\u001b[0m\u001b[1;33m.\u001b[0m\u001b[0mestimate_probabilities\u001b[0m\u001b[1;33m(\u001b[0m\u001b[0msegmented_topics\u001b[0m\u001b[1;33m)\u001b[0m\u001b[1;33m\u001b[0m\u001b[1;33m\u001b[0m\u001b[0m\n\u001b[0m\u001b[0;32m    570\u001b[0m \u001b[1;33m\u001b[0m\u001b[0m\n\u001b[0;32m    571\u001b[0m         \u001b[0mkwargs\u001b[0m \u001b[1;33m=\u001b[0m \u001b[0mdict\u001b[0m\u001b[1;33m(\u001b[0m\u001b[0mwith_std\u001b[0m\u001b[1;33m=\u001b[0m\u001b[0mwith_std\u001b[0m\u001b[1;33m,\u001b[0m \u001b[0mwith_support\u001b[0m\u001b[1;33m=\u001b[0m\u001b[0mwith_support\u001b[0m\u001b[1;33m)\u001b[0m\u001b[1;33m\u001b[0m\u001b[1;33m\u001b[0m\u001b[0m\n",
      "\u001b[1;32m~\\Anaconda3\\lib\\site-packages\\gensim\\models\\coherencemodel.py\u001b[0m in \u001b[0;36mestimate_probabilities\u001b[1;34m(self, segmented_topics)\u001b[0m\n\u001b[0;32m    539\u001b[0m                 \u001b[0mkwargs\u001b[0m\u001b[1;33m[\u001b[0m\u001b[1;34m'model'\u001b[0m\u001b[1;33m]\u001b[0m \u001b[1;33m=\u001b[0m \u001b[0mself\u001b[0m\u001b[1;33m.\u001b[0m\u001b[0mkeyed_vectors\u001b[0m\u001b[1;33m\u001b[0m\u001b[1;33m\u001b[0m\u001b[0m\n\u001b[0;32m    540\u001b[0m \u001b[1;33m\u001b[0m\u001b[0m\n\u001b[1;32m--> 541\u001b[1;33m             \u001b[0mself\u001b[0m\u001b[1;33m.\u001b[0m\u001b[0m_accumulator\u001b[0m \u001b[1;33m=\u001b[0m \u001b[0mself\u001b[0m\u001b[1;33m.\u001b[0m\u001b[0mmeasure\u001b[0m\u001b[1;33m.\u001b[0m\u001b[0mprob\u001b[0m\u001b[1;33m(\u001b[0m\u001b[1;33m**\u001b[0m\u001b[0mkwargs\u001b[0m\u001b[1;33m)\u001b[0m\u001b[1;33m\u001b[0m\u001b[1;33m\u001b[0m\u001b[0m\n\u001b[0m\u001b[0;32m    542\u001b[0m \u001b[1;33m\u001b[0m\u001b[0m\n\u001b[0;32m    543\u001b[0m         \u001b[1;32mreturn\u001b[0m \u001b[0mself\u001b[0m\u001b[1;33m.\u001b[0m\u001b[0m_accumulator\u001b[0m\u001b[1;33m\u001b[0m\u001b[1;33m\u001b[0m\u001b[0m\n",
      "\u001b[1;32m~\\Anaconda3\\lib\\site-packages\\gensim\\topic_coherence\\probability_estimation.py\u001b[0m in \u001b[0;36mp_boolean_sliding_window\u001b[1;34m(texts, segmented_topics, dictionary, window_size, processes)\u001b[0m\n\u001b[0;32m    154\u001b[0m         \u001b[0maccumulator\u001b[0m \u001b[1;33m=\u001b[0m \u001b[0mParallelWordOccurrenceAccumulator\u001b[0m\u001b[1;33m(\u001b[0m\u001b[0mprocesses\u001b[0m\u001b[1;33m,\u001b[0m \u001b[0mtop_ids\u001b[0m\u001b[1;33m,\u001b[0m \u001b[0mdictionary\u001b[0m\u001b[1;33m)\u001b[0m\u001b[1;33m\u001b[0m\u001b[1;33m\u001b[0m\u001b[0m\n\u001b[0;32m    155\u001b[0m     \u001b[0mlogger\u001b[0m\u001b[1;33m.\u001b[0m\u001b[0minfo\u001b[0m\u001b[1;33m(\u001b[0m\u001b[1;34m\"using %s to estimate probabilities from sliding windows\"\u001b[0m\u001b[1;33m,\u001b[0m \u001b[0maccumulator\u001b[0m\u001b[1;33m)\u001b[0m\u001b[1;33m\u001b[0m\u001b[1;33m\u001b[0m\u001b[0m\n\u001b[1;32m--> 156\u001b[1;33m     \u001b[1;32mreturn\u001b[0m \u001b[0maccumulator\u001b[0m\u001b[1;33m.\u001b[0m\u001b[0maccumulate\u001b[0m\u001b[1;33m(\u001b[0m\u001b[0mtexts\u001b[0m\u001b[1;33m,\u001b[0m \u001b[0mwindow_size\u001b[0m\u001b[1;33m)\u001b[0m\u001b[1;33m\u001b[0m\u001b[1;33m\u001b[0m\u001b[0m\n\u001b[0m\u001b[0;32m    157\u001b[0m \u001b[1;33m\u001b[0m\u001b[0m\n\u001b[0;32m    158\u001b[0m \u001b[1;33m\u001b[0m\u001b[0m\n",
      "\u001b[1;32m~\\Anaconda3\\lib\\site-packages\\gensim\\topic_coherence\\text_analysis.py\u001b[0m in \u001b[0;36maccumulate\u001b[1;34m(self, texts, window_size)\u001b[0m\n\u001b[0;32m    442\u001b[0m \u001b[1;33m\u001b[0m\u001b[0m\n\u001b[0;32m    443\u001b[0m     \u001b[1;32mdef\u001b[0m \u001b[0maccumulate\u001b[0m\u001b[1;33m(\u001b[0m\u001b[0mself\u001b[0m\u001b[1;33m,\u001b[0m \u001b[0mtexts\u001b[0m\u001b[1;33m,\u001b[0m \u001b[0mwindow_size\u001b[0m\u001b[1;33m)\u001b[0m\u001b[1;33m:\u001b[0m\u001b[1;33m\u001b[0m\u001b[1;33m\u001b[0m\u001b[0m\n\u001b[1;32m--> 444\u001b[1;33m         \u001b[0mworkers\u001b[0m\u001b[1;33m,\u001b[0m \u001b[0minput_q\u001b[0m\u001b[1;33m,\u001b[0m \u001b[0moutput_q\u001b[0m \u001b[1;33m=\u001b[0m \u001b[0mself\u001b[0m\u001b[1;33m.\u001b[0m\u001b[0mstart_workers\u001b[0m\u001b[1;33m(\u001b[0m\u001b[0mwindow_size\u001b[0m\u001b[1;33m)\u001b[0m\u001b[1;33m\u001b[0m\u001b[1;33m\u001b[0m\u001b[0m\n\u001b[0m\u001b[0;32m    445\u001b[0m         \u001b[1;32mtry\u001b[0m\u001b[1;33m:\u001b[0m\u001b[1;33m\u001b[0m\u001b[1;33m\u001b[0m\u001b[0m\n\u001b[0;32m    446\u001b[0m             \u001b[0mself\u001b[0m\u001b[1;33m.\u001b[0m\u001b[0mqueue_all_texts\u001b[0m\u001b[1;33m(\u001b[0m\u001b[0minput_q\u001b[0m\u001b[1;33m,\u001b[0m \u001b[0mtexts\u001b[0m\u001b[1;33m,\u001b[0m \u001b[0mwindow_size\u001b[0m\u001b[1;33m)\u001b[0m\u001b[1;33m\u001b[0m\u001b[1;33m\u001b[0m\u001b[0m\n",
      "\u001b[1;32m~\\Anaconda3\\lib\\site-packages\\gensim\\topic_coherence\\text_analysis.py\u001b[0m in \u001b[0;36mstart_workers\u001b[1;34m(self, window_size)\u001b[0m\n\u001b[0;32m    476\u001b[0m             \u001b[0maccumulator\u001b[0m \u001b[1;33m=\u001b[0m \u001b[0mPatchedWordOccurrenceAccumulator\u001b[0m\u001b[1;33m(\u001b[0m\u001b[0mself\u001b[0m\u001b[1;33m.\u001b[0m\u001b[0mrelevant_ids\u001b[0m\u001b[1;33m,\u001b[0m \u001b[0mself\u001b[0m\u001b[1;33m.\u001b[0m\u001b[0mdictionary\u001b[0m\u001b[1;33m)\u001b[0m\u001b[1;33m\u001b[0m\u001b[1;33m\u001b[0m\u001b[0m\n\u001b[0;32m    477\u001b[0m             \u001b[0mworker\u001b[0m \u001b[1;33m=\u001b[0m \u001b[0mAccumulatingWorker\u001b[0m\u001b[1;33m(\u001b[0m\u001b[0minput_q\u001b[0m\u001b[1;33m,\u001b[0m \u001b[0moutput_q\u001b[0m\u001b[1;33m,\u001b[0m \u001b[0maccumulator\u001b[0m\u001b[1;33m,\u001b[0m \u001b[0mwindow_size\u001b[0m\u001b[1;33m)\u001b[0m\u001b[1;33m\u001b[0m\u001b[1;33m\u001b[0m\u001b[0m\n\u001b[1;32m--> 478\u001b[1;33m             \u001b[0mworker\u001b[0m\u001b[1;33m.\u001b[0m\u001b[0mstart\u001b[0m\u001b[1;33m(\u001b[0m\u001b[1;33m)\u001b[0m\u001b[1;33m\u001b[0m\u001b[1;33m\u001b[0m\u001b[0m\n\u001b[0m\u001b[0;32m    479\u001b[0m             \u001b[0mworkers\u001b[0m\u001b[1;33m.\u001b[0m\u001b[0mappend\u001b[0m\u001b[1;33m(\u001b[0m\u001b[0mworker\u001b[0m\u001b[1;33m)\u001b[0m\u001b[1;33m\u001b[0m\u001b[1;33m\u001b[0m\u001b[0m\n\u001b[0;32m    480\u001b[0m \u001b[1;33m\u001b[0m\u001b[0m\n",
      "\u001b[1;32m~\\Anaconda3\\lib\\multiprocessing\\process.py\u001b[0m in \u001b[0;36mstart\u001b[1;34m(self)\u001b[0m\n\u001b[0;32m    110\u001b[0m                \u001b[1;34m'daemonic processes are not allowed to have children'\u001b[0m\u001b[1;33m\u001b[0m\u001b[1;33m\u001b[0m\u001b[0m\n\u001b[0;32m    111\u001b[0m         \u001b[0m_cleanup\u001b[0m\u001b[1;33m(\u001b[0m\u001b[1;33m)\u001b[0m\u001b[1;33m\u001b[0m\u001b[1;33m\u001b[0m\u001b[0m\n\u001b[1;32m--> 112\u001b[1;33m         \u001b[0mself\u001b[0m\u001b[1;33m.\u001b[0m\u001b[0m_popen\u001b[0m \u001b[1;33m=\u001b[0m \u001b[0mself\u001b[0m\u001b[1;33m.\u001b[0m\u001b[0m_Popen\u001b[0m\u001b[1;33m(\u001b[0m\u001b[0mself\u001b[0m\u001b[1;33m)\u001b[0m\u001b[1;33m\u001b[0m\u001b[1;33m\u001b[0m\u001b[0m\n\u001b[0m\u001b[0;32m    113\u001b[0m         \u001b[0mself\u001b[0m\u001b[1;33m.\u001b[0m\u001b[0m_sentinel\u001b[0m \u001b[1;33m=\u001b[0m \u001b[0mself\u001b[0m\u001b[1;33m.\u001b[0m\u001b[0m_popen\u001b[0m\u001b[1;33m.\u001b[0m\u001b[0msentinel\u001b[0m\u001b[1;33m\u001b[0m\u001b[1;33m\u001b[0m\u001b[0m\n\u001b[0;32m    114\u001b[0m         \u001b[1;31m# Avoid a refcycle if the target function holds an indirect\u001b[0m\u001b[1;33m\u001b[0m\u001b[1;33m\u001b[0m\u001b[1;33m\u001b[0m\u001b[0m\n",
      "\u001b[1;32m~\\Anaconda3\\lib\\multiprocessing\\context.py\u001b[0m in \u001b[0;36m_Popen\u001b[1;34m(process_obj)\u001b[0m\n\u001b[0;32m    221\u001b[0m     \u001b[1;33m@\u001b[0m\u001b[0mstaticmethod\u001b[0m\u001b[1;33m\u001b[0m\u001b[1;33m\u001b[0m\u001b[0m\n\u001b[0;32m    222\u001b[0m     \u001b[1;32mdef\u001b[0m \u001b[0m_Popen\u001b[0m\u001b[1;33m(\u001b[0m\u001b[0mprocess_obj\u001b[0m\u001b[1;33m)\u001b[0m\u001b[1;33m:\u001b[0m\u001b[1;33m\u001b[0m\u001b[1;33m\u001b[0m\u001b[0m\n\u001b[1;32m--> 223\u001b[1;33m         \u001b[1;32mreturn\u001b[0m \u001b[0m_default_context\u001b[0m\u001b[1;33m.\u001b[0m\u001b[0mget_context\u001b[0m\u001b[1;33m(\u001b[0m\u001b[1;33m)\u001b[0m\u001b[1;33m.\u001b[0m\u001b[0mProcess\u001b[0m\u001b[1;33m.\u001b[0m\u001b[0m_Popen\u001b[0m\u001b[1;33m(\u001b[0m\u001b[0mprocess_obj\u001b[0m\u001b[1;33m)\u001b[0m\u001b[1;33m\u001b[0m\u001b[1;33m\u001b[0m\u001b[0m\n\u001b[0m\u001b[0;32m    224\u001b[0m \u001b[1;33m\u001b[0m\u001b[0m\n\u001b[0;32m    225\u001b[0m \u001b[1;32mclass\u001b[0m \u001b[0mDefaultContext\u001b[0m\u001b[1;33m(\u001b[0m\u001b[0mBaseContext\u001b[0m\u001b[1;33m)\u001b[0m\u001b[1;33m:\u001b[0m\u001b[1;33m\u001b[0m\u001b[1;33m\u001b[0m\u001b[0m\n",
      "\u001b[1;32m~\\Anaconda3\\lib\\multiprocessing\\context.py\u001b[0m in \u001b[0;36m_Popen\u001b[1;34m(process_obj)\u001b[0m\n\u001b[0;32m    320\u001b[0m         \u001b[1;32mdef\u001b[0m \u001b[0m_Popen\u001b[0m\u001b[1;33m(\u001b[0m\u001b[0mprocess_obj\u001b[0m\u001b[1;33m)\u001b[0m\u001b[1;33m:\u001b[0m\u001b[1;33m\u001b[0m\u001b[1;33m\u001b[0m\u001b[0m\n\u001b[0;32m    321\u001b[0m             \u001b[1;32mfrom\u001b[0m \u001b[1;33m.\u001b[0m\u001b[0mpopen_spawn_win32\u001b[0m \u001b[1;32mimport\u001b[0m \u001b[0mPopen\u001b[0m\u001b[1;33m\u001b[0m\u001b[1;33m\u001b[0m\u001b[0m\n\u001b[1;32m--> 322\u001b[1;33m             \u001b[1;32mreturn\u001b[0m \u001b[0mPopen\u001b[0m\u001b[1;33m(\u001b[0m\u001b[0mprocess_obj\u001b[0m\u001b[1;33m)\u001b[0m\u001b[1;33m\u001b[0m\u001b[1;33m\u001b[0m\u001b[0m\n\u001b[0m\u001b[0;32m    323\u001b[0m \u001b[1;33m\u001b[0m\u001b[0m\n\u001b[0;32m    324\u001b[0m     \u001b[1;32mclass\u001b[0m \u001b[0mSpawnContext\u001b[0m\u001b[1;33m(\u001b[0m\u001b[0mBaseContext\u001b[0m\u001b[1;33m)\u001b[0m\u001b[1;33m:\u001b[0m\u001b[1;33m\u001b[0m\u001b[1;33m\u001b[0m\u001b[0m\n",
      "\u001b[1;32m~\\Anaconda3\\lib\\multiprocessing\\popen_spawn_win32.py\u001b[0m in \u001b[0;36m__init__\u001b[1;34m(self, process_obj)\u001b[0m\n\u001b[0;32m     87\u001b[0m             \u001b[1;32mtry\u001b[0m\u001b[1;33m:\u001b[0m\u001b[1;33m\u001b[0m\u001b[1;33m\u001b[0m\u001b[0m\n\u001b[0;32m     88\u001b[0m                 \u001b[0mreduction\u001b[0m\u001b[1;33m.\u001b[0m\u001b[0mdump\u001b[0m\u001b[1;33m(\u001b[0m\u001b[0mprep_data\u001b[0m\u001b[1;33m,\u001b[0m \u001b[0mto_child\u001b[0m\u001b[1;33m)\u001b[0m\u001b[1;33m\u001b[0m\u001b[1;33m\u001b[0m\u001b[0m\n\u001b[1;32m---> 89\u001b[1;33m                 \u001b[0mreduction\u001b[0m\u001b[1;33m.\u001b[0m\u001b[0mdump\u001b[0m\u001b[1;33m(\u001b[0m\u001b[0mprocess_obj\u001b[0m\u001b[1;33m,\u001b[0m \u001b[0mto_child\u001b[0m\u001b[1;33m)\u001b[0m\u001b[1;33m\u001b[0m\u001b[1;33m\u001b[0m\u001b[0m\n\u001b[0m\u001b[0;32m     90\u001b[0m             \u001b[1;32mfinally\u001b[0m\u001b[1;33m:\u001b[0m\u001b[1;33m\u001b[0m\u001b[1;33m\u001b[0m\u001b[0m\n\u001b[0;32m     91\u001b[0m                 \u001b[0mset_spawning_popen\u001b[0m\u001b[1;33m(\u001b[0m\u001b[1;32mNone\u001b[0m\u001b[1;33m)\u001b[0m\u001b[1;33m\u001b[0m\u001b[1;33m\u001b[0m\u001b[0m\n",
      "\u001b[1;32m~\\Anaconda3\\lib\\multiprocessing\\reduction.py\u001b[0m in \u001b[0;36mdump\u001b[1;34m(obj, file, protocol)\u001b[0m\n\u001b[0;32m     58\u001b[0m \u001b[1;32mdef\u001b[0m \u001b[0mdump\u001b[0m\u001b[1;33m(\u001b[0m\u001b[0mobj\u001b[0m\u001b[1;33m,\u001b[0m \u001b[0mfile\u001b[0m\u001b[1;33m,\u001b[0m \u001b[0mprotocol\u001b[0m\u001b[1;33m=\u001b[0m\u001b[1;32mNone\u001b[0m\u001b[1;33m)\u001b[0m\u001b[1;33m:\u001b[0m\u001b[1;33m\u001b[0m\u001b[1;33m\u001b[0m\u001b[0m\n\u001b[0;32m     59\u001b[0m     \u001b[1;34m'''Replacement for pickle.dump() using ForkingPickler.'''\u001b[0m\u001b[1;33m\u001b[0m\u001b[1;33m\u001b[0m\u001b[0m\n\u001b[1;32m---> 60\u001b[1;33m     \u001b[0mForkingPickler\u001b[0m\u001b[1;33m(\u001b[0m\u001b[0mfile\u001b[0m\u001b[1;33m,\u001b[0m \u001b[0mprotocol\u001b[0m\u001b[1;33m)\u001b[0m\u001b[1;33m.\u001b[0m\u001b[0mdump\u001b[0m\u001b[1;33m(\u001b[0m\u001b[0mobj\u001b[0m\u001b[1;33m)\u001b[0m\u001b[1;33m\u001b[0m\u001b[1;33m\u001b[0m\u001b[0m\n\u001b[0m\u001b[0;32m     61\u001b[0m \u001b[1;33m\u001b[0m\u001b[0m\n\u001b[0;32m     62\u001b[0m \u001b[1;31m#\u001b[0m\u001b[1;33m\u001b[0m\u001b[1;33m\u001b[0m\u001b[1;33m\u001b[0m\u001b[0m\n",
      "\u001b[1;31mKeyboardInterrupt\u001b[0m: "
     ]
    }
   ],
   "source": [
    "lm, top_topics = ret_top_model()\n",
    "# long running time. That's the LDA I know and love. "
   ]
  },
  {
   "cell_type": "code",
   "execution_count": null,
   "metadata": {},
   "outputs": [],
   "source": [
    "print(top_topics[:5])"
   ]
  },
  {
   "cell_type": "code",
   "execution_count": null,
   "metadata": {},
   "outputs": [],
   "source": [
    "pprint([lm.show_topic(topicid) for topicid, c_v in top_topics[:10]])"
   ]
  },
  {
   "cell_type": "code",
   "execution_count": null,
   "metadata": {},
   "outputs": [],
   "source": [
    "lda_lsi_topics = [[word for word, prob in lm.show_topic(topicid)] for topicid, c_v in top_topics]"
   ]
  },
  {
   "cell_type": "markdown",
   "metadata": {},
   "source": [
    "### Evaluating all the topic models\n",
    "Any topic model which can come up with topic terms can be plugged into the coherence pipeline. You can even plug in an NMF topic model created with scikit-learn."
   ]
  },
  {
   "cell_type": "code",
   "execution_count": null,
   "metadata": {},
   "outputs": [],
   "source": [
    "lsitopics = [[word for word, prob in topic] for topicid, topic in lsitopics]\n",
    "\n",
    "hdptopics = [[word for word, prob in topic] for topicid, topic in hdptopics]\n",
    "\n",
    "ldatopics = [[word for word, prob in topic] for topicid, topic in ldatopics]\n",
    "\n",
    "lmtopics = [[word for word, prob in topic] for topicid, topic in lmtopics]"
   ]
  },
  {
   "cell_type": "code",
   "execution_count": null,
   "metadata": {},
   "outputs": [],
   "source": [
    "lsi_coherence = CoherenceModel(topics=lsitopics[:10], texts=train_texts, dictionary=dictionary, window_size=10).get_coherence()\n",
    "\n",
    "hdp_coherence = CoherenceModel(topics=hdptopics[:10], texts=train_texts, dictionary=dictionary, window_size=10).get_coherence()\n",
    "\n",
    "lda_coherence = CoherenceModel(topics=ldatopics, texts=train_texts, dictionary=dictionary, window_size=10).get_coherence()\n",
    "\n",
    "lm_coherence = CoherenceModel(topics=lmtopics, texts=train_texts, dictionary=dictionary, window_size=10).get_coherence()\n",
    "\n",
    "lda_lsi_coherence = CoherenceModel(topics=lda_lsi_topics[:10], texts=train_texts, dictionary=dictionary, window_size=10).get_coherence()"
   ]
  },
  {
   "cell_type": "code",
   "execution_count": null,
   "metadata": {},
   "outputs": [],
   "source": [
    "def evaluate_bar_graph(coherences, indices):\n",
    "    \"\"\"\n",
    "    Function to plot bar graph.\n",
    "    \n",
    "    coherences: list of coherence values\n",
    "    indices: Indices to be used to mark bars. Length of this and coherences should be equal.\n",
    "    \"\"\"\n",
    "    assert len(coherences) == len(indices)\n",
    "    n = len(coherences)\n",
    "    x = np.arange(n)\n",
    "    plt.bar(x, coherences, width=0.2, tick_label=indices, align='center')\n",
    "    plt.xlabel('Models')\n",
    "    plt.ylabel('Coherence Value')"
   ]
  },
  {
   "cell_type": "code",
   "execution_count": null,
   "metadata": {},
   "outputs": [],
   "source": [
    "evaluate_bar_graph([lsi_coherence, hdp_coherence, lda_coherence, lm_coherence, lda_lsi_coherence],\n",
    "                   ['LSI', 'HDP', 'LDA', 'LDA_Mod', 'LDA_LSI'])"
   ]
  },
  {
   "cell_type": "markdown",
   "metadata": {},
   "source": [
    "### Customizing the topic coherence measure¶\n",
    "Till now we only used the c_v coherence measure. There are others such as u_mass, c_uci, c_npmi. All of these calculate coherence in a different way. c_v is found to be most in line with human ratings but can be much slower than u_mass since it uses a sliding window over the texts."
   ]
  },
  {
   "cell_type": "markdown",
   "metadata": {},
   "source": [
    "Making your own coherence measure\n",
    "Let's modify c_uci to use s_one_pre instead of s_one_one segmentation"
   ]
  },
  {
   "cell_type": "code",
   "execution_count": null,
   "metadata": {},
   "outputs": [],
   "source": [
    "from gensim.topic_coherence import (segmentation, probability_estimation,\n",
    "                                    direct_confirmation_measure, indirect_confirmation_measure,\n",
    "                                    aggregation)\n",
    "from gensim.matutils import argsort\n",
    "from collections import namedtuple"
   ]
  },
  {
   "cell_type": "code",
   "execution_count": null,
   "metadata": {},
   "outputs": [],
   "source": [
    "make_pipeline = namedtuple('Coherence_Measure', 'seg, prob, conf, aggr')"
   ]
  },
  {
   "cell_type": "code",
   "execution_count": null,
   "metadata": {},
   "outputs": [],
   "source": [
    "measure = make_pipeline(segmentation.s_one_one,\n",
    "                        probability_estimation.p_boolean_sliding_window,\n",
    "                        direct_confirmation_measure.log_ratio_measure,\n",
    "                        aggregation.arithmetic_mean)"
   ]
  },
  {
   "cell_type": "markdown",
   "metadata": {},
   "source": [
    "To get topics out of the topic model:"
   ]
  },
  {
   "cell_type": "code",
   "execution_count": null,
   "metadata": {},
   "outputs": [],
   "source": [
    "topics = []\n",
    "for topic in lm.state.get_lambda():\n",
    "    bestn = argsort(topic, topn=10, reverse=True)\n",
    "topics.append(bestn)"
   ]
  },
  {
   "cell_type": "markdown",
   "metadata": {},
   "source": [
    "Step 1: Segmentation"
   ]
  },
  {
   "cell_type": "code",
   "execution_count": null,
   "metadata": {},
   "outputs": [],
   "source": [
    "# Perform segmentation\n",
    "segmented_topics = measure.seg(topics)"
   ]
  },
  {
   "cell_type": "markdown",
   "metadata": {},
   "source": [
    "Step 2: Probability estimation"
   ]
  },
  {
   "cell_type": "code",
   "execution_count": null,
   "metadata": {},
   "outputs": [],
   "source": [
    "# Since this is a window-based coherence measure we will perform window based prob estimation\n",
    "per_topic_postings, num_windows = measure.prob(texts=train_texts, segmented_topics=segmented_topics,\n",
    "                                               dictionary=dictionary, window_size=2)"
   ]
  },
  {
   "cell_type": "markdown",
   "metadata": {},
   "source": [
    "Step 3: Confirmation Measure"
   ]
  },
  {
   "cell_type": "code",
   "execution_count": null,
   "metadata": {},
   "outputs": [],
   "source": [
    "confirmed_measures = measure.conf(segmented_topics, per_topic_postings, num_windows, normalize=False)"
   ]
  },
  {
   "cell_type": "markdown",
   "metadata": {},
   "source": [
    "Step 4: Aggregation"
   ]
  },
  {
   "cell_type": "code",
   "execution_count": null,
   "metadata": {},
   "outputs": [],
   "source": [
    "print(measure.aggr(confirmed_measures))"
   ]
  },
  {
   "cell_type": "markdown",
   "metadata": {},
   "source": [
    "### How this topic model can be used further\n",
    "The best topic model here can be used as a standalone for news article classification. However a topic model can also be used as a dimensionality reduction algorithm to feed into a classifier. A good topic model should be able to extract the signal from the noise efficiently, hence improving the performance of the classifier."
   ]
  },
  {
   "cell_type": "markdown",
   "metadata": {},
   "source": [
    "# Module 2: Topic Modelling in Python with NLTK and Gensim\n",
    "### https://towardsdatascience.com/topic-modelling-in-python-with-nltk-and-gensim-4ef03213cd21"
   ]
  },
  {
   "cell_type": "markdown",
   "metadata": {},
   "source": [
    "In particular, we will cover Latent Dirichlet Allocation (LDA): a widely used topic modelling technique. And we will apply LDA to convert set of research papers to a set of topics.\n",
    "\n",
    "Research paper topic modelling is an unsupervised machine learning method that helps us discover hidden semantic structures in a paper, that allows us to learn topic representations of papers in a corpus. The model can be applied to any kinds of labels on documents, such as tags on posts on the website."
   ]
  },
  {
   "cell_type": "markdown",
   "metadata": {},
   "source": [
    "### The Process\n",
    "- We pick the number of topics ahead of time even if we’re not sure what the topics are.\n",
    "- Each document is represented as a distribution over topics.\n",
    "- Each topic is represented as a distribution over words."
   ]
  },
  {
   "cell_type": "markdown",
   "metadata": {},
   "source": [
    "### Text Cleaning\n",
    "We use the following function to clean our texts and return a list of tokens:"
   ]
  },
  {
   "cell_type": "code",
   "execution_count": 198,
   "metadata": {},
   "outputs": [],
   "source": [
    "# spaCy is a library for advanced Natural Language Processing in Python\n",
    "import spacy\n",
    "spacy.load('en')\n",
    "from spacy.lang.en import English\n",
    "parser = English()\n",
    "\n",
    "def tokenize(text):\n",
    "    lda_tokens = []\n",
    "    tokens = parser(text)\n",
    "    for token in tokens: # So this is taking each title I believe\n",
    "        if token.orth_.isspace(): # orth: ID of the verbatim text content.\n",
    "            continue\n",
    "        elif token.like_url:\n",
    "            lda_tokens.append('URL')\n",
    "        elif token.orth_.startswith('@'):\n",
    "            lda_tokens.append('SCREEN_NAME')\n",
    "        else:\n",
    "            lda_tokens.append(token.lower_)\n",
    "    return lda_tokens"
   ]
  },
  {
   "cell_type": "markdown",
   "metadata": {},
   "source": [
    "We use NLTK’s Wordnet to find the meanings of words, synonyms, antonyms, and more. In addition, we use WordNetLemmatizer to get the root word."
   ]
  },
  {
   "cell_type": "code",
   "execution_count": 199,
   "metadata": {},
   "outputs": [
    {
     "name": "stderr",
     "output_type": "stream",
     "text": [
      "[nltk_data] Downloading package wordnet to C:\\Users\\Christian\n",
      "[nltk_data]     Conroy\\AppData\\Roaming\\nltk_data...\n",
      "[nltk_data]   Package wordnet is already up-to-date!\n"
     ]
    }
   ],
   "source": [
    "import nltk\n",
    "nltk.download('wordnet')\n",
    "from nltk.corpus import wordnet as wn\n",
    "def get_lemma(word):\n",
    "    lemma = wn.morphy(word)\n",
    "    if lemma is None:\n",
    "        return word\n",
    "    else:\n",
    "        return lemma\n",
    "# Morphy uses a combination of inflectional ending rules and exception lists to handle a variety of different possibilities\n",
    "# Morphy essentially helps in situations where the form in not in wordNet\n",
    "from nltk.stem.wordnet import WordNetLemmatizer\n",
    "def get_lemma2(word):\n",
    "    return WordNetLemmatizer().lemmatize(word)"
   ]
  },
  {
   "cell_type": "markdown",
   "metadata": {},
   "source": [
    "Filter out stop words:"
   ]
  },
  {
   "cell_type": "code",
   "execution_count": 200,
   "metadata": {},
   "outputs": [
    {
     "name": "stderr",
     "output_type": "stream",
     "text": [
      "[nltk_data] Downloading package stopwords to C:\\Users\\Christian\n",
      "[nltk_data]     Conroy\\AppData\\Roaming\\nltk_data...\n",
      "[nltk_data]   Package stopwords is already up-to-date!\n"
     ]
    }
   ],
   "source": [
    "nltk.download('stopwords')\n",
    "en_stop = set(nltk.corpus.stopwords.words('english'))"
   ]
  },
  {
   "cell_type": "markdown",
   "metadata": {},
   "source": [
    "Now we can define a function to prepare the text for topic modelling:"
   ]
  },
  {
   "cell_type": "code",
   "execution_count": 201,
   "metadata": {},
   "outputs": [],
   "source": [
    "def prepare_text_for_lda(text):\n",
    "    tokens = tokenize(text)\n",
    "    tokens = [token for token in tokens if len(token) > 4] # Only 5 characters or more\n",
    "    tokens = [token for token in tokens if token not in en_stop] # Take out stop words \n",
    "    tokens = [get_lemma(token) for token in tokens] #Lemmetize \n",
    "    return tokens"
   ]
  },
  {
   "cell_type": "markdown",
   "metadata": {},
   "source": [
    "Open up our data, read line by line, for each line, prepare text for LDA, then add to a list.\n",
    "Now we can see how our text data are converted:"
   ]
  },
  {
   "cell_type": "code",
   "execution_count": 203,
   "metadata": {},
   "outputs": [
    {
     "name": "stdout",
     "output_type": "stream",
     "text": [
      "['social', 'status', 'analysis', 'palin', 'email', 'network']\n",
      "['personalize', 'pocket', 'directory', 'mobile', 'devices']\n",
      "['realistic', 'efficient', 'multi', 'channel', 'communications', 'wireless', 'sensor', 'network']\n",
      "['frequency', 'response', 'masking', 'base', 'reconfigurable', 'channel', 'filter', 'software', 'radio', 'receiver']\n",
      "['fusion', 'resolving', 'conflict', 'integration']\n",
      "['designing', 'efficient', 'datapaths', 'compiler', 'exploration', 'methodology']\n",
      "['scalable', 'query', 'services', 'fuzzy', 'ontology']\n",
      "['interactive', 'texture', 'mapping']\n",
      "['cognitive', 'mobile', 'virtual', 'network', 'operator', 'investment', 'pricing', 'supply', 'uncertainty']\n",
      "['mining', 'frequent', 'close', 'cube', 'datasets']\n",
      "['circuit', 'create', 'logarithmic', 'response', 'integrating', 'pixel']\n",
      "['polymesh', 'level', 'algorithm']\n",
      "['numerical', 'simulation', 'fluid', 'complex', 'geometry', 'using', 'lattice', 'boltzmann', 'method', 'enable']\n",
      "['second', 'international', 'workshop', 'restful', 'design']\n",
      "['speed', 'minimal', 'power', 'dram', 'large', 'width']\n",
      "['tertiary', '12-ghz', '32-bit', 'adder', 'technology']\n",
      "['lexicographic', 'fairness', 'optical', 'cross', 'connect']\n",
      "['design', 'methodology', 'inductive', 'power', 'transfer', 'system', 'target', 'power', 'implantable', 'devices']\n",
      "['adaptive', 'block', 'phase', 'correlation', 'motion', 'estimation', 'using', 'adaptive', 'early', 'search', 'termination', 'technique']\n",
      "['base', 'output', 'capacitorless', 'regulator', 'capacitance', 'range']\n",
      "['model', 'equivalence']\n",
      "['comparison', 'base', 'reasoning', 'approach']\n",
      "['video', 'soccer', 'stadium']\n",
      "['pipelined', 'design', 'goertzel', 'algorithm', 'prediction']\n"
     ]
    }
   ],
   "source": [
    "import random\n",
    "text_data = []\n",
    "with open('dataset.csv') as f: # Downloaded from https://raw.githubusercontent.com/susanli2016/Machine-Learning-with-Python/master/dataset.csv\n",
    "    for line in f:\n",
    "        tokens = prepare_text_for_lda(line)\n",
    "        if random.random() > .99:\n",
    "            print(tokens)\n",
    "            text_data.append(tokens)\n",
    "            \n",
    "# I think we're loading in only a small amount to make the tutorial easier. "
   ]
  },
  {
   "cell_type": "markdown",
   "metadata": {},
   "source": [
    "### LDA with Gensim\n",
    "First, we are creating a dictionary from the data, then convert to bag-of-words corpus and save the dictionary and corpus for future use."
   ]
  },
  {
   "cell_type": "code",
   "execution_count": 213,
   "metadata": {},
   "outputs": [],
   "source": [
    "from gensim import corpora\n",
    "dictionary = corpora.Dictionary(text_data) # Converting to corpora dictionary\n",
    "corpus = [dictionary.doc2bow(text) for text in text_data] # Converting to bag of words \n",
    "import pickle # The whole annoying save thing as object thing in Python\n",
    "pickle.dump(corpus, open('corpus.pkl', 'wb'))\n",
    "dictionary.save('dictionary.gensim')"
   ]
  },
  {
   "cell_type": "code",
   "execution_count": 214,
   "metadata": {},
   "outputs": [
    {
     "name": "stdout",
     "output_type": "stream",
     "text": [
      "(0, '0.030*\"channel\" + 0.030*\"response\" + 0.030*\"base\" + 0.030*\"mobile\"')\n",
      "(1, '0.025*\"algorithm\" + 0.025*\"network\" + 0.025*\"design\" + 0.025*\"goertzel\"')\n",
      "(2, '0.037*\"power\" + 0.037*\"adaptive\" + 0.020*\"design\" + 0.020*\"using\"')\n",
      "(3, '0.035*\"base\" + 0.019*\"output\" + 0.019*\"capacitance\" + 0.019*\"range\"')\n",
      "(4, '0.021*\"minimal\" + 0.021*\"width\" + 0.021*\"dram\" + 0.021*\"email\"')\n"
     ]
    }
   ],
   "source": [
    "import gensim\n",
    "NUM_TOPICS = 5\n",
    "ldamodel = gensim.models.ldamodel.LdaModel(corpus, num_topics = NUM_TOPICS, id2word=dictionary, passes=15)\n",
    "# An optimized implementation of the LDA algorithm, able to harness the power of multicore CPUs\n",
    "ldamodel.save('model5.gensim')\n",
    "topics = ldamodel.print_topics(num_words=4)\n",
    "for topic in topics:\n",
    "    print(topic)"
   ]
  },
  {
   "cell_type": "markdown",
   "metadata": {},
   "source": [
    "With LDA, we can see that different document with different topics, and the discriminations are obvious."
   ]
  },
  {
   "cell_type": "markdown",
   "metadata": {},
   "source": [
    "Let’s try a new document:"
   ]
  },
  {
   "cell_type": "code",
   "execution_count": 215,
   "metadata": {},
   "outputs": [
    {
     "name": "stdout",
     "output_type": "stream",
     "text": [
      "[(61, 1)]\n",
      "[(0, 0.10002813), (1, 0.596633), (2, 0.1033012), (3, 0.100018084), (4, 0.10001958)]\n"
     ]
    }
   ],
   "source": [
    "# THIS IS ESSENTIALLY THE EQUIVALENT OF PREDICT FOR TOPIC MODELING LIKE THIS\n",
    "new_doc = 'Practical Bayesian Optimization of Machine Learning Algorithms'\n",
    "new_doc = prepare_text_for_lda(new_doc)\n",
    "new_doc_bow = dictionary.doc2bow(new_doc)\n",
    "print(new_doc_bow)\n",
    "print(ldamodel.get_document_topics(new_doc_bow))\n",
    "\n",
    "# Remember 0 indexing. Because Topic 1 dealt with algorithms and data sciency stuff, it makes sense this would be classified there. "
   ]
  },
  {
   "cell_type": "markdown",
   "metadata": {},
   "source": [
    "My new document is about machine learning algorithms, the LDA out put shows that topic 1 has the highest probability assigned, and topic 3 has the second highest probability assigned. We agreed!"
   ]
  },
  {
   "cell_type": "markdown",
   "metadata": {},
   "source": [
    "Now we are asking LDA to find 3 topics in the data:"
   ]
  },
  {
   "cell_type": "code",
   "execution_count": 216,
   "metadata": {},
   "outputs": [
    {
     "name": "stdout",
     "output_type": "stream",
     "text": [
      "(0, '0.027*\"adaptive\" + 0.016*\"base\" + 0.016*\"network\" + 0.016*\"using\"')\n",
      "(1, '0.023*\"algorithm\" + 0.023*\"design\" + 0.013*\"base\" + 0.013*\"response\"')\n",
      "(2, '0.029*\"power\" + 0.028*\"methodology\" + 0.028*\"devices\" + 0.028*\"mobile\"')\n"
     ]
    }
   ],
   "source": [
    "ldamodel = gensim.models.ldamodel.LdaModel(corpus, num_topics = 3, id2word=dictionary, passes=15)\n",
    "ldamodel.save('model3.gensim')\n",
    "topics = ldamodel.print_topics(num_words=4)\n",
    "for topic in topics:\n",
    "    print(topic)"
   ]
  },
  {
   "cell_type": "markdown",
   "metadata": {},
   "source": [
    "We can also find 10 topics:"
   ]
  },
  {
   "cell_type": "code",
   "execution_count": 217,
   "metadata": {},
   "outputs": [
    {
     "name": "stdout",
     "output_type": "stream",
     "text": [
      "(0, '0.028*\"geometry\" + 0.028*\"fluid\" + 0.028*\"lattice\" + 0.028*\"numerical\"')\n",
      "(1, '0.043*\"mapping\" + 0.043*\"texture\" + 0.043*\"interactive\" + 0.043*\"frequency\"')\n",
      "(2, '0.038*\"mobile\" + 0.038*\"network\" + 0.038*\"operator\" + 0.038*\"cognitive\"')\n",
      "(3, '0.045*\"base\" + 0.024*\"status\" + 0.024*\"capacitance\" + 0.024*\"capacitorless\"')\n",
      "(4, '0.008*\"model\" + 0.008*\"equivalence\" + 0.008*\"design\" + 0.008*\"level\"')\n",
      "(5, '0.008*\"base\" + 0.008*\"level\" + 0.008*\"equivalence\" + 0.008*\"algorithm\"')\n",
      "(6, '0.071*\"adaptive\" + 0.037*\"using\" + 0.037*\"design\" + 0.037*\"motion\"')\n",
      "(7, '0.108*\"power\" + 0.038*\"design\" + 0.038*\"devices\" + 0.038*\"methodology\"')\n",
      "(8, '0.056*\"algorithm\" + 0.056*\"fusion\" + 0.056*\"conflict\" + 0.056*\"resolving\"')\n",
      "(9, '0.079*\"efficient\" + 0.041*\"channel\" + 0.041*\"network\" + 0.041*\"realistic\"')\n"
     ]
    }
   ],
   "source": [
    "ldamodel = gensim.models.ldamodel.LdaModel(corpus, num_topics = 10, id2word=dictionary, passes=15)\n",
    "ldamodel.save('model10.gensim')\n",
    "topics = ldamodel.print_topics(num_words=4)\n",
    "for topic in topics:\n",
    "    print(topic)"
   ]
  },
  {
   "cell_type": "markdown",
   "metadata": {},
   "source": [
    "pyLDAvis is designed to help users interpret the topics in a topic model that has been fit to a corpus of text data. The package extracts information from a fitted LDA topic model to inform an interactive web-based visualization."
   ]
  },
  {
   "cell_type": "markdown",
   "metadata": {},
   "source": [
    "Visualizing 5 topics:"
   ]
  },
  {
   "cell_type": "code",
   "execution_count": 218,
   "metadata": {},
   "outputs": [
    {
     "data": {
      "text/html": [
       "\n",
       "<link rel=\"stylesheet\" type=\"text/css\" href=\"https://cdn.rawgit.com/bmabey/pyLDAvis/files/ldavis.v1.0.0.css\">\n",
       "\n",
       "\n",
       "<div id=\"ldavis_el1694829117037687846920674776\"></div>\n",
       "<script type=\"text/javascript\">\n",
       "\n",
       "var ldavis_el1694829117037687846920674776_data = {\"mdsDat\": {\"x\": [-0.012247943115187612, -0.0012381238056040692, 0.0852322704267382, -0.12405903977012722, 0.05231283626418077], \"y\": [0.015472924585356112, 0.009208673656023366, 0.08782808521604533, 0.007933087261955376, -0.12044277071938014], \"topics\": [1, 2, 3, 4, 5], \"cluster\": [1, 1, 1, 1, 1], \"Freq\": [12.080710411071777, 16.539186477661133, 23.654613494873047, 25.79718589782715, 21.928302764892578]}, \"tinfo\": {\"Category\": [\"Default\", \"Default\", \"Default\", \"Default\", \"Default\", \"Default\", \"Default\", \"Default\", \"Default\", \"Default\", \"Default\", \"Default\", \"Default\", \"Default\", \"Default\", \"Default\", \"Default\", \"Default\", \"Default\", \"Default\", \"Default\", \"Default\", \"Default\", \"Default\", \"Default\", \"Default\", \"Default\", \"Default\", \"Default\", \"Default\", \"Topic1\", \"Topic1\", \"Topic1\", \"Topic1\", \"Topic1\", \"Topic1\", \"Topic1\", \"Topic1\", \"Topic1\", \"Topic1\", \"Topic1\", \"Topic1\", \"Topic1\", \"Topic1\", \"Topic1\", \"Topic1\", \"Topic1\", \"Topic1\", \"Topic1\", \"Topic1\", \"Topic1\", \"Topic1\", \"Topic1\", \"Topic1\", \"Topic1\", \"Topic1\", \"Topic1\", \"Topic1\", \"Topic1\", \"Topic1\", \"Topic1\", \"Topic1\", \"Topic1\", \"Topic1\", \"Topic1\", \"Topic1\", \"Topic1\", \"Topic1\", \"Topic2\", \"Topic2\", \"Topic2\", \"Topic2\", \"Topic2\", \"Topic2\", \"Topic2\", \"Topic2\", \"Topic2\", \"Topic2\", \"Topic2\", \"Topic2\", \"Topic2\", \"Topic2\", \"Topic2\", \"Topic2\", \"Topic2\", \"Topic2\", \"Topic2\", \"Topic2\", \"Topic2\", \"Topic2\", \"Topic2\", \"Topic2\", \"Topic2\", \"Topic2\", \"Topic2\", \"Topic2\", \"Topic2\", \"Topic2\", \"Topic2\", \"Topic2\", \"Topic2\", \"Topic2\", \"Topic2\", \"Topic2\", \"Topic2\", \"Topic3\", \"Topic3\", \"Topic3\", \"Topic3\", \"Topic3\", \"Topic3\", \"Topic3\", \"Topic3\", \"Topic3\", \"Topic3\", \"Topic3\", \"Topic3\", \"Topic3\", \"Topic3\", \"Topic3\", \"Topic3\", \"Topic3\", \"Topic3\", \"Topic3\", \"Topic3\", \"Topic3\", \"Topic3\", \"Topic3\", \"Topic3\", \"Topic3\", \"Topic3\", \"Topic3\", \"Topic3\", \"Topic3\", \"Topic3\", \"Topic3\", \"Topic3\", \"Topic4\", \"Topic4\", \"Topic4\", \"Topic4\", \"Topic4\", \"Topic4\", \"Topic4\", \"Topic4\", \"Topic4\", \"Topic4\", \"Topic4\", \"Topic4\", \"Topic4\", \"Topic4\", \"Topic4\", \"Topic4\", \"Topic4\", \"Topic4\", \"Topic4\", \"Topic4\", \"Topic4\", \"Topic4\", \"Topic4\", \"Topic4\", \"Topic4\", \"Topic4\", \"Topic4\", \"Topic4\", \"Topic4\", \"Topic4\", \"Topic4\", \"Topic4\", \"Topic5\", \"Topic5\", \"Topic5\", \"Topic5\", \"Topic5\", \"Topic5\", \"Topic5\", \"Topic5\", \"Topic5\", \"Topic5\", \"Topic5\", \"Topic5\", \"Topic5\", \"Topic5\", \"Topic5\", \"Topic5\", \"Topic5\", \"Topic5\", \"Topic5\", \"Topic5\", \"Topic5\", \"Topic5\", \"Topic5\", \"Topic5\", \"Topic5\", \"Topic5\", \"Topic5\", \"Topic5\", \"Topic5\", \"Topic5\", \"Topic5\"], \"Freq\": [2.0, 1.0, 1.0, 1.0, 1.0, 1.0, 0.0, 0.0, 0.0, 0.0, 0.0, 0.0, 0.0, 0.0, 0.0, 0.0, 2.0, 1.0, 1.0, 1.0, 1.0, 1.0, 1.0, 1.0, 1.0, 1.0, 1.0, 1.0, 1.0, 1.0, 0.5155474543571472, 0.5155473351478577, 0.5155473351478577, 0.5155472159385681, 0.5155471563339233, 0.5155467391014099, 0.5155467391014099, 0.5155407190322876, 0.5155406594276428, 0.515540361404419, 0.5156444311141968, 0.515979528427124, 0.5155624747276306, 0.5161044597625732, 0.5158901214599609, 0.08614993095397949, 0.08609164506196976, 0.08607662469148636, 0.08607590198516846, 0.08605850487947464, 0.08604983240365982, 0.08604439347982407, 0.08593227714300156, 0.08593199402093887, 0.08593188226222992, 0.0859314426779747, 0.08593122661113739, 0.0859307274222374, 0.0859307199716568, 0.08593064546585083, 0.08616205304861069, 0.08612103015184402, 0.0861000120639801, 0.08609462529420853, 0.08605717867612839, 0.08627748489379883, 0.08607947826385498, 0.08594107627868652, 0.5888011455535889, 0.5888012051582336, 0.5888010263442993, 0.5888003706932068, 0.5888000726699829, 0.5887999534606934, 0.5887999534606934, 0.5887988805770874, 0.5887961983680725, 0.588795006275177, 0.5887949466705322, 0.5887944102287292, 0.5886761546134949, 0.5886693596839905, 0.5886593461036682, 0.5886401534080505, 0.5886387825012207, 0.5886217355728149, 0.5885547399520874, 0.5886969566345215, 0.5895599722862244, 0.5891433954238892, 0.5889894366264343, 0.09814103692770004, 0.09814083576202393, 0.098140649497509, 0.09813910722732544, 0.09813899546861649, 0.09813894331455231, 0.09813894331455231, 0.09815102070569992, 0.09815096110105515, 0.0981472060084343, 0.09814652800559998, 0.09814637899398804, 0.09814626723527908, 0.09814608097076416, 1.2569133043289185, 0.6855825781822205, 0.6855825185775757, 0.6855822801589966, 0.6855822801589966, 0.6855820417404175, 0.6855819821357727, 0.6855817437171936, 0.6855817437171936, 0.6855817437171936, 0.6855804324150085, 0.6855801939964294, 0.6855801939964294, 0.6855794787406921, 0.685578465461731, 0.6855723857879639, 0.6855717897415161, 0.6855713129043579, 0.6855704188346863, 0.6855703592300415, 0.6855496168136597, 0.6855488419532776, 0.6855487823486328, 0.6855483055114746, 0.6855477094650269, 1.2578545808792114, 0.6855586171150208, 0.685004711151123, 0.6846784949302673, 0.6857793927192688, 0.6860690116882324, 0.6861289143562317, 0.7005631923675537, 0.7005628943443298, 0.7005619406700134, 0.7005618214607239, 0.7005608081817627, 0.7005579471588135, 0.7005575299263, 0.7005572319030762, 0.7005572319030762, 0.7005571722984314, 0.7005566954612732, 0.7005564570426941, 0.7005560994148254, 0.7005553841590881, 0.7005509734153748, 0.7005499601364136, 0.7005491256713867, 0.7003944516181946, 0.7003431916236877, 0.7003362774848938, 0.7003071308135986, 0.7002514004707336, 0.7002989649772644, 0.7002914547920227, 0.7002906799316406, 0.7002677321434021, 0.7002589106559753, 0.7002315521240234, 0.7001955509185791, 0.7001893520355225, 1.2839237451553345, 0.7004249691963196, 0.6465654969215393, 0.6465647220611572, 0.6465646028518677, 0.6465646624565125, 0.6465645432472229, 0.6465644836425781, 0.6465643048286438, 0.646564245223999, 0.6465643048286438, 0.6465641856193542, 0.6465640664100647, 0.6465638875961304, 0.6465633511543274, 0.6465623378753662, 0.6465619206428528, 0.6465615630149841, 0.6465612649917603, 0.6465609073638916, 0.6465608477592468, 0.6465602517127991, 0.6465597152709961, 0.6465597152709961, 0.6465588212013245, 0.6465587615966797, 0.6465460062026978, 0.646543562412262, 0.6465409994125366, 0.6465213894844055, 0.6465198397636414, 0.6463824510574341, 0.6465215086936951], \"Term\": [\"base\", \"mobile\", \"response\", \"devices\", \"adaptive\", \"channel\", \"reconfigurable\", \"radio\", \"filter\", \"receiver\", \"software\", \"masking\", \"frequency\", \"personalize\", \"directory\", \"pocket\", \"power\", \"algorithm\", \"goertzel\", \"tertiary\", \"12-ghz\", \"adder\", \"technology\", \"32-bit\", \"prediction\", \"pipelined\", \"integration\", \"resolving\", \"fusion\", \"conflict\", \"reconfigurable\", \"radio\", \"filter\", \"receiver\", \"software\", \"masking\", \"frequency\", \"personalize\", \"directory\", \"pocket\", \"mobile\", \"response\", \"devices\", \"channel\", \"base\", \"uncertainty\", \"cognitive\", \"investment\", \"operator\", \"virtual\", \"supply\", \"pricing\", \"conflict\", \"resolving\", \"fusion\", \"integration\", \"technology\", \"32-bit\", \"pipelined\", \"prediction\", \"wireless\", \"communications\", \"multi\", \"realistic\", \"sensor\", \"network\", \"efficient\", \"model\", \"tertiary\", \"goertzel\", \"12-ghz\", \"adder\", \"32-bit\", \"technology\", \"prediction\", \"pipelined\", \"integration\", \"resolving\", \"fusion\", \"conflict\", \"pricing\", \"supply\", \"virtual\", \"operator\", \"investment\", \"cognitive\", \"uncertainty\", \"mobile\", \"algorithm\", \"network\", \"design\", \"personalize\", \"pocket\", \"directory\", \"masking\", \"radio\", \"software\", \"frequency\", \"model\", \"equivalence\", \"level\", \"polymesh\", \"stadium\", \"interactive\", \"texture\", \"adaptive\", \"technique\", \"early\", \"motion\", \"estimation\", \"search\", \"termination\", \"correlation\", \"block\", \"phase\", \"implantable\", \"target\", \"transfer\", \"system\", \"inductive\", \"circuit\", \"pixel\", \"integrating\", \"logarithmic\", \"create\", \"texture\", \"interactive\", \"mapping\", \"polymesh\", \"level\", \"power\", \"devices\", \"response\", \"algorithm\", \"methodology\", \"using\", \"design\", \"output\", \"capacitance\", \"range\", \"regulator\", \"capacitorless\", \"lexicographic\", \"cross\", \"second\", \"restful\", \"fairness\", \"optical\", \"workshop\", \"connect\", \"international\", \"approach\", \"comparison\", \"reasoning\", \"sensor\", \"realistic\", \"multi\", \"communications\", \"wireless\", \"geometry\", \"fluid\", \"lattice\", \"method\", \"boltzmann\", \"numerical\", \"complex\", \"simulation\", \"base\", \"efficient\", \"minimal\", \"width\", \"email\", \"dram\", \"palin\", \"status\", \"compiler\", \"exploration\", \"datapaths\", \"analysis\", \"social\", \"designing\", \"speed\", \"large\", \"ontology\", \"mining\", \"services\", \"scalable\", \"datasets\", \"cube\", \"frequent\", \"close\", \"query\", \"fuzzy\", \"soccer\", \"video\", \"stadium\", \"equivalence\", \"model\", \"methodology\", \"efficient\"], \"Total\": [2.0, 1.0, 1.0, 1.0, 1.0, 1.0, 0.0, 0.0, 0.0, 0.0, 0.0, 0.0, 0.0, 0.0, 0.0, 0.0, 2.0, 1.0, 1.0, 1.0, 1.0, 1.0, 1.0, 1.0, 1.0, 1.0, 1.0, 1.0, 1.0, 1.0, 0.9524879455566406, 0.9524879455566406, 0.9524879455566406, 0.9524880051612854, 0.9524879455566406, 0.9524880051612854, 0.9524880647659302, 0.95248943567276, 0.9524894952774048, 0.9524894952774048, 1.4431560039520264, 1.5236698389053345, 1.5238072872161865, 1.5361058712005615, 2.120007276535034, 1.013508677482605, 1.0135170221328735, 1.0135191679000854, 1.0135191679000854, 1.013521671295166, 1.013522982597351, 1.0135235786437988, 1.013540506362915, 1.013540506362915, 1.0135406255722046, 1.0135406255722046, 1.0135403871536255, 1.0135403871536255, 1.013540506362915, 1.013540506362915, 1.1065921783447266, 1.1066068410873413, 1.1066144704818726, 1.1066163778305054, 1.1066298484802246, 2.1360206604003906, 1.6454445123672485, 1.0616724491119385, 1.013540267944336, 1.0135403871536255, 1.0135403871536255, 1.0135403871536255, 1.0135403871536255, 1.0135403871536255, 1.013540506362915, 1.013540506362915, 1.0135406255722046, 1.013540506362915, 1.0135406255722046, 1.013540506362915, 1.0135235786437988, 1.013522982597351, 1.013521671295166, 1.0135191679000854, 1.0135191679000854, 1.0135170221328735, 1.013508677482605, 1.4431560039520264, 1.5847363471984863, 2.1360206604003906, 2.168632984161377, 0.95248943567276, 0.9524894952774048, 0.9524894952774048, 0.9524880051612854, 0.9524879455566406, 0.9524879455566406, 0.9524880647659302, 1.0616724491119385, 1.0616726875305176, 1.094178557395935, 1.094178557395935, 1.0616745948791504, 1.094178557395935, 1.0941786766052246, 1.665515661239624, 1.0941836833953857, 1.0941836833953857, 1.0941834449768066, 1.0941835641860962, 1.0941835641860962, 1.0941835641860962, 1.0941834449768066, 1.0941834449768066, 1.0941835641860962, 1.0941832065582275, 1.0941832065582275, 1.0941832065582275, 1.0941832065582275, 1.094183087348938, 1.094182014465332, 1.0941818952560425, 1.0941818952560425, 1.094181776046753, 1.094181776046753, 1.0941786766052246, 1.094178557395935, 1.094178557395935, 1.094178557395935, 1.094178557395935, 2.204385995864868, 1.5238072872161865, 1.5236698389053345, 1.5847363471984863, 1.6330115795135498, 1.677990198135376, 2.168632984161377, 1.1066747903823853, 1.1066747903823853, 1.1066745519638062, 1.1066745519638062, 1.106674313545227, 1.1066739559173584, 1.1066739559173584, 1.1066737174987793, 1.1066738367080688, 1.1066738367080688, 1.1066737174987793, 1.1066737174987793, 1.1066735982894897, 1.1066735982894897, 1.1066725254058838, 1.1066725254058838, 1.1066724061965942, 1.1066298484802246, 1.1066163778305054, 1.1066144704818726, 1.1066068410873413, 1.1065921783447266, 1.1066703796386719, 1.1066702604293823, 1.1066702604293823, 1.1066696643829346, 1.106669545173645, 1.1066689491271973, 1.10666823387146, 1.1066679954528809, 2.120007276535034, 1.6454445123672485, 1.0616763830184937, 1.061676263809204, 1.061676263809204, 1.0616763830184937, 1.061676263809204, 1.0616763830184937, 1.0616763830184937, 1.061676263809204, 1.0616765022277832, 1.061676263809204, 1.0616763830184937, 1.0616763830184937, 1.061676263809204, 1.0616761445999146, 1.0616759061813354, 1.0616761445999146, 1.061676025390625, 1.0616759061813354, 1.061676025390625, 1.061676025390625, 1.061675786972046, 1.061676025390625, 1.061675786972046, 1.061675786972046, 1.0616745948791504, 1.0616744756698608, 1.0616745948791504, 1.0616726875305176, 1.0616724491119385, 1.6330115795135498, 1.6454445123672485], \"loglift\": [30.0, 29.0, 28.0, 27.0, 26.0, 25.0, 24.0, 23.0, 22.0, 21.0, 20.0, 19.0, 18.0, 17.0, 16.0, 15.0, 14.0, 13.0, 12.0, 11.0, 10.0, 9.0, 8.0, 7.0, 6.0, 5.0, 4.0, 3.0, 2.0, 1.0, 1.4996999502182007, 1.4996999502182007, 1.4996999502182007, 1.4996999502182007, 1.4996999502182007, 1.4996999502182007, 1.4996999502182007, 1.4996999502182007, 1.4996999502182007, 1.4996999502182007, 1.0844000577926636, 1.0307999849319458, 1.0298999547958374, 1.0228999853134155, 0.7002999782562256, -0.351500004529953, -0.3522000014781952, -0.352400004863739, -0.352400004863739, -0.35260000824928284, -0.35269999504089355, -0.35280001163482666, -0.35409998893737793, -0.35409998893737793, -0.35409998893737793, -0.35409998893737793, -0.35409998893737793, -0.35409998893737793, -0.35409998893737793, -0.35409998893737793, -0.439300000667572, -0.43970000743865967, -0.4399999976158142, -0.4401000142097473, -0.4404999911785126, -1.0956000089645386, -0.836899995803833, -0.4004000127315521, 1.2562999725341797, 1.2562999725341797, 1.2562999725341797, 1.2562999725341797, 1.2562999725341797, 1.2562999725341797, 1.2562999725341797, 1.2562999725341797, 1.2562999725341797, 1.2562999725341797, 1.2562999725341797, 1.2562999725341797, 1.256100058555603, 1.256100058555603, 1.256100058555603, 1.256100058555603, 1.256100058555603, 1.25600004196167, 1.2559000253677368, 0.9028000235557556, 0.8105999827384949, 0.5113999843597412, 0.4959999918937683, -0.4731999933719635, -0.4731999933719635, -0.4731999933719635, -0.4733000099658966, -0.4733000099658966, -0.4733000099658966, -0.4733000099658966, -0.5817000269889832, -0.5817000269889832, -0.6118999719619751, -0.6118999719619751, -0.5817000269889832, -0.6118999719619751, -0.6118999719619751, 1.160099983215332, 0.9740999937057495, 0.9740999937057495, 0.9740999937057495, 0.9740999937057495, 0.9740999937057495, 0.9740999937057495, 0.9740999937057495, 0.9740999937057495, 0.9740999937057495, 0.9740999937057495, 0.9740999937057495, 0.9740999937057495, 0.9740999937057495, 0.9740999937057495, 0.9740999937057495, 0.9740999937057495, 0.9740999937057495, 0.9740999937057495, 0.9740999937057495, 0.9740999937057495, 0.9740999937057495, 0.9740999937057495, 0.9740999937057495, 0.9740999937057495, 0.8805999755859375, 0.6428999900817871, 0.6421999931335449, 0.602400004863739, 0.5740000009536743, 0.5472000241279602, 0.290800005197525, 0.8977000117301941, 0.8977000117301941, 0.8977000117301941, 0.8977000117301941, 0.8977000117301941, 0.8977000117301941, 0.8977000117301941, 0.8977000117301941, 0.8977000117301941, 0.8977000117301941, 0.8977000117301941, 0.8977000117301941, 0.8977000117301941, 0.8977000117301941, 0.8977000117301941, 0.8977000117301941, 0.8977000117301941, 0.8974999785423279, 0.8974000215530396, 0.8974000215530396, 0.8974000215530396, 0.8973000049591064, 0.8973000049591064, 0.8973000049591064, 0.8973000049591064, 0.8973000049591064, 0.8971999883651733, 0.8971999883651733, 0.8971999883651733, 0.8970999717712402, 0.8533999919891357, 0.5008000135421753, 1.0214999914169312, 1.0214999914169312, 1.0214999914169312, 1.0214999914169312, 1.0214999914169312, 1.0214999914169312, 1.0214999914169312, 1.0214999914169312, 1.0214999914169312, 1.0214999914169312, 1.0214999914169312, 1.0214999914169312, 1.0214999914169312, 1.0214999914169312, 1.0214999914169312, 1.0214999914169312, 1.0214999914169312, 1.0214999914169312, 1.0214999914169312, 1.0214999914169312, 1.0214999914169312, 1.0214999914169312, 1.0214999914169312, 1.0214999914169312, 1.021399974822998, 1.021399974822998, 1.021399974822998, 1.021399974822998, 1.021399974822998, 0.5906000137329102, 0.5831999778747559], \"logprob\": [30.0, 29.0, 28.0, 27.0, 26.0, 25.0, 24.0, 23.0, 22.0, 21.0, 20.0, 19.0, 18.0, 17.0, 16.0, 15.0, 14.0, 13.0, 12.0, 11.0, 10.0, 9.0, 8.0, 7.0, 6.0, 5.0, 4.0, 3.0, 2.0, 1.0, -3.5118000507354736, -3.5118000507354736, -3.5118000507354736, -3.5118000507354736, -3.5118000507354736, -3.5118000507354736, -3.5118000507354736, -3.5118000507354736, -3.5118000507354736, -3.5118000507354736, -3.5116000175476074, -3.510999917984009, -3.5118000507354736, -3.510699987411499, -3.5111000537872314, -5.301000118255615, -5.301599979400635, -5.301799774169922, -5.301799774169922, -5.302000045776367, -5.30210018157959, -5.302199840545654, -5.303500175476074, -5.303500175476074, -5.303500175476074, -5.303500175476074, -5.303500175476074, -5.303500175476074, -5.303500175476074, -5.303500175476074, -5.30079984664917, -5.301300048828125, -5.301499843597412, -5.301599979400635, -5.302000045776367, -5.299499988555908, -5.301799774169922, -5.303400039672852, -3.6930999755859375, -3.6930999755859375, -3.6930999755859375, -3.6930999755859375, -3.6930999755859375, -3.6930999755859375, -3.6930999755859375, -3.6930999755859375, -3.6930999755859375, -3.6930999755859375, -3.6930999755859375, -3.6930999755859375, -3.6933000087738037, -3.6933000087738037, -3.6933000087738037, -3.6933000087738037, -3.6933000087738037, -3.6933999061584473, -3.69350004196167, -3.6933000087738037, -3.691800117492676, -3.692500114440918, -3.6928000450134277, -5.484799861907959, -5.484799861907959, -5.484799861907959, -5.484799861907959, -5.484799861907959, -5.484799861907959, -5.484799861907959, -5.4847002029418945, -5.4847002029418945, -5.4847002029418945, -5.4847002029418945, -5.4847002029418945, -5.4847002029418945, -5.4847002029418945, -3.29259991645813, -3.898699998855591, -3.898699998855591, -3.898699998855591, -3.898699998855591, -3.898699998855591, -3.898699998855591, -3.898699998855591, -3.898699998855591, -3.898699998855591, -3.898699998855591, -3.898699998855591, -3.898699998855591, -3.898699998855591, -3.898699998855591, -3.898699998855591, -3.898699998855591, -3.898699998855591, -3.898699998855591, -3.898699998855591, -3.8987998962402344, -3.8987998962402344, -3.8987998962402344, -3.8987998962402344, -3.8987998962402344, -3.291800022125244, -3.8987998962402344, -3.899600028991699, -3.9000000953674316, -3.898400068283081, -3.8980000019073486, -3.897900104522705, -3.9637999534606934, -3.9637999534606934, -3.9637999534606934, -3.9637999534606934, -3.9637999534606934, -3.9637999534606934, -3.9637999534606934, -3.9637999534606934, -3.9637999534606934, -3.9637999534606934, -3.9637999534606934, -3.9637999534606934, -3.9637999534606934, -3.9637999534606934, -3.9637999534606934, -3.9637999534606934, -3.9637999534606934, -3.964099884033203, -3.964099884033203, -3.964099884033203, -3.964200019836426, -3.9642999172210693, -3.964200019836426, -3.964200019836426, -3.964200019836426, -3.964200019836426, -3.964200019836426, -3.9642999172210693, -3.9642999172210693, -3.9642999172210693, -3.3580000400543213, -3.9639999866485596, -3.881500005722046, -3.881500005722046, -3.881500005722046, -3.881500005722046, -3.881500005722046, -3.881500005722046, -3.881500005722046, -3.881500005722046, -3.881500005722046, -3.881500005722046, -3.881500005722046, -3.881500005722046, -3.881500005722046, -3.881500005722046, -3.881500005722046, -3.881500005722046, -3.881500005722046, -3.881500005722046, -3.881500005722046, -3.881500005722046, -3.881500005722046, -3.881500005722046, -3.881500005722046, -3.881500005722046, -3.8815999031066895, -3.8815999031066895, -3.8815999031066895, -3.8815999031066895, -3.8815999031066895, -3.8817999362945557, -3.8815999031066895]}, \"token.table\": {\"Topic\": [2, 2, 3, 2, 2, 3, 5, 4, 1, 4, 3, 4, 4, 4, 1, 4, 3, 5, 2, 4, 4, 5, 4, 2, 4, 3, 3, 4, 5, 5, 5, 2, 3, 4, 5, 1, 3, 1, 5, 3, 4, 5, 5, 5, 3, 5, 4, 1, 4, 1, 5, 2, 5, 4, 2, 3, 3, 3, 2, 3, 4, 2, 5, 4, 3, 4, 3, 3, 1, 4, 3, 5, 5, 5, 1, 2, 5, 3, 4, 2, 4, 5, 4, 5, 2, 4, 4, 5, 1, 3, 2, 3, 1, 3, 3, 5, 2, 2, 5, 1, 4, 4, 4, 1, 1, 4, 2, 1, 3, 4, 5, 3, 4, 4, 5, 4, 5, 5, 1, 5, 5, 5, 2, 3, 3, 3, 2, 3, 2, 3, 3, 2, 3, 4, 5, 2, 5, 4, 4], \"Freq\": [0.9866405129432678, 0.9866405129432678, 0.6004146337509155, 0.9866405129432678, 0.6310197710990906, 0.6310197710990906, 0.9419066905975342, 0.9036096930503845, 0.47169649600982666, 0.47169649600982666, 0.9139235615730286, 0.9036121368408203, 0.9036078453063965, 0.9036082029342651, 0.6509968042373657, 0.6509968042373657, 0.9139247536659241, 0.9419069290161133, 0.9866632223129272, 0.9036633372306824, 0.9036096930503845, 0.9419066309928894, 0.9036131501197815, 0.9866403937339783, 0.9036087989807129, 0.9139235615730286, 0.9139249324798584, 0.903608500957489, 0.9419069290161133, 0.9419065117835999, 0.9419069290161133, 0.46111997961997986, 0.46111997961997986, 0.46111997961997986, 0.9419066309928894, 0.6562509536743164, 0.6562509536743164, 1.0498803853988647, 0.9419066309928894, 0.9139233231544495, 0.6077384948730469, 0.6077384948730469, 0.9419066905975342, 0.941909909248352, 0.913923442363739, 0.9419066905975342, 0.9036086201667786, 1.0498820543289185, 0.9036115407943726, 1.049881935119629, 0.9419071078300476, 0.9866402745246887, 0.9419071078300476, 0.903611421585083, 0.9866405129432678, 0.9139237403869629, 0.9139238595962524, 0.9139248132705688, 0.9866402745246887, 0.9139276146888733, 0.9036087989807129, 0.9866611361503601, 0.9419068098068237, 0.9036115407943726, 0.9139276146888733, 0.903608500957489, 0.9139249324798584, 0.9139276146888733, 1.049881935119629, 0.9036120176315308, 0.6123655438423157, 0.6123655438423157, 0.9419066309928894, 0.9419068098068237, 0.692925751209259, 0.692925751209259, 0.9419100880622864, 0.9139235615730286, 0.903657078742981, 0.4681602716445923, 0.4681602716445923, 0.4681602716445923, 0.9036126136779785, 0.9419070482254028, 0.9866611361503601, 0.9036086797714233, 0.9036078453063965, 0.9419066905975342, 1.0498803853988647, 0.913923442363739, 0.9866403937339783, 0.9139248132705688, 1.0498803853988647, 0.9139276146888733, 0.45364105701446533, 0.45364105701446533, 0.9866403937339783, 0.9866568446159363, 0.9419071078300476, 1.0498820543289185, 0.9036080241203308, 0.9036555290222168, 0.9036097526550293, 1.049881935119629, 1.0498820543289185, 0.9036080241203308, 0.9866403937339783, 0.6563101410865784, 0.6563101410865784, 0.9036086201667786, 0.9419070482254028, 0.913923442363739, 0.9036086797714233, 0.9036445021629333, 0.9419069290161133, 0.9036133885383606, 0.9419081807136536, 0.9419066309928894, 1.0498820543289185, 0.9419066905975342, 0.9419081807136536, 0.9419066309928894, 0.986657440662384, 0.9139237403869629, 0.9139237403869629, 0.9139233231544495, 0.9866405129432678, 0.913923442363739, 0.9866406321525574, 0.9139274954795837, 0.9139237403869629, 0.9866713881492615, 0.5959510207176208, 0.5959510207176208, 0.9419082999229431, 0.9866587519645691, 0.9419066905975342, 0.9036752581596375, 0.9036086797714233], \"Term\": [\"12-ghz\", \"32-bit\", \"adaptive\", \"adder\", \"algorithm\", \"algorithm\", \"analysis\", \"approach\", \"base\", \"base\", \"block\", \"boltzmann\", \"capacitance\", \"capacitorless\", \"channel\", \"channel\", \"circuit\", \"close\", \"cognitive\", \"communications\", \"comparison\", \"compiler\", \"complex\", \"conflict\", \"connect\", \"correlation\", \"create\", \"cross\", \"cube\", \"datapaths\", \"datasets\", \"design\", \"design\", \"design\", \"designing\", \"devices\", \"devices\", \"directory\", \"dram\", \"early\", \"efficient\", \"efficient\", \"email\", \"equivalence\", \"estimation\", \"exploration\", \"fairness\", \"filter\", \"fluid\", \"frequency\", \"frequent\", \"fusion\", \"fuzzy\", \"geometry\", \"goertzel\", \"implantable\", \"inductive\", \"integrating\", \"integration\", \"interactive\", \"international\", \"investment\", \"large\", \"lattice\", \"level\", \"lexicographic\", \"logarithmic\", \"mapping\", \"masking\", \"method\", \"methodology\", \"methodology\", \"minimal\", \"mining\", \"mobile\", \"mobile\", \"model\", \"motion\", \"multi\", \"network\", \"network\", \"network\", \"numerical\", \"ontology\", \"operator\", \"optical\", \"output\", \"palin\", \"personalize\", \"phase\", \"pipelined\", \"pixel\", \"pocket\", \"polymesh\", \"power\", \"power\", \"prediction\", \"pricing\", \"query\", \"radio\", \"range\", \"realistic\", \"reasoning\", \"receiver\", \"reconfigurable\", \"regulator\", \"resolving\", \"response\", \"response\", \"restful\", \"scalable\", \"search\", \"second\", \"sensor\", \"services\", \"simulation\", \"soccer\", \"social\", \"software\", \"speed\", \"stadium\", \"status\", \"supply\", \"system\", \"target\", \"technique\", \"technology\", \"termination\", \"tertiary\", \"texture\", \"transfer\", \"uncertainty\", \"using\", \"using\", \"video\", \"virtual\", \"width\", \"wireless\", \"workshop\"]}, \"R\": 30, \"lambda.step\": 0.01, \"plot.opts\": {\"xlab\": \"PC1\", \"ylab\": \"PC2\"}, \"topic.order\": [1, 2, 3, 4, 5]};\n",
       "\n",
       "function LDAvis_load_lib(url, callback){\n",
       "  var s = document.createElement('script');\n",
       "  s.src = url;\n",
       "  s.async = true;\n",
       "  s.onreadystatechange = s.onload = callback;\n",
       "  s.onerror = function(){console.warn(\"failed to load library \" + url);};\n",
       "  document.getElementsByTagName(\"head\")[0].appendChild(s);\n",
       "}\n",
       "\n",
       "if(typeof(LDAvis) !== \"undefined\"){\n",
       "   // already loaded: just create the visualization\n",
       "   !function(LDAvis){\n",
       "       new LDAvis(\"#\" + \"ldavis_el1694829117037687846920674776\", ldavis_el1694829117037687846920674776_data);\n",
       "   }(LDAvis);\n",
       "}else if(typeof define === \"function\" && define.amd){\n",
       "   // require.js is available: use it to load d3/LDAvis\n",
       "   require.config({paths: {d3: \"https://cdnjs.cloudflare.com/ajax/libs/d3/3.5.5/d3.min\"}});\n",
       "   require([\"d3\"], function(d3){\n",
       "      window.d3 = d3;\n",
       "      LDAvis_load_lib(\"https://cdn.rawgit.com/bmabey/pyLDAvis/files/ldavis.v1.0.0.js\", function(){\n",
       "        new LDAvis(\"#\" + \"ldavis_el1694829117037687846920674776\", ldavis_el1694829117037687846920674776_data);\n",
       "      });\n",
       "    });\n",
       "}else{\n",
       "    // require.js not available: dynamically load d3 & LDAvis\n",
       "    LDAvis_load_lib(\"https://cdnjs.cloudflare.com/ajax/libs/d3/3.5.5/d3.min.js\", function(){\n",
       "         LDAvis_load_lib(\"https://cdn.rawgit.com/bmabey/pyLDAvis/files/ldavis.v1.0.0.js\", function(){\n",
       "                 new LDAvis(\"#\" + \"ldavis_el1694829117037687846920674776\", ldavis_el1694829117037687846920674776_data);\n",
       "            })\n",
       "         });\n",
       "}\n",
       "</script>"
      ],
      "text/plain": [
       "<IPython.core.display.HTML object>"
      ]
     },
     "execution_count": 218,
     "metadata": {},
     "output_type": "execute_result"
    }
   ],
   "source": [
    "dictionary = gensim.corpora.Dictionary.load('dictionary.gensim')\n",
    "corpus = pickle.load(open('corpus.pkl', 'rb'))\n",
    "lda = gensim.models.ldamodel.LdaModel.load('model5.gensim')\n",
    "import pyLDAvis.gensim\n",
    "lda_display = pyLDAvis.gensim.prepare(lda, corpus, dictionary, sort_topics=False)\n",
    "pyLDAvis.display(lda_display)"
   ]
  },
  {
   "cell_type": "markdown",
   "metadata": {},
   "source": [
    "- Saliency: a measure of how much the term tells you about the topic.\n",
    "- Relevance: a weighted average of the probability of the word given the topic and the word given the topic normalized by the probability of the topic.\n",
    "- The size of the bubble measures the importance of the topics, relative to the data.\n",
    "- First, we got the most salient terms, means terms mostly tell us about what’s going on relative to the topics. We can also look at individual topic."
   ]
  },
  {
   "cell_type": "markdown",
   "metadata": {},
   "source": [
    "# Module 3: Topic Modeling Intro & Implementation\n",
    "### https://www.kaggle.com/akashram/topic-modeling-intro-implementation"
   ]
  },
  {
   "cell_type": "markdown",
   "metadata": {},
   "source": [
    "Popular topic modeling algorithms include Latent Semantic Analysis (LSA) a.k.a Latent Semantic Indexing , Hierarchical Dirichlet Process (HDP), Latent Dirichlet Allocation (LDA) and Non-negative Matrix factorization among which LDA has shown great results in practice and therefore widely adopted"
   ]
  },
  {
   "cell_type": "markdown",
   "metadata": {},
   "source": [
    "- Latent Semantic Analysis\n",
    "- Latent Dirichlet Allocation\n",
    "- Hierarchical Dirichlet Process\n",
    "- Non-negative Matrix factorization"
   ]
  },
  {
   "cell_type": "markdown",
   "metadata": {},
   "source": [
    "Importing the important libraries and setting up the important libraries and cleaning datasets before we get into the methods"
   ]
  },
  {
   "cell_type": "code",
   "execution_count": 2,
   "metadata": {},
   "outputs": [],
   "source": [
    "import os\n",
    "\n",
    "import re\n",
    "import numpy as np\n",
    "import pandas as pd\n",
    "from pprint import pprint\n",
    "# The pprint module provides a capability to “pretty-print” arbitrary Python data structures in a form which can be used as input \n",
    "# to the interpreter. \n",
    "\n",
    "# Gensim\n",
    "import gensim\n",
    "import gensim.corpora as corpora\n",
    "from gensim.utils import simple_preprocess\n",
    "from gensim.models import CoherenceModel, LdaModel, LsiModel, HdpModel\n",
    "\n",
    "# spacy for lemmatization\n",
    "import spacy\n",
    "\n",
    "# Plotting tools\n",
    "import pyLDAvis\n",
    "import pyLDAvis.gensim \n",
    "import matplotlib.pyplot as plt\n",
    "%matplotlib inline\n",
    "\n",
    "# Enable logging for gensim - optional\n",
    "import logging\n",
    "logging.basicConfig(format='%(asctime)s : %(levelname)s : %(message)s', level=logging.ERROR)\n",
    "\n",
    "# Gensim uses Python’s standard logging module to log various stuff at various priority levels\n",
    "\n",
    "import warnings\n",
    "warnings.filterwarnings(\"ignore\",category=DeprecationWarning)"
   ]
  },
  {
   "cell_type": "markdown",
   "metadata": {},
   "source": [
    "Using the popular NLTK package in python, lets import the stopwords in the english language"
   ]
  },
  {
   "cell_type": "code",
   "execution_count": 3,
   "metadata": {},
   "outputs": [],
   "source": [
    "# NLTK Stop words\n",
    "\n",
    "from nltk.corpus import stopwords\n",
    "stop_words = stopwords.words('english')\n",
    "stop_words.extend(['from', 'subject', 're', 'edu', 'use','a','about', 'above', 'across'])\n",
    "# We're adding a few on "
   ]
  },
  {
   "cell_type": "markdown",
   "metadata": {},
   "source": [
    "The extended stopwords list from the scikit learn library"
   ]
  },
  {
   "cell_type": "code",
   "execution_count": 4,
   "metadata": {},
   "outputs": [],
   "source": [
    "st1= ['after', 'afterwards','again','against', 'all', 'almost','alone','along',\n",
    "           'already',\n",
    "           'also',\n",
    "           'although',\n",
    "           'always',\n",
    "           'am',\n",
    "           'among',\n",
    "           'amongst',\n",
    "           'amoungst',\n",
    "           'amount',\n",
    "           'an',\n",
    "           'and',\n",
    "           'another',\n",
    "           'any',\n",
    "           'anyhow',\n",
    "           'anyone',\n",
    "           'anything',\n",
    "           'anyway',\n",
    "           'anywhere',\n",
    "           'are',\n",
    "           'around',\n",
    "           'as',\n",
    "           'at',\n",
    "           'back',\n",
    "           'be',\n",
    "           'became',\n",
    "           'because',\n",
    "           'become',\n",
    "           'becomes',\n",
    "           'becoming',\n",
    "           'been',\n",
    "           'before',\n",
    "           'beforehand',\n",
    "           'behind',\n",
    "           'being',\n",
    "           'below',\n",
    "           'beside',\n",
    "           'besides',\n",
    "           'between',\n",
    "           'beyond',\n",
    "           'bill',\n",
    "           'both',\n",
    "           'bottom',\n",
    "           'but',\n",
    "           'by',\n",
    "           'call',\n",
    "           'can',\n",
    "           'cannot',\n",
    "           'cant',\n",
    "           'co',\n",
    "           'con',\n",
    "           'could',\n",
    "           'couldnt',\n",
    "           'cry',\n",
    "           'de',\n",
    "           'describe',\n",
    "           'detail',\n",
    "           'do',\n",
    "           'done',\n",
    "           'down',\n",
    "           'due',\n",
    "           'during',\n",
    "           'each',\n",
    "           'eg',\n",
    "           'eight',\n",
    "           'either',\n",
    "           'eleven',\n",
    "           'else',\n",
    "           'elsewhere',\n",
    "           'empty',\n",
    "           'enough',\n",
    "           'etc',\n",
    "           'even',\n",
    "           'ever',\n",
    "           'every',\n",
    "           'everyone',\n",
    "           'everything',\n",
    "           'everywhere',\n",
    "           'except',\n",
    "           'few',\n",
    "           'fifteen',\n",
    "           'fifty',\n",
    "           'fill',\n",
    "           'find',\n",
    "           'fire',\n",
    "           'first',\n",
    "           'five',\n",
    "           'for',\n",
    "           'former',\n",
    "           'formerly',\n",
    "           'forty',\n",
    "           'found',\n",
    "           'four',\n",
    "           'from',\n",
    "           'front',\n",
    "           'full',\n",
    "           'further',\n",
    "           'get',\n",
    "           'give',\n",
    "           'go',\n",
    "           'had',\n",
    "           'has',\n",
    "           'hasnt',\n",
    "           'have',\n",
    "           'he',\n",
    "           'hence',\n",
    "           'her',\n",
    "           'here',\n",
    "           'hereafter',\n",
    "           'hereby',\n",
    "           'herein',\n",
    "           'hereupon',\n",
    "           'hers',\n",
    "           'herself',\n",
    "           'him',\n",
    "           'himself',\n",
    "           'his',\n",
    "           'how',\n",
    "           'however',\n",
    "           'hundred',\n",
    "           'i',\n",
    "           'ie',\n",
    "           'if',\n",
    "           'in',\n",
    "           'inc',\n",
    "           'indeed',\n",
    "           'interest',\n",
    "           'into',\n",
    "           'is',\n",
    "           'it',\n",
    "           'its',\n",
    "           'itself',\n",
    "           'keep',\n",
    "           'last',\n",
    "           'latter',\n",
    "           'latterly',\n",
    "           'least',\n",
    "           'less',\n",
    "           'ltd',\n",
    "           'made',\n",
    "           'many',\n",
    "           'may',\n",
    "           'me',\n",
    "           'meanwhile',\n",
    "           'might',\n",
    "           'mill',\n",
    "           'mine',\n",
    "           'more',\n",
    "           'moreover',\n",
    "           'most',\n",
    "           'mostly',\n",
    "           'move',\n",
    "           'much',\n",
    "           'must',\n",
    "           'my',\n",
    "           'myself',\n",
    "           'name',\n",
    "           'namely',\n",
    "           'neither',\n",
    "           'never',\n",
    "           'nevertheless',\n",
    "           'next',\n",
    "           'nine',\n",
    "           'no',\n",
    "           'nobody',\n",
    "           'none',\n",
    "           'noone',\n",
    "           'nor',\n",
    "           'not',\n",
    "           'nothing',\n",
    "           'now',\n",
    "           'nowhere',\n",
    "           'of',\n",
    "           'off',\n",
    "           'often',\n",
    "           'on',\n",
    "           'once',\n",
    "           'one',\n",
    "           'only',\n",
    "           'onto',\n",
    "           'or',\n",
    "           'other',\n",
    "           'others',\n",
    "           'otherwise',\n",
    "           'our',\n",
    "           'ours',\n",
    "           'ourselves',\n",
    "           'out',\n",
    "           'over',\n",
    "           'own',\n",
    "           'part',\n",
    "           'per',\n",
    "           'perhaps',\n",
    "           'please',\n",
    "           'put',\n",
    "           'rather',\n",
    "           're',\n",
    "           'same',\n",
    "           'see',\n",
    "           'seem',\n",
    "           'seemed',\n",
    "           'seeming',\n",
    "           'seems',\n",
    "           'serious',\n",
    "           'several',\n",
    "           'she',\n",
    "           'should',\n",
    "           'show',\n",
    "           'side',\n",
    "           'since',\n",
    "           'sincere',\n",
    "           'six',\n",
    "           'sixty',\n",
    "           'so',\n",
    "           'some',\n",
    "           'somehow',\n",
    "           'someone',\n",
    "           'something',\n",
    "           'sometime',\n",
    "           'sometimes',\n",
    "           'somewhere',\n",
    "           'still',\n",
    "           'such',\n",
    "           'system',\n",
    "           'take',\n",
    "           'ten',\n",
    "           'than',\n",
    "           'that',\n",
    "           'the',\n",
    "           'their',\n",
    "           'them',\n",
    "           'themselves',\n",
    "           'then',\n",
    "           'thence',\n",
    "           'there',\n",
    "           'thereafter',\n",
    "           'thereby',\n",
    "           'therefore',\n",
    "           'therein',\n",
    "           'thereupon',\n",
    "           'these',\n",
    "           'they',\n",
    "           'thick',\n",
    "           'thin',\n",
    "           'third',\n",
    "           'this',\n",
    "           'those',\n",
    "           'though',\n",
    "           'three',\n",
    "           'through',\n",
    "           'throughout',\n",
    "           'thru',\n",
    "           'thus',\n",
    "           'to',\n",
    "           'together',\n",
    "           'too',\n",
    "           'top',\n",
    "           'toward',\n",
    "           'towards',\n",
    "           'twelve',\n",
    "           'twenty',\n",
    "           'two',\n",
    "           'un',\n",
    "           'under',\n",
    "           'until',\n",
    "           'up',\n",
    "           'upon',\n",
    "           'us',\n",
    "           'very',\n",
    "           'via',\n",
    "           'was',\n",
    "           'we',\n",
    "           'well',\n",
    "           'were',\n",
    "           'what',\n",
    "           'whatever',\n",
    "           'when',\n",
    "           'whence',\n",
    "           'whenever',\n",
    "           'where',\n",
    "           'whereafter',\n",
    "           'whereas',\n",
    "           'whereby',\n",
    "           'wherein',\n",
    "           'whereupon',\n",
    "           'wherever',\n",
    "           'whether',\n",
    "           'which',\n",
    "           'while',\n",
    "           'whither',\n",
    "           'who',\n",
    "           'whoever',\n",
    "           'whole',\n",
    "           'whom',\n",
    "           'whose',\n",
    "           'why',\n",
    "           'will',\n",
    "           'with',\n",
    "           'within',\n",
    "           'without',\n",
    "           'would',\n",
    "           'yet',\n",
    "           'you',\n",
    "           'your',\n",
    "           'yours',\n",
    "           'yourself',\n",
    "           'yourselves']"
   ]
  },
  {
   "cell_type": "code",
   "execution_count": 5,
   "metadata": {},
   "outputs": [],
   "source": [
    "# More extension \n",
    "stop_words.extend(st1)"
   ]
  },
  {
   "cell_type": "code",
   "execution_count": 7,
   "metadata": {},
   "outputs": [],
   "source": [
    "# Probably the easiest way to read in csv instead of the read/write way\n",
    "data = pd.read_csv(\"uci-news-aggregator.csv\")"
   ]
  },
  {
   "cell_type": "markdown",
   "metadata": {},
   "source": [
    "Selecting sample rows from all categories(in this case, topics) so computations are quicker."
   ]
  },
  {
   "cell_type": "code",
   "execution_count": 10,
   "metadata": {},
   "outputs": [],
   "source": [
    "bg = data[data.CATEGORY == 'b']\n",
    "tg = data[data.CATEGORY == 't']\n",
    "eg = data[data.CATEGORY == 'e']\n",
    "mg = data[data.CATEGORY == 'm']"
   ]
  },
  {
   "cell_type": "code",
   "execution_count": 11,
   "metadata": {},
   "outputs": [],
   "source": [
    "bg_rows = np.random.choice(bg.index.values, 750)\n",
    "bg_data = bg.ix[bg_rows]\n",
    "\n",
    "tg_rows = np.random.choice(tg.index.values, 750)\n",
    "tg_data = tg.ix[tg_rows]\n",
    "\n",
    "eg_rows = np.random.choice(eg.index.values, 750)\n",
    "eg_data = eg.ix[eg_rows]\n",
    "\n",
    "mg_rows = np.random.choice(mg.index.values, 750)\n",
    "mg_data = mg.ix[mg_rows]\n",
    "\n",
    "# Randomly selecting systematically? "
   ]
  },
  {
   "cell_type": "code",
   "execution_count": 12,
   "metadata": {},
   "outputs": [],
   "source": [
    "data = bg_data.append([tg_data, eg_data, mg_data])\n",
    "\n",
    "# So it's like getting a train but ensuring groups are represneted"
   ]
  },
  {
   "cell_type": "code",
   "execution_count": 13,
   "metadata": {},
   "outputs": [],
   "source": [
    "title = data['TITLE']\n",
    "category = data['CATEGORY']"
   ]
  },
  {
   "cell_type": "markdown",
   "metadata": {},
   "source": [
    "### Latent Semantic Analysis\n",
    "\n",
    "Latent Semantic Analysis (LSA) is a mathematical method that tries to bring out latent relationships within a collection of documents on to a lower dimensional space.LSA assumes that words that are close in meaning will occur in similar pieces of text (the distributional hypothesis). A matrix containing word counts per paragraph (rows represent unique words and columns represent each paragraph) is constructed from a large piece of text and a mathematical technique called singular value decomposition (SVD) is used to reduce the number of rows while preserving the similarity structure among columns. Rather than looking at each document isolated from the others it looks at all the documents as a whole and the terms within them to identify relationships."
   ]
  },
  {
   "cell_type": "markdown",
   "metadata": {},
   "source": [
    "For LSI, i'll be using scikit learn module"
   ]
  },
  {
   "cell_type": "code",
   "execution_count": 14,
   "metadata": {},
   "outputs": [
    {
     "name": "stdout",
     "output_type": "stream",
     "text": [
      "(3000, 4)\n"
     ]
    }
   ],
   "source": [
    "from sklearn.decomposition import NMF, LatentDirichletAllocation, TruncatedSVD\n",
    "from sklearn.feature_extraction.text import CountVectorizer\n",
    "\n",
    "# decomposition is for decomposing signals into components\n",
    "# NMF: Find two non-negative matrices (W, H) whose product approximates the non- negative matrix X.\n",
    "# Truncated SVD: Dimensionality reduction using truncated SVD (aka LSA).\n",
    "    # This transformer performs linear dimensionality reduction by means of truncated singular value decomposition (SVD).\n",
    "    # Contrary to PCA, this estimator does not center the data before computing the singular value decomposition. \n",
    "    # This means it can work with scipy.sparse matrices efficiently.\n",
    "# CountVectorixer for your bag of words\n",
    " \n",
    "NUM_TOPICS = 4 # Again have to lay it out manually here, but can optimize later\n",
    "\n",
    "# Converting the document to a matrix of token counts\n",
    "\n",
    "vectorizer = CountVectorizer(min_df=5, max_df=0.9, \n",
    "                             stop_words='english', lowercase=True, \n",
    "                             token_pattern='[a-zA-Z\\-][a-zA-Z\\-]{2,}')\n",
    "data_vectorized = vectorizer.fit_transform(title)\n",
    " \n",
    "# Build a Latent Semantic Indexing Model using SVD\n",
    "\n",
    "lsi_model = TruncatedSVD(n_components=NUM_TOPICS)\n",
    "lsi_Z = lsi_model.fit_transform(data_vectorized) # Again we first lay out the model and then we fit it\n",
    "print(lsi_Z.shape)"
   ]
  },
  {
   "cell_type": "code",
   "execution_count": 15,
   "metadata": {},
   "outputs": [
    {
     "data": {
      "text/plain": [
       "array([[ 0.01150109,  0.0013909 ,  0.00272349, ...,  0.08449477,\n",
       "         0.0071406 ,  0.00107433],\n",
       "       [-0.00301224,  0.00312257,  0.0181145 , ..., -0.02813827,\n",
       "        -0.00076021,  0.00301811],\n",
       "       [-0.00128584,  0.00360341, -0.00411213, ..., -0.01016361,\n",
       "         0.00103708,  0.00286279],\n",
       "       [-0.00061553,  0.01126786,  0.00529135, ..., -0.00510894,\n",
       "         0.01406474,  0.00759107]])"
      ]
     },
     "execution_count": 15,
     "metadata": {},
     "output_type": "execute_result"
    }
   ],
   "source": [
    "lsi_model.components_"
   ]
  },
  {
   "cell_type": "code",
   "execution_count": 16,
   "metadata": {},
   "outputs": [
    {
     "name": "stdout",
     "output_type": "stream",
     "text": [
      "LSI Model:\n",
      "Topic 0:\n",
      "[('new', 0.9432185073432237), ('google', 0.14479494460518488), ('york', 0.08449476875086159), ('apple', 0.07930993518523458), ('says', 0.05970553453582807), ('android', 0.05902236568853411), ('cases', 0.05380102920117149), ('mers', 0.052913568873150706), ('study', 0.046817252582105374), ('facebook', 0.04166398358045328)]\n",
      "Topic 1:\n",
      "[('google', 0.8684237133519821), ('apple', 0.18454151595815158), ('glass', 0.17210658906820467), ('android', 0.15467681165819566), ('says', 0.11151973707356416), ('samsung', 0.08397937292657309), ('galaxy', 0.07507398466404752), ('search', 0.0698384508966611), ('health', 0.06404938829827467), ('day', 0.05101444517191157)]\n",
      "Topic 2:\n",
      "[('apple', 0.7721926180672215), ('samsung', 0.28966624291933646), ('galaxy', 0.21392330637585033), ('iphone', 0.16773899487291963), ('says', 0.16513909975126517), ('ipad', 0.14266905785777748), ('report', 0.10322335984845848), ('ceo', 0.08260256982495146), ('price', 0.059433175259114554), ('ibm', 0.05742659426346549)]\n",
      "Topic 3:\n",
      "[('ebola', 0.439328109599133), ('says', 0.4365943408186258), ('health', 0.37351055517931153), ('study', 0.3254705200890213), ('outbreak', 0.1994090255159686), ('virus', 0.18129818212552676), ('west', 0.130742689274413), ('mers', 0.11012097932353881), ('facebook', 0.10607641718260012), ('risk', 0.10022307280542721)]\n",
      "====================\n"
     ]
    }
   ],
   "source": [
    "def print_topics(model, vectorizer, top_n=10):\n",
    "    for idx, topic in enumerate(model.components_): # Components is the probability for topics by word essentially I believe\n",
    "        print(\"Topic %d:\" % (idx))\n",
    "        print([(vectorizer.get_feature_names()[i], topic[i])\n",
    "                        for i in topic.argsort()[:-top_n - 1:-1]])\n",
    " \n",
    "print(\"LSI Model:\")\n",
    "print_topics(lsi_model, vectorizer)\n",
    "print(\"=\" * 20)\n",
    "\n",
    "# Remember will be 0-3 because of Python indexing"
   ]
  },
  {
   "cell_type": "markdown",
   "metadata": {},
   "source": [
    "Now we get to visualizing "
   ]
  },
  {
   "cell_type": "code",
   "execution_count": 17,
   "metadata": {},
   "outputs": [
    {
     "data": {
      "text/html": [
       "\n",
       "    <div class=\"bk-root\">\n",
       "        <a href=\"https://bokeh.pydata.org\" target=\"_blank\" class=\"bk-logo bk-logo-small bk-logo-notebook\"></a>\n",
       "        <span id=\"1001\">Loading BokehJS ...</span>\n",
       "    </div>"
      ]
     },
     "metadata": {},
     "output_type": "display_data"
    },
    {
     "data": {
      "application/javascript": [
       "\n",
       "(function(root) {\n",
       "  function now() {\n",
       "    return new Date();\n",
       "  }\n",
       "\n",
       "  var force = true;\n",
       "\n",
       "  if (typeof (root._bokeh_onload_callbacks) === \"undefined\" || force === true) {\n",
       "    root._bokeh_onload_callbacks = [];\n",
       "    root._bokeh_is_loading = undefined;\n",
       "  }\n",
       "\n",
       "  var JS_MIME_TYPE = 'application/javascript';\n",
       "  var HTML_MIME_TYPE = 'text/html';\n",
       "  var EXEC_MIME_TYPE = 'application/vnd.bokehjs_exec.v0+json';\n",
       "  var CLASS_NAME = 'output_bokeh rendered_html';\n",
       "\n",
       "  /**\n",
       "   * Render data to the DOM node\n",
       "   */\n",
       "  function render(props, node) {\n",
       "    var script = document.createElement(\"script\");\n",
       "    node.appendChild(script);\n",
       "  }\n",
       "\n",
       "  /**\n",
       "   * Handle when an output is cleared or removed\n",
       "   */\n",
       "  function handleClearOutput(event, handle) {\n",
       "    var cell = handle.cell;\n",
       "\n",
       "    var id = cell.output_area._bokeh_element_id;\n",
       "    var server_id = cell.output_area._bokeh_server_id;\n",
       "    // Clean up Bokeh references\n",
       "    if (id != null && id in Bokeh.index) {\n",
       "      Bokeh.index[id].model.document.clear();\n",
       "      delete Bokeh.index[id];\n",
       "    }\n",
       "\n",
       "    if (server_id !== undefined) {\n",
       "      // Clean up Bokeh references\n",
       "      var cmd = \"from bokeh.io.state import curstate; print(curstate().uuid_to_server['\" + server_id + \"'].get_sessions()[0].document.roots[0]._id)\";\n",
       "      cell.notebook.kernel.execute(cmd, {\n",
       "        iopub: {\n",
       "          output: function(msg) {\n",
       "            var id = msg.content.text.trim();\n",
       "            if (id in Bokeh.index) {\n",
       "              Bokeh.index[id].model.document.clear();\n",
       "              delete Bokeh.index[id];\n",
       "            }\n",
       "          }\n",
       "        }\n",
       "      });\n",
       "      // Destroy server and session\n",
       "      var cmd = \"import bokeh.io.notebook as ion; ion.destroy_server('\" + server_id + \"')\";\n",
       "      cell.notebook.kernel.execute(cmd);\n",
       "    }\n",
       "  }\n",
       "\n",
       "  /**\n",
       "   * Handle when a new output is added\n",
       "   */\n",
       "  function handleAddOutput(event, handle) {\n",
       "    var output_area = handle.output_area;\n",
       "    var output = handle.output;\n",
       "\n",
       "    // limit handleAddOutput to display_data with EXEC_MIME_TYPE content only\n",
       "    if ((output.output_type != \"display_data\") || (!output.data.hasOwnProperty(EXEC_MIME_TYPE))) {\n",
       "      return\n",
       "    }\n",
       "\n",
       "    var toinsert = output_area.element.find(\".\" + CLASS_NAME.split(' ')[0]);\n",
       "\n",
       "    if (output.metadata[EXEC_MIME_TYPE][\"id\"] !== undefined) {\n",
       "      toinsert[toinsert.length - 1].firstChild.textContent = output.data[JS_MIME_TYPE];\n",
       "      // store reference to embed id on output_area\n",
       "      output_area._bokeh_element_id = output.metadata[EXEC_MIME_TYPE][\"id\"];\n",
       "    }\n",
       "    if (output.metadata[EXEC_MIME_TYPE][\"server_id\"] !== undefined) {\n",
       "      var bk_div = document.createElement(\"div\");\n",
       "      bk_div.innerHTML = output.data[HTML_MIME_TYPE];\n",
       "      var script_attrs = bk_div.children[0].attributes;\n",
       "      for (var i = 0; i < script_attrs.length; i++) {\n",
       "        toinsert[toinsert.length - 1].firstChild.setAttribute(script_attrs[i].name, script_attrs[i].value);\n",
       "      }\n",
       "      // store reference to server id on output_area\n",
       "      output_area._bokeh_server_id = output.metadata[EXEC_MIME_TYPE][\"server_id\"];\n",
       "    }\n",
       "  }\n",
       "\n",
       "  function register_renderer(events, OutputArea) {\n",
       "\n",
       "    function append_mime(data, metadata, element) {\n",
       "      // create a DOM node to render to\n",
       "      var toinsert = this.create_output_subarea(\n",
       "        metadata,\n",
       "        CLASS_NAME,\n",
       "        EXEC_MIME_TYPE\n",
       "      );\n",
       "      this.keyboard_manager.register_events(toinsert);\n",
       "      // Render to node\n",
       "      var props = {data: data, metadata: metadata[EXEC_MIME_TYPE]};\n",
       "      render(props, toinsert[toinsert.length - 1]);\n",
       "      element.append(toinsert);\n",
       "      return toinsert\n",
       "    }\n",
       "\n",
       "    /* Handle when an output is cleared or removed */\n",
       "    events.on('clear_output.CodeCell', handleClearOutput);\n",
       "    events.on('delete.Cell', handleClearOutput);\n",
       "\n",
       "    /* Handle when a new output is added */\n",
       "    events.on('output_added.OutputArea', handleAddOutput);\n",
       "\n",
       "    /**\n",
       "     * Register the mime type and append_mime function with output_area\n",
       "     */\n",
       "    OutputArea.prototype.register_mime_type(EXEC_MIME_TYPE, append_mime, {\n",
       "      /* Is output safe? */\n",
       "      safe: true,\n",
       "      /* Index of renderer in `output_area.display_order` */\n",
       "      index: 0\n",
       "    });\n",
       "  }\n",
       "\n",
       "  // register the mime type if in Jupyter Notebook environment and previously unregistered\n",
       "  if (root.Jupyter !== undefined) {\n",
       "    var events = require('base/js/events');\n",
       "    var OutputArea = require('notebook/js/outputarea').OutputArea;\n",
       "\n",
       "    if (OutputArea.prototype.mime_types().indexOf(EXEC_MIME_TYPE) == -1) {\n",
       "      register_renderer(events, OutputArea);\n",
       "    }\n",
       "  }\n",
       "\n",
       "  \n",
       "  if (typeof (root._bokeh_timeout) === \"undefined\" || force === true) {\n",
       "    root._bokeh_timeout = Date.now() + 5000;\n",
       "    root._bokeh_failed_load = false;\n",
       "  }\n",
       "\n",
       "  var NB_LOAD_WARNING = {'data': {'text/html':\n",
       "     \"<div style='background-color: #fdd'>\\n\"+\n",
       "     \"<p>\\n\"+\n",
       "     \"BokehJS does not appear to have successfully loaded. If loading BokehJS from CDN, this \\n\"+\n",
       "     \"may be due to a slow or bad network connection. Possible fixes:\\n\"+\n",
       "     \"</p>\\n\"+\n",
       "     \"<ul>\\n\"+\n",
       "     \"<li>re-rerun `output_notebook()` to attempt to load from CDN again, or</li>\\n\"+\n",
       "     \"<li>use INLINE resources instead, as so:</li>\\n\"+\n",
       "     \"</ul>\\n\"+\n",
       "     \"<code>\\n\"+\n",
       "     \"from bokeh.resources import INLINE\\n\"+\n",
       "     \"output_notebook(resources=INLINE)\\n\"+\n",
       "     \"</code>\\n\"+\n",
       "     \"</div>\"}};\n",
       "\n",
       "  function display_loaded() {\n",
       "    var el = document.getElementById(\"1001\");\n",
       "    if (el != null) {\n",
       "      el.textContent = \"BokehJS is loading...\";\n",
       "    }\n",
       "    if (root.Bokeh !== undefined) {\n",
       "      if (el != null) {\n",
       "        el.textContent = \"BokehJS \" + root.Bokeh.version + \" successfully loaded.\";\n",
       "      }\n",
       "    } else if (Date.now() < root._bokeh_timeout) {\n",
       "      setTimeout(display_loaded, 100)\n",
       "    }\n",
       "  }\n",
       "\n",
       "\n",
       "  function run_callbacks() {\n",
       "    try {\n",
       "      root._bokeh_onload_callbacks.forEach(function(callback) { callback() });\n",
       "    }\n",
       "    finally {\n",
       "      delete root._bokeh_onload_callbacks\n",
       "    }\n",
       "    console.info(\"Bokeh: all callbacks have finished\");\n",
       "  }\n",
       "\n",
       "  function load_libs(js_urls, callback) {\n",
       "    root._bokeh_onload_callbacks.push(callback);\n",
       "    if (root._bokeh_is_loading > 0) {\n",
       "      console.log(\"Bokeh: BokehJS is being loaded, scheduling callback at\", now());\n",
       "      return null;\n",
       "    }\n",
       "    if (js_urls == null || js_urls.length === 0) {\n",
       "      run_callbacks();\n",
       "      return null;\n",
       "    }\n",
       "    console.log(\"Bokeh: BokehJS not loaded, scheduling load and callback at\", now());\n",
       "    root._bokeh_is_loading = js_urls.length;\n",
       "    for (var i = 0; i < js_urls.length; i++) {\n",
       "      var url = js_urls[i];\n",
       "      var s = document.createElement('script');\n",
       "      s.src = url;\n",
       "      s.async = false;\n",
       "      s.onreadystatechange = s.onload = function() {\n",
       "        root._bokeh_is_loading--;\n",
       "        if (root._bokeh_is_loading === 0) {\n",
       "          console.log(\"Bokeh: all BokehJS libraries loaded\");\n",
       "          run_callbacks()\n",
       "        }\n",
       "      };\n",
       "      s.onerror = function() {\n",
       "        console.warn(\"failed to load library \" + url);\n",
       "      };\n",
       "      console.log(\"Bokeh: injecting script tag for BokehJS library: \", url);\n",
       "      document.getElementsByTagName(\"head\")[0].appendChild(s);\n",
       "    }\n",
       "  };var element = document.getElementById(\"1001\");\n",
       "  if (element == null) {\n",
       "    console.log(\"Bokeh: ERROR: autoload.js configured with elementid '1001' but no matching script tag was found. \")\n",
       "    return false;\n",
       "  }\n",
       "\n",
       "  var js_urls = [\"https://cdn.pydata.org/bokeh/release/bokeh-1.0.4.min.js\", \"https://cdn.pydata.org/bokeh/release/bokeh-widgets-1.0.4.min.js\", \"https://cdn.pydata.org/bokeh/release/bokeh-tables-1.0.4.min.js\", \"https://cdn.pydata.org/bokeh/release/bokeh-gl-1.0.4.min.js\"];\n",
       "\n",
       "  var inline_js = [\n",
       "    function(Bokeh) {\n",
       "      Bokeh.set_log_level(\"info\");\n",
       "    },\n",
       "    \n",
       "    function(Bokeh) {\n",
       "      \n",
       "    },\n",
       "    function(Bokeh) {\n",
       "      console.log(\"Bokeh: injecting CSS: https://cdn.pydata.org/bokeh/release/bokeh-1.0.4.min.css\");\n",
       "      Bokeh.embed.inject_css(\"https://cdn.pydata.org/bokeh/release/bokeh-1.0.4.min.css\");\n",
       "      console.log(\"Bokeh: injecting CSS: https://cdn.pydata.org/bokeh/release/bokeh-widgets-1.0.4.min.css\");\n",
       "      Bokeh.embed.inject_css(\"https://cdn.pydata.org/bokeh/release/bokeh-widgets-1.0.4.min.css\");\n",
       "      console.log(\"Bokeh: injecting CSS: https://cdn.pydata.org/bokeh/release/bokeh-tables-1.0.4.min.css\");\n",
       "      Bokeh.embed.inject_css(\"https://cdn.pydata.org/bokeh/release/bokeh-tables-1.0.4.min.css\");\n",
       "    }\n",
       "  ];\n",
       "\n",
       "  function run_inline_js() {\n",
       "    \n",
       "    if ((root.Bokeh !== undefined) || (force === true)) {\n",
       "      for (var i = 0; i < inline_js.length; i++) {\n",
       "        inline_js[i].call(root, root.Bokeh);\n",
       "      }if (force === true) {\n",
       "        display_loaded();\n",
       "      }} else if (Date.now() < root._bokeh_timeout) {\n",
       "      setTimeout(run_inline_js, 100);\n",
       "    } else if (!root._bokeh_failed_load) {\n",
       "      console.log(\"Bokeh: BokehJS failed to load within specified timeout.\");\n",
       "      root._bokeh_failed_load = true;\n",
       "    } else if (force !== true) {\n",
       "      var cell = $(document.getElementById(\"1001\")).parents('.cell').data().cell;\n",
       "      cell.output_area.append_execute_result(NB_LOAD_WARNING)\n",
       "    }\n",
       "\n",
       "  }\n",
       "\n",
       "  if (root._bokeh_is_loading === 0) {\n",
       "    console.log(\"Bokeh: BokehJS loaded, going straight to plotting\");\n",
       "    run_inline_js();\n",
       "  } else {\n",
       "    load_libs(js_urls, function() {\n",
       "      console.log(\"Bokeh: BokehJS plotting callback run at\", now());\n",
       "      run_inline_js();\n",
       "    });\n",
       "  }\n",
       "}(window));"
      ],
      "application/vnd.bokehjs_load.v0+json": "\n(function(root) {\n  function now() {\n    return new Date();\n  }\n\n  var force = true;\n\n  if (typeof (root._bokeh_onload_callbacks) === \"undefined\" || force === true) {\n    root._bokeh_onload_callbacks = [];\n    root._bokeh_is_loading = undefined;\n  }\n\n  \n\n  \n  if (typeof (root._bokeh_timeout) === \"undefined\" || force === true) {\n    root._bokeh_timeout = Date.now() + 5000;\n    root._bokeh_failed_load = false;\n  }\n\n  var NB_LOAD_WARNING = {'data': {'text/html':\n     \"<div style='background-color: #fdd'>\\n\"+\n     \"<p>\\n\"+\n     \"BokehJS does not appear to have successfully loaded. If loading BokehJS from CDN, this \\n\"+\n     \"may be due to a slow or bad network connection. Possible fixes:\\n\"+\n     \"</p>\\n\"+\n     \"<ul>\\n\"+\n     \"<li>re-rerun `output_notebook()` to attempt to load from CDN again, or</li>\\n\"+\n     \"<li>use INLINE resources instead, as so:</li>\\n\"+\n     \"</ul>\\n\"+\n     \"<code>\\n\"+\n     \"from bokeh.resources import INLINE\\n\"+\n     \"output_notebook(resources=INLINE)\\n\"+\n     \"</code>\\n\"+\n     \"</div>\"}};\n\n  function display_loaded() {\n    var el = document.getElementById(\"1001\");\n    if (el != null) {\n      el.textContent = \"BokehJS is loading...\";\n    }\n    if (root.Bokeh !== undefined) {\n      if (el != null) {\n        el.textContent = \"BokehJS \" + root.Bokeh.version + \" successfully loaded.\";\n      }\n    } else if (Date.now() < root._bokeh_timeout) {\n      setTimeout(display_loaded, 100)\n    }\n  }\n\n\n  function run_callbacks() {\n    try {\n      root._bokeh_onload_callbacks.forEach(function(callback) { callback() });\n    }\n    finally {\n      delete root._bokeh_onload_callbacks\n    }\n    console.info(\"Bokeh: all callbacks have finished\");\n  }\n\n  function load_libs(js_urls, callback) {\n    root._bokeh_onload_callbacks.push(callback);\n    if (root._bokeh_is_loading > 0) {\n      console.log(\"Bokeh: BokehJS is being loaded, scheduling callback at\", now());\n      return null;\n    }\n    if (js_urls == null || js_urls.length === 0) {\n      run_callbacks();\n      return null;\n    }\n    console.log(\"Bokeh: BokehJS not loaded, scheduling load and callback at\", now());\n    root._bokeh_is_loading = js_urls.length;\n    for (var i = 0; i < js_urls.length; i++) {\n      var url = js_urls[i];\n      var s = document.createElement('script');\n      s.src = url;\n      s.async = false;\n      s.onreadystatechange = s.onload = function() {\n        root._bokeh_is_loading--;\n        if (root._bokeh_is_loading === 0) {\n          console.log(\"Bokeh: all BokehJS libraries loaded\");\n          run_callbacks()\n        }\n      };\n      s.onerror = function() {\n        console.warn(\"failed to load library \" + url);\n      };\n      console.log(\"Bokeh: injecting script tag for BokehJS library: \", url);\n      document.getElementsByTagName(\"head\")[0].appendChild(s);\n    }\n  };var element = document.getElementById(\"1001\");\n  if (element == null) {\n    console.log(\"Bokeh: ERROR: autoload.js configured with elementid '1001' but no matching script tag was found. \")\n    return false;\n  }\n\n  var js_urls = [\"https://cdn.pydata.org/bokeh/release/bokeh-1.0.4.min.js\", \"https://cdn.pydata.org/bokeh/release/bokeh-widgets-1.0.4.min.js\", \"https://cdn.pydata.org/bokeh/release/bokeh-tables-1.0.4.min.js\", \"https://cdn.pydata.org/bokeh/release/bokeh-gl-1.0.4.min.js\"];\n\n  var inline_js = [\n    function(Bokeh) {\n      Bokeh.set_log_level(\"info\");\n    },\n    \n    function(Bokeh) {\n      \n    },\n    function(Bokeh) {\n      console.log(\"Bokeh: injecting CSS: https://cdn.pydata.org/bokeh/release/bokeh-1.0.4.min.css\");\n      Bokeh.embed.inject_css(\"https://cdn.pydata.org/bokeh/release/bokeh-1.0.4.min.css\");\n      console.log(\"Bokeh: injecting CSS: https://cdn.pydata.org/bokeh/release/bokeh-widgets-1.0.4.min.css\");\n      Bokeh.embed.inject_css(\"https://cdn.pydata.org/bokeh/release/bokeh-widgets-1.0.4.min.css\");\n      console.log(\"Bokeh: injecting CSS: https://cdn.pydata.org/bokeh/release/bokeh-tables-1.0.4.min.css\");\n      Bokeh.embed.inject_css(\"https://cdn.pydata.org/bokeh/release/bokeh-tables-1.0.4.min.css\");\n    }\n  ];\n\n  function run_inline_js() {\n    \n    if ((root.Bokeh !== undefined) || (force === true)) {\n      for (var i = 0; i < inline_js.length; i++) {\n        inline_js[i].call(root, root.Bokeh);\n      }if (force === true) {\n        display_loaded();\n      }} else if (Date.now() < root._bokeh_timeout) {\n      setTimeout(run_inline_js, 100);\n    } else if (!root._bokeh_failed_load) {\n      console.log(\"Bokeh: BokehJS failed to load within specified timeout.\");\n      root._bokeh_failed_load = true;\n    } else if (force !== true) {\n      var cell = $(document.getElementById(\"1001\")).parents('.cell').data().cell;\n      cell.output_area.append_execute_result(NB_LOAD_WARNING)\n    }\n\n  }\n\n  if (root._bokeh_is_loading === 0) {\n    console.log(\"Bokeh: BokehJS loaded, going straight to plotting\");\n    run_inline_js();\n  } else {\n    load_libs(js_urls, function() {\n      console.log(\"Bokeh: BokehJS plotting callback run at\", now());\n      run_inline_js();\n    });\n  }\n}(window));"
     },
     "metadata": {},
     "output_type": "display_data"
    }
   ],
   "source": [
    "from sklearn.manifold import TSNE # Manifold learning is an approach to non-linear dimensionality reduction. Algorithms for this task \n",
    "# are based on the idea that the dimensionality of many data sets is only artificially high.\n",
    "# -SNE (TSNE) converts affinities of data points to probabilities. The affinities in the original space are represented by Gaussian \n",
    "# joint probabilities and the affinities in the embedded space are represented by Student’s t-distributions.\n",
    "\n",
    "# NLTK\n",
    "from nltk.tokenize import RegexpTokenizer # A ``RegexpTokenizer`` splits a string into substrings using a regular expression.\n",
    "from nltk.stem.snowball import SnowballStemmer # Stemmers remove morphological affixes from words, leaving only the word stem.\n",
    "from nltk.corpus import stopwords\n",
    "import re # This module provides regular expression matching operations similar to those found in Perl.\n",
    "\n",
    "# Visualization\n",
    "import matplotlib.pyplot as plt\n",
    "import matplotlib.patches as mpatches # A patch is a 2D artist with a face color and an edge color.\n",
    "import matplotlib\n",
    "%matplotlib inline\n",
    "import seaborn as sns\n",
    "\n",
    "# Bokeh - Bokeh is an interactive visualization library that targets modern web browsers for presentation.\n",
    "from bokeh.io import output_notebook\n",
    "from bokeh.plotting import figure, show\n",
    "from bokeh.models import HoverTool, CustomJS, ColumnDataSource, Slider\n",
    "from bokeh.layouts import column\n",
    "from bokeh.palettes import all_palettes\n",
    "output_notebook()"
   ]
  },
  {
   "cell_type": "markdown",
   "metadata": {},
   "source": [
    "Lets now visualise the LSI model and see the words and documents that are close to each other according to the model"
   ]
  },
  {
   "cell_type": "code",
   "execution_count": 18,
   "metadata": {},
   "outputs": [
    {
     "data": {
      "text/html": [
       "\n",
       "    <div class=\"bk-root\">\n",
       "        <a href=\"https://bokeh.pydata.org\" target=\"_blank\" class=\"bk-logo bk-logo-small bk-logo-notebook\"></a>\n",
       "        <span id=\"1002\">Loading BokehJS ...</span>\n",
       "    </div>"
      ]
     },
     "metadata": {},
     "output_type": "display_data"
    },
    {
     "data": {
      "application/javascript": [
       "\n",
       "(function(root) {\n",
       "  function now() {\n",
       "    return new Date();\n",
       "  }\n",
       "\n",
       "  var force = true;\n",
       "\n",
       "  if (typeof (root._bokeh_onload_callbacks) === \"undefined\" || force === true) {\n",
       "    root._bokeh_onload_callbacks = [];\n",
       "    root._bokeh_is_loading = undefined;\n",
       "  }\n",
       "\n",
       "  var JS_MIME_TYPE = 'application/javascript';\n",
       "  var HTML_MIME_TYPE = 'text/html';\n",
       "  var EXEC_MIME_TYPE = 'application/vnd.bokehjs_exec.v0+json';\n",
       "  var CLASS_NAME = 'output_bokeh rendered_html';\n",
       "\n",
       "  /**\n",
       "   * Render data to the DOM node\n",
       "   */\n",
       "  function render(props, node) {\n",
       "    var script = document.createElement(\"script\");\n",
       "    node.appendChild(script);\n",
       "  }\n",
       "\n",
       "  /**\n",
       "   * Handle when an output is cleared or removed\n",
       "   */\n",
       "  function handleClearOutput(event, handle) {\n",
       "    var cell = handle.cell;\n",
       "\n",
       "    var id = cell.output_area._bokeh_element_id;\n",
       "    var server_id = cell.output_area._bokeh_server_id;\n",
       "    // Clean up Bokeh references\n",
       "    if (id != null && id in Bokeh.index) {\n",
       "      Bokeh.index[id].model.document.clear();\n",
       "      delete Bokeh.index[id];\n",
       "    }\n",
       "\n",
       "    if (server_id !== undefined) {\n",
       "      // Clean up Bokeh references\n",
       "      var cmd = \"from bokeh.io.state import curstate; print(curstate().uuid_to_server['\" + server_id + \"'].get_sessions()[0].document.roots[0]._id)\";\n",
       "      cell.notebook.kernel.execute(cmd, {\n",
       "        iopub: {\n",
       "          output: function(msg) {\n",
       "            var id = msg.content.text.trim();\n",
       "            if (id in Bokeh.index) {\n",
       "              Bokeh.index[id].model.document.clear();\n",
       "              delete Bokeh.index[id];\n",
       "            }\n",
       "          }\n",
       "        }\n",
       "      });\n",
       "      // Destroy server and session\n",
       "      var cmd = \"import bokeh.io.notebook as ion; ion.destroy_server('\" + server_id + \"')\";\n",
       "      cell.notebook.kernel.execute(cmd);\n",
       "    }\n",
       "  }\n",
       "\n",
       "  /**\n",
       "   * Handle when a new output is added\n",
       "   */\n",
       "  function handleAddOutput(event, handle) {\n",
       "    var output_area = handle.output_area;\n",
       "    var output = handle.output;\n",
       "\n",
       "    // limit handleAddOutput to display_data with EXEC_MIME_TYPE content only\n",
       "    if ((output.output_type != \"display_data\") || (!output.data.hasOwnProperty(EXEC_MIME_TYPE))) {\n",
       "      return\n",
       "    }\n",
       "\n",
       "    var toinsert = output_area.element.find(\".\" + CLASS_NAME.split(' ')[0]);\n",
       "\n",
       "    if (output.metadata[EXEC_MIME_TYPE][\"id\"] !== undefined) {\n",
       "      toinsert[toinsert.length - 1].firstChild.textContent = output.data[JS_MIME_TYPE];\n",
       "      // store reference to embed id on output_area\n",
       "      output_area._bokeh_element_id = output.metadata[EXEC_MIME_TYPE][\"id\"];\n",
       "    }\n",
       "    if (output.metadata[EXEC_MIME_TYPE][\"server_id\"] !== undefined) {\n",
       "      var bk_div = document.createElement(\"div\");\n",
       "      bk_div.innerHTML = output.data[HTML_MIME_TYPE];\n",
       "      var script_attrs = bk_div.children[0].attributes;\n",
       "      for (var i = 0; i < script_attrs.length; i++) {\n",
       "        toinsert[toinsert.length - 1].firstChild.setAttribute(script_attrs[i].name, script_attrs[i].value);\n",
       "      }\n",
       "      // store reference to server id on output_area\n",
       "      output_area._bokeh_server_id = output.metadata[EXEC_MIME_TYPE][\"server_id\"];\n",
       "    }\n",
       "  }\n",
       "\n",
       "  function register_renderer(events, OutputArea) {\n",
       "\n",
       "    function append_mime(data, metadata, element) {\n",
       "      // create a DOM node to render to\n",
       "      var toinsert = this.create_output_subarea(\n",
       "        metadata,\n",
       "        CLASS_NAME,\n",
       "        EXEC_MIME_TYPE\n",
       "      );\n",
       "      this.keyboard_manager.register_events(toinsert);\n",
       "      // Render to node\n",
       "      var props = {data: data, metadata: metadata[EXEC_MIME_TYPE]};\n",
       "      render(props, toinsert[toinsert.length - 1]);\n",
       "      element.append(toinsert);\n",
       "      return toinsert\n",
       "    }\n",
       "\n",
       "    /* Handle when an output is cleared or removed */\n",
       "    events.on('clear_output.CodeCell', handleClearOutput);\n",
       "    events.on('delete.Cell', handleClearOutput);\n",
       "\n",
       "    /* Handle when a new output is added */\n",
       "    events.on('output_added.OutputArea', handleAddOutput);\n",
       "\n",
       "    /**\n",
       "     * Register the mime type and append_mime function with output_area\n",
       "     */\n",
       "    OutputArea.prototype.register_mime_type(EXEC_MIME_TYPE, append_mime, {\n",
       "      /* Is output safe? */\n",
       "      safe: true,\n",
       "      /* Index of renderer in `output_area.display_order` */\n",
       "      index: 0\n",
       "    });\n",
       "  }\n",
       "\n",
       "  // register the mime type if in Jupyter Notebook environment and previously unregistered\n",
       "  if (root.Jupyter !== undefined) {\n",
       "    var events = require('base/js/events');\n",
       "    var OutputArea = require('notebook/js/outputarea').OutputArea;\n",
       "\n",
       "    if (OutputArea.prototype.mime_types().indexOf(EXEC_MIME_TYPE) == -1) {\n",
       "      register_renderer(events, OutputArea);\n",
       "    }\n",
       "  }\n",
       "\n",
       "  \n",
       "  if (typeof (root._bokeh_timeout) === \"undefined\" || force === true) {\n",
       "    root._bokeh_timeout = Date.now() + 5000;\n",
       "    root._bokeh_failed_load = false;\n",
       "  }\n",
       "\n",
       "  var NB_LOAD_WARNING = {'data': {'text/html':\n",
       "     \"<div style='background-color: #fdd'>\\n\"+\n",
       "     \"<p>\\n\"+\n",
       "     \"BokehJS does not appear to have successfully loaded. If loading BokehJS from CDN, this \\n\"+\n",
       "     \"may be due to a slow or bad network connection. Possible fixes:\\n\"+\n",
       "     \"</p>\\n\"+\n",
       "     \"<ul>\\n\"+\n",
       "     \"<li>re-rerun `output_notebook()` to attempt to load from CDN again, or</li>\\n\"+\n",
       "     \"<li>use INLINE resources instead, as so:</li>\\n\"+\n",
       "     \"</ul>\\n\"+\n",
       "     \"<code>\\n\"+\n",
       "     \"from bokeh.resources import INLINE\\n\"+\n",
       "     \"output_notebook(resources=INLINE)\\n\"+\n",
       "     \"</code>\\n\"+\n",
       "     \"</div>\"}};\n",
       "\n",
       "  function display_loaded() {\n",
       "    var el = document.getElementById(\"1002\");\n",
       "    if (el != null) {\n",
       "      el.textContent = \"BokehJS is loading...\";\n",
       "    }\n",
       "    if (root.Bokeh !== undefined) {\n",
       "      if (el != null) {\n",
       "        el.textContent = \"BokehJS \" + root.Bokeh.version + \" successfully loaded.\";\n",
       "      }\n",
       "    } else if (Date.now() < root._bokeh_timeout) {\n",
       "      setTimeout(display_loaded, 100)\n",
       "    }\n",
       "  }\n",
       "\n",
       "\n",
       "  function run_callbacks() {\n",
       "    try {\n",
       "      root._bokeh_onload_callbacks.forEach(function(callback) { callback() });\n",
       "    }\n",
       "    finally {\n",
       "      delete root._bokeh_onload_callbacks\n",
       "    }\n",
       "    console.info(\"Bokeh: all callbacks have finished\");\n",
       "  }\n",
       "\n",
       "  function load_libs(js_urls, callback) {\n",
       "    root._bokeh_onload_callbacks.push(callback);\n",
       "    if (root._bokeh_is_loading > 0) {\n",
       "      console.log(\"Bokeh: BokehJS is being loaded, scheduling callback at\", now());\n",
       "      return null;\n",
       "    }\n",
       "    if (js_urls == null || js_urls.length === 0) {\n",
       "      run_callbacks();\n",
       "      return null;\n",
       "    }\n",
       "    console.log(\"Bokeh: BokehJS not loaded, scheduling load and callback at\", now());\n",
       "    root._bokeh_is_loading = js_urls.length;\n",
       "    for (var i = 0; i < js_urls.length; i++) {\n",
       "      var url = js_urls[i];\n",
       "      var s = document.createElement('script');\n",
       "      s.src = url;\n",
       "      s.async = false;\n",
       "      s.onreadystatechange = s.onload = function() {\n",
       "        root._bokeh_is_loading--;\n",
       "        if (root._bokeh_is_loading === 0) {\n",
       "          console.log(\"Bokeh: all BokehJS libraries loaded\");\n",
       "          run_callbacks()\n",
       "        }\n",
       "      };\n",
       "      s.onerror = function() {\n",
       "        console.warn(\"failed to load library \" + url);\n",
       "      };\n",
       "      console.log(\"Bokeh: injecting script tag for BokehJS library: \", url);\n",
       "      document.getElementsByTagName(\"head\")[0].appendChild(s);\n",
       "    }\n",
       "  };var element = document.getElementById(\"1002\");\n",
       "  if (element == null) {\n",
       "    console.log(\"Bokeh: ERROR: autoload.js configured with elementid '1002' but no matching script tag was found. \")\n",
       "    return false;\n",
       "  }\n",
       "\n",
       "  var js_urls = [\"https://cdn.pydata.org/bokeh/release/bokeh-1.0.4.min.js\", \"https://cdn.pydata.org/bokeh/release/bokeh-widgets-1.0.4.min.js\", \"https://cdn.pydata.org/bokeh/release/bokeh-tables-1.0.4.min.js\", \"https://cdn.pydata.org/bokeh/release/bokeh-gl-1.0.4.min.js\"];\n",
       "\n",
       "  var inline_js = [\n",
       "    function(Bokeh) {\n",
       "      Bokeh.set_log_level(\"info\");\n",
       "    },\n",
       "    \n",
       "    function(Bokeh) {\n",
       "      \n",
       "    },\n",
       "    function(Bokeh) {\n",
       "      console.log(\"Bokeh: injecting CSS: https://cdn.pydata.org/bokeh/release/bokeh-1.0.4.min.css\");\n",
       "      Bokeh.embed.inject_css(\"https://cdn.pydata.org/bokeh/release/bokeh-1.0.4.min.css\");\n",
       "      console.log(\"Bokeh: injecting CSS: https://cdn.pydata.org/bokeh/release/bokeh-widgets-1.0.4.min.css\");\n",
       "      Bokeh.embed.inject_css(\"https://cdn.pydata.org/bokeh/release/bokeh-widgets-1.0.4.min.css\");\n",
       "      console.log(\"Bokeh: injecting CSS: https://cdn.pydata.org/bokeh/release/bokeh-tables-1.0.4.min.css\");\n",
       "      Bokeh.embed.inject_css(\"https://cdn.pydata.org/bokeh/release/bokeh-tables-1.0.4.min.css\");\n",
       "    }\n",
       "  ];\n",
       "\n",
       "  function run_inline_js() {\n",
       "    \n",
       "    if ((root.Bokeh !== undefined) || (force === true)) {\n",
       "      for (var i = 0; i < inline_js.length; i++) {\n",
       "        inline_js[i].call(root, root.Bokeh);\n",
       "      }if (force === true) {\n",
       "        display_loaded();\n",
       "      }} else if (Date.now() < root._bokeh_timeout) {\n",
       "      setTimeout(run_inline_js, 100);\n",
       "    } else if (!root._bokeh_failed_load) {\n",
       "      console.log(\"Bokeh: BokehJS failed to load within specified timeout.\");\n",
       "      root._bokeh_failed_load = true;\n",
       "    } else if (force !== true) {\n",
       "      var cell = $(document.getElementById(\"1002\")).parents('.cell').data().cell;\n",
       "      cell.output_area.append_execute_result(NB_LOAD_WARNING)\n",
       "    }\n",
       "\n",
       "  }\n",
       "\n",
       "  if (root._bokeh_is_loading === 0) {\n",
       "    console.log(\"Bokeh: BokehJS loaded, going straight to plotting\");\n",
       "    run_inline_js();\n",
       "  } else {\n",
       "    load_libs(js_urls, function() {\n",
       "      console.log(\"Bokeh: BokehJS plotting callback run at\", now());\n",
       "      run_inline_js();\n",
       "    });\n",
       "  }\n",
       "}(window));"
      ],
      "application/vnd.bokehjs_load.v0+json": "\n(function(root) {\n  function now() {\n    return new Date();\n  }\n\n  var force = true;\n\n  if (typeof (root._bokeh_onload_callbacks) === \"undefined\" || force === true) {\n    root._bokeh_onload_callbacks = [];\n    root._bokeh_is_loading = undefined;\n  }\n\n  \n\n  \n  if (typeof (root._bokeh_timeout) === \"undefined\" || force === true) {\n    root._bokeh_timeout = Date.now() + 5000;\n    root._bokeh_failed_load = false;\n  }\n\n  var NB_LOAD_WARNING = {'data': {'text/html':\n     \"<div style='background-color: #fdd'>\\n\"+\n     \"<p>\\n\"+\n     \"BokehJS does not appear to have successfully loaded. If loading BokehJS from CDN, this \\n\"+\n     \"may be due to a slow or bad network connection. Possible fixes:\\n\"+\n     \"</p>\\n\"+\n     \"<ul>\\n\"+\n     \"<li>re-rerun `output_notebook()` to attempt to load from CDN again, or</li>\\n\"+\n     \"<li>use INLINE resources instead, as so:</li>\\n\"+\n     \"</ul>\\n\"+\n     \"<code>\\n\"+\n     \"from bokeh.resources import INLINE\\n\"+\n     \"output_notebook(resources=INLINE)\\n\"+\n     \"</code>\\n\"+\n     \"</div>\"}};\n\n  function display_loaded() {\n    var el = document.getElementById(\"1002\");\n    if (el != null) {\n      el.textContent = \"BokehJS is loading...\";\n    }\n    if (root.Bokeh !== undefined) {\n      if (el != null) {\n        el.textContent = \"BokehJS \" + root.Bokeh.version + \" successfully loaded.\";\n      }\n    } else if (Date.now() < root._bokeh_timeout) {\n      setTimeout(display_loaded, 100)\n    }\n  }\n\n\n  function run_callbacks() {\n    try {\n      root._bokeh_onload_callbacks.forEach(function(callback) { callback() });\n    }\n    finally {\n      delete root._bokeh_onload_callbacks\n    }\n    console.info(\"Bokeh: all callbacks have finished\");\n  }\n\n  function load_libs(js_urls, callback) {\n    root._bokeh_onload_callbacks.push(callback);\n    if (root._bokeh_is_loading > 0) {\n      console.log(\"Bokeh: BokehJS is being loaded, scheduling callback at\", now());\n      return null;\n    }\n    if (js_urls == null || js_urls.length === 0) {\n      run_callbacks();\n      return null;\n    }\n    console.log(\"Bokeh: BokehJS not loaded, scheduling load and callback at\", now());\n    root._bokeh_is_loading = js_urls.length;\n    for (var i = 0; i < js_urls.length; i++) {\n      var url = js_urls[i];\n      var s = document.createElement('script');\n      s.src = url;\n      s.async = false;\n      s.onreadystatechange = s.onload = function() {\n        root._bokeh_is_loading--;\n        if (root._bokeh_is_loading === 0) {\n          console.log(\"Bokeh: all BokehJS libraries loaded\");\n          run_callbacks()\n        }\n      };\n      s.onerror = function() {\n        console.warn(\"failed to load library \" + url);\n      };\n      console.log(\"Bokeh: injecting script tag for BokehJS library: \", url);\n      document.getElementsByTagName(\"head\")[0].appendChild(s);\n    }\n  };var element = document.getElementById(\"1002\");\n  if (element == null) {\n    console.log(\"Bokeh: ERROR: autoload.js configured with elementid '1002' but no matching script tag was found. \")\n    return false;\n  }\n\n  var js_urls = [\"https://cdn.pydata.org/bokeh/release/bokeh-1.0.4.min.js\", \"https://cdn.pydata.org/bokeh/release/bokeh-widgets-1.0.4.min.js\", \"https://cdn.pydata.org/bokeh/release/bokeh-tables-1.0.4.min.js\", \"https://cdn.pydata.org/bokeh/release/bokeh-gl-1.0.4.min.js\"];\n\n  var inline_js = [\n    function(Bokeh) {\n      Bokeh.set_log_level(\"info\");\n    },\n    \n    function(Bokeh) {\n      \n    },\n    function(Bokeh) {\n      console.log(\"Bokeh: injecting CSS: https://cdn.pydata.org/bokeh/release/bokeh-1.0.4.min.css\");\n      Bokeh.embed.inject_css(\"https://cdn.pydata.org/bokeh/release/bokeh-1.0.4.min.css\");\n      console.log(\"Bokeh: injecting CSS: https://cdn.pydata.org/bokeh/release/bokeh-widgets-1.0.4.min.css\");\n      Bokeh.embed.inject_css(\"https://cdn.pydata.org/bokeh/release/bokeh-widgets-1.0.4.min.css\");\n      console.log(\"Bokeh: injecting CSS: https://cdn.pydata.org/bokeh/release/bokeh-tables-1.0.4.min.css\");\n      Bokeh.embed.inject_css(\"https://cdn.pydata.org/bokeh/release/bokeh-tables-1.0.4.min.css\");\n    }\n  ];\n\n  function run_inline_js() {\n    \n    if ((root.Bokeh !== undefined) || (force === true)) {\n      for (var i = 0; i < inline_js.length; i++) {\n        inline_js[i].call(root, root.Bokeh);\n      }if (force === true) {\n        display_loaded();\n      }} else if (Date.now() < root._bokeh_timeout) {\n      setTimeout(run_inline_js, 100);\n    } else if (!root._bokeh_failed_load) {\n      console.log(\"Bokeh: BokehJS failed to load within specified timeout.\");\n      root._bokeh_failed_load = true;\n    } else if (force !== true) {\n      var cell = $(document.getElementById(\"1002\")).parents('.cell').data().cell;\n      cell.output_area.append_execute_result(NB_LOAD_WARNING)\n    }\n\n  }\n\n  if (root._bokeh_is_loading === 0) {\n    console.log(\"Bokeh: BokehJS loaded, going straight to plotting\");\n    run_inline_js();\n  } else {\n    load_libs(js_urls, function() {\n      console.log(\"Bokeh: BokehJS plotting callback run at\", now());\n      run_inline_js();\n    });\n  }\n}(window));"
     },
     "metadata": {},
     "output_type": "display_data"
    },
    {
     "data": {
      "text/html": [
       "\n",
       "\n",
       "\n",
       "\n",
       "\n",
       "\n",
       "  <div class=\"bk-root\" id=\"f1ea07a2-7d5b-40b9-8b47-4dcf690118e3\" data-root-id=\"1006\"></div>\n"
      ]
     },
     "metadata": {},
     "output_type": "display_data"
    },
    {
     "data": {
      "application/javascript": [
       "(function(root) {\n",
       "  function embed_document(root) {\n",
       "    \n",
       "  var docs_json = {\"1eb910ce-6c27-4b33-a479-5e1e4a6ccacb\":{\"roots\":{\"references\":[{\"attributes\":{\"below\":[{\"id\":\"1015\",\"type\":\"LinearAxis\"}],\"left\":[{\"id\":\"1020\",\"type\":\"LinearAxis\"}],\"renderers\":[{\"id\":\"1015\",\"type\":\"LinearAxis\"},{\"id\":\"1019\",\"type\":\"Grid\"},{\"id\":\"1020\",\"type\":\"LinearAxis\"},{\"id\":\"1024\",\"type\":\"Grid\"},{\"id\":\"1033\",\"type\":\"BoxAnnotation\"},{\"id\":\"1043\",\"type\":\"GlyphRenderer\"},{\"id\":\"1004\",\"type\":\"LabelSet\"}],\"title\":{\"id\":\"1045\",\"type\":\"Title\"},\"toolbar\":{\"id\":\"1031\",\"type\":\"Toolbar\"},\"x_range\":{\"id\":\"1007\",\"type\":\"DataRange1d\"},\"x_scale\":{\"id\":\"1011\",\"type\":\"LinearScale\"},\"y_range\":{\"id\":\"1009\",\"type\":\"DataRange1d\"},\"y_scale\":{\"id\":\"1013\",\"type\":\"LinearScale\"}},\"id\":\"1006\",\"subtype\":\"Figure\",\"type\":\"Plot\"},{\"attributes\":{\"data_source\":{\"id\":\"1003\",\"type\":\"ColumnDataSource\"},\"glyph\":{\"id\":\"1041\",\"type\":\"Circle\"},\"hover_glyph\":null,\"muted_glyph\":null,\"nonselection_glyph\":{\"id\":\"1042\",\"type\":\"Circle\"},\"selection_glyph\":null,\"view\":{\"id\":\"1044\",\"type\":\"CDSView\"}},\"id\":\"1043\",\"type\":\"GlyphRenderer\"},{\"attributes\":{\"source\":{\"id\":\"1003\",\"type\":\"ColumnDataSource\"}},\"id\":\"1044\",\"type\":\"CDSView\"},{\"attributes\":{},\"id\":\"1025\",\"type\":\"PanTool\"},{\"attributes\":{\"callback\":null},\"id\":\"1009\",\"type\":\"DataRange1d\"},{\"attributes\":{},\"id\":\"1026\",\"type\":\"WheelZoomTool\"},{\"attributes\":{\"overlay\":{\"id\":\"1033\",\"type\":\"BoxAnnotation\"}},\"id\":\"1027\",\"type\":\"BoxZoomTool\"},{\"attributes\":{\"callback\":null},\"id\":\"1007\",\"type\":\"DataRange1d\"},{\"attributes\":{},\"id\":\"1028\",\"type\":\"SaveTool\"},{\"attributes\":{\"fill_alpha\":{\"value\":0.1},\"fill_color\":{\"value\":\"#1f77b4\"},\"line_alpha\":{\"value\":0.1},\"line_color\":{\"value\":\"#1f77b4\"},\"size\":{\"units\":\"screen\",\"value\":12},\"x\":{\"field\":\"x\"},\"y\":{\"field\":\"y\"}},\"id\":\"1042\",\"type\":\"Circle\"},{\"attributes\":{},\"id\":\"1030\",\"type\":\"HelpTool\"},{\"attributes\":{\"active_drag\":\"auto\",\"active_inspect\":\"auto\",\"active_multi\":null,\"active_scroll\":\"auto\",\"active_tap\":\"auto\",\"tools\":[{\"id\":\"1025\",\"type\":\"PanTool\"},{\"id\":\"1026\",\"type\":\"WheelZoomTool\"},{\"id\":\"1027\",\"type\":\"BoxZoomTool\"},{\"id\":\"1028\",\"type\":\"SaveTool\"},{\"id\":\"1029\",\"type\":\"ResetTool\"},{\"id\":\"1030\",\"type\":\"HelpTool\"}]},\"id\":\"1031\",\"type\":\"Toolbar\"},{\"attributes\":{},\"id\":\"1011\",\"type\":\"LinearScale\"},{\"attributes\":{\"bottom_units\":\"screen\",\"fill_alpha\":{\"value\":0.5},\"fill_color\":{\"value\":\"lightgrey\"},\"left_units\":\"screen\",\"level\":\"overlay\",\"line_alpha\":{\"value\":1.0},\"line_color\":{\"value\":\"black\"},\"line_dash\":[4,4],\"line_width\":{\"value\":2},\"plot\":null,\"render_mode\":\"css\",\"right_units\":\"screen\",\"top_units\":\"screen\"},\"id\":\"1033\",\"type\":\"BoxAnnotation\"},{\"attributes\":{\"plot\":{\"id\":\"1006\",\"subtype\":\"Figure\",\"type\":\"Plot\"},\"source\":{\"id\":\"1003\",\"type\":\"ColumnDataSource\"},\"text\":{\"field\":\"document\"},\"text_align\":\"center\",\"text_color\":{\"value\":\"#555555\"},\"text_font_size\":{\"value\":\"8pt\"},\"x\":{\"field\":\"x\"},\"y\":{\"field\":\"y\"},\"y_offset\":{\"value\":8}},\"id\":\"1004\",\"type\":\"LabelSet\"},{\"attributes\":{},\"id\":\"1013\",\"type\":\"LinearScale\"},{\"attributes\":{\"formatter\":{\"id\":\"1049\",\"type\":\"BasicTickFormatter\"},\"plot\":{\"id\":\"1006\",\"subtype\":\"Figure\",\"type\":\"Plot\"},\"ticker\":{\"id\":\"1016\",\"type\":\"BasicTicker\"}},\"id\":\"1015\",\"type\":\"LinearAxis\"},{\"attributes\":{},\"id\":\"1016\",\"type\":\"BasicTicker\"},{\"attributes\":{\"plot\":null,\"text\":\"\"},\"id\":\"1045\",\"type\":\"Title\"},{\"attributes\":{\"callback\":null,\"data\":{\"document\":{\"__ndarray__\":\"AAAAAAEAAAACAAAAAwAAAAQAAAAFAAAABgAAAAcAAAAIAAAACQAAAAoAAAALAAAADAAAAA0AAAAOAAAADwAAABAAAAARAAAAEgAAABMAAAAUAAAAFQAAABYAAAAXAAAAGAAAABkAAAAaAAAAGwAAABwAAAAdAAAAHgAAAB8AAAAgAAAAIQAAACIAAAAjAAAAJAAAACUAAAAmAAAAJwAAACgAAAApAAAAKgAAACsAAAAsAAAALQAAAC4AAAAvAAAAMAAAADEAAAAyAAAAMwAAADQAAAA1AAAANgAAADcAAAA4AAAAOQAAADoAAAA7AAAAPAAAAD0AAAA+AAAAPwAAAEAAAABBAAAAQgAAAEMAAABEAAAARQAAAEYAAABHAAAASAAAAEkAAABKAAAASwAAAEwAAABNAAAATgAAAE8AAABQAAAAUQAAAFIAAABTAAAAVAAAAFUAAABWAAAAVwAAAFgAAABZAAAAWgAAAFsAAABcAAAAXQAAAF4AAABfAAAAYAAAAGEAAABiAAAAYwAAAGQAAABlAAAAZgAAAGcAAABoAAAAaQAAAGoAAABrAAAAbAAAAG0AAABuAAAAbwAAAHAAAABxAAAAcgAAAHMAAAB0AAAAdQAAAHYAAAB3AAAAeAAAAHkAAAB6AAAAewAAAHwAAAB9AAAAfgAAAH8AAACAAAAAgQAAAIIAAACDAAAAhAAAAIUAAACGAAAAhwAAAIgAAACJAAAAigAAAIsAAACMAAAAjQAAAI4AAACPAAAAkAAAAJEAAACSAAAAkwAAAJQAAACVAAAAlgAAAJcAAACYAAAAmQAAAJoAAACbAAAAnAAAAJ0AAACeAAAAnwAAAKAAAAChAAAAogAAAKMAAACkAAAApQAAAKYAAACnAAAAqAAAAKkAAACqAAAAqwAAAKwAAACtAAAArgAAAK8AAACwAAAAsQAAALIAAACzAAAAtAAAALUAAAC2AAAAtwAAALgAAAC5AAAAugAAALsAAAC8AAAAvQAAAL4AAAC/AAAAwAAAAMEAAADCAAAAwwAAAMQAAADFAAAAxgAAAMcAAADIAAAAyQAAAMoAAADLAAAAzAAAAM0AAADOAAAAzwAAANAAAADRAAAA0gAAANMAAADUAAAA1QAAANYAAADXAAAA2AAAANkAAADaAAAA2wAAANwAAADdAAAA3gAAAN8AAADgAAAA4QAAAOIAAADjAAAA5AAAAOUAAADmAAAA5wAAAOgAAADpAAAA6gAAAOsAAADsAAAA7QAAAO4AAADvAAAA8AAAAPEAAADyAAAA8wAAAPQAAAD1AAAA9gAAAPcAAAD4AAAA+QAAAPoAAAD7AAAA/AAAAP0AAAD+AAAA/wAAAAABAAABAQAAAgEAAAMBAAAEAQAABQEAAAYBAAAHAQAACAEAAAkBAAAKAQAACwEAAAwBAAANAQAADgEAAA8BAAAQAQAAEQEAABIBAAATAQAAFAEAABUBAAAWAQAAFwEAABgBAAAZAQAAGgEAABsBAAAcAQAAHQEAAB4BAAAfAQAAIAEAACEBAAAiAQAAIwEAACQBAAAlAQAAJgEAACcBAAAoAQAAKQEAACoBAAArAQAALAEAAC0BAAAuAQAALwEAADABAAAxAQAAMgEAADMBAAA0AQAANQEAADYBAAA3AQAAOAEAADkBAAA6AQAAOwEAADwBAAA9AQAAPgEAAD8BAABAAQAAQQEAAEIBAABDAQAARAEAAEUBAABGAQAARwEAAEgBAABJAQAASgEAAEsBAABMAQAATQEAAE4BAABPAQAAUAEAAFEBAABSAQAAUwEAAFQBAABVAQAAVgEAAFcBAABYAQAAWQEAAFoBAABbAQAAXAEAAF0BAABeAQAAXwEAAGABAABhAQAAYgEAAGMBAABkAQAAZQEAAGYBAABnAQAAaAEAAGkBAABqAQAAawEAAGwBAABtAQAAbgEAAG8BAABwAQAAcQEAAHIBAABzAQAAdAEAAHUBAAB2AQAAdwEAAHgBAAB5AQAAegEAAHsBAAB8AQAAfQEAAH4BAAB/AQAAgAEAAIEBAACCAQAAgwEAAIQBAACFAQAAhgEAAIcBAACIAQAAiQEAAIoBAACLAQAAjAEAAI0BAACOAQAAjwEAAJABAACRAQAAkgEAAJMBAACUAQAAlQEAAJYBAACXAQAAmAEAAJkBAACaAQAAmwEAAJwBAACdAQAAngEAAJ8BAACgAQAAoQEAAKIBAACjAQAApAEAAKUBAACmAQAApwEAAKgBAACpAQAAqgEAAKsBAACsAQAArQEAAK4BAACvAQAAsAEAALEBAACyAQAAswEAALQBAAC1AQAAtgEAALcBAAC4AQAAuQEAALoBAAC7AQAAvAEAAL0BAAC+AQAAvwEAAMABAADBAQAAwgEAAMMBAADEAQAAxQEAAMYBAADHAQAAyAEAAMkBAADKAQAAywEAAMwBAADNAQAAzgEAAM8BAADQAQAA0QEAANIBAADTAQAA1AEAANUBAADWAQAA1wEAANgBAADZAQAA2gEAANsBAADcAQAA3QEAAN4BAADfAQAA4AEAAOEBAADiAQAA4wEAAOQBAADlAQAA5gEAAOcBAADoAQAA6QEAAOoBAADrAQAA7AEAAO0BAADuAQAA7wEAAPABAADxAQAA8gEAAPMBAAD0AQAA9QEAAPYBAAD3AQAA+AEAAPkBAAD6AQAA+wEAAPwBAAD9AQAA/gEAAP8BAAAAAgAAAQIAAAICAAADAgAABAIAAAUCAAAGAgAABwIAAAgCAAAJAgAACgIAAAsCAAAMAgAADQIAAA4CAAAPAgAAEAIAABECAAASAgAAEwIAABQCAAAVAgAAFgIAABcCAAAYAgAAGQIAABoCAAAbAgAAHAIAAB0CAAAeAgAAHwIAACACAAAhAgAAIgIAACMCAAAkAgAAJQIAACYCAAAnAgAAKAIAACkCAAAqAgAAKwIAACwCAAAtAgAALgIAAC8CAAAwAgAAMQIAADICAAAzAgAANAIAADUCAAA2AgAANwIAADgCAAA5AgAAOgIAADsCAAA8AgAAPQIAAD4CAAA/AgAAQAIAAEECAABCAgAAQwIAAEQCAABFAgAARgIAAEcCAABIAgAASQIAAEoCAABLAgAATAIAAE0CAABOAgAATwIAAFACAABRAgAAUgIAAFMCAABUAgAAVQIAAFYCAABXAgAAWAIAAFkCAABaAgAAWwIAAFwCAABdAgAAXgIAAF8CAABgAgAAYQIAAGICAABjAgAAZAIAAGUCAABmAgAAZwIAAGgCAABpAgAAagIAAGsCAABsAgAAbQIAAG4CAABvAgAAcAIAAHECAAByAgAAcwIAAHQCAAB1AgAAdgIAAHcCAAB4AgAAeQIAAHoCAAB7AgAAfAIAAH0CAAB+AgAAfwIAAIACAACBAgAAggIAAIMCAACEAgAAhQIAAIYCAACHAgAAiAIAAIkCAACKAgAAiwIAAIwCAACNAgAAjgIAAI8CAACQAgAAkQIAAJICAACTAgAAlAIAAJUCAACWAgAAlwIAAJgCAACZAgAAmgIAAJsCAACcAgAAnQIAAJ4CAACfAgAAoAIAAKECAACiAgAAowIAAKQCAAClAgAApgIAAKcCAACoAgAAqQIAAKoCAACrAgAArAIAAK0CAACuAgAArwIAALACAACxAgAAsgIAALMCAAC0AgAAtQIAALYCAAC3AgAAuAIAALkCAAC6AgAAuwIAALwCAAC9AgAAvgIAAL8CAADAAgAAwQIAAMICAADDAgAAxAIAAMUCAADGAgAAxwIAAMgCAADJAgAAygIAAMsCAADMAgAAzQIAAM4CAADPAgAA0AIAANECAADSAgAA0wIAANQCAADVAgAA1gIAANcCAADYAgAA2QIAANoCAADbAgAA3AIAAN0CAADeAgAA3wIAAOACAADhAgAA4gIAAOMCAADkAgAA5QIAAOYCAADnAgAA6AIAAOkCAADqAgAA6wIAAOwCAADtAgAA7gIAAO8CAADwAgAA8QIAAPICAADzAgAA9AIAAPUCAAD2AgAA9wIAAPgCAAD5AgAA+gIAAPsCAAD8AgAA/QIAAP4CAAD/AgAAAAMAAAEDAAACAwAAAwMAAAQDAAAFAwAABgMAAAcDAAAIAwAACQMAAAoDAAALAwAADAMAAA0DAAAOAwAADwMAABADAAARAwAAEgMAABMDAAAUAwAAFQMAABYDAAAXAwAAGAMAABkDAAAaAwAAGwMAABwDAAAdAwAAHgMAAB8DAAAgAwAAIQMAACIDAAAjAwAAJAMAACUDAAAmAwAAJwMAACgDAAApAwAAKgMAACsDAAAsAwAALQMAAC4DAAAvAwAAMAMAADEDAAAyAwAAMwMAADQDAAA1AwAANgMAADcDAAA4AwAAOQMAADoDAAA7AwAAPAMAAD0DAAA+AwAAPwMAAEADAABBAwAAQgMAAEMDAABEAwAARQMAAEYDAABHAwAASAMAAEkDAABKAwAASwMAAEwDAABNAwAATgMAAE8DAABQAwAAUQMAAFIDAABTAwAAVAMAAFUDAABWAwAAVwMAAFgDAABZAwAAWgMAAFsDAABcAwAAXQMAAF4DAABfAwAAYAMAAGEDAABiAwAAYwMAAGQDAABlAwAAZgMAAGcDAABoAwAAaQMAAGoDAABrAwAAbAMAAG0DAABuAwAAbwMAAHADAABxAwAAcgMAAHMDAAB0AwAAdQMAAHYDAAB3AwAAeAMAAHkDAAB6AwAAewMAAHwDAAB9AwAAfgMAAH8DAACAAwAAgQMAAIIDAACDAwAAhAMAAIUDAACGAwAAhwMAAIgDAACJAwAAigMAAIsDAACMAwAAjQMAAI4DAACPAwAAkAMAAJEDAACSAwAAkwMAAJQDAACVAwAAlgMAAJcDAACYAwAAmQMAAJoDAACbAwAAnAMAAJ0DAACeAwAAnwMAAKADAAChAwAAogMAAKMDAACkAwAApQMAAKYDAACnAwAAqAMAAKkDAACqAwAAqwMAAKwDAACtAwAArgMAAK8DAACwAwAAsQMAALIDAACzAwAAtAMAALUDAAC2AwAAtwMAALgDAAC5AwAAugMAALsDAAC8AwAAvQMAAL4DAAC/AwAAwAMAAMEDAADCAwAAwwMAAMQDAADFAwAAxgMAAMcDAADIAwAAyQMAAMoDAADLAwAAzAMAAM0DAADOAwAAzwMAANADAADRAwAA0gMAANMDAADUAwAA1QMAANYDAADXAwAA2AMAANkDAADaAwAA2wMAANwDAADdAwAA3gMAAN8DAADgAwAA4QMAAOIDAADjAwAA5AMAAOUDAADmAwAA5wMAAOgDAADpAwAA6gMAAOsDAADsAwAA7QMAAO4DAADvAwAA8AMAAPEDAADyAwAA8wMAAPQDAAD1AwAA9gMAAPcDAAD4AwAA+QMAAPoDAAD7AwAA/AMAAP0DAAD+AwAA/wMAAAAEAAABBAAAAgQAAAMEAAAEBAAABQQAAAYEAAAHBAAACAQAAAkEAAAKBAAACwQAAAwEAAANBAAADgQAAA8EAAAQBAAAEQQAABIEAAATBAAAFAQAABUEAAAWBAAAFwQAABgEAAAZBAAAGgQAABsEAAAcBAAAHQQAAB4EAAAfBAAAIAQAACEEAAAiBAAAIwQAACQEAAAlBAAAJgQAACcEAAAoBAAAKQQAACoEAAArBAAALAQAAC0EAAAuBAAALwQAADAEAAAxBAAAMgQAADMEAAA0BAAANQQAADYEAAA3BAAAOAQAADkEAAA6BAAAOwQAADwEAAA9BAAAPgQAAD8EAABABAAAQQQAAEIEAABDBAAARAQAAEUEAABGBAAARwQAAEgEAABJBAAASgQAAEsEAABMBAAATQQAAE4EAABPBAAAUAQAAFEEAABSBAAAUwQAAFQEAABVBAAAVgQAAFcEAABYBAAAWQQAAFoEAABbBAAAXAQAAF0EAABeBAAAXwQAAGAEAABhBAAAYgQAAGMEAABkBAAAZQQAAGYEAABnBAAAaAQAAGkEAABqBAAAawQAAGwEAABtBAAAbgQAAG8EAABwBAAAcQQAAHIEAABzBAAAdAQAAHUEAAB2BAAAdwQAAHgEAAB5BAAAegQAAHsEAAB8BAAAfQQAAH4EAAB/BAAAgAQAAIEEAACCBAAAgwQAAIQEAACFBAAAhgQAAIcEAACIBAAAiQQAAIoEAACLBAAAjAQAAI0EAACOBAAAjwQAAJAEAACRBAAAkgQAAJMEAACUBAAAlQQAAJYEAACXBAAAmAQAAJkEAACaBAAAmwQAAJwEAACdBAAAngQAAJ8EAACgBAAAoQQAAKIEAACjBAAApAQAAKUEAACmBAAApwQAAKgEAACpBAAAqgQAAKsEAACsBAAArQQAAK4EAACvBAAAsAQAALEEAACyBAAAswQAALQEAAC1BAAAtgQAALcEAAC4BAAAuQQAALoEAAC7BAAAvAQAAL0EAAC+BAAAvwQAAMAEAADBBAAAwgQAAMMEAADEBAAAxQQAAMYEAADHBAAAyAQAAMkEAADKBAAAywQAAMwEAADNBAAAzgQAAM8EAADQBAAA0QQAANIEAADTBAAA1AQAANUEAADWBAAA1wQAANgEAADZBAAA2gQAANsEAADcBAAA3QQAAN4EAADfBAAA4AQAAOEEAADiBAAA4wQAAOQEAADlBAAA5gQAAOcEAADoBAAA6QQAAOoEAADrBAAA7AQAAO0EAADuBAAA7wQAAPAEAADxBAAA8gQAAPMEAAD0BAAA9QQAAPYEAAD3BAAA+AQAAPkEAAD6BAAA+wQAAPwEAAD9BAAA/gQAAP8EAAAABQAAAQUAAAIFAAADBQAABAUAAAUFAAAGBQAABwUAAAgFAAAJBQAACgUAAAsFAAAMBQAADQUAAA4FAAAPBQAAEAUAABEFAAASBQAAEwUAABQFAAAVBQAAFgUAABcFAAAYBQAAGQUAABoFAAAbBQAAHAUAAB0FAAAeBQAAHwUAACAFAAAhBQAAIgUAACMFAAAkBQAAJQUAACYFAAAnBQAAKAUAACkFAAAqBQAAKwUAACwFAAAtBQAALgUAAC8FAAAwBQAAMQUAADIFAAAzBQAANAUAADUFAAA2BQAANwUAADgFAAA5BQAAOgUAADsFAAA8BQAAPQUAAD4FAAA/BQAAQAUAAEEFAABCBQAAQwUAAEQFAABFBQAARgUAAEcFAABIBQAASQUAAEoFAABLBQAATAUAAE0FAABOBQAATwUAAFAFAABRBQAAUgUAAFMFAABUBQAAVQUAAFYFAABXBQAAWAUAAFkFAABaBQAAWwUAAFwFAABdBQAAXgUAAF8FAABgBQAAYQUAAGIFAABjBQAAZAUAAGUFAABmBQAAZwUAAGgFAABpBQAAagUAAGsFAABsBQAAbQUAAG4FAABvBQAAcAUAAHEFAAByBQAAcwUAAHQFAAB1BQAAdgUAAHcFAAB4BQAAeQUAAHoFAAB7BQAAfAUAAH0FAAB+BQAAfwUAAIAFAACBBQAAggUAAIMFAACEBQAAhQUAAIYFAACHBQAAiAUAAIkFAACKBQAAiwUAAIwFAACNBQAAjgUAAI8FAACQBQAAkQUAAJIFAACTBQAAlAUAAJUFAACWBQAAlwUAAJgFAACZBQAAmgUAAJsFAACcBQAAnQUAAJ4FAACfBQAAoAUAAKEFAACiBQAAowUAAKQFAAClBQAApgUAAKcFAACoBQAAqQUAAKoFAACrBQAArAUAAK0FAACuBQAArwUAALAFAACxBQAAsgUAALMFAAC0BQAAtQUAALYFAAC3BQAAuAUAALkFAAC6BQAAuwUAALwFAAC9BQAAvgUAAL8FAADABQAAwQUAAMIFAADDBQAAxAUAAMUFAADGBQAAxwUAAMgFAADJBQAAygUAAMsFAADMBQAAzQUAAM4FAADPBQAA0AUAANEFAADSBQAA0wUAANQFAADVBQAA1gUAANcFAADYBQAA2QUAANoFAADbBQAA3AUAAN0FAADeBQAA3wUAAOAFAADhBQAA4gUAAOMFAADkBQAA5QUAAOYFAADnBQAA6AUAAOkFAADqBQAA6wUAAOwFAADtBQAA7gUAAO8FAADwBQAA8QUAAPIFAADzBQAA9AUAAPUFAAD2BQAA9wUAAPgFAAD5BQAA+gUAAPsFAAD8BQAA/QUAAP4FAAD/BQAAAAYAAAEGAAACBgAAAwYAAAQGAAAFBgAABgYAAAcGAAAIBgAACQYAAAoGAAALBgAADAYAAA0GAAAOBgAADwYAABAGAAARBgAAEgYAABMGAAAUBgAAFQYAABYGAAAXBgAAGAYAABkGAAAaBgAAGwYAABwGAAAdBgAAHgYAAB8GAAAgBgAAIQYAACIGAAAjBgAAJAYAACUGAAAmBgAAJwYAACgGAAApBgAAKgYAACsGAAAsBgAALQYAAC4GAAAvBgAAMAYAADEGAAAyBgAAMwYAADQGAAA1BgAANgYAADcGAAA4BgAAOQYAADoGAAA7BgAAPAYAAD0GAAA+BgAAPwYAAEAGAABBBgAAQgYAAEMGAABEBgAARQYAAEYGAABHBgAASAYAAEkGAABKBgAASwYAAEwGAABNBgAATgYAAE8GAABQBgAAUQYAAFIGAABTBgAAVAYAAFUGAABWBgAAVwYAAFgGAABZBgAAWgYAAFsGAABcBgAAXQYAAF4GAABfBgAAYAYAAGEGAABiBgAAYwYAAGQGAABlBgAAZgYAAGcGAABoBgAAaQYAAGoGAABrBgAAbAYAAG0GAABuBgAAbwYAAHAGAABxBgAAcgYAAHMGAAB0BgAAdQYAAHYGAAB3BgAAeAYAAHkGAAB6BgAAewYAAHwGAAB9BgAAfgYAAH8GAACABgAAgQYAAIIGAACDBgAAhAYAAIUGAACGBgAAhwYAAIgGAACJBgAAigYAAIsGAACMBgAAjQYAAI4GAACPBgAAkAYAAJEGAACSBgAAkwYAAJQGAACVBgAAlgYAAJcGAACYBgAAmQYAAJoGAACbBgAAnAYAAJ0GAACeBgAAnwYAAKAGAAChBgAAogYAAKMGAACkBgAApQYAAKYGAACnBgAAqAYAAKkGAACqBgAAqwYAAKwGAACtBgAArgYAAK8GAACwBgAAsQYAALIGAACzBgAAtAYAALUGAAC2BgAAtwYAALgGAAC5BgAAugYAALsGAAC8BgAAvQYAAL4GAAC/BgAAwAYAAMEGAADCBgAAwwYAAMQGAADFBgAAxgYAAMcGAADIBgAAyQYAAMoGAADLBgAAzAYAAM0GAADOBgAAzwYAANAGAADRBgAA0gYAANMGAADUBgAA1QYAANYGAADXBgAA2AYAANkGAADaBgAA2wYAANwGAADdBgAA3gYAAN8GAADgBgAA4QYAAOIGAADjBgAA5AYAAOUGAADmBgAA5wYAAOgGAADpBgAA6gYAAOsGAADsBgAA7QYAAO4GAADvBgAA8AYAAPEGAADyBgAA8wYAAPQGAAD1BgAA9gYAAPcGAAD4BgAA+QYAAPoGAAD7BgAA/AYAAP0GAAD+BgAA/wYAAAAHAAABBwAAAgcAAAMHAAAEBwAABQcAAAYHAAAHBwAACAcAAAkHAAAKBwAACwcAAAwHAAANBwAADgcAAA8HAAAQBwAAEQcAABIHAAATBwAAFAcAABUHAAAWBwAAFwcAABgHAAAZBwAAGgcAABsHAAAcBwAAHQcAAB4HAAAfBwAAIAcAACEHAAAiBwAAIwcAACQHAAAlBwAAJgcAACcHAAAoBwAAKQcAACoHAAArBwAALAcAAC0HAAAuBwAALwcAADAHAAAxBwAAMgcAADMHAAA0BwAANQcAADYHAAA3BwAAOAcAADkHAAA6BwAAOwcAADwHAAA9BwAAPgcAAD8HAABABwAAQQcAAEIHAABDBwAARAcAAEUHAABGBwAARwcAAEgHAABJBwAASgcAAEsHAABMBwAATQcAAE4HAABPBwAAUAcAAFEHAABSBwAAUwcAAFQHAABVBwAAVgcAAFcHAABYBwAAWQcAAFoHAABbBwAAXAcAAF0HAABeBwAAXwcAAGAHAABhBwAAYgcAAGMHAABkBwAAZQcAAGYHAABnBwAAaAcAAGkHAABqBwAAawcAAGwHAABtBwAAbgcAAG8HAABwBwAAcQcAAHIHAABzBwAAdAcAAHUHAAB2BwAAdwcAAHgHAAB5BwAAegcAAHsHAAB8BwAAfQcAAH4HAAB/BwAAgAcAAIEHAACCBwAAgwcAAIQHAACFBwAAhgcAAIcHAACIBwAAiQcAAIoHAACLBwAAjAcAAI0HAACOBwAAjwcAAJAHAACRBwAAkgcAAJMHAACUBwAAlQcAAJYHAACXBwAAmAcAAJkHAACaBwAAmwcAAJwHAACdBwAAngcAAJ8HAACgBwAAoQcAAKIHAACjBwAApAcAAKUHAACmBwAApwcAAKgHAACpBwAAqgcAAKsHAACsBwAArQcAAK4HAACvBwAAsAcAALEHAACyBwAAswcAALQHAAC1BwAAtgcAALcHAAC4BwAAuQcAALoHAAC7BwAAvAcAAL0HAAC+BwAAvwcAAMAHAADBBwAAwgcAAMMHAADEBwAAxQcAAMYHAADHBwAAyAcAAMkHAADKBwAAywcAAMwHAADNBwAAzgcAAM8HAADQBwAA0QcAANIHAADTBwAA1AcAANUHAADWBwAA1wcAANgHAADZBwAA2gcAANsHAADcBwAA3QcAAN4HAADfBwAA4AcAAOEHAADiBwAA4wcAAOQHAADlBwAA5gcAAOcHAADoBwAA6QcAAOoHAADrBwAA7AcAAO0HAADuBwAA7wcAAPAHAADxBwAA8gcAAPMHAAD0BwAA9QcAAPYHAAD3BwAA+AcAAPkHAAD6BwAA+wcAAPwHAAD9BwAA/gcAAP8HAAAACAAAAQgAAAIIAAADCAAABAgAAAUIAAAGCAAABwgAAAgIAAAJCAAACggAAAsIAAAMCAAADQgAAA4IAAAPCAAAEAgAABEIAAASCAAAEwgAABQIAAAVCAAAFggAABcIAAAYCAAAGQgAABoIAAAbCAAAHAgAAB0IAAAeCAAAHwgAACAIAAAhCAAAIggAACMIAAAkCAAAJQgAACYIAAAnCAAAKAgAACkIAAAqCAAAKwgAACwIAAAtCAAALggAAC8IAAAwCAAAMQgAADIIAAAzCAAANAgAADUIAAA2CAAANwgAADgIAAA5CAAAOggAADsIAAA8CAAAPQgAAD4IAAA/CAAAQAgAAEEIAABCCAAAQwgAAEQIAABFCAAARggAAEcIAABICAAASQgAAEoIAABLCAAATAgAAE0IAABOCAAATwgAAFAIAABRCAAAUggAAFMIAABUCAAAVQgAAFYIAABXCAAAWAgAAFkIAABaCAAAWwgAAFwIAABdCAAAXggAAF8IAABgCAAAYQgAAGIIAABjCAAAZAgAAGUIAABmCAAAZwgAAGgIAABpCAAAaggAAGsIAABsCAAAbQgAAG4IAABvCAAAcAgAAHEIAAByCAAAcwgAAHQIAAB1CAAAdggAAHcIAAB4CAAAeQgAAHoIAAB7CAAAfAgAAH0IAAB+CAAAfwgAAIAIAACBCAAAgggAAIMIAACECAAAhQgAAIYIAACHCAAAiAgAAIkIAACKCAAAiwgAAIwIAACNCAAAjggAAI8IAACQCAAAkQgAAJIIAACTCAAAlAgAAJUIAACWCAAAlwgAAJgIAACZCAAAmggAAJsIAACcCAAAnQgAAJ4IAACfCAAAoAgAAKEIAACiCAAAowgAAKQIAAClCAAApggAAKcIAACoCAAAqQgAAKoIAACrCAAArAgAAK0IAACuCAAArwgAALAIAACxCAAAsggAALMIAAC0CAAAtQgAALYIAAC3CAAAuAgAALkIAAC6CAAAuwgAALwIAAC9CAAAvggAAL8IAADACAAAwQgAAMIIAADDCAAAxAgAAMUIAADGCAAAxwgAAMgIAADJCAAAyggAAMsIAADMCAAAzQgAAM4IAADPCAAA0AgAANEIAADSCAAA0wgAANQIAADVCAAA1ggAANcIAADYCAAA2QgAANoIAADbCAAA3AgAAN0IAADeCAAA3wgAAOAIAADhCAAA4ggAAOMIAADkCAAA5QgAAOYIAADnCAAA6AgAAOkIAADqCAAA6wgAAOwIAADtCAAA7ggAAO8IAADwCAAA8QgAAPIIAADzCAAA9AgAAPUIAAD2CAAA9wgAAPgIAAD5CAAA+ggAAPsIAAD8CAAA/QgAAP4IAAD/CAAAAAkAAAEJAAACCQAAAwkAAAQJAAAFCQAABgkAAAcJAAAICQAACQkAAAoJAAALCQAADAkAAA0JAAAOCQAADwkAABAJAAARCQAAEgkAABMJAAAUCQAAFQkAABYJAAAXCQAAGAkAABkJAAAaCQAAGwkAABwJAAAdCQAAHgkAAB8JAAAgCQAAIQkAACIJAAAjCQAAJAkAACUJAAAmCQAAJwkAACgJAAApCQAAKgkAACsJAAAsCQAALQkAAC4JAAAvCQAAMAkAADEJAAAyCQAAMwkAADQJAAA1CQAANgkAADcJAAA4CQAAOQkAADoJAAA7CQAAPAkAAD0JAAA+CQAAPwkAAEAJAABBCQAAQgkAAEMJAABECQAARQkAAEYJAABHCQAASAkAAEkJAABKCQAASwkAAEwJAABNCQAATgkAAE8JAABQCQAAUQkAAFIJAABTCQAAVAkAAFUJAABWCQAAVwkAAFgJAABZCQAAWgkAAFsJAABcCQAAXQkAAF4JAABfCQAAYAkAAGEJAABiCQAAYwkAAGQJAABlCQAAZgkAAGcJAABoCQAAaQkAAGoJAABrCQAAbAkAAG0JAABuCQAAbwkAAHAJAABxCQAAcgkAAHMJAAB0CQAAdQkAAHYJAAB3CQAAeAkAAHkJAAB6CQAAewkAAHwJAAB9CQAAfgkAAH8JAACACQAAgQkAAIIJAACDCQAAhAkAAIUJAACGCQAAhwkAAIgJAACJCQAAigkAAIsJAACMCQAAjQkAAI4JAACPCQAAkAkAAJEJAACSCQAAkwkAAJQJAACVCQAAlgkAAJcJAACYCQAAmQkAAJoJAACbCQAAnAkAAJ0JAACeCQAAnwkAAKAJAAChCQAAogkAAKMJAACkCQAApQkAAKYJAACnCQAAqAkAAKkJAACqCQAAqwkAAKwJAACtCQAArgkAAK8JAACwCQAAsQkAALIJAACzCQAAtAkAALUJAAC2CQAAtwkAALgJAAC5CQAAugkAALsJAAC8CQAAvQkAAL4JAAC/CQAAwAkAAMEJAADCCQAAwwkAAMQJAADFCQAAxgkAAMcJAADICQAAyQkAAMoJAADLCQAAzAkAAM0JAADOCQAAzwkAANAJAADRCQAA0gkAANMJAADUCQAA1QkAANYJAADXCQAA2AkAANkJAADaCQAA2wkAANwJAADdCQAA3gkAAN8JAADgCQAA4QkAAOIJAADjCQAA5AkAAOUJAADmCQAA5wkAAOgJAADpCQAA6gkAAOsJAADsCQAA7QkAAO4JAADvCQAA8AkAAPEJAADyCQAA8wkAAPQJAAD1CQAA9gkAAPcJAAD4CQAA+QkAAPoJAAD7CQAA/AkAAP0JAAD+CQAA/wkAAAAKAAABCgAAAgoAAAMKAAAECgAABQoAAAYKAAAHCgAACAoAAAkKAAAKCgAACwoAAAwKAAANCgAADgoAAA8KAAAQCgAAEQoAABIKAAATCgAAFAoAABUKAAAWCgAAFwoAABgKAAAZCgAAGgoAABsKAAAcCgAAHQoAAB4KAAAfCgAAIAoAACEKAAAiCgAAIwoAACQKAAAlCgAAJgoAACcKAAAoCgAAKQoAACoKAAArCgAALAoAAC0KAAAuCgAALwoAADAKAAAxCgAAMgoAADMKAAA0CgAANQoAADYKAAA3CgAAOAoAADkKAAA6CgAAOwoAADwKAAA9CgAAPgoAAD8KAABACgAAQQoAAEIKAABDCgAARAoAAEUKAABGCgAARwoAAEgKAABJCgAASgoAAEsKAABMCgAATQoAAE4KAABPCgAAUAoAAFEKAABSCgAAUwoAAFQKAABVCgAAVgoAAFcKAABYCgAAWQoAAFoKAABbCgAAXAoAAF0KAABeCgAAXwoAAGAKAABhCgAAYgoAAGMKAABkCgAAZQoAAGYKAABnCgAAaAoAAGkKAABqCgAAawoAAGwKAABtCgAAbgoAAG8KAABwCgAAcQoAAHIKAABzCgAAdAoAAHUKAAB2CgAAdwoAAHgKAAB5CgAAegoAAHsKAAB8CgAAfQoAAH4KAAB/CgAAgAoAAIEKAACCCgAAgwoAAIQKAACFCgAAhgoAAIcKAACICgAAiQoAAIoKAACLCgAAjAoAAI0KAACOCgAAjwoAAJAKAACRCgAAkgoAAJMKAACUCgAAlQoAAJYKAACXCgAAmAoAAJkKAACaCgAAmwoAAJwKAACdCgAAngoAAJ8KAACgCgAAoQoAAKIKAACjCgAApAoAAKUKAACmCgAApwoAAKgKAACpCgAAqgoAAKsKAACsCgAArQoAAK4KAACvCgAAsAoAALEKAACyCgAAswoAALQKAAC1CgAAtgoAALcKAAC4CgAAuQoAALoKAAC7CgAAvAoAAL0KAAC+CgAAvwoAAMAKAADBCgAAwgoAAMMKAADECgAAxQoAAMYKAADHCgAAyAoAAMkKAADKCgAAywoAAMwKAADNCgAAzgoAAM8KAADQCgAA0QoAANIKAADTCgAA1AoAANUKAADWCgAA1woAANgKAADZCgAA2goAANsKAADcCgAA3QoAAN4KAADfCgAA4AoAAOEKAADiCgAA4woAAOQKAADlCgAA5goAAOcKAADoCgAA6QoAAOoKAADrCgAA7AoAAO0KAADuCgAA7woAAPAKAADxCgAA8goAAPMKAAD0CgAA9QoAAPYKAAD3CgAA+AoAAPkKAAD6CgAA+woAAPwKAAD9CgAA/goAAP8KAAAACwAAAQsAAAILAAADCwAABAsAAAULAAAGCwAABwsAAAgLAAAJCwAACgsAAAsLAAAMCwAADQsAAA4LAAAPCwAAEAsAABELAAASCwAAEwsAABQLAAAVCwAAFgsAABcLAAAYCwAAGQsAABoLAAAbCwAAHAsAAB0LAAAeCwAAHwsAACALAAAhCwAAIgsAACMLAAAkCwAAJQsAACYLAAAnCwAAKAsAACkLAAAqCwAAKwsAACwLAAAtCwAALgsAAC8LAAAwCwAAMQsAADILAAAzCwAANAsAADULAAA2CwAANwsAADgLAAA5CwAAOgsAADsLAAA8CwAAPQsAAD4LAAA/CwAAQAsAAEELAABCCwAAQwsAAEQLAABFCwAARgsAAEcLAABICwAASQsAAEoLAABLCwAATAsAAE0LAABOCwAATwsAAFALAABRCwAAUgsAAFMLAABUCwAAVQsAAFYLAABXCwAAWAsAAFkLAABaCwAAWwsAAFwLAABdCwAAXgsAAF8LAABgCwAAYQsAAGILAABjCwAAZAsAAGULAABmCwAAZwsAAGgLAABpCwAAagsAAGsLAABsCwAAbQsAAG4LAABvCwAAcAsAAHELAAByCwAAcwsAAHQLAAB1CwAAdgsAAHcLAAB4CwAAeQsAAHoLAAB7CwAAfAsAAH0LAAB+CwAAfwsAAIALAACBCwAAggsAAIMLAACECwAAhQsAAIYLAACHCwAAiAsAAIkLAACKCwAAiwsAAIwLAACNCwAAjgsAAI8LAACQCwAAkQsAAJILAACTCwAAlAsAAJULAACWCwAAlwsAAJgLAACZCwAAmgsAAJsLAACcCwAAnQsAAJ4LAACfCwAAoAsAAKELAACiCwAAowsAAKQLAAClCwAApgsAAKcLAACoCwAAqQsAAKoLAACrCwAArAsAAK0LAACuCwAArwsAALALAACxCwAAsgsAALMLAAC0CwAAtQsAALYLAAC3CwAA\",\"dtype\":\"int32\",\"shape\":[3000]},\"index\":[0,1,2,3,4,5,6,7,8,9,10,11,12,13,14,15,16,17,18,19,20,21,22,23,24,25,26,27,28,29,30,31,32,33,34,35,36,37,38,39,40,41,42,43,44,45,46,47,48,49,50,51,52,53,54,55,56,57,58,59,60,61,62,63,64,65,66,67,68,69,70,71,72,73,74,75,76,77,78,79,80,81,82,83,84,85,86,87,88,89,90,91,92,93,94,95,96,97,98,99,100,101,102,103,104,105,106,107,108,109,110,111,112,113,114,115,116,117,118,119,120,121,122,123,124,125,126,127,128,129,130,131,132,133,134,135,136,137,138,139,140,141,142,143,144,145,146,147,148,149,150,151,152,153,154,155,156,157,158,159,160,161,162,163,164,165,166,167,168,169,170,171,172,173,174,175,176,177,178,179,180,181,182,183,184,185,186,187,188,189,190,191,192,193,194,195,196,197,198,199,200,201,202,203,204,205,206,207,208,209,210,211,212,213,214,215,216,217,218,219,220,221,222,223,224,225,226,227,228,229,230,231,232,233,234,235,236,237,238,239,240,241,242,243,244,245,246,247,248,249,250,251,252,253,254,255,256,257,258,259,260,261,262,263,264,265,266,267,268,269,270,271,272,273,274,275,276,277,278,279,280,281,282,283,284,285,286,287,288,289,290,291,292,293,294,295,296,297,298,299,300,301,302,303,304,305,306,307,308,309,310,311,312,313,314,315,316,317,318,319,320,321,322,323,324,325,326,327,328,329,330,331,332,333,334,335,336,337,338,339,340,341,342,343,344,345,346,347,348,349,350,351,352,353,354,355,356,357,358,359,360,361,362,363,364,365,366,367,368,369,370,371,372,373,374,375,376,377,378,379,380,381,382,383,384,385,386,387,388,389,390,391,392,393,394,395,396,397,398,399,400,401,402,403,404,405,406,407,408,409,410,411,412,413,414,415,416,417,418,419,420,421,422,423,424,425,426,427,428,429,430,431,432,433,434,435,436,437,438,439,440,441,442,443,444,445,446,447,448,449,450,451,452,453,454,455,456,457,458,459,460,461,462,463,464,465,466,467,468,469,470,471,472,473,474,475,476,477,478,479,480,481,482,483,484,485,486,487,488,489,490,491,492,493,494,495,496,497,498,499,500,501,502,503,504,505,506,507,508,509,510,511,512,513,514,515,516,517,518,519,520,521,522,523,524,525,526,527,528,529,530,531,532,533,534,535,536,537,538,539,540,541,542,543,544,545,546,547,548,549,550,551,552,553,554,555,556,557,558,559,560,561,562,563,564,565,566,567,568,569,570,571,572,573,574,575,576,577,578,579,580,581,582,583,584,585,586,587,588,589,590,591,592,593,594,595,596,597,598,599,600,601,602,603,604,605,606,607,608,609,610,611,612,613,614,615,616,617,618,619,620,621,622,623,624,625,626,627,628,629,630,631,632,633,634,635,636,637,638,639,640,641,642,643,644,645,646,647,648,649,650,651,652,653,654,655,656,657,658,659,660,661,662,663,664,665,666,667,668,669,670,671,672,673,674,675,676,677,678,679,680,681,682,683,684,685,686,687,688,689,690,691,692,693,694,695,696,697,698,699,700,701,702,703,704,705,706,707,708,709,710,711,712,713,714,715,716,717,718,719,720,721,722,723,724,725,726,727,728,729,730,731,732,733,734,735,736,737,738,739,740,741,742,743,744,745,746,747,748,749,750,751,752,753,754,755,756,757,758,759,760,761,762,763,764,765,766,767,768,769,770,771,772,773,774,775,776,777,778,779,780,781,782,783,784,785,786,787,788,789,790,791,792,793,794,795,796,797,798,799,800,801,802,803,804,805,806,807,808,809,810,811,812,813,814,815,816,817,818,819,820,821,822,823,824,825,826,827,828,829,830,831,832,833,834,835,836,837,838,839,840,841,842,843,844,845,846,847,848,849,850,851,852,853,854,855,856,857,858,859,860,861,862,863,864,865,866,867,868,869,870,871,872,873,874,875,876,877,878,879,880,881,882,883,884,885,886,887,888,889,890,891,892,893,894,895,896,897,898,899,900,901,902,903,904,905,906,907,908,909,910,911,912,913,914,915,916,917,918,919,920,921,922,923,924,925,926,927,928,929,930,931,932,933,934,935,936,937,938,939,940,941,942,943,944,945,946,947,948,949,950,951,952,953,954,955,956,957,958,959,960,961,962,963,964,965,966,967,968,969,970,971,972,973,974,975,976,977,978,979,980,981,982,983,984,985,986,987,988,989,990,991,992,993,994,995,996,997,998,999,1000,1001,1002,1003,1004,1005,1006,1007,1008,1009,1010,1011,1012,1013,1014,1015,1016,1017,1018,1019,1020,1021,1022,1023,1024,1025,1026,1027,1028,1029,1030,1031,1032,1033,1034,1035,1036,1037,1038,1039,1040,1041,1042,1043,1044,1045,1046,1047,1048,1049,1050,1051,1052,1053,1054,1055,1056,1057,1058,1059,1060,1061,1062,1063,1064,1065,1066,1067,1068,1069,1070,1071,1072,1073,1074,1075,1076,1077,1078,1079,1080,1081,1082,1083,1084,1085,1086,1087,1088,1089,1090,1091,1092,1093,1094,1095,1096,1097,1098,1099,1100,1101,1102,1103,1104,1105,1106,1107,1108,1109,1110,1111,1112,1113,1114,1115,1116,1117,1118,1119,1120,1121,1122,1123,1124,1125,1126,1127,1128,1129,1130,1131,1132,1133,1134,1135,1136,1137,1138,1139,1140,1141,1142,1143,1144,1145,1146,1147,1148,1149,1150,1151,1152,1153,1154,1155,1156,1157,1158,1159,1160,1161,1162,1163,1164,1165,1166,1167,1168,1169,1170,1171,1172,1173,1174,1175,1176,1177,1178,1179,1180,1181,1182,1183,1184,1185,1186,1187,1188,1189,1190,1191,1192,1193,1194,1195,1196,1197,1198,1199,1200,1201,1202,1203,1204,1205,1206,1207,1208,1209,1210,1211,1212,1213,1214,1215,1216,1217,1218,1219,1220,1221,1222,1223,1224,1225,1226,1227,1228,1229,1230,1231,1232,1233,1234,1235,1236,1237,1238,1239,1240,1241,1242,1243,1244,1245,1246,1247,1248,1249,1250,1251,1252,1253,1254,1255,1256,1257,1258,1259,1260,1261,1262,1263,1264,1265,1266,1267,1268,1269,1270,1271,1272,1273,1274,1275,1276,1277,1278,1279,1280,1281,1282,1283,1284,1285,1286,1287,1288,1289,1290,1291,1292,1293,1294,1295,1296,1297,1298,1299,1300,1301,1302,1303,1304,1305,1306,1307,1308,1309,1310,1311,1312,1313,1314,1315,1316,1317,1318,1319,1320,1321,1322,1323,1324,1325,1326,1327,1328,1329,1330,1331,1332,1333,1334,1335,1336,1337,1338,1339,1340,1341,1342,1343,1344,1345,1346,1347,1348,1349,1350,1351,1352,1353,1354,1355,1356,1357,1358,1359,1360,1361,1362,1363,1364,1365,1366,1367,1368,1369,1370,1371,1372,1373,1374,1375,1376,1377,1378,1379,1380,1381,1382,1383,1384,1385,1386,1387,1388,1389,1390,1391,1392,1393,1394,1395,1396,1397,1398,1399,1400,1401,1402,1403,1404,1405,1406,1407,1408,1409,1410,1411,1412,1413,1414,1415,1416,1417,1418,1419,1420,1421,1422,1423,1424,1425,1426,1427,1428,1429,1430,1431,1432,1433,1434,1435,1436,1437,1438,1439,1440,1441,1442,1443,1444,1445,1446,1447,1448,1449,1450,1451,1452,1453,1454,1455,1456,1457,1458,1459,1460,1461,1462,1463,1464,1465,1466,1467,1468,1469,1470,1471,1472,1473,1474,1475,1476,1477,1478,1479,1480,1481,1482,1483,1484,1485,1486,1487,1488,1489,1490,1491,1492,1493,1494,1495,1496,1497,1498,1499,1500,1501,1502,1503,1504,1505,1506,1507,1508,1509,1510,1511,1512,1513,1514,1515,1516,1517,1518,1519,1520,1521,1522,1523,1524,1525,1526,1527,1528,1529,1530,1531,1532,1533,1534,1535,1536,1537,1538,1539,1540,1541,1542,1543,1544,1545,1546,1547,1548,1549,1550,1551,1552,1553,1554,1555,1556,1557,1558,1559,1560,1561,1562,1563,1564,1565,1566,1567,1568,1569,1570,1571,1572,1573,1574,1575,1576,1577,1578,1579,1580,1581,1582,1583,1584,1585,1586,1587,1588,1589,1590,1591,1592,1593,1594,1595,1596,1597,1598,1599,1600,1601,1602,1603,1604,1605,1606,1607,1608,1609,1610,1611,1612,1613,1614,1615,1616,1617,1618,1619,1620,1621,1622,1623,1624,1625,1626,1627,1628,1629,1630,1631,1632,1633,1634,1635,1636,1637,1638,1639,1640,1641,1642,1643,1644,1645,1646,1647,1648,1649,1650,1651,1652,1653,1654,1655,1656,1657,1658,1659,1660,1661,1662,1663,1664,1665,1666,1667,1668,1669,1670,1671,1672,1673,1674,1675,1676,1677,1678,1679,1680,1681,1682,1683,1684,1685,1686,1687,1688,1689,1690,1691,1692,1693,1694,1695,1696,1697,1698,1699,1700,1701,1702,1703,1704,1705,1706,1707,1708,1709,1710,1711,1712,1713,1714,1715,1716,1717,1718,1719,1720,1721,1722,1723,1724,1725,1726,1727,1728,1729,1730,1731,1732,1733,1734,1735,1736,1737,1738,1739,1740,1741,1742,1743,1744,1745,1746,1747,1748,1749,1750,1751,1752,1753,1754,1755,1756,1757,1758,1759,1760,1761,1762,1763,1764,1765,1766,1767,1768,1769,1770,1771,1772,1773,1774,1775,1776,1777,1778,1779,1780,1781,1782,1783,1784,1785,1786,1787,1788,1789,1790,1791,1792,1793,1794,1795,1796,1797,1798,1799,1800,1801,1802,1803,1804,1805,1806,1807,1808,1809,1810,1811,1812,1813,1814,1815,1816,1817,1818,1819,1820,1821,1822,1823,1824,1825,1826,1827,1828,1829,1830,1831,1832,1833,1834,1835,1836,1837,1838,1839,1840,1841,1842,1843,1844,1845,1846,1847,1848,1849,1850,1851,1852,1853,1854,1855,1856,1857,1858,1859,1860,1861,1862,1863,1864,1865,1866,1867,1868,1869,1870,1871,1872,1873,1874,1875,1876,1877,1878,1879,1880,1881,1882,1883,1884,1885,1886,1887,1888,1889,1890,1891,1892,1893,1894,1895,1896,1897,1898,1899,1900,1901,1902,1903,1904,1905,1906,1907,1908,1909,1910,1911,1912,1913,1914,1915,1916,1917,1918,1919,1920,1921,1922,1923,1924,1925,1926,1927,1928,1929,1930,1931,1932,1933,1934,1935,1936,1937,1938,1939,1940,1941,1942,1943,1944,1945,1946,1947,1948,1949,1950,1951,1952,1953,1954,1955,1956,1957,1958,1959,1960,1961,1962,1963,1964,1965,1966,1967,1968,1969,1970,1971,1972,1973,1974,1975,1976,1977,1978,1979,1980,1981,1982,1983,1984,1985,1986,1987,1988,1989,1990,1991,1992,1993,1994,1995,1996,1997,1998,1999,2000,2001,2002,2003,2004,2005,2006,2007,2008,2009,2010,2011,2012,2013,2014,2015,2016,2017,2018,2019,2020,2021,2022,2023,2024,2025,2026,2027,2028,2029,2030,2031,2032,2033,2034,2035,2036,2037,2038,2039,2040,2041,2042,2043,2044,2045,2046,2047,2048,2049,2050,2051,2052,2053,2054,2055,2056,2057,2058,2059,2060,2061,2062,2063,2064,2065,2066,2067,2068,2069,2070,2071,2072,2073,2074,2075,2076,2077,2078,2079,2080,2081,2082,2083,2084,2085,2086,2087,2088,2089,2090,2091,2092,2093,2094,2095,2096,2097,2098,2099,2100,2101,2102,2103,2104,2105,2106,2107,2108,2109,2110,2111,2112,2113,2114,2115,2116,2117,2118,2119,2120,2121,2122,2123,2124,2125,2126,2127,2128,2129,2130,2131,2132,2133,2134,2135,2136,2137,2138,2139,2140,2141,2142,2143,2144,2145,2146,2147,2148,2149,2150,2151,2152,2153,2154,2155,2156,2157,2158,2159,2160,2161,2162,2163,2164,2165,2166,2167,2168,2169,2170,2171,2172,2173,2174,2175,2176,2177,2178,2179,2180,2181,2182,2183,2184,2185,2186,2187,2188,2189,2190,2191,2192,2193,2194,2195,2196,2197,2198,2199,2200,2201,2202,2203,2204,2205,2206,2207,2208,2209,2210,2211,2212,2213,2214,2215,2216,2217,2218,2219,2220,2221,2222,2223,2224,2225,2226,2227,2228,2229,2230,2231,2232,2233,2234,2235,2236,2237,2238,2239,2240,2241,2242,2243,2244,2245,2246,2247,2248,2249,2250,2251,2252,2253,2254,2255,2256,2257,2258,2259,2260,2261,2262,2263,2264,2265,2266,2267,2268,2269,2270,2271,2272,2273,2274,2275,2276,2277,2278,2279,2280,2281,2282,2283,2284,2285,2286,2287,2288,2289,2290,2291,2292,2293,2294,2295,2296,2297,2298,2299,2300,2301,2302,2303,2304,2305,2306,2307,2308,2309,2310,2311,2312,2313,2314,2315,2316,2317,2318,2319,2320,2321,2322,2323,2324,2325,2326,2327,2328,2329,2330,2331,2332,2333,2334,2335,2336,2337,2338,2339,2340,2341,2342,2343,2344,2345,2346,2347,2348,2349,2350,2351,2352,2353,2354,2355,2356,2357,2358,2359,2360,2361,2362,2363,2364,2365,2366,2367,2368,2369,2370,2371,2372,2373,2374,2375,2376,2377,2378,2379,2380,2381,2382,2383,2384,2385,2386,2387,2388,2389,2390,2391,2392,2393,2394,2395,2396,2397,2398,2399,2400,2401,2402,2403,2404,2405,2406,2407,2408,2409,2410,2411,2412,2413,2414,2415,2416,2417,2418,2419,2420,2421,2422,2423,2424,2425,2426,2427,2428,2429,2430,2431,2432,2433,2434,2435,2436,2437,2438,2439,2440,2441,2442,2443,2444,2445,2446,2447,2448,2449,2450,2451,2452,2453,2454,2455,2456,2457,2458,2459,2460,2461,2462,2463,2464,2465,2466,2467,2468,2469,2470,2471,2472,2473,2474,2475,2476,2477,2478,2479,2480,2481,2482,2483,2484,2485,2486,2487,2488,2489,2490,2491,2492,2493,2494,2495,2496,2497,2498,2499,2500,2501,2502,2503,2504,2505,2506,2507,2508,2509,2510,2511,2512,2513,2514,2515,2516,2517,2518,2519,2520,2521,2522,2523,2524,2525,2526,2527,2528,2529,2530,2531,2532,2533,2534,2535,2536,2537,2538,2539,2540,2541,2542,2543,2544,2545,2546,2547,2548,2549,2550,2551,2552,2553,2554,2555,2556,2557,2558,2559,2560,2561,2562,2563,2564,2565,2566,2567,2568,2569,2570,2571,2572,2573,2574,2575,2576,2577,2578,2579,2580,2581,2582,2583,2584,2585,2586,2587,2588,2589,2590,2591,2592,2593,2594,2595,2596,2597,2598,2599,2600,2601,2602,2603,2604,2605,2606,2607,2608,2609,2610,2611,2612,2613,2614,2615,2616,2617,2618,2619,2620,2621,2622,2623,2624,2625,2626,2627,2628,2629,2630,2631,2632,2633,2634,2635,2636,2637,2638,2639,2640,2641,2642,2643,2644,2645,2646,2647,2648,2649,2650,2651,2652,2653,2654,2655,2656,2657,2658,2659,2660,2661,2662,2663,2664,2665,2666,2667,2668,2669,2670,2671,2672,2673,2674,2675,2676,2677,2678,2679,2680,2681,2682,2683,2684,2685,2686,2687,2688,2689,2690,2691,2692,2693,2694,2695,2696,2697,2698,2699,2700,2701,2702,2703,2704,2705,2706,2707,2708,2709,2710,2711,2712,2713,2714,2715,2716,2717,2718,2719,2720,2721,2722,2723,2724,2725,2726,2727,2728,2729,2730,2731,2732,2733,2734,2735,2736,2737,2738,2739,2740,2741,2742,2743,2744,2745,2746,2747,2748,2749,2750,2751,2752,2753,2754,2755,2756,2757,2758,2759,2760,2761,2762,2763,2764,2765,2766,2767,2768,2769,2770,2771,2772,2773,2774,2775,2776,2777,2778,2779,2780,2781,2782,2783,2784,2785,2786,2787,2788,2789,2790,2791,2792,2793,2794,2795,2796,2797,2798,2799,2800,2801,2802,2803,2804,2805,2806,2807,2808,2809,2810,2811,2812,2813,2814,2815,2816,2817,2818,2819,2820,2821,2822,2823,2824,2825,2826,2827,2828,2829,2830,2831,2832,2833,2834,2835,2836,2837,2838,2839,2840,2841,2842,2843,2844,2845,2846,2847,2848,2849,2850,2851,2852,2853,2854,2855,2856,2857,2858,2859,2860,2861,2862,2863,2864,2865,2866,2867,2868,2869,2870,2871,2872,2873,2874,2875,2876,2877,2878,2879,2880,2881,2882,2883,2884,2885,2886,2887,2888,2889,2890,2891,2892,2893,2894,2895,2896,2897,2898,2899,2900,2901,2902,2903,2904,2905,2906,2907,2908,2909,2910,2911,2912,2913,2914,2915,2916,2917,2918,2919,2920,2921,2922,2923,2924,2925,2926,2927,2928,2929,2930,2931,2932,2933,2934,2935,2936,2937,2938,2939,2940,2941,2942,2943,2944,2945,2946,2947,2948,2949,2950,2951,2952,2953,2954,2955,2956,2957,2958,2959,2960,2961,2962,2963,2964,2965,2966,2967,2968,2969,2970,2971,2972,2973,2974,2975,2976,2977,2978,2979,2980,2981,2982,2983,2984,2985,2986,2987,2988,2989,2990,2991,2992,2993,2994,2995,2996,2997,2998,2999],\"x\":{\"__ndarray__\":\"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\",\"dtype\":\"float64\",\"shape\":[3000]},\"y\":{\"__ndarray__\":\"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\",\"dtype\":\"float64\",\"shape\":[3000]}},\"selected\":{\"id\":\"1052\",\"type\":\"Selection\"},\"selection_policy\":{\"id\":\"1051\",\"type\":\"UnionRenderers\"}},\"id\":\"1003\",\"type\":\"ColumnDataSource\"},{\"attributes\":{},\"id\":\"1029\",\"type\":\"ResetTool\"},{\"attributes\":{},\"id\":\"1047\",\"type\":\"BasicTickFormatter\"},{\"attributes\":{\"plot\":{\"id\":\"1006\",\"subtype\":\"Figure\",\"type\":\"Plot\"},\"ticker\":{\"id\":\"1016\",\"type\":\"BasicTicker\"}},\"id\":\"1019\",\"type\":\"Grid\"},{\"attributes\":{},\"id\":\"1049\",\"type\":\"BasicTickFormatter\"},{\"attributes\":{\"formatter\":{\"id\":\"1047\",\"type\":\"BasicTickFormatter\"},\"plot\":{\"id\":\"1006\",\"subtype\":\"Figure\",\"type\":\"Plot\"},\"ticker\":{\"id\":\"1021\",\"type\":\"BasicTicker\"}},\"id\":\"1020\",\"type\":\"LinearAxis\"},{\"attributes\":{},\"id\":\"1051\",\"type\":\"UnionRenderers\"},{\"attributes\":{},\"id\":\"1021\",\"type\":\"BasicTicker\"},{\"attributes\":{},\"id\":\"1052\",\"type\":\"Selection\"},{\"attributes\":{\"dimension\":1,\"plot\":{\"id\":\"1006\",\"subtype\":\"Figure\",\"type\":\"Plot\"},\"ticker\":{\"id\":\"1021\",\"type\":\"BasicTicker\"}},\"id\":\"1024\",\"type\":\"Grid\"},{\"attributes\":{\"fill_alpha\":{\"value\":0.8},\"fill_color\":{\"value\":\"#1f77b4\"},\"size\":{\"units\":\"screen\",\"value\":12},\"x\":{\"field\":\"x\"},\"y\":{\"field\":\"y\"}},\"id\":\"1041\",\"type\":\"Circle\"}],\"root_ids\":[\"1006\"]},\"title\":\"Bokeh Application\",\"version\":\"1.0.4\"}};\n",
       "  var render_items = [{\"docid\":\"1eb910ce-6c27-4b33-a479-5e1e4a6ccacb\",\"notebook_comms_target\":\"1054\",\"roots\":{\"1006\":\"f1ea07a2-7d5b-40b9-8b47-4dcf690118e3\"}}];\n",
       "  root.Bokeh.embed.embed_items_notebook(docs_json, render_items);\n",
       "\n",
       "  }\n",
       "  if (root.Bokeh !== undefined) {\n",
       "    embed_document(root);\n",
       "  } else {\n",
       "    var attempts = 0;\n",
       "    var timer = setInterval(function(root) {\n",
       "      if (root.Bokeh !== undefined) {\n",
       "        embed_document(root);\n",
       "        clearInterval(timer);\n",
       "      }\n",
       "      attempts++;\n",
       "      if (attempts > 100) {\n",
       "        console.log(\"Bokeh: ERROR: Unable to run BokehJS code because BokehJS library is missing\");\n",
       "        clearInterval(timer);\n",
       "      }\n",
       "    }, 10, root)\n",
       "  }\n",
       "})(window);"
      ],
      "application/vnd.bokehjs_exec.v0+json": ""
     },
     "metadata": {
      "application/vnd.bokehjs_exec.v0+json": {
       "id": "1006"
      }
     },
     "output_type": "display_data"
    },
    {
     "data": {
      "text/html": [
       "<p><code>&lt;Bokeh Notebook handle for <strong>In[18]</strong>&gt;</code></p>"
      ],
      "text/plain": [
       "<bokeh.io.notebook.CommsHandle at 0x1840ec15710>"
      ]
     },
     "execution_count": 18,
     "metadata": {},
     "output_type": "execute_result"
    }
   ],
   "source": [
    "import pandas as pd\n",
    "from bokeh.io import push_notebook, show, output_notebook\n",
    "from bokeh.plotting import figure\n",
    "from bokeh.models import ColumnDataSource, LabelSet\n",
    "output_notebook()\n",
    "\n",
    "svd = TruncatedSVD(n_components=100)\n",
    "documents_2d = svd.fit_transform(data_vectorized)\n",
    " \n",
    "df = pd.DataFrame(columns=['x', 'y', 'document'])\n",
    "df['x'], df['y'], df['document'] = documents_2d[:,0], documents_2d[:,1], range(len(data))\n",
    " \n",
    "source = ColumnDataSource(ColumnDataSource.from_df(df))\n",
    "labels = LabelSet(x=\"x\", y=\"y\", text=\"document\", y_offset=8,\n",
    "                  text_font_size=\"8pt\", text_color=\"#555555\",\n",
    "                  source=source, text_align='center')\n",
    " \n",
    "plot = figure(plot_width=600, plot_height=600)\n",
    "plot.circle(\"x\", \"y\", size=12, source=source, line_color=\"black\", fill_alpha=0.8)\n",
    "plot.add_layout(labels)\n",
    "show(plot, notebook_handle=True)\n"
   ]
  },
  {
   "cell_type": "markdown",
   "metadata": {},
   "source": [
    "The Inference from the plot above is that similar documents are plotted close by in a low dimensional space. Same with words(although not the objective here) shown below,"
   ]
  },
  {
   "cell_type": "code",
   "execution_count": 19,
   "metadata": {},
   "outputs": [
    {
     "data": {
      "text/html": [
       "\n",
       "\n",
       "\n",
       "\n",
       "\n",
       "\n",
       "  <div class=\"bk-root\" id=\"6e358d88-f46a-453a-b8a9-6996a03a6f8e\" data-root-id=\"1112\"></div>\n"
      ]
     },
     "metadata": {},
     "output_type": "display_data"
    },
    {
     "data": {
      "application/javascript": [
       "(function(root) {\n",
       "  function embed_document(root) {\n",
       "    \n",
       "  var docs_json = {\"99995a80-177f-4767-91a0-263f34c4b402\":{\"roots\":{\"references\":[{\"attributes\":{\"below\":[{\"id\":\"1121\",\"type\":\"LinearAxis\"}],\"left\":[{\"id\":\"1126\",\"type\":\"LinearAxis\"}],\"renderers\":[{\"id\":\"1121\",\"type\":\"LinearAxis\"},{\"id\":\"1125\",\"type\":\"Grid\"},{\"id\":\"1126\",\"type\":\"LinearAxis\"},{\"id\":\"1130\",\"type\":\"Grid\"},{\"id\":\"1139\",\"type\":\"BoxAnnotation\"},{\"id\":\"1149\",\"type\":\"GlyphRenderer\"},{\"id\":\"1110\",\"type\":\"LabelSet\"}],\"title\":{\"id\":\"1160\",\"type\":\"Title\"},\"toolbar\":{\"id\":\"1137\",\"type\":\"Toolbar\"},\"x_range\":{\"id\":\"1113\",\"type\":\"DataRange1d\"},\"x_scale\":{\"id\":\"1117\",\"type\":\"LinearScale\"},\"y_range\":{\"id\":\"1115\",\"type\":\"DataRange1d\"},\"y_scale\":{\"id\":\"1119\",\"type\":\"LinearScale\"}},\"id\":\"1112\",\"subtype\":\"Figure\",\"type\":\"Plot\"},{\"attributes\":{\"fill_alpha\":{\"value\":0.1},\"fill_color\":{\"value\":\"#1f77b4\"},\"line_alpha\":{\"value\":0.1},\"line_color\":{\"value\":\"#1f77b4\"},\"size\":{\"units\":\"screen\",\"value\":12},\"x\":{\"field\":\"x\"},\"y\":{\"field\":\"y\"}},\"id\":\"1148\",\"type\":\"Circle\"},{\"attributes\":{\"plot\":{\"id\":\"1112\",\"subtype\":\"Figure\",\"type\":\"Plot\"},\"source\":{\"id\":\"1109\",\"type\":\"ColumnDataSource\"},\"text\":{\"field\":\"word\"},\"text_align\":\"center\",\"text_color\":{\"value\":\"#555555\"},\"text_font_size\":{\"value\":\"8pt\"},\"x\":{\"field\":\"x\"},\"y\":{\"field\":\"y\"},\"y_offset\":{\"value\":8}},\"id\":\"1110\",\"type\":\"LabelSet\"},{\"attributes\":{},\"id\":\"1166\",\"type\":\"UnionRenderers\"},{\"attributes\":{},\"id\":\"1167\",\"type\":\"Selection\"},{\"attributes\":{},\"id\":\"1132\",\"type\":\"WheelZoomTool\"},{\"attributes\":{},\"id\":\"1131\",\"type\":\"PanTool\"},{\"attributes\":{},\"id\":\"1164\",\"type\":\"BasicTickFormatter\"},{\"attributes\":{\"callback\":null},\"id\":\"1115\",\"type\":\"DataRange1d\"},{\"attributes\":{},\"id\":\"1162\",\"type\":\"BasicTickFormatter\"},{\"attributes\":{},\"id\":\"1117\",\"type\":\"LinearScale\"},{\"attributes\":{\"overlay\":{\"id\":\"1139\",\"type\":\"BoxAnnotation\"}},\"id\":\"1133\",\"type\":\"BoxZoomTool\"},{\"attributes\":{},\"id\":\"1119\",\"type\":\"LinearScale\"},{\"attributes\":{},\"id\":\"1136\",\"type\":\"HelpTool\"},{\"attributes\":{\"callback\":null,\"data\":{\"index\":[0,1,2,3,4,5,6,7,8,9,10,11,12,13,14,15,16,17,18,19,20,21,22,23,24,25,26,27,28,29,30,31,32,33,34,35,36,37,38,39,40,41,42,43,44,45,46,47,48,49,50,51,52,53,54,55,56,57,58,59,60,61,62,63,64,65,66,67,68,69,70,71,72,73,74,75,76,77,78,79,80,81,82,83,84,85,86,87,88,89,90,91,92,93,94,95,96,97,98,99,100,101,102,103,104,105,106,107,108,109,110,111,112,113,114,115,116,117,118,119,120,121,122,123,124,125,126,127,128,129,130,131,132,133,134,135,136,137,138,139,140,141,142,143,144,145,146,147,148,149,150,151,152,153,154,155,156,157,158,159,160,161,162,163,164,165,166,167,168,169,170,171,172,173,174,175,176,177,178,179,180,181,182,183,184,185,186,187,188,189,190,191,192,193,194,195,196,197,198,199,200,201,202,203,204,205,206,207,208,209,210,211,212,213,214,215,216,217,218,219,220,221,222,223,224,225,226,227,228,229,230,231,232,233,234,235,236,237,238,239,240,241,242,243,244,245,246,247,248,249,250,251,252,253,254,255,256,257,258,259,260,261,262,263,264,265,266,267,268,269,270,271,272,273,274,275,276,277,278,279,280,281,282,283,284,285,286,287,288,289,290,291,292,293,294,295,296,297,298,299,300,301,302,303,304,305,306,307,308,309,310,311,312,313,314,315,316,317,318,319,320,321,322,323,324,325,326,327,328,329,330,331,332,333,334,335,336,337,338,339,340,341,342,343,344,345,346,347,348,349,350,351,352,353,354,355,356,357,358,359,360,361,362,363,364,365,366,367,368,369,370,371,372,373,374,375,376,377,378,379,380,381,382,383,384,385,386,387,388,389,390,391,392,393,394,395,396,397,398,399,400,401,402,403,404,405,406,407,408,409,410,411,412,413,414,415,416,417,418,419,420,421,422,423,424,425,426,427,428,429,430,431,432,433,434,435,436,437,438,439,440,441,442,443,444,445,446,447,448,449,450,451,452,453,454,455,456,457,458,459,460,461,462,463,464,465,466,467,468,469,470,471,472,473,474,475,476,477,478,479,480,481,482,483,484,485,486,487,488,489,490,491,492,493,494,495,496,497,498,499,500,501,502,503,504,505,506,507,508,509,510,511,512,513,514,515,516,517,518,519,520,521,522,523,524,525,526,527,528,529,530,531,532,533,534,535,536,537,538,539,540,541,542,543,544,545,546,547,548,549,550,551,552,553,554,555,556,557,558,559,560,561,562,563,564,565,566,567,568,569,570,571,572,573,574,575,576,577,578,579,580,581,582,583,584,585,586,587,588,589,590,591,592,593,594,595,596,597,598,599,600,601,602,603,604,605,606,607,608,609,610,611,612,613,614,615,616,617,618,619,620,621,622,623,624,625,626,627,628,629,630,631,632,633,634,635,636,637,638,639,640,641,642,643,644,645,646,647,648,649,650,651,652,653,654,655,656,657,658,659,660,661,662,663,664,665,666,667,668,669,670,671,672,673,674,675,676,677,678,679,680,681,682,683,684,685,686,687,688,689,690,691,692,693,694,695,696,697,698,699,700,701,702,703,704,705,706,707,708,709,710,711,712,713,714,715,716,717,718,719,720,721,722,723,724,725,726,727,728,729,730,731,732,733,734,735,736,737,738,739,740,741,742,743,744,745,746,747,748,749,750,751,752,753,754,755,756,757,758,759,760,761,762,763,764,765,766,767,768,769,770,771,772,773,774,775,776,777,778,779,780,781,782,783,784,785,786,787,788,789,790,791,792,793,794,795,796,797,798,799,800,801,802,803,804,805,806,807,808,809,810,811,812,813,814,815,816,817,818,819,820,821,822,823,824,825,826,827,828,829,830,831,832,833,834,835,836,837,838,839,840,841,842,843,844,845,846,847,848,849,850,851,852,853,854,855,856,857,858,859,860,861,862,863,864,865,866,867,868,869,870,871,872,873,874,875,876,877,878,879,880,881,882,883,884,885,886,887,888,889,890,891,892,893,894,895,896,897,898,899,900,901,902,903,904,905,906],\"word\":[\"abbvie\",\"abc\",\"acquire\",\"acquires\",\"acquisition\",\"act\",\"action\",\"actor\",\"adds\",\"ads\",\"advertising\",\"aereo\",\"affect\",\"africa\",\"age\",\"aging\",\"ahead\",\"air\",\"airlines\",\"album\",\"alcohol\",\"alert\",\"alibaba\",\"allegedly\",\"allergan\",\"alzheimer\",\"amazing\",\"amazon\",\"america\",\"american\",\"americans\",\"amid\",\"analysts\",\"andi\",\"android\",\"angelina\",\"anniversary\",\"announce\",\"announces\",\"app\",\"apple\",\"approval\",\"approved\",\"approves\",\"apps\",\"april\",\"arabia\",\"area\",\"argentina\",\"arrested\",\"article\",\"asia\",\"aspirin\",\"astrazeneca\",\"australia\",\"author\",\"autism\",\"auto\",\"available\",\"average\",\"awards\",\"awareness\",\"baby\",\"bachelor\",\"bachelorette\",\"bad\",\"bag\",\"bang\",\"bank\",\"banks\",\"barclays\",\"battery\",\"battle\",\"bear\",\"beat\",\"beats\",\"beef\",\"begin\",\"begins\",\"bell\",\"ben\",\"benefits\",\"best\",\"better\",\"beyonce\",\"bid\",\"bieber\",\"big\",\"biggest\",\"billboard\",\"billion\",\"bionic\",\"bird\",\"birth\",\"birthday\",\"black\",\"blackberry\",\"blame\",\"blood\",\"bmw\",\"bnp\",\"book\",\"boost\",\"born\",\"box\",\"boy\",\"brain\",\"breach\",\"breaks\",\"breast\",\"breastfeeding\",\"bring\",\"brings\",\"british\",\"brown\",\"bug\",\"business\",\"buy\",\"buying\",\"buys\",\"california\",\"calls\",\"camera\",\"canada\",\"cancer\",\"candy\",\"capital\",\"captain\",\"car\",\"care\",\"cars\",\"case\",\"cases\",\"cast\",\"cause\",\"cdc\",\"cells\",\"center\",\"central\",\"ceo\",\"chairman\",\"challenge\",\"change\",\"chicken\",\"chief\",\"child\",\"children\",\"china\",\"chinese\",\"chris\",\"cities\",\"city\",\"claims\",\"climate\",\"clooney\",\"close\",\"com\",\"comes\",\"coming\",\"comments\",\"companies\",\"company\",\"concern\",\"concerns\",\"confirmed\",\"confirms\",\"consumer\",\"consumers\",\"continues\",\"control\",\"corporation\",\"costs\",\"country\",\"county\",\"court\",\"cover\",\"crash\",\"create\",\"credit\",\"cure\",\"customers\",\"cut\",\"cuts\",\"cyrus\",\"daily\",\"dancing\",\"data\",\"date\",\"daughter\",\"david\",\"dawn\",\"day\",\"days\",\"dead\",\"deadly\",\"deal\",\"deals\",\"death\",\"deaths\",\"debut\",\"declines\",\"demand\",\"depp\",\"despite\",\"details\",\"device\",\"devices\",\"diabetes\",\"diagnosis\",\"did\",\"didn\",\"dies\",\"diet\",\"dinosaur\",\"director\",\"directv\",\"discovered\",\"disease\",\"display\",\"doctors\",\"does\",\"doesn\",\"dollar\",\"don\",\"dorfman\",\"double\",\"dow\",\"draghi\",\"dragon\",\"drake\",\"drinking\",\"drive\",\"drivers\",\"drone\",\"drop\",\"drops\",\"drug\",\"drugs\",\"e-cigarette\",\"e-cigarettes\",\"early\",\"earnings\",\"earns\",\"earth\",\"ebay\",\"ebola\",\"ecb\",\"economic\",\"economy\",\"edition\",\"electric\",\"electronics\",\"email\",\"emergency\",\"emma\",\"end\",\"energy\",\"episode\",\"euro\",\"europe\",\"european\",\"event\",\"exchange\",\"explains\",\"face\",\"facebook\",\"faces\",\"fall\",\"falls\",\"family\",\"fans\",\"fashion\",\"fast\",\"faster\",\"faulty\",\"fcc\",\"fda\",\"feature\",\"features\",\"fed\",\"federal\",\"feds\",\"festival\",\"fight\",\"film\",\"filming\",\"finale\",\"finally\",\"financial\",\"finds\",\"firm\",\"fit\",\"fix\",\"flight\",\"flying\",\"food\",\"foods\",\"ford\",\"forecast\",\"forgotten\",\"fox\",\"france\",\"fraud\",\"free\",\"fresh\",\"friday\",\"friends\",\"frozen\",\"future\",\"gain\",\"gains\",\"galaxy\",\"game\",\"games\",\"gas\",\"gave\",\"gay\",\"gene\",\"general\",\"george\",\"gets\",\"getting\",\"giant\",\"gilead\",\"girl\",\"gives\",\"glass\",\"global\",\"goes\",\"going\",\"gold\",\"gomez\",\"good\",\"google\",\"got\",\"gov\",\"government\",\"gox\",\"ground\",\"group\",\"grow\",\"growth\",\"guardians\",\"guinea\",\"hacked\",\"hands\",\"happy\",\"hard\",\"having\",\"hbo\",\"head\",\"health\",\"healthy\",\"heart\",\"heartbleed\",\"help\",\"hepatitis\",\"high\",\"higher\",\"history\",\"hit\",\"hits\",\"hiv\",\"hold\",\"hollywood\",\"home\",\"hong\",\"hopes\",\"hospital\",\"hot\",\"house\",\"htc\",\"human\",\"hunger\",\"ibm\",\"ice\",\"illinois\",\"including\",\"increase\",\"india\",\"industry\",\"infected\",\"infections\",\"inflation\",\"insulin\",\"insurance\",\"intel\",\"internet\",\"investigation\",\"investment\",\"investors\",\"ios\",\"ipad\",\"iphone\",\"ipo\",\"irish\",\"island\",\"isn\",\"issues\",\"jackson\",\"jagger\",\"james\",\"japan\",\"jay\",\"jay-z\",\"jenner\",\"jenny\",\"jesus\",\"jet\",\"jimmy\",\"jobless\",\"jobs\",\"john\",\"johnny\",\"johnson\",\"joins\",\"joint\",\"jolie\",\"jones\",\"josh\",\"judge\",\"july\",\"jump\",\"june\",\"just\",\"justin\",\"kanye\",\"kardashian\",\"kate\",\"kerry\",\"key\",\"kids\",\"kills\",\"kim\",\"king\",\"know\",\"kong\",\"korea\",\"landing\",\"later\",\"latest\",\"launch\",\"launches\",\"law\",\"lawsuit\",\"lead\",\"leaked\",\"leave\",\"leaves\",\"let\",\"lets\",\"level\",\"levels\",\"liberia\",\"life\",\"like\",\"likely\",\"lindsay\",\"line\",\"link\",\"linked\",\"links\",\"list\",\"little\",\"live\",\"lives\",\"lohan\",\"london\",\"look\",\"looks\",\"loss\",\"lost\",\"louis\",\"love\",\"low\",\"lower\",\"macbook\",\"mad\",\"major\",\"make\",\"maker\",\"makes\",\"making\",\"malaysia\",\"malaysian\",\"man\",\"mannkind\",\"march\",\"marijuana\",\"mark\",\"market\",\"markets\",\"married\",\"mars\",\"massive\",\"mccarthy\",\"mcdonald\",\"media\",\"medical\",\"medicare\",\"meeting\",\"meets\",\"men\",\"mental\",\"mers\",\"met\",\"meteor\",\"michael\",\"mick\",\"microsoft\",\"miley\",\"million\",\"millions\",\"mini\",\"minister\",\"minutes\",\"misses\",\"missing\",\"mission\",\"mobile\",\"model\",\"mom\",\"monday\",\"money\",\"month\",\"months\",\"moon\",\"morgan\",\"morning\",\"mortgage\",\"mother\",\"motors\",\"movie\",\"mtv\",\"mumps\",\"murray\",\"music\",\"mystery\",\"named\",\"nasa\",\"nasdaq\",\"nations\",\"near\",\"nearly\",\"need\",\"negative\",\"neil\",\"nest\",\"net\",\"netflix\",\"network\",\"new\",\"news\",\"nexus\",\"nick\",\"night\",\"nile\",\"nissan\",\"noah\",\"nokia\",\"north\",\"nsa\",\"number\",\"obama\",\"obamacare\",\"obesity\",\"oculus\",\"offer\",\"offers\",\"office\",\"officials\",\"ohio\",\"oil\",\"old\",\"older\",\"online\",\"open\",\"opening\",\"options\",\"oscar\",\"outbreak\",\"outlook\",\"parents\",\"partners\",\"past\",\"patient\",\"patients\",\"paul\",\"pay\",\"people\",\"percent\",\"pfizer\",\"phone\",\"photo\",\"photos\",\"pictures\",\"pistorius\",\"plan\",\"plane\",\"planet\",\"plans\",\"plant\",\"play\",\"police\",\"polio\",\"poll\",\"pollution\",\"positive\",\"possible\",\"posts\",\"pounds\",\"power\",\"pregnant\",\"premiere\",\"president\",\"pressure\",\"prevent\",\"price\",\"prices\",\"prime\",\"privacy\",\"pro\",\"probe\",\"problems\",\"production\",\"products\",\"profit\",\"project\",\"protein\",\"public\",\"purchase\",\"pushes\",\"quarter\",\"questions\",\"quit\",\"racist\",\"raises\",\"rally\",\"rare\",\"rate\",\"rates\",\"reaches\",\"ready\",\"real\",\"reality\",\"really\",\"recall\",\"recalled\",\"recalls\",\"recap\",\"record\",\"recovery\",\"red\",\"reduce\",\"relay\",\"release\",\"released\",\"releases\",\"remove\",\"report\",\"reported\",\"reportedly\",\"reports\",\"research\",\"researchers\",\"residents\",\"results\",\"retail\",\"return\",\"returns\",\"reveal\",\"revealed\",\"reveals\",\"revenue\",\"review\",\"richard\",\"right\",\"rise\",\"rises\",\"rising\",\"risk\",\"risks\",\"rob\",\"robin\",\"rock\",\"rolling\",\"ronald\",\"rule\",\"rules\",\"ruling\",\"run\",\"running\",\"russia\",\"safe\",\"safety\",\"said\",\"sale\",\"sales\",\"salmonella\",\"samsung\",\"san\",\"saucer\",\"saudi\",\"save\",\"say\",\"says\",\"scandal\",\"scene\",\"school\",\"sciences\",\"scientists\",\"scott\",\"sea\",\"search\",\"season\",\"second\",\"security\",\"seeks\",\"seen\",\"sees\",\"selena\",\"selfie\",\"sell\",\"selling\",\"series\",\"service\",\"services\",\"set\",\"settlement\",\"sex\",\"share\",\"shares\",\"sharknado\",\"shire\",\"shower\",\"shows\",\"sick\",\"signs\",\"singer\",\"skin\",\"sleep\",\"slingshot\",\"slow\",\"small\",\"smartphone\",\"smoking\",\"snapchat\",\"social\",\"solar\",\"son\",\"sony\",\"soon\",\"south\",\"space\",\"spacex\",\"special\",\"specs\",\"spider-man\",\"split\",\"spoilers\",\"spread\",\"spreads\",\"sprint\",\"star\",\"stars\",\"start\",\"starts\",\"state\",\"statement\",\"stem\",\"steps\",\"stock\",\"stocks\",\"stone\",\"stop\",\"store\",\"stores\",\"story\",\"streaming\",\"street\",\"strong\",\"study\",\"subscribers\",\"success\",\"suffer\",\"suicide\",\"summer\",\"supreme\",\"surface\",\"surgery\",\"surprise\",\"survey\",\"switch\",\"t-mobile\",\"tab\",\"tablet\",\"tablets\",\"taco\",\"takes\",\"talk\",\"talks\",\"target\",\"tax\",\"tech\",\"technology\",\"teen\",\"teens\",\"tell\",\"tesla\",\"test\",\"testing\",\"texas\",\"thicke\",\"things\",\"thought\",\"threatens\",\"thrones\",\"tied\",\"tim\",\"time\",\"times\",\"titanfall\",\"today\",\"toll\",\"tonight\",\"tops\",\"tour\",\"toyota\",\"trade\",\"trading\",\"trailer\",\"train\",\"transformers\",\"treat\",\"treatment\",\"trial\",\"turn\",\"twitch\",\"twitter\",\"ukraine\",\"unemployment\",\"unit\",\"unveils\",\"update\",\"urge\",\"urged\",\"use\",\"user\",\"users\",\"using\",\"vaccine\",\"valeant\",\"vehicles\",\"verizon\",\"video\",\"view\",\"vii\",\"virtual\",\"virus\",\"voice\",\"walker\",\"wall\",\"want\",\"wants\",\"war\",\"warner\",\"warns\",\"wars\",\"watch\",\"water\",\"watson\",\"way\",\"wear\",\"web\",\"wedding\",\"week\",\"weekend\",\"west\",\"white\",\"wife\",\"win\",\"windows\",\"wins\",\"winter\",\"wireless\",\"woman\",\"women\",\"won\",\"work\",\"workers\",\"working\",\"works\",\"world\",\"worldwide\",\"worst\",\"worth\",\"wren\",\"wrong\",\"x-men\",\"xbox\",\"yahoo\",\"year\",\"years\",\"yellen\",\"york\",\"young\",\"zuckerberg\"],\"x\":{\"__ndarray__\":\"C8W7GjVAxD8VogjLApWTP62EnVDYLKM/XHX7k7ubpz9C1VoAfwecP858r3UZ3n0/1mcNE+edkz8Qcyc5QFt6PwMLeFK1s7g/8npijTEpwD84xYuhJqx2P3us62SfX4s/hUCjntvtYz+G5i2B28WYP/rIwHfBtLk/2dqrL9sTnD8ixF+PpqWPPwY5hB5MRc4/GzZmecE2iz9Mh4Cnk7TXP2unPRDolHc/XB1cuK/Nlj/eO7MPiYuHP1hyBI9SFYo/oadeaRsEiT8OqaB9fZ3WP1V3D7j0Jnw/Dn9u0+V+1j+dmAc74uuQP5cV26KKX5I/hihLmNDZkD+qEQ3zzry4PynZoN6bDrQ/NsZr+exmfT/vxnZ4IRDqP5eqdIS+AWc/7KPTfH5zfT+KhT5r1fa3P+heMbjFvtY/7KArACBAyD/psJyHPnjxP7FKYFcNFLU/uFO/ntZ4cz+pvYXnWeWRPyuHsD2jUME//VvJpgklqT+u/Y6hWvzTP5468vR9I4U/usMjArWXdD+BK4cmPimAP3PJv5Nheo4/BLA3jOhHgT8aeeVej9mVP3OHFPtudnU/CRSRDRqflD+k3P9dMYt8P6VQrKaiiKM/R3XOfewLrT+8vj3m2lWlP+0WeadEpLQ/aRrlSui2tz86Op+NC9Z5P056Zfo9TcE/MrfyZIyZgD/ygOX+yZGBP3pB+CmcVZw/WDkG5j4sij+u8qFBoJuCP16Pe/l47pI/KSj6PvM6gj9Ob6Uc/7zEP0HPz39FSpo/KFt5ooBJfj94t29ciitzPwAhKCFAe7g/1k81wyfkoD/lfgKU2rGUP43DIcLP7c4/it6OCtOuiT/t0EskuwPUPzzjst5kDZM/tsMwvAoRmj+1B1CBQUvLP1snSP3Kw6A/13nnEfO8tz/yYF4l54GdP6czOgzqlLg/11hKj1yYtj/zYryaWNCbP2h3JLbQFIo/eEBOo0iCwD/itfob/4l6P7sH2rCiLJE/kmxrAkwFhj8X1ER9//6QP0jYc1WUic4/HEkTz5mwtz/2OokWiciBPyCEdkx9fNg/k4rt8cp7zD87TmUsphWDP4489eTfLLU/4ruoe2Fajj+CTf9Xk4R7P7abJvQrepk/UDuAnmWAtj8Sq6OrOzm6P4kp0Yr65po/Pmw4PN0dgT+/kxZ5K/TKP9uVqMHdE3M/WlDfV5Kngz/iO5Xr5Dm+PxTD9FyWEXg/+klUw7yXdz+5kplZw4CFP5sCzpZXFMM/oDUOuK03sD8rrTBU/56nP0/TM9lh78A/awvVaWhmuD9Y4ToqmRCJP45KbiehaIg/M4z4fZ1etD9dqPrbIm7YP/MQ5mc7p3c/7cMrOTFsjT+JRTzebWqDP5aqC1gyIL4/tm/Lbvickz/xXV7WvL6ZP5qY90YGssQ/5yggGUm75z9pCaKBCaWQPwn1dcqwX5E/IjVXoKOs0j96RtHbt/6JP9MvfC0d6IQ/NkPNGFf8dz8XkzjR/WHIPy7czTTKlno/Lbheakk3uD9IwGfA7Wu0P1iLcxvbZ7U/pdXptLPOwz/hnAJgwGaMP1pY8zDB2oI/bND+GVW30D+87JeEc16QP/K6dkIiBIA/RoOXSOd8wz9j5cJEhvrFP/SHM4oRwJA/Vvgsz0Xkyz++Xm6aXe95Px/IlS9Gb48/ksQh/4qJkj9YBvM/qo6WP8mGOOcJdsM/Dg8LUDYzhj8UiomKQi+HP3vEN15rjKo/uhU2h4DHgD9TfGJgS064P6DFl4lBfak/shy+92/WyT+eKKXDHomjP3wbsDaXWro/Fa9CCBk/fT8vtQApHlmHPyq3kpO/en0/QQ+osvt0tT8HU+Es8RR8PwTJBCxTmMk/kCSiWoGYuj9LIxJr4P2HP+E99usvgWg/+gLN5k1hgj/ai5mV6cmQP/u9R8NsicQ/gimyGvA1uD+3OvwSykqhP/wNoUvEPbo/eQC2vwantz9OwPw+GbmUP4Uh5chLmYc/tfGSIocO2z8PvpxKzoe1P9yIQG08KIM/4YDuAWMWgj9afoFbBmCGP2hO2go6I9M/RSTZjgpAlT+4tfF8/q6BP380WqonK5Y/8v44A5ui1D+O2JM5osWEP9VZHX7jS8Y/pP67v1wczD8xpZ5mCmJ8P86IbVlGYLg/tV+0DYdRiz/9kk/OWL9jP5XbRvZLD30/+ELW9JTRzT8Qg2rIzpmSP/O3WJ6zzJE/lV3rbjpwkj/EIyBRsSp7Pxbcu7Y+6JY/fkcgaB4Wmz/XQ5646RKEP/lBdSVeLYw/O6BwjJcJsz8lbfj9ibSZP6VMm82MIIw/lRY+zTEVwz/LvHKIcnfIP/6TZLsXfaE/MkPhl/81jD8+FvOCwrySP0wX3ASybbc/rSvE/E1TiD+W2bqmvSq8PzbGa/nsZn0/rH2k+T4gkj8OjsaxIPG4P23kZiExN7M/zR6nYva0kD9xPDpye1xmPz4uFn61r5M/lzvEu6Twtz8zC0j5L0dqP7xqGppipKc/JQsSHYQcwD8R/V28tyaUP0Nvtoi3DtM/7aVZrwQqxz9teXBt3qaJPwD6gy5cR8U/8UKauumM0D9AkubICbSWP/UHjFSNSpQ/tZCUHYB3yT9Sjw6XAKh0P5/+Ie8tdcQ/+SVUb4OqtT9+ZxRW2ECPPy+n1Klv4Io/RidviDxipT+9zs+Vkn5/P/ll3QvppZM/ZBca1msGkT9XNsexpNyXPw1Jdnr9e2g/cjZorXqakz8OQleNpg2FP8txuZ/7f6g/bFjnl9aptj9rkXgFZt6uP5BlTpyiwqQ/FfurjGhnkD+crktuH9CGPyAx6SjSvpA/+sG94sPfij87u9Qsg5HiP3H1hzAuw5I/8iyvtt4NmT/XumKesRukP3jzDH6Ca48/rS0R277Cgz94DxOiSgK0P5+Nm2QwypA/hJiAUHqykz+z1rvWMvt9P2WGVkjF8I4/rekJRnuAwD+Y4Igum0vHP0fciDoqkM4/l4MPSpzylD+hWAGqQCqVP49lsrWfV3s/dk1p2SR6ej9CN1Z1RbaUP59EOQpUPIw/km1PqT3Pcj8RNkZGmLyhP/1kPCy6Mbc/F8B5Qf6Qtj9k/g2VHsDFP4BPDexgEZo/teVeQmbovT/0WD4+MwDFP5Ts6eP/c5g/t2w/qya/kD+E/y0NcfOWP0iryJvA37M/tpaznYPPxj9Ql2KvgKZ1P68TQbu5G5w/Pa0oPGJ7iD+w1ffwBhd2PyJPwBE+IcY/5UAcQeJaoD/3lqVM0ZG0PzoBzvz3o30/C9mKZurEtj97x5BWlUKCPzq/7N8D05U/ja9kkoRUgz/L4RPpS8WgPyDq0nI+l+A/3NGhCNit0z9akcPO8CjEP6qvXx4ZnL8/xX+mzYvPgD/H0FS42MqKP1XvS9nL73g/F35vIpkGxD81PSNZXt2PP7RCxrv5O9g/JenbpSmFlD+cZJ0YnDV8PwaEJx8mKIM/51oG9RoRiD8ztDJJ4ba0PyJtvRPRRuI/XY5p2T+fqj99ZJmHH7vOP5IPv0wGnnc/bka6IA4GcD+zhWyMg+2FP6UryPKfWIY/l4ingOvg/z/Tl7gubGeFP890xAsS2I4/VDxuQA3rgz8ghaVCz0uHPwcgf7L72rY/YsGf+cV3tD9flanP9zeQP5zYqxl8EqM/3s+FB0LjuD/i5Wp5HGiiP6DzZzTeCYQ/tVHcECw2jj8Oy6Sy20aKPwzz0mNCKHA/ym/+aUrMiz/8grJe5suNP3AsY/7GKLs/OaHNJqPf3D/i31R33Z+5P5N7F3JPHsY/LT+03J6ykj+6T7aDv8LDPxVJDttQ/8M/JbmVREHDwD+f5snTW/KcP+jFTdOHB5U/xC0vS2Fp0z+KBY+7J4y4Pwo2z3Mj/Jk/p7sqcy6Ocz+Bz962+TVyP2L3NG0fqb4/BxXlUZWTgD99GxEbL0y3PyFt3hzxc70/dDbSgzz0tz8lg/ZFj0+JP4OZswNKSbw/7b+qg+3Xoj/AZqb3NMrEP0Eiq7EiN9I/NhRH5xoduT9DynX7KeCvP1mgCsi9r5k/arkEbgnfgD9Vv2azhti7P76gRJIRjXw/X0YtO0WvlD+ypg0XsQSEP7tK/07fKbY/7iYek4QMgD9azRsQ4PeUP/lUGR5GLHI/0d+OxXJZyD89+ueUrkO1P0DeUpC1RHE/sE5OrSXxjz+oFn4whBXLP3bMLxsvYME/P31XglhgzT8ykGD10MOIP8oa9IqXsng/ysMqR+TixD/JDgfAP26RP+1sN62jPZY/jjn2B2EgjT9ELmWyh9JcPzQiRb7eSI0/KsiIGtbfkD80ZKrpl1y2P+WloLOMwIk/Z3jVInk2gD+X9xpUNVm0P9nOJE9LxTQ/QFEtnTgbhT9zx5wji/ZrP+n/mxlmA4g/3KzxZ5ZJxT8jL0/YOkp/P/2ST85Yv2M/+QS1mLXjgj+7UtiSl2G4Pzuex+aHnII/lyUZNnsCaj92sXI/YZK0PwKvsa7ceMQ/g+XO/Vb5jD+euYiBehyTP8rJ8+AE46c/j5U4iKIAmD9wAK8Hib3RP/qQH5gw4ZY/zerJoVFlzz8/1XqzWvnWP6q/q3VIKk8/y5FTKzOveT/8ha5MJ1CXPxYKVsqRXJ4/dQNqSpXVlz+fONljpz3SP7ErtvYKsog/7LmMmThZsT+EBUb0L32AP98UC8wI9Xs/EvELnaNVgz/IbYqfag6bP/H94K8Y1Jg/qbJlIysAxz/+yyQPaqDAPzoZ+1BJYG4/kciQkA7HmT/wLrym84iWP90qwb6dxLY/nZLc9m74gT84t4QQuO91P76Tfs05LJc/zc+XMvi5kT/RE+xbEVK3PzEVN+fC2Zc/FGalJr0IgD+MWZ9Nd4+yP4/DucAGEL4/+Z/eSYfwpT8zdQWvfYKQPwAYPtyp6LQ/dU0NQfjMtz8thnPrjA7APx3LPH492a8/iJPleHgCpD/qSr0fBXGHPx0Te2UEccA/UAg6Ovi7uT/ievKsSrOGP7QuEyfkJHI/gxAvNh65tj/cHBjsEBuoPzNyC7HmdXI/LDDYWfKPUD9R0w34QuKyP78j7aIpO7g/RTODyZN9uT+gU9YS+IHAP5hQk53ffKI/0duFthixuT+hIJ7fOwq7P9TCkZIiCZ0/2Qk1oXFIsz+F8Mk5lMS/PwniCwhVDZw/EFW8kqXYuj8JvbDO21B2P0/cAoJjt6s/8pdreWfejD+hjpjX16ykPxa1EFznWZQ//TV5i2UomT8w6gfo45vAP+fps6Y8joU/x2LFdJqJoz/7bn9iiZqYPzJ/CBcn/34/PdwBrP2iez/HC6d9w5+3P27U1qV49KQ/pd5xpZe4kj9ch9vaVcqEPyy5K8hmmnw/RGeyig3+sz+dAVFWK5PKP+y2xW763I0/br3BApJk5z8BfdhQw3OSP/w/eLVgGLQ//jGD3J0ckT+NXFZmr8hmP3lhUKz9/NI/eQC2vwantz8s+L5YA9C6P9UOGxMFGsY/uPE+0/Y+vD8UKKpmmPh9P/xUzLK/EIg/t9InO5jPez/l8O8uyV6ZP/p4DnSBsMM/0HETeAXrsz92T//4IxxzP3hWB5mArZs/r1Bc9/3xkD+0abtiTNuFP4APRuVIXZY/EUrwImS8lT/8yutsSa6dP5FFf8NoEGc/uT6n/rtBtD89hrP/kdiFP80njFkp9YA/ABVbdnV/gj/y+Vjgz32/P7/KE6blhJI/7g6x5V0hmj8NK1QibgKGP/xgseNLEtk/Ej5Ccmf7kj8jsCIkFbBwP99dR+g7br4/xShStG9KmD/QOksJNkuHP/r94sX/Io4/sPSl4ICmhD+AacxufoaXP1LHxns8jpo/lJfaTh/jtD+2QCiztPCpP4JkJoZ2cng/WmU6AJtgyD/Nrmj8F8WOP5NS/A8A9ylAVjgQVxqRwj/0zpUBmgXEP0uxQbGkbVk/KZ81BwuaiT+ktSCS8OiXP1H8We/groo/sQXmsi7sZD92AOppz9KZPw/kXzM6kX8/wAhJo+kqmT953VUcFMSIPxJYhtn0S8c/JmH2JbqQij811dAB3kGUPz04NRCJGZE/gaKjd6z3pj/WmUCBDCShPy/qmpV/EbA/792qKZqnyT846SrhrWS2P9owjsa9ZLY/MtFY5XX+uD+XRw2hPmDDP0RVdPY04Zo/iicsQ9grtz+G2f0xSR6BP9Z73Mti+7U/E4livI+Iez9ajr/Pw3G0P4T8StZyCIg/MlrgOc+XfD9/YVmpa42jPxtn3KFdR4A/B6IdNJQklj9AZX0qpwm5P/UMsF0kFJE/jSXRH3g2yj8nwvx1JCrEP4D7bcNqWMU/EU3C3FmetT/tjCMeNZ++Pz8Qybg7mI4/MfNyrrJBgT9lmS3xHQiSP81C8CeD37I/XdGNOewNtT+oCWWagPSRP82Vo6HYsM8/m2M1xea4uz+jkSaOhLi6P0Eo1/D/6LU/hxeri/iWcz9S4TyHlJabPwhHT4OOt34/5ByDnzYIoD9jhJ3kLNmWPyOwUaCiPdA/RSrAoV+7kT9r53if+8qGP7LuCyIRDb4/O9Cas/Jubz8i4X2iLIu1P6dpSHDHOYo/6ctpYpU5hz/+MvGc10iaP7TSlzvw0s4/T2xSpKWxyz+58wXqum6YP/3J/3B2Jb8/qIKqi1hwoD9JTRAAnWCMP3mdRicS2Zc/0i7TLGVeuD95gcvoyCmJP0X2hQ+aQas/dxToKcEMpT+Hat+YdlvEPw/MNkwPwY8/EH4NCenTjz+nsmeQxXmbP3UR0F3xCJ4/UOLc/ihekz8kr5H7I8WSPzPRU2DzF7U/BUKZgokUxj8FNjiB1UF8P5GBpvjUiYY/54xbSUd3yz8W+dP9J5maP+dCldL+FpQ/i633Wspxgz+s7iXgZ/q5P4OH2ojYrcY/M1oP5rZylT+FlTcsWwq9P0jc0Fqee7c/yviRmmqukz/ZD5WLL2WTP5xyh7GkE6A/+ACbrSVGfj/NpqSmiZOZP+GiY5hTv3k/+PtvWqI1dD9A3DflCQjWP6DXl5uz/LQ/0A+5dUXlyD/lItqfJ+aiPyofwYPDiuA/BHWyvVpIkz9XvM9iYHeTP/abok5Hb90/JMjhwVowlj/w9hHCK1+TP92y3UrdjIM/WamyMwpoxT/ZjGE2gOe1PzXwPz7ShLQ/PTn1WnJXiT8ddgqLOBrFP3dBr3Rw47U/0cu0CTOXwT8p9w5a/deDP0ddrJdObNc/cfJJ/2ZYsj+GasipheaSPxB4pVho4MQ/qk5pippvoj+OXdHYsqWRPyuZNSfFCdM/ezcn/6kWlz+a+roF2IKTP+B+6BMJ7rU/hcTGS01ytD8u3ZHNmBp+P7gZD3qyXcQ/L6Y0N5Lswj+S+HhE1PuWP3+beQmqRY8/4mcUueXEoT8oTBpkNfyUP4+lgP8Gj5M/jl2EHBAeuj+zw+tCEne2P0CWWnJXWbc/L2/6axj7rT88aIMFuPHGP8D1k+nlzrQ/gShICula3z/U/QxnVqGVPzGimQ9265A/z011B5z72j8pRDyTO6yeP+BX2gIW3K8/jh4D/RRP6j9GN/MzX+myPwoRxOd8Y7Q/pbVEhB7HtT+qzL92xYSCPyXMrtV/HLc/LfLPV080jT+5Lb/Pc/uCP5c5xFqDvrw/jfFcUnZC1j8oFgA0s6ykP8seBG95wcU/+wLuDqGAgD/4XXCTJ8qaP5OZYDcAC5A/DpYDgEwLhj8F4InYPVqMP87J6xuVSIU/IOXVElkmhj9IvMwHGU/NPxIMyPQ3d7E/s43JFDXYtD+DQ+YFRyHEP5ft6OQibaE/dZypavPwmz+h5/tjeN61P5IlmtY6+MA/oYny24K8dj9AaCywyZDEPxeSwJYE3LM/aTC94sP/0z9yeYHQiQORPz/3N6k/OLg/uKYXCT3hdz8HpMtBiROEP5pZ6aYSHHI/e5g+pC5GmD+044YZ7KObP1ofZqh+bIg/91XelcDLyT8sw5YloJaEP3YrSxhym4w/29UnbozjoD8IMnVeWIG0P+nQaZ5KiX0/OLKNTBGZiz/Y8UdfJ7iyP75JsdjFgLU/OAscAONXuD+deaVCfHSJP094eJDCkbU/AELBw1i2qD+1tPIv+TqAP81zSIhW43M/QyVgnEJJkT+jv5i+kPuuPzIALF4JRaY/DPxqLahAmz+jbO+9D666PzAiigNwv4o/rve0GskduT/HyCSgHWOuPxDTvPiWTsk/gl2EZV9pYT9xdpd5VuuUP1MOBmQ3+bo/M69+coPlwD+eCQa1EmmqP1FUl6iDK3c/ilEqJpq4gT/47YAR6Ca9P48KT/itUXY/cQmkZdbPtz/qqQyzzBitP8xqlGVc0aM/y7h5mozblD/fqZQ8jaDkP3dwqQIMm7U/CAFYKv7mtD9ZtE5CD/yMPzHnIfIGfbc/XS2xHltSkT8ZIxNWfeGRP4KOfPciZKc/WiXLxZWhiT99W0/15nSMPwhdGYM2t3I/11WRcZigfz8NPdklMKuPP37zGS9lY6E/kQXVxFu6pT+1HOA3zIy4Pzc25uji1c0/WuYn6Cu6wT9vz7TnZ3qWP71V/PI7pqE/CAcjymdeuT/u77NHIBO7PzZv5JCAA7o/SlvC+XJ+0T/UiOUlb+CHP7D2a4e2ao0/eoZ2ce/mtD8zqhzfga+dP8+HKD82QtI//DF0KzbxuD+9DPx4E1CJP2II9a4gzLU/E8snhXy6qz/NPsdjM4a3P0+jt3H19m0/H2ZVUY7wwj8WsDhohT+5P3Awuy4VWLg/h8jUIcI+xT/3ht/1WknFP7kps2KdvMQ/IJrFAF0vyT9b+3GP5X6cPzP7NJdk+7M/eIuxMpx7uj9A5D2ML7nGPw5+zxkvw4Y/NmbSEIpNkj9aTH9hz5O3PzbCpXRtc9Y/UsUp4VfchD+iIlVTJgeFP7Dzu/Vz+IQ/Ed/ZjpcLoT9cXbPbYqWiP+LGzohVA3c/mD9buvDcpD9GvEAD4sbKP33gGl4kJYU/ibeRtW6XgD9DJv3MUKB+P5VA77fGPcQ/P7+5vfSoyT/nB9ZwigGOP/HFin5Z6pE/oOmvmjtIoT9TI+I7H6C8P9nI9dn108g/+XjKi/6Aoz/PIEZ83LDNP6GnXmkbBIk/n2sizQB8hD/A3KofETKVP+DML/vWR9k/PEROK7PNoD9x+3f609CBP+zT+MccOrQ/6nvJZBAo1D92j9kzvUuTP8OgPIUzfow/+QBmLzChdT9fOyM5H6aRPyJa9Bk1Woo/7p28Dz6VlT8EQxF72IqCP4pJ/7ce8o8/E5eAlvIWjj/2cFsWE/DVP5TKqETjLmk//GH7F8CJhT+Jv30x6GGSP7KsLKMm5sQ/Pk4jE9YhjT/fqkz+QOvIP6KPPpQ7NKk/Ym7igqOrlT9aK1vxiA3LP50KnaoDsLU/BjuFlklNZD/Go0h+fZaOP42PUCTPUqE/wEHUladggj9oZrdk9N1xP+5dQa/CL3I/e1bqr7yrhD9la4CvGOq+P1gCtuM40pk/OFE8w6BMpD/L6QNhrbWSP1j0Z0Yyvqg/FlagFN5XXT/bP1+CH+bEP6XdQmkU6ZY/7I7aSFcMkT+lrIhIFru1P2CISpufUIo/5ZMBIzy5gT/6MoaQEVt0P6nuzWIugcY/K0fzkIvttD9F8HtvPp7QP/WR63Mr8Ms/k2G2OeEfjD+jUqkJKJryP1euXPUELLk/f97a+CBYjj8=\",\"dtype\":\"float64\",\"shape\":[907]},\"y\":{\"__ndarray__\":\"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\",\"dtype\":\"float64\",\"shape\":[907]}},\"selected\":{\"id\":\"1167\",\"type\":\"Selection\"},\"selection_policy\":{\"id\":\"1166\",\"type\":\"UnionRenderers\"}},\"id\":\"1109\",\"type\":\"ColumnDataSource\"},{\"attributes\":{\"callback\":null},\"id\":\"1113\",\"type\":\"DataRange1d\"},{\"attributes\":{\"formatter\":{\"id\":\"1164\",\"type\":\"BasicTickFormatter\"},\"plot\":{\"id\":\"1112\",\"subtype\":\"Figure\",\"type\":\"Plot\"},\"ticker\":{\"id\":\"1122\",\"type\":\"BasicTicker\"}},\"id\":\"1121\",\"type\":\"LinearAxis\"},{\"attributes\":{\"plot\":null,\"text\":\"\"},\"id\":\"1160\",\"type\":\"Title\"},{\"attributes\":{},\"id\":\"1122\",\"type\":\"BasicTicker\"},{\"attributes\":{\"source\":{\"id\":\"1109\",\"type\":\"ColumnDataSource\"}},\"id\":\"1150\",\"type\":\"CDSView\"},{\"attributes\":{\"active_drag\":\"auto\",\"active_inspect\":\"auto\",\"active_multi\":null,\"active_scroll\":\"auto\",\"active_tap\":\"auto\",\"tools\":[{\"id\":\"1131\",\"type\":\"PanTool\"},{\"id\":\"1132\",\"type\":\"WheelZoomTool\"},{\"id\":\"1133\",\"type\":\"BoxZoomTool\"},{\"id\":\"1134\",\"type\":\"SaveTool\"},{\"id\":\"1135\",\"type\":\"ResetTool\"},{\"id\":\"1136\",\"type\":\"HelpTool\"}]},\"id\":\"1137\",\"type\":\"Toolbar\"},{\"attributes\":{\"formatter\":{\"id\":\"1162\",\"type\":\"BasicTickFormatter\"},\"plot\":{\"id\":\"1112\",\"subtype\":\"Figure\",\"type\":\"Plot\"},\"ticker\":{\"id\":\"1127\",\"type\":\"BasicTicker\"}},\"id\":\"1126\",\"type\":\"LinearAxis\"},{\"attributes\":{\"plot\":{\"id\":\"1112\",\"subtype\":\"Figure\",\"type\":\"Plot\"},\"ticker\":{\"id\":\"1122\",\"type\":\"BasicTicker\"}},\"id\":\"1125\",\"type\":\"Grid\"},{\"attributes\":{\"bottom_units\":\"screen\",\"fill_alpha\":{\"value\":0.5},\"fill_color\":{\"value\":\"lightgrey\"},\"left_units\":\"screen\",\"level\":\"overlay\",\"line_alpha\":{\"value\":1.0},\"line_color\":{\"value\":\"black\"},\"line_dash\":[4,4],\"line_width\":{\"value\":2},\"plot\":null,\"render_mode\":\"css\",\"right_units\":\"screen\",\"top_units\":\"screen\"},\"id\":\"1139\",\"type\":\"BoxAnnotation\"},{\"attributes\":{},\"id\":\"1127\",\"type\":\"BasicTicker\"},{\"attributes\":{},\"id\":\"1134\",\"type\":\"SaveTool\"},{\"attributes\":{\"dimension\":1,\"plot\":{\"id\":\"1112\",\"subtype\":\"Figure\",\"type\":\"Plot\"},\"ticker\":{\"id\":\"1127\",\"type\":\"BasicTicker\"}},\"id\":\"1130\",\"type\":\"Grid\"},{\"attributes\":{},\"id\":\"1135\",\"type\":\"ResetTool\"},{\"attributes\":{\"data_source\":{\"id\":\"1109\",\"type\":\"ColumnDataSource\"},\"glyph\":{\"id\":\"1147\",\"type\":\"Circle\"},\"hover_glyph\":null,\"muted_glyph\":null,\"nonselection_glyph\":{\"id\":\"1148\",\"type\":\"Circle\"},\"selection_glyph\":null,\"view\":{\"id\":\"1150\",\"type\":\"CDSView\"}},\"id\":\"1149\",\"type\":\"GlyphRenderer\"},{\"attributes\":{\"fill_alpha\":{\"value\":0.8},\"fill_color\":{\"value\":\"#1f77b4\"},\"size\":{\"units\":\"screen\",\"value\":12},\"x\":{\"field\":\"x\"},\"y\":{\"field\":\"y\"}},\"id\":\"1147\",\"type\":\"Circle\"}],\"root_ids\":[\"1112\"]},\"title\":\"Bokeh Application\",\"version\":\"1.0.4\"}};\n",
       "  var render_items = [{\"docid\":\"99995a80-177f-4767-91a0-263f34c4b402\",\"notebook_comms_target\":\"1169\",\"roots\":{\"1112\":\"6e358d88-f46a-453a-b8a9-6996a03a6f8e\"}}];\n",
       "  root.Bokeh.embed.embed_items_notebook(docs_json, render_items);\n",
       "\n",
       "  }\n",
       "  if (root.Bokeh !== undefined) {\n",
       "    embed_document(root);\n",
       "  } else {\n",
       "    var attempts = 0;\n",
       "    var timer = setInterval(function(root) {\n",
       "      if (root.Bokeh !== undefined) {\n",
       "        embed_document(root);\n",
       "        clearInterval(timer);\n",
       "      }\n",
       "      attempts++;\n",
       "      if (attempts > 100) {\n",
       "        console.log(\"Bokeh: ERROR: Unable to run BokehJS code because BokehJS library is missing\");\n",
       "        clearInterval(timer);\n",
       "      }\n",
       "    }, 10, root)\n",
       "  }\n",
       "})(window);"
      ],
      "application/vnd.bokehjs_exec.v0+json": ""
     },
     "metadata": {
      "application/vnd.bokehjs_exec.v0+json": {
       "id": "1112"
      }
     },
     "output_type": "display_data"
    },
    {
     "data": {
      "text/html": [
       "<p><code>&lt;Bokeh Notebook handle for <strong>In[19]</strong>&gt;</code></p>"
      ],
      "text/plain": [
       "<bokeh.io.notebook.CommsHandle at 0x18401612978>"
      ]
     },
     "execution_count": 19,
     "metadata": {},
     "output_type": "execute_result"
    }
   ],
   "source": [
    "svd = TruncatedSVD(n_components=100)\n",
    "words_2d = svd.fit_transform(data_vectorized.T)\n",
    " \n",
    "df = pd.DataFrame(columns=['x', 'y', 'word']) # We don't have to create new word vector. It comes from what we already have.\n",
    "df['x'], df['y'], df['word'] = words_2d[:,0], words_2d[:,1], vectorizer.get_feature_names()\n",
    " \n",
    "source = ColumnDataSource(ColumnDataSource.from_df(df))\n",
    "labels = LabelSet(x=\"x\", y=\"y\", text=\"word\", y_offset=8,\n",
    "                  text_font_size=\"8pt\", text_color=\"#555555\",\n",
    "                  source=source, text_align='center')\n",
    " \n",
    "plot = figure(plot_width=600, plot_height=600)\n",
    "plot.circle(\"x\", \"y\", size=12, source=source, line_color=\"black\", fill_alpha=0.8)\n",
    "plot.add_layout(labels)\n",
    "show(plot, notebook_handle=True)"
   ]
  },
  {
   "cell_type": "markdown",
   "metadata": {},
   "source": [
    "However, LSI has one major weakness – ambiguity. For example, how could a system determine if you are talking about Microsoft office, or the office in which you work. This is where LDA comes in, lets look at that."
   ]
  },
  {
   "cell_type": "markdown",
   "metadata": {},
   "source": [
    "## LDA\n",
    "\n",
    "\n",
    "Is a generative statistical model that allows sets of observations to be explained by unobserved groups that explain why some parts of the data are similar. For example, if observations are words collected into documents, it posits that each document is a mixture of a small number of topics and that each word's presence is attributable to one of the document's topics. Because the structure is hidden (also known as latent), this method seeks to infer the topic structure given the known words and documents."
   ]
  },
  {
   "cell_type": "markdown",
   "metadata": {},
   "source": [
    "- Decide on the number of words N the document will have.\n",
    "- Choose a topic mixture for the document (according to a Dirichlet probability distribution over a fixed set of K topics).\n",
    "- Generate each word in the document by:\n",
    "    - First picking a topic.\n",
    "    - Then using the topic to generate the word itself (according to the topic’s multinomial distribution).\n",
    "    - Assuming this generative model for a collection of documents, LDA then tries to backtrack from the documents to find a set of topics that are likely to have generated the collection."
   ]
  },
  {
   "cell_type": "markdown",
   "metadata": {},
   "source": [
    "Convert to list so we can do some pre-processing"
   ]
  },
  {
   "cell_type": "code",
   "execution_count": 33,
   "metadata": {},
   "outputs": [
    {
     "name": "stdout",
     "output_type": "stream",
     "text": [
      "['Poll: Target shoppers mostly stick with chain after data breach']\n"
     ]
    }
   ],
   "source": [
    "# Convert to list\n",
    "df = data.TITLE.values.tolist() # We have a column for title, so we convert that column into a list\n",
    "\n",
    "df = [re.sub('\\S*@\\S*\\s?', '', sent) for sent in df]\n",
    "\n",
    "# Remove new line characters\n",
    "df = [re.sub('\\s+', ' ', sent) for sent in df]\n",
    "\n",
    "# Remove distracting single quotes\n",
    "df = [re.sub(\"\\'\", \"\", sent) for sent in df]\n",
    "\n",
    "pprint(df[:1])"
   ]
  },
  {
   "cell_type": "code",
   "execution_count": 34,
   "metadata": {},
   "outputs": [],
   "source": [
    "df = [re.sub(\"-\", \" \", sent) for sent in df]\n",
    "df = [re.sub(\":\", \"\", sent) for sent in df] # Get rid of those specific punctuations, which are in here a lot. "
   ]
  },
  {
   "cell_type": "markdown",
   "metadata": {},
   "source": [
    "All punctuations need to be removed, so lets write a function for that and we'll use the gensim package for that. deacc=TRUE does that"
   ]
  },
  {
   "cell_type": "code",
   "execution_count": 35,
   "metadata": {},
   "outputs": [],
   "source": [
    "def sent_to_words(sentences):\n",
    "    for sentence in sentences:\n",
    "        yield(gensim.utils.simple_preprocess(str(sentence), deacc=True))\n",
    "\n",
    "df_words = list(sent_to_words(df))"
   ]
  },
  {
   "cell_type": "markdown",
   "metadata": {},
   "source": [
    "Bigrams are two words frequently occurring together in the document. Trigrams are 3 words frequently occurring. Gensim's Phrases method helps us with that. (THIS IS BIG HELPS WITH THE GOOD NOT GOOD ISSUE)"
   ]
  },
  {
   "cell_type": "code",
   "execution_count": 36,
   "metadata": {},
   "outputs": [],
   "source": [
    "# Build the bigram and trigram models\n",
    "\n",
    "bigram = gensim.models.Phrases(df_words, min_count=5, threshold=100) # higher threshold fewer phrases.\n",
    "trigram = gensim.models.Phrases(bigram[df_words], threshold=100)  \n",
    "\n",
    "# Faster way to get a sentence clubbed as a trigram/bigram\n",
    "\n",
    "bigram_mod = gensim.models.phrases.Phraser(bigram)\n",
    "trigram_mod = gensim.models.phrases.Phraser(trigram)"
   ]
  },
  {
   "cell_type": "markdown",
   "metadata": {},
   "source": [
    "We need to apply the bigrams, trigrams and lemmatize the set of documents we are working with."
   ]
  },
  {
   "cell_type": "code",
   "execution_count": 37,
   "metadata": {},
   "outputs": [],
   "source": [
    "def remove_stopwords(texts):\n",
    "    return [[word for word in simple_preprocess(str(doc)) if word not in stop_words] for doc in texts] # Note brackets for double \n",
    "# nesting (word in doc in texts)\n",
    "\n",
    "def make_bigrams(texts):\n",
    "    return [bigram_mod[doc] for doc in texts] # Note we do this for doc not word level\n",
    "\n",
    "def make_trigrams(texts):\n",
    "    return [trigram_mod[bigram_mod[doc]] for doc in texts]\n",
    "\n",
    "def lemmatization(texts, allowed_postags=['NOUN', 'ADJ', 'VERB', 'ADV']):\n",
    "    texts_out = []\n",
    "    for sent in texts:\n",
    "        doc = nlp(\" \".join(sent)) \n",
    "        texts_out.append([token.lemma_ for token in doc if token.pos_ in allowed_postags]) # Note for doc not word\n",
    "    return texts_out"
   ]
  },
  {
   "cell_type": "markdown",
   "metadata": {},
   "source": [
    "Applying the custom functions to our dataset"
   ]
  },
  {
   "cell_type": "code",
   "execution_count": 38,
   "metadata": {},
   "outputs": [],
   "source": [
    "# Remove Stop Words\n",
    "\n",
    "data_words_nostops = remove_stopwords(df_words)\n",
    "\n",
    "# Form Bigrams\n",
    "\n",
    "data_words_bigrams = make_bigrams(data_words_nostops)\n",
    "\n",
    "nlp = spacy.load('en', disable=['parser', 'ner'])\n",
    "\n",
    "data_lemmatized = lemmatization(data_words_bigrams, allowed_postags=['NOUN', 'ADJ', 'VERB', 'ADV'])"
   ]
  },
  {
   "cell_type": "markdown",
   "metadata": {},
   "source": [
    "As we saw in the definition above, converting our document set into a document-term matrix"
   ]
  },
  {
   "cell_type": "code",
   "execution_count": 39,
   "metadata": {},
   "outputs": [],
   "source": [
    "# Create Dictionary\n",
    "id2word = corpora.Dictionary(data_lemmatized)\n",
    "\n",
    "# Create Corpus\n",
    "texts = data_lemmatized\n",
    "\n",
    "# Term Document Frequency\n",
    "corpus = [id2word.doc2bow(text) for text in texts] # Bag of Words"
   ]
  },
  {
   "cell_type": "markdown",
   "metadata": {},
   "source": [
    "Readable format of corpus (term-frequency)"
   ]
  },
  {
   "cell_type": "code",
   "execution_count": 42,
   "metadata": {},
   "outputs": [
    {
     "data": {
      "text/plain": [
       "[[('profit', 1),\n",
       "  ('crumb', 1),\n",
       "  ('investing', 1),\n",
       "  ('lemoni', 1),\n",
       "  ('marcus', 1),\n",
       "  ('star', 1)]]"
      ]
     },
     "execution_count": 42,
     "metadata": {},
     "output_type": "execute_result"
    }
   ],
   "source": [
    "[[(id2word[id], freq) for id, freq in cp] for cp in corpus[11:12]]"
   ]
  },
  {
   "cell_type": "markdown",
   "metadata": {},
   "source": [
    "Building the LDA model"
   ]
  },
  {
   "cell_type": "code",
   "execution_count": 43,
   "metadata": {},
   "outputs": [],
   "source": [
    "lda_model = gensim.models.ldamodel.LdaModel(corpus=corpus,\n",
    "                                           id2word=id2word,\n",
    "                                           num_topics=5, \n",
    "                                           random_state=100,\n",
    "                                           update_every=1,\n",
    "                                           chunksize=100,\n",
    "                                           passes=10,\n",
    "                                           alpha='auto',\n",
    "                                           per_word_topics=True)\n",
    "# Note the need for a corpus and dictionary for LDA model "
   ]
  },
  {
   "cell_type": "markdown",
   "metadata": {},
   "source": [
    "Now that the model is built, lets print the Keyword in the 10 topics"
   ]
  },
  {
   "cell_type": "code",
   "execution_count": 44,
   "metadata": {},
   "outputs": [
    {
     "name": "stdout",
     "output_type": "stream",
     "text": [
      "[(0,\n",
      "  '0.024*\"say\" + 0.014*\"spread\" + 0.014*\"fda\" + 0.012*\"people\" + 0.010*\"help\" '\n",
      "  '+ 0.010*\"make\" + 0.009*\"county\" + 0.008*\"low\" + 0.008*\"ebola_outbreak\" + '\n",
      "  '0.008*\"treatment\"'),\n",
      " (1,\n",
      "  '0.030*\"study\" + 0.021*\"heart\" + 0.020*\"virus\" + 0.014*\"not\" + '\n",
      "  '0.013*\"recall\" + 0.012*\"age\" + 0.010*\"cigarette\" + 0.009*\"reveal\" + '\n",
      "  '0.009*\"do\" + 0.009*\"high\"'),\n",
      " (2,\n",
      "  '0.033*\"health\" + 0.023*\"mer\" + 0.022*\"cancer\" + 0.017*\"drug\" + 0.016*\"link\" '\n",
      "  '+ 0.010*\"kid\" + 0.009*\"life\" + 0.009*\"disease\" + 0.009*\"drink\" + '\n",
      "  '0.008*\"autism\"'),\n",
      " (3,\n",
      "  '0.027*\"report\" + 0.013*\"blood\" + 0.011*\"hospital\" + 0.011*\"patient\" + '\n",
      "  '0.008*\"old\" + 0.008*\"researcher\" + 0.008*\"urge\" + 0.007*\"bear\" + '\n",
      "  '0.007*\"scientist\" + 0.007*\"guinea\"'),\n",
      " (4,\n",
      "  '0.036*\"new\" + 0.024*\"risk\" + 0.018*\"death\" + 0.018*\"case\" + 0.013*\"woman\" + '\n",
      "  '0.013*\"year\" + 0.010*\"alzheimer\" + 0.010*\"rate\" + 0.008*\"rise\" + '\n",
      "  '0.008*\"official\"')]\n"
     ]
    }
   ],
   "source": [
    "pprint(lda_model.print_topics())\n",
    "doc_lda = lda_model[corpus]"
   ]
  },
  {
   "cell_type": "markdown",
   "metadata": {},
   "source": [
    "#### Right, now that the LDA model is built, there has to be a metric to evaluate how good the model is. Lets compute that to check how good it is.¶\n",
    "There are 2 such metrics.\n",
    "- 1) Perplexity - Is a statistical measure of how well a probability model predicts a sample. As applied to LDA, for a given value of k, you estimate the LDA model. Then given the theoretical word distributions represented by the topics, compare that to the actual topic mixtures, or distribution of words in your documents. - Lower the better.\n",
    "- 2) Coherence Score - Is defined as the average / median of the pairwise word-similarity scores of the words in the topic - Higher the better."
   ]
  },
  {
   "cell_type": "code",
   "execution_count": 45,
   "metadata": {},
   "outputs": [
    {
     "name": "stdout",
     "output_type": "stream",
     "text": [
      "\n",
      "Perplexity:  -9.288459914450256\n",
      "\n",
      "Coherence Score:  0.6598645875876011\n"
     ]
    }
   ],
   "source": [
    "# Compute Perplexity\n",
    "\n",
    "print('\\nPerplexity: ', lda_model.log_perplexity(corpus)) \n",
    "\n",
    "# Compute Coherence Score\n",
    "\n",
    "coherence_model_lda = CoherenceModel(model=lda_model, texts=data_lemmatized, dictionary=id2word, coherence='c_v')\n",
    "coherence_lda = coherence_model_lda.get_coherence()\n",
    "print('\\nCoherence Score: ', coherence_lda)\n",
    "\n",
    "# Perplexity makes it look good but I'm not sure what lower bound is. Assuming 0-1, coherence looks only OK. "
   ]
  },
  {
   "cell_type": "markdown",
   "metadata": {},
   "source": [
    "From the model we created, lets look at the most salient terms under each topic that contributes to it the most"
   ]
  },
  {
   "cell_type": "markdown",
   "metadata": {},
   "source": [
    "Now that we saw the coherence value for 5 topics, lets create a function to get the coherence values for the count of topics < 5"
   ]
  },
  {
   "cell_type": "code",
   "execution_count": 46,
   "metadata": {},
   "outputs": [],
   "source": [
    "def compute_coherence_values(dictionary, corpus, texts, limit, start=2, step=3):\n",
    "    coherence_values = []\n",
    "    model_list = [] # We lay out what will go in our X and Y here\n",
    "    for num_topics in range(start, limit, step):\n",
    "        model = LdaModel(corpus=corpus, num_topics=num_topics, id2word=id2word)\n",
    "        model_list.append(model)\n",
    "        coherencemodel = CoherenceModel(model=model, texts=texts, dictionary=dictionary, coherence='c_v')\n",
    "        coherence_values.append(coherencemodel.get_coherence())\n",
    "\n",
    "    return model_list, coherence_values"
   ]
  },
  {
   "cell_type": "code",
   "execution_count": 47,
   "metadata": {},
   "outputs": [],
   "source": [
    "model_list, coherence_values = compute_coherence_values(dictionary=id2word, corpus=corpus, texts=data_lemmatized, start=1, limit=6, step=1)\n",
    "# So when something outputs two things, can structure it like this to capture the objects"
   ]
  },
  {
   "cell_type": "code",
   "execution_count": 48,
   "metadata": {},
   "outputs": [
    {
     "data": {
      "image/png": "[encoded data removed]",
      "text/plain": [
       "<Figure size 864x864 with 1 Axes>"
      ]
     },
     "metadata": {
      "needs_background": "light"
     },
     "output_type": "display_data"
    }
   ],
   "source": [
    "limit=6; start=1; step=1;\n",
    "x = range(start, limit, step)\n",
    "plt.figure(figsize=(12,12))\n",
    "plt.plot(x, coherence_values)\n",
    "plt.xlabel(\"Num Topics\")\n",
    "plt.ylabel(\"Coherence score\")\n",
    "plt.legend((\"coherence_values\"), loc='best')\n",
    "plt.show()\n",
    "\n",
    "# So we want high coherence, so 4 (what we used) looks best"
   ]
  },
  {
   "cell_type": "code",
   "execution_count": 49,
   "metadata": {},
   "outputs": [
    {
     "name": "stdout",
     "output_type": "stream",
     "text": [
      "Num Topics = 1  has Coherence Value of 0.599\n",
      "Num Topics = 2  has Coherence Value of 0.6129\n",
      "Num Topics = 3  has Coherence Value of 0.5908\n",
      "Num Topics = 4  has Coherence Value of 0.6202\n",
      "Num Topics = 5  has Coherence Value of 0.5838\n"
     ]
    }
   ],
   "source": [
    "# Get the actual values\n",
    "for m, cv in zip(x, coherence_values):\n",
    "    print(\"Num Topics =\", m, \" has Coherence Value of\", round(cv, 4))"
   ]
  },
  {
   "cell_type": "code",
   "execution_count": 50,
   "metadata": {},
   "outputs": [
    {
     "name": "stdout",
     "output_type": "stream",
     "text": [
      "[(0,\n",
      "  '0.017*\"health\" + 0.012*\"cancer\" + 0.011*\"risk\" + 0.010*\"new\" + 0.007*\"say\" '\n",
      "  '+ 0.007*\"woman\" + 0.007*\"patient\" + 0.006*\"blood\" + 0.006*\"cigarette\" + '\n",
      "  '0.005*\"recall\"'),\n",
      " (1,\n",
      "  '0.009*\"heart\" + 0.008*\"study\" + 0.006*\"hospital\" + 0.006*\"link\" + '\n",
      "  '0.006*\"make\" + 0.005*\"not\" + 0.005*\"people\" + 0.005*\"treatment\" + '\n",
      "  '0.004*\"risk\" + 0.004*\"report\"'),\n",
      " (2,\n",
      "  '0.013*\"new\" + 0.008*\"report\" + 0.007*\"death\" + 0.006*\"mer\" + 0.006*\"case\" + '\n",
      "  '0.004*\"not\" + 0.004*\"man\" + 0.004*\"official\" + 0.003*\"release\" + '\n",
      "  '0.003*\"know\"'),\n",
      " (3,\n",
      "  '0.012*\"virus\" + 0.008*\"drug\" + 0.006*\"study\" + 0.005*\"new\" + 0.005*\"kid\" + '\n",
      "  '0.005*\"report\" + 0.005*\"recall\" + 0.005*\"say\" + 0.004*\"young\" + '\n",
      "  '0.004*\"spread\"')]\n"
     ]
    }
   ],
   "source": [
    "# Select the model and print the topics\n",
    "\n",
    "optimal_model = model_list[3] # Because indexing\n",
    "model_topics = optimal_model.show_topics(formatted=False)\n",
    "pprint(optimal_model.print_topics(num_words=10))"
   ]
  },
  {
   "cell_type": "markdown",
   "metadata": {},
   "source": [
    "The purpose of LDA is also to compute how much of the document was generated by which topic. Lets look at that."
   ]
  },
  {
   "cell_type": "code",
   "execution_count": 51,
   "metadata": {},
   "outputs": [
    {
     "data": {
      "text/html": [
       "<div>\n",
       "<style scoped>\n",
       "    .dataframe tbody tr th:only-of-type {\n",
       "        vertical-align: middle;\n",
       "    }\n",
       "\n",
       "    .dataframe tbody tr th {\n",
       "        vertical-align: top;\n",
       "    }\n",
       "\n",
       "    .dataframe thead th {\n",
       "        text-align: right;\n",
       "    }\n",
       "</style>\n",
       "<table border=\"1\" class=\"dataframe\">\n",
       "  <thead>\n",
       "    <tr style=\"text-align: right;\">\n",
       "      <th></th>\n",
       "      <th>Document_No</th>\n",
       "      <th>Dominant_Topic</th>\n",
       "      <th>Topic_Perc_Contrib</th>\n",
       "      <th>Keywords</th>\n",
       "      <th>Text</th>\n",
       "    </tr>\n",
       "  </thead>\n",
       "  <tbody>\n",
       "    <tr>\n",
       "      <th>0</th>\n",
       "      <td>0</td>\n",
       "      <td>3.0</td>\n",
       "      <td>0.9009</td>\n",
       "      <td>virus, drug, study, new, kid, report, recall, ...</td>\n",
       "      <td>Poll Target shoppers mostly stick with chain a...</td>\n",
       "    </tr>\n",
       "    <tr>\n",
       "      <th>1</th>\n",
       "      <td>1</td>\n",
       "      <td>3.0</td>\n",
       "      <td>0.9108</td>\n",
       "      <td>virus, drug, study, new, kid, report, recall, ...</td>\n",
       "      <td>Tax Return Preparers Exemplify a Gaping Hole i...</td>\n",
       "    </tr>\n",
       "    <tr>\n",
       "      <th>2</th>\n",
       "      <td>2</td>\n",
       "      <td>2.0</td>\n",
       "      <td>0.8874</td>\n",
       "      <td>new, report, death, mer, case, not, man, offic...</td>\n",
       "      <td>Priceline (PCLN) Agrees to Buy OpenTable Inc (...</td>\n",
       "    </tr>\n",
       "    <tr>\n",
       "      <th>3</th>\n",
       "      <td>3</td>\n",
       "      <td>0.0</td>\n",
       "      <td>0.9357</td>\n",
       "      <td>health, cancer, risk, new, say, woman, patient...</td>\n",
       "      <td>Quartz Daily Brief—Americas edition—China Russ...</td>\n",
       "    </tr>\n",
       "    <tr>\n",
       "      <th>4</th>\n",
       "      <td>4</td>\n",
       "      <td>0.0</td>\n",
       "      <td>0.8408</td>\n",
       "      <td>health, cancer, risk, new, say, woman, patient...</td>\n",
       "      <td>Will This Downgrade Hurt Alcoa (AA) Stock?</td>\n",
       "    </tr>\n",
       "  </tbody>\n",
       "</table>\n",
       "</div>"
      ],
      "text/plain": [
       "   Document_No  Dominant_Topic  Topic_Perc_Contrib  \\\n",
       "0            0             3.0              0.9009   \n",
       "1            1             3.0              0.9108   \n",
       "2            2             2.0              0.8874   \n",
       "3            3             0.0              0.9357   \n",
       "4            4             0.0              0.8408   \n",
       "\n",
       "                                            Keywords  \\\n",
       "0  virus, drug, study, new, kid, report, recall, ...   \n",
       "1  virus, drug, study, new, kid, report, recall, ...   \n",
       "2  new, report, death, mer, case, not, man, offic...   \n",
       "3  health, cancer, risk, new, say, woman, patient...   \n",
       "4  health, cancer, risk, new, say, woman, patient...   \n",
       "\n",
       "                                                Text  \n",
       "0  Poll Target shoppers mostly stick with chain a...  \n",
       "1  Tax Return Preparers Exemplify a Gaping Hole i...  \n",
       "2  Priceline (PCLN) Agrees to Buy OpenTable Inc (...  \n",
       "3  Quartz Daily Brief—Americas edition—China Russ...  \n",
       "4         Will This Downgrade Hurt Alcoa (AA) Stock?  "
      ]
     },
     "execution_count": 51,
     "metadata": {},
     "output_type": "execute_result"
    }
   ],
   "source": [
    "def format_topics_sentences(ldamodel=lda_model, corpus=corpus, texts=data):\n",
    "   \n",
    "    sent_topics_df = pd.DataFrame()\n",
    "\n",
    "   # A lot of times when dealing with iterators, we also get a need to keep a count of iterations. \n",
    "#Python eases the programmers’ task by providing a built-in function enumerate() for this task.\n",
    "\n",
    "    for i, row in enumerate(ldamodel[corpus]):\n",
    "        row = sorted(row, key=lambda x: (x[1]), reverse=True)\n",
    "        # Get the Dominant topic, Perc Contribution and Keywords for each document\n",
    "        for j, (topic_num, prop_topic) in enumerate(row):\n",
    "            if j == 0:  # -- dominant topic\n",
    "                wp = ldamodel.show_topic(topic_num)\n",
    "                topic_keywords = \", \".join([word for word, prop in wp]) # Laying out the formmate for laying out topic words\n",
    "                sent_topics_df = sent_topics_df.append(pd.Series([int(topic_num), round(prop_topic,4), topic_keywords]), ignore_index=True)\n",
    "            else:\n",
    "                break\n",
    "    sent_topics_df.columns = ['Dominant_Topic', 'Perc_Contribution', 'Topic_Keywords']\n",
    "\n",
    "    # Add original text to the end of the output\n",
    "    \n",
    "    contents = pd.Series(texts)\n",
    "    sent_topics_df = pd.concat([sent_topics_df, contents], axis=1)\n",
    "    return(sent_topics_df)\n",
    "    \n",
    "\n",
    "df_topic_sents_keywords = format_topics_sentences(ldamodel=optimal_model, corpus=corpus, texts=df)\n",
    "\n",
    "\n",
    "df_dominant_topic = df_topic_sents_keywords.reset_index()\n",
    "df_dominant_topic.columns = ['Document_No', 'Dominant_Topic', 'Topic_Perc_Contrib', 'Keywords', 'Text']\n",
    "\n",
    "\n",
    "df_dominant_topic.head(5)"
   ]
  },
  {
   "cell_type": "markdown",
   "metadata": {},
   "source": [
    "## Hierarchical Dirichlet Process\n",
    "\n",
    "\n",
    "is a nonparametric Bayesian approach to clustering grouped data. It uses a Dirichlet process for each group of data, with the Dirichlet processes for all groups sharing a base distribution which is itself drawn from a Dirichlet process\n",
    "\n"
   ]
  },
  {
   "cell_type": "markdown",
   "metadata": {},
   "source": [
    "This technique is not really suitable to a dataset or a problem where the number of topics is predetermined & thats where the difference lies between HDP and LDA"
   ]
  },
  {
   "cell_type": "markdown",
   "metadata": {},
   "source": [
    "This technique is not really suitable to a dataset or a problem where the number of topics is predetermined & thats where the difference lies between HDP and LDA"
   ]
  },
  {
   "cell_type": "code",
   "execution_count": 52,
   "metadata": {},
   "outputs": [],
   "source": [
    "from gensim.models import CoherenceModel, HdpModel"
   ]
  },
  {
   "cell_type": "code",
   "execution_count": 53,
   "metadata": {},
   "outputs": [],
   "source": [
    "hdpmodel = HdpModel(corpus=corpus, id2word=id2word) # Already have from earlier \n",
    "# Same set up / pre processing as LDA"
   ]
  },
  {
   "cell_type": "code",
   "execution_count": 54,
   "metadata": {},
   "outputs": [],
   "source": [
    "hdptopics = hdpmodel.show_topics(formatted=False)"
   ]
  },
  {
   "cell_type": "code",
   "execution_count": 55,
   "metadata": {},
   "outputs": [
    {
     "data": {
      "text/plain": [
       "(0,\n",
       " [('teva', 0.0021849210458260602),\n",
       "  ('government', 0.001958904184767307),\n",
       "  ('patterson', 0.0016638799549224688),\n",
       "  ('siemen', 0.0016586043390515092),\n",
       "  ('enhancement', 0.0013649336082118108),\n",
       "  ('run', 0.0013308148075149324),\n",
       "  ('jame', 0.001264780464057406),\n",
       "  ('update', 0.0012297746574657154),\n",
       "  ('penis', 0.0012244672992310155),\n",
       "  ('phusion', 0.001218119685025349),\n",
       "  ('box', 0.001215578329374755),\n",
       "  ('morcellator', 0.0012119006504856386),\n",
       "  ('dementia', 0.0012065006057109186),\n",
       "  ('people', 0.0011643766374705969),\n",
       "  ('bacteria', 0.0011300415447316962),\n",
       "  ('higher', 0.0011164210006914662),\n",
       "  ('pencil', 0.0011068340047388108),\n",
       "  ('spec', 0.0010933696706504604),\n",
       "  ('peace', 0.0010873289167111027),\n",
       "  ('cabo', 0.0010862673993637898)])"
      ]
     },
     "execution_count": 55,
     "metadata": {},
     "output_type": "execute_result"
    }
   ],
   "source": [
    "hdptopics[0]"
   ]
  },
  {
   "cell_type": "code",
   "execution_count": 56,
   "metadata": {},
   "outputs": [
    {
     "data": {
      "text/plain": [
       "20"
      ]
     },
     "execution_count": 56,
     "metadata": {},
     "output_type": "execute_result"
    }
   ],
   "source": [
    "len(hdptopics)"
   ]
  },
  {
   "cell_type": "markdown",
   "metadata": {},
   "source": [
    "The topics generated by HDP are as above. Lets look at the terms of the 1st topic. We also see that the model has generated 20 topics. We'll be comparing the coherence scores of the other models later, But before that, lets look at the next technique under topic modeling"
   ]
  },
  {
   "cell_type": "markdown",
   "metadata": {},
   "source": [
    "## Non-Negative Matrix Factorization\n",
    "\n",
    "Is a group of algorithms where a matrix V is factorized into (usually) two matrices W and H, with the property that all three matrices have no negative elements. This non-negativity makes the resulting matrices easier to inspect.\n",
    "\n",
    "Latent Dirichlet Allocation (where documents are represented by latent topics, and topics are represented by a distribution over words) Non-negative Matrix Factorization (where a document-term matrix is approximately factorized into term-feature and feature-document matrices)."
   ]
  },
  {
   "cell_type": "code",
   "execution_count": 57,
   "metadata": {},
   "outputs": [
    {
     "name": "stdout",
     "output_type": "stream",
     "text": [
      "Created 3000 X 5000 document-term matrix\n"
     ]
    }
   ],
   "source": [
    "# Forming the matrix, getting the features and normalizing them\n",
    "from nltk.corpus import stopwords;\n",
    "import nltk;\n",
    "from sklearn.feature_extraction.text import CountVectorizer, TfidfTransformer;\n",
    "from sklearn.decomposition import NMF;\n",
    "from sklearn.preprocessing import normalize;\n",
    "\n",
    "vectorizer = CountVectorizer(analyzer='word', max_features=5000, stop_words='english', lowercase=True, \n",
    "                             token_pattern='[a-zA-Z\\-][a-zA-Z\\-]{2,}');\n",
    "x_counts = vectorizer.fit_transform(title);\n",
    "print( \"Created %d X %d document-term matrix\" % (x_counts.shape[0], x_counts.shape[1]) ) # The technical unique nnmf part\n",
    "transformer = TfidfTransformer(smooth_idf=False);\n",
    "x_tfidf = transformer.fit_transform(x_counts);"
   ]
  },
  {
   "cell_type": "code",
   "execution_count": 58,
   "metadata": {},
   "outputs": [
    {
     "name": "stdout",
     "output_type": "stream",
     "text": [
      "Vocabulary has 5000 distinct terms\n"
     ]
    }
   ],
   "source": [
    "terms = vectorizer.get_feature_names()\n",
    "print(\"Vocabulary has %d distinct terms\" % len(terms))"
   ]
  },
  {
   "cell_type": "code",
   "execution_count": 59,
   "metadata": {},
   "outputs": [
    {
     "data": {
      "text/plain": [
       "NMF(alpha=0.0, beta_loss='frobenius', init='nndsvd', l1_ratio=0.0,\n",
       "  max_iter=200, n_components=5, random_state=None, shuffle=False,\n",
       "  solver='cd', tol=0.0001, verbose=0)"
      ]
     },
     "execution_count": 59,
     "metadata": {},
     "output_type": "execute_result"
    }
   ],
   "source": [
    "xtfidf_norm = normalize(x_tfidf, norm='l1', axis=1)\n",
    "model = NMF(n_components=5, init='nndsvd'); # Here we do identify num of topics, but like LDA we can kind of plot to get later\n",
    "model.fit(xtfidf_norm)"
   ]
  },
  {
   "cell_type": "markdown",
   "metadata": {},
   "source": [
    "In order to get the topics, we'll again be creating a function. The NMF doesn't have the show topics method and hence we'll be taking the custom approach"
   ]
  },
  {
   "cell_type": "code",
   "execution_count": 61,
   "metadata": {},
   "outputs": [],
   "source": [
    "def get_nmf_topics(model, n_top_words):\n",
    "    \n",
    "    feat_names = vectorizer.get_feature_names()\n",
    "    \n",
    "    word_dict = {};\n",
    "    for i in range(num_topics):\n",
    "        \n",
    "        words_ids = model.components_[i].argsort()[:-20 - 1:-1]\n",
    "        words = [feat_names[key] for key in words_ids]\n",
    "        word_dict['Topic # ' + '{:02d}'.format(i+1)] = words;\n",
    "    \n",
    "    return pd.DataFrame(word_dict);\n",
    "\n",
    "# argsort: Perform an indirect sort along the given axis using the algorithm specified by the kind keyword. \n",
    "# It returns an array of indices of the same shape as a that index data along the given axis in sorted order."
   ]
  },
  {
   "cell_type": "code",
   "execution_count": 62,
   "metadata": {},
   "outputs": [
    {
     "data": {
      "text/html": [
       "<div>\n",
       "<style scoped>\n",
       "    .dataframe tbody tr th:only-of-type {\n",
       "        vertical-align: middle;\n",
       "    }\n",
       "\n",
       "    .dataframe tbody tr th {\n",
       "        vertical-align: top;\n",
       "    }\n",
       "\n",
       "    .dataframe thead th {\n",
       "        text-align: right;\n",
       "    }\n",
       "</style>\n",
       "<table border=\"1\" class=\"dataframe\">\n",
       "  <thead>\n",
       "    <tr style=\"text-align: right;\">\n",
       "      <th></th>\n",
       "      <th>Topic # 01</th>\n",
       "      <th>Topic # 02</th>\n",
       "      <th>Topic # 03</th>\n",
       "      <th>Topic # 04</th>\n",
       "      <th>Topic # 05</th>\n",
       "    </tr>\n",
       "  </thead>\n",
       "  <tbody>\n",
       "    <tr>\n",
       "      <th>0</th>\n",
       "      <td>new</td>\n",
       "      <td>google</td>\n",
       "      <td>samsung</td>\n",
       "      <td>ebola</td>\n",
       "      <td>study</td>\n",
       "    </tr>\n",
       "    <tr>\n",
       "      <th>1</th>\n",
       "      <td>amazon</td>\n",
       "      <td>glass</td>\n",
       "      <td>galaxy</td>\n",
       "      <td>virus</td>\n",
       "      <td>cancer</td>\n",
       "    </tr>\n",
       "    <tr>\n",
       "      <th>2</th>\n",
       "      <td>york</td>\n",
       "      <td>smartphone</td>\n",
       "      <td>apple</td>\n",
       "      <td>health</td>\n",
       "      <td>finds</td>\n",
       "    </tr>\n",
       "    <tr>\n",
       "      <th>3</th>\n",
       "      <td>game</td>\n",
       "      <td>amazon</td>\n",
       "      <td>ipad</td>\n",
       "      <td>mers</td>\n",
       "      <td>friends</td>\n",
       "    </tr>\n",
       "    <tr>\n",
       "      <th>4</th>\n",
       "      <td>phone</td>\n",
       "      <td>android</td>\n",
       "      <td>review</td>\n",
       "      <td>outbreak</td>\n",
       "      <td>risk</td>\n",
       "    </tr>\n",
       "    <tr>\n",
       "      <th>5</th>\n",
       "      <td>discovered</td>\n",
       "      <td>songza</td>\n",
       "      <td>microsoft</td>\n",
       "      <td>guinea</td>\n",
       "      <td>alzheimer</td>\n",
       "    </tr>\n",
       "    <tr>\n",
       "      <th>6</th>\n",
       "      <td>cases</td>\n",
       "      <td>acquires</td>\n",
       "      <td>office</td>\n",
       "      <td>west</td>\n",
       "      <td>facebook</td>\n",
       "    </tr>\n",
       "    <tr>\n",
       "      <th>7</th>\n",
       "      <td>planet</td>\n",
       "      <td>day</td>\n",
       "      <td>electronics</td>\n",
       "      <td>illinois</td>\n",
       "      <td>heart</td>\n",
       "    </tr>\n",
       "    <tr>\n",
       "      <th>8</th>\n",
       "      <td>just</td>\n",
       "      <td>partners</td>\n",
       "      <td>iphone</td>\n",
       "      <td>cases</td>\n",
       "      <td>linked</td>\n",
       "    </tr>\n",
       "    <tr>\n",
       "      <th>9</th>\n",
       "      <td>cities</td>\n",
       "      <td>twitch</td>\n",
       "      <td>guardians</td>\n",
       "      <td>spreads</td>\n",
       "      <td>autism</td>\n",
       "    </tr>\n",
       "    <tr>\n",
       "      <th>10</th>\n",
       "      <td>air</td>\n",
       "      <td>surgeon</td>\n",
       "      <td>tab</td>\n",
       "      <td>africa</td>\n",
       "      <td>rate</td>\n",
       "    </tr>\n",
       "    <tr>\n",
       "      <th>11</th>\n",
       "      <td>hot</td>\n",
       "      <td>nest</td>\n",
       "      <td>report</td>\n",
       "      <td>deaths</td>\n",
       "      <td>percent</td>\n",
       "    </tr>\n",
       "    <tr>\n",
       "      <th>12</th>\n",
       "      <td>mers</td>\n",
       "      <td>prices</td>\n",
       "      <td>available</td>\n",
       "      <td>saudi</td>\n",
       "      <td>high</td>\n",
       "    </tr>\n",
       "    <tr>\n",
       "      <th>13</th>\n",
       "      <td>reports</td>\n",
       "      <td>let</td>\n",
       "      <td>grand</td>\n",
       "      <td>officials</td>\n",
       "      <td>breast</td>\n",
       "    </tr>\n",
       "    <tr>\n",
       "      <th>14</th>\n",
       "      <td>saudi</td>\n",
       "      <td>design</td>\n",
       "      <td>ceo</td>\n",
       "      <td>death</td>\n",
       "      <td>says</td>\n",
       "    </tr>\n",
       "    <tr>\n",
       "      <th>15</th>\n",
       "      <td>announces</td>\n",
       "      <td>making</td>\n",
       "      <td>mini</td>\n",
       "      <td>spread</td>\n",
       "      <td>help</td>\n",
       "    </tr>\n",
       "    <tr>\n",
       "      <th>16</th>\n",
       "      <td>adventure</td>\n",
       "      <td>things</td>\n",
       "      <td>surface</td>\n",
       "      <td>chikungunya</td>\n",
       "      <td>dropping</td>\n",
       "    </tr>\n",
       "    <tr>\n",
       "      <th>17</th>\n",
       "      <td>ellen</td>\n",
       "      <td>earns</td>\n",
       "      <td>zoom</td>\n",
       "      <td>man</td>\n",
       "      <td>death</td>\n",
       "    </tr>\n",
       "    <tr>\n",
       "      <th>18</th>\n",
       "      <td>twitter</td>\n",
       "      <td>nexus</td>\n",
       "      <td>ios</td>\n",
       "      <td>workers</td>\n",
       "      <td>low</td>\n",
       "    </tr>\n",
       "    <tr>\n",
       "      <th>19</th>\n",
       "      <td>album</td>\n",
       "      <td>search</td>\n",
       "      <td>buy</td>\n",
       "      <td>toll</td>\n",
       "      <td>marijuana</td>\n",
       "    </tr>\n",
       "  </tbody>\n",
       "</table>\n",
       "</div>"
      ],
      "text/plain": [
       "    Topic # 01  Topic # 02   Topic # 03   Topic # 04 Topic # 05\n",
       "0          new      google      samsung        ebola      study\n",
       "1       amazon       glass       galaxy        virus     cancer\n",
       "2         york  smartphone        apple       health      finds\n",
       "3         game      amazon         ipad         mers    friends\n",
       "4        phone     android       review     outbreak       risk\n",
       "5   discovered      songza    microsoft       guinea  alzheimer\n",
       "6        cases    acquires       office         west   facebook\n",
       "7       planet         day  electronics     illinois      heart\n",
       "8         just    partners       iphone        cases     linked\n",
       "9       cities      twitch    guardians      spreads     autism\n",
       "10         air     surgeon          tab       africa       rate\n",
       "11         hot        nest       report       deaths    percent\n",
       "12        mers      prices    available        saudi       high\n",
       "13     reports         let        grand    officials     breast\n",
       "14       saudi      design          ceo        death       says\n",
       "15   announces      making         mini       spread       help\n",
       "16   adventure      things      surface  chikungunya   dropping\n",
       "17       ellen       earns         zoom          man      death\n",
       "18     twitter       nexus          ios      workers        low\n",
       "19       album      search          buy         toll  marijuana"
      ]
     },
     "execution_count": 62,
     "metadata": {},
     "output_type": "execute_result"
    }
   ],
   "source": [
    "num_topics = 5\n",
    "nmf_df = get_nmf_topics(model, 5)\n",
    "nmf_df"
   ]
  },
  {
   "cell_type": "markdown",
   "metadata": {},
   "source": [
    "The table above shows the terms under each topic, as per the NMF model"
   ]
  },
  {
   "cell_type": "code",
   "execution_count": 63,
   "metadata": {},
   "outputs": [],
   "source": [
    "raw_documents = title.str.strip()\n",
    "raw_documents= raw_documents.str.lower()\n",
    "raw_documents = raw_documents.tolist()\n",
    "raw_doc1 = [i.split() for i in raw_documents]"
   ]
  },
  {
   "cell_type": "code",
   "execution_count": 64,
   "metadata": {},
   "outputs": [
    {
     "name": "stdout",
     "output_type": "stream",
     "text": [
      "Created 3000 X 103 document-term matrix\n"
     ]
    }
   ],
   "source": [
    "from sklearn.feature_extraction.text import CountVectorizer\n",
    "# use a custom stopwords list, set the minimum term-document frequency to 20\n",
    "vectorizer = CountVectorizer(stop_words = stop_words, min_df = 20) #custom_stop_words\n",
    "A = vectorizer.fit_transform(raw_documents)\n",
    "print( \"Created %d X %d document-term matrix\" % (A.shape[0], A.shape[1]) ) # Shape gets at IDF I believe"
   ]
  },
  {
   "cell_type": "code",
   "execution_count": 65,
   "metadata": {},
   "outputs": [
    {
     "name": "stdout",
     "output_type": "stream",
     "text": [
      "Vocabulary has 103 distinct terms\n"
     ]
    }
   ],
   "source": [
    "terms = vectorizer.get_feature_names()\n",
    "print(\"Vocabulary has %d distinct terms\" % len(terms))"
   ]
  },
  {
   "cell_type": "code",
   "execution_count": 66,
   "metadata": {},
   "outputs": [
    {
     "name": "stdout",
     "output_type": "stream",
     "text": [
      "Created 3000 X 103 TF-IDF-normalized document-term matrix\n"
     ]
    }
   ],
   "source": [
    "from sklearn.feature_extraction.text import TfidfVectorizer\n",
    "# we can pass in the same preprocessing parameters\n",
    "vectorizer = TfidfVectorizer(stop_words= stop_words, min_df = 20) #custom_stop_words\n",
    "A = vectorizer.fit_transform(raw_documents)\n",
    "print( \"Created %d X %d TF-IDF-normalized document-term matrix\" % (A.shape[0], A.shape[1]) )"
   ]
  },
  {
   "cell_type": "markdown",
   "metadata": {},
   "source": [
    "Until now, we created the term matrix. lets rank the terms and build the model."
   ]
  },
  {
   "cell_type": "code",
   "execution_count": 67,
   "metadata": {},
   "outputs": [],
   "source": [
    "import operator\n",
    "def rank_terms( A, terms ):\n",
    "    # get the sums over each column\n",
    "    sums = A.sum(axis=0)\n",
    "    # map weights to the terms\n",
    "    weights = {}\n",
    "    for col, term in enumerate(terms):\n",
    "        weights[term] = sums[0,col]\n",
    "    # rank the terms by their weight over all documents\n",
    "    return sorted(weights.items(), key=operator.itemgetter(1), reverse=True)"
   ]
  },
  {
   "cell_type": "code",
   "execution_count": 68,
   "metadata": {},
   "outputs": [
    {
     "name": "stdout",
     "output_type": "stream",
     "text": [
      "01. new (115.49)\n",
      "02. google (71.30)\n",
      "03. apple (51.96)\n",
      "04. says (49.28)\n",
      "05. study (47.52)\n",
      "06. health (44.32)\n",
      "07. facebook (43.23)\n",
      "08. video (41.85)\n",
      "09. ebola (41.56)\n",
      "10. 2014 (38.73)\n",
      "11. report (36.57)\n",
      "12. cancer (34.97)\n",
      "13. microsoft (34.58)\n",
      "14. day (33.68)\n",
      "15. year (32.48)\n",
      "16. china (32.27)\n",
      "17. review (31.07)\n",
      "18. data (30.17)\n",
      "19. sales (28.60)\n",
      "20. samsung (28.50)\n"
     ]
    }
   ],
   "source": [
    "ranking = rank_terms( A, terms )\n",
    "for i, pair in enumerate( ranking[0:20] ):\n",
    "    print( \"%02d. %s (%.2f)\" % ( i+1, pair[0], pair[1] ) )"
   ]
  },
  {
   "cell_type": "code",
   "execution_count": 69,
   "metadata": {},
   "outputs": [],
   "source": [
    "k = 10\n",
    "# create the model\n",
    "from sklearn import decomposition\n",
    "model = decomposition.NMF( init=\"nndsvd\", n_components=k ) \n",
    "# apply the model and extract the two factor matrices\n",
    "W = model.fit_transform( A )\n",
    "H = model.components_"
   ]
  },
  {
   "cell_type": "markdown",
   "metadata": {},
   "source": [
    "Check Index for a Term"
   ]
  },
  {
   "cell_type": "code",
   "execution_count": 70,
   "metadata": {},
   "outputs": [
    {
     "data": {
      "text/plain": [
       "array([0.  , 0.01, 0.  , 0.48, 0.  , 0.  , 0.  , 0.  , 0.  , 0.  ])"
      ]
     },
     "execution_count": 70,
     "metadata": {},
     "output_type": "execute_result"
    }
   ],
   "source": [
    "term_index = terms.index('samsung')\n",
    "# round to 2 decimal places for display purposes\n",
    "H[:,term_index].round(2)"
   ]
  },
  {
   "cell_type": "markdown",
   "metadata": {},
   "source": [
    "Sorting the indexes we got using the model to plot and see the top terms."
   ]
  },
  {
   "cell_type": "code",
   "execution_count": 71,
   "metadata": {},
   "outputs": [],
   "source": [
    "import numpy as np\n",
    "def get_descriptor( terms, H, topic_index, top ):\n",
    "    # reverse sort the values to sort the indices\n",
    "    top_indices = np.argsort( H[topic_index,:] )[::-1]\n",
    "    # now get the terms corresponding to the top-ranked indices\n",
    "    top_terms = []\n",
    "    for term_index in top_indices[0:top]:\n",
    "        top_terms.append( terms[term_index] )\n",
    "    return top_terms"
   ]
  },
  {
   "cell_type": "code",
   "execution_count": 72,
   "metadata": {},
   "outputs": [
    {
     "name": "stdout",
     "output_type": "stream",
     "text": [
      "Topic 01: new, cases, blood, mers, amazon, deal, gets, review, watch, android\n",
      "Topic 02: google, glass, android, day, news, data, court, uk, time, amazon\n",
      "Topic 03: study, finds, risk, cancer, heart, blood, linked, high, reveals, death\n",
      "Topic 04: apple, samsung, iphone, galaxy, ipad, price, report, app, ceo, buy\n",
      "Topic 05: health, report, heart, mers, world, life, cancer, year, gets, risk\n",
      "Topic 06: says, report, china, fda, ceo, microsoft, world, review, change, tv\n",
      "Topic 07: video, music, amazon, shows, watch, gm, game, ceo, set, time\n",
      "Topic 08: facebook, twitter, app, report, global, shares, news, deal, company, data\n",
      "Topic 09: ebola, outbreak, virus, west, death, cases, mers, uk, kanye, kardashian\n",
      "Topic 10: 2014, day, year, time, report, movie, release, west, music, change\n"
     ]
    }
   ],
   "source": [
    "descriptors = []\n",
    "for topic_index in range(k):\n",
    "    descriptors.append( get_descriptor( terms, H, topic_index, 10 ) )\n",
    "    str_descriptor = \", \".join( descriptors[topic_index] )\n",
    "    print(\"Topic %02d: %s\" % ( topic_index+1, str_descriptor ) )"
   ]
  },
  {
   "cell_type": "code",
   "execution_count": 76,
   "metadata": {},
   "outputs": [],
   "source": [
    "def plot_top_term_weights( terms, H, topic_index, top ): # H was the model components\n",
    "    # get the top terms and their weights\n",
    "    top_indices = np.argsort( H[topic_index,:] )[::-1]\n",
    "    top_terms = []\n",
    "    top_weights = []\n",
    "    for term_index in top_indices[0:top]:\n",
    "        top_terms.append( terms[term_index] )\n",
    "        top_weights.append( H[topic_index,term_index] )\n",
    "    # note we reverse the ordering for the plot\n",
    "    top_terms.reverse()\n",
    "    top_weights.reverse()\n",
    "    # create the plot\n",
    "    fig = plt.figure(figsize=(13,8))\n",
    "    # add the horizontal bar chart\n",
    "    ypos = np.arange(top)\n",
    "    ax = plt.barh(ypos, top_weights, align=\"center\", color=\"green\",tick_label=top_terms)\n",
    "    plt.xlabel(\"Term Weight\",fontsize=14)\n",
    "    plt.tight_layout()\n",
    "    plt.show()"
   ]
  },
  {
   "cell_type": "code",
   "execution_count": 77,
   "metadata": {},
   "outputs": [
    {
     "data": {
      "image/png": "[encoded data removed]",
      "text/plain": [
       "<Figure size 936x576 with 1 Axes>"
      ]
     },
     "metadata": {
      "needs_background": "light"
     },
     "output_type": "display_data"
    }
   ],
   "source": [
    "plot_top_term_weights( terms, H, 1, 15 )"
   ]
  },
  {
   "cell_type": "markdown",
   "metadata": {},
   "source": [
    "A common approach for parameter selection is to Measure and compare the topic coherence of models generated for different values of k.\n",
    "\n",
    "We need to start by pre-specifying an initial range of \"sensible\" values"
   ]
  },
  {
   "cell_type": "code",
   "execution_count": 78,
   "metadata": {},
   "outputs": [],
   "source": [
    "def get_top_snippets( all_snippets, W, topic_index, top ):\n",
    "    # reverse sort the values to sort the indices\n",
    "    top_indices = np.argsort( W[:,topic_index] )[::-1]\n",
    "    # now get the snippets corresponding to the top-ranked indices\n",
    "    top_snippets = []\n",
    "    for doc_index in top_indices[0:top]:\n",
    "        top_snippets.append( all_snippets[doc_index] )\n",
    "    return top_snippets\n"
   ]
  },
  {
   "cell_type": "code",
   "execution_count": 79,
   "metadata": {},
   "outputs": [],
   "source": [
    "kmin, kmax = 2, 8"
   ]
  },
  {
   "cell_type": "code",
   "execution_count": 80,
   "metadata": {},
   "outputs": [
    {
     "name": "stdout",
     "output_type": "stream",
     "text": [
      "Applying NMF for k=2 ...\n",
      "Applying NMF for k=3 ...\n",
      "Applying NMF for k=4 ...\n",
      "Applying NMF for k=5 ...\n",
      "Applying NMF for k=6 ...\n",
      "Applying NMF for k=7 ...\n",
      "Applying NMF for k=8 ...\n"
     ]
    }
   ],
   "source": [
    "from sklearn import decomposition\n",
    "topic_models = []\n",
    "# try each value of k\n",
    "for k in range(kmin,kmax+1):\n",
    "    print(\"Applying NMF for k=%d ...\" % k )\n",
    "    # run NMF\n",
    "    model = decomposition.NMF( init=\"nndsvd\", n_components=k ) \n",
    "    W = model.fit_transform( A )\n",
    "    H = model.components_    \n",
    "    # store for later\n",
    "    topic_models.append( (k,W,H) )"
   ]
  },
  {
   "cell_type": "markdown",
   "metadata": {},
   "source": [
    "we need to define a class that will generate documents in a form that can be consumed by Gensim's Word2Vec implementation"
   ]
  },
  {
   "cell_type": "code",
   "execution_count": 81,
   "metadata": {},
   "outputs": [],
   "source": [
    "import re\n",
    "class TokenGenerator:\n",
    "    def __init__( self, documents, stopwords ):\n",
    "        self.documents = documents\n",
    "        self.stopwords = stopwords\n",
    "        self.tokenizer = re.compile( r\"(?u)\\b\\w\\w+\\b\" )\n",
    "\n",
    "    def __iter__( self ):\n",
    "        print(\"Building Word2Vec model ...\")\n",
    "        for doc in self.documents:\n",
    "            tokens = []\n",
    "            for tok in self.tokenizer.findall( doc ):\n",
    "                if tok in self.stopwords:\n",
    "                    tokens.append( \"<stopword>\" )\n",
    "                elif len(tok) >= 2:\n",
    "                    tokens.append( tok )\n",
    "            yield tokens"
   ]
  },
  {
   "cell_type": "markdown",
   "metadata": {},
   "source": [
    "Now build a Skipgram Word2Vec model from all documents in the input file using Gensim"
   ]
  },
  {
   "cell_type": "code",
   "execution_count": 83,
   "metadata": {},
   "outputs": [
    {
     "name": "stderr",
     "output_type": "stream",
     "text": [
      "C:\\Users\\Christian Conroy\\Anaconda3\\lib\\site-packages\\gensim\\models\\base_any2vec.py:743: UserWarning: C extension not loaded, training will be slow. Install a C compiler and reinstall gensim for fast training.\n",
      "  \"C extension not loaded, training will be slow. \"\n"
     ]
    },
    {
     "name": "stdout",
     "output_type": "stream",
     "text": [
      "Building Word2Vec model ...\n",
      "Building Word2Vec model ...\n",
      "Building Word2Vec model ...\n",
      "Building Word2Vec model ...\n",
      "Building Word2Vec model ...\n",
      "Building Word2Vec model ...\n"
     ]
    }
   ],
   "source": [
    "import gensim\n",
    "docgen = TokenGenerator(raw_documents, stop_words )\n",
    "w2v_model = gensim.models.Word2Vec(docgen, size=500, min_count=20, sg=1)"
   ]
  },
  {
   "cell_type": "markdown",
   "metadata": {},
   "source": [
    "Once we have our Word2vec model, we can use it as part of our topic coherence approach to evaluate the different NMF topic models that we created previously. To do this, we will implement a simple version of the TC-W2V coherence measure\n",
    "\n",
    "We use the Word2vec model to calculate coherence scores for each of these models. We will define this coherence score as follows,"
   ]
  },
  {
   "cell_type": "code",
   "execution_count": 84,
   "metadata": {},
   "outputs": [],
   "source": [
    "def calculate_coherence( w2v_model, term_rankings ):\n",
    "    overall_coherence = 0.0\n",
    "    for topic_index in range(len(term_rankings)):\n",
    "        # check each pair of terms\n",
    "        pair_scores = []\n",
    "        for pair in combinations( term_rankings[topic_index], 2 ):\n",
    "            pair_scores.append( w2v_model.similarity(pair[0], pair[1]))\n",
    "        # get the mean for all pairs in this topic\n",
    "        topic_score = sum(pair_scores) / len(pair_scores)\n",
    "        overall_coherence += topic_score\n",
    "    # get the mean score across all topics\n",
    "    return overall_coherence / len(term_rankings)"
   ]
  },
  {
   "cell_type": "markdown",
   "metadata": {},
   "source": [
    "We also define a function to get the topic descriptor (i.e. list of top terms) for each topic"
   ]
  },
  {
   "cell_type": "code",
   "execution_count": 85,
   "metadata": {},
   "outputs": [],
   "source": [
    "import numpy as np\n",
    "def get_descriptor( all_terms, H, topic_index, top ):\n",
    "    # reverse sort the values to sort the indices\n",
    "    top_indices = np.argsort( H[topic_index,:] )[::-1]\n",
    "    # now get the terms corresponding to the top-ranked indices\n",
    "    top_terms = []\n",
    "    for term_index in top_indices[0:top]:\n",
    "        top_terms.append( all_terms[term_index] )\n",
    "    return top_terms"
   ]
  },
  {
   "cell_type": "code",
   "execution_count": 86,
   "metadata": {},
   "outputs": [
    {
     "name": "stdout",
     "output_type": "stream",
     "text": [
      "K=02: Coherence=0.9998\n",
      "K=03: Coherence=0.9998\n",
      "K=04: Coherence=0.9998\n",
      "K=05: Coherence=0.9998\n",
      "K=06: Coherence=0.9998\n",
      "K=07: Coherence=0.9998\n",
      "K=08: Coherence=0.9998\n"
     ]
    }
   ],
   "source": [
    "# process each of the models for different values of k\n",
    "from itertools import combinations\n",
    "k_values = []\n",
    "coherences = []\n",
    "for (k,W,H) in topic_models:\n",
    "    # Get all of the topic descriptors - the term_rankings, based on top 10 terms\n",
    "    term_rankings = []\n",
    "    for topic_index in range(k):\n",
    "        term_rankings.append( get_descriptor( terms, H, topic_index, 10 ) )\n",
    "    # Now calculate the coherence based on our Word2vec model\n",
    "    k_values.append( k )\n",
    "    coherences.append( calculate_coherence( w2v_model, term_rankings ) )\n",
    "    print(\"K=%02d: Coherence=%.4f\" % ( k, coherences[-1] ) )"
   ]
  },
  {
   "cell_type": "markdown",
   "metadata": {},
   "source": [
    "Surprisingly, for this text document, the coherence is all the same for k = 2 to k = 8. Lets plot that & see and note this value and we'll compare it with other techniques."
   ]
  },
  {
   "cell_type": "code",
   "execution_count": 87,
   "metadata": {},
   "outputs": [],
   "source": [
    "%matplotlib inline\n",
    "import matplotlib\n",
    "import matplotlib.pyplot as plt\n",
    "plt.style.use(\"ggplot\")\n",
    "matplotlib.rcParams.update({\"font.size\": 14})"
   ]
  },
  {
   "cell_type": "code",
   "execution_count": 88,
   "metadata": {},
   "outputs": [
    {
     "data": {
      "image/png": "[encoded data removed]",
      "text/plain": [
       "<Figure size 936x504 with 1 Axes>"
      ]
     },
     "metadata": {},
     "output_type": "display_data"
    }
   ],
   "source": [
    "fig = plt.figure(figsize=(13,7))\n",
    "# create the line plot\n",
    "ax = plt.plot( k_values, coherences )\n",
    "plt.xticks(k_values)\n",
    "plt.xlabel(\"Number of Topics\")\n",
    "plt.ylabel(\"Mean Coherence\")\n",
    "# add the points\n",
    "plt.scatter( k_values, coherences, s=120)\n",
    "# find and annotate the maximum point on the plot\n",
    "ymax = max(coherences)\n",
    "xpos = coherences.index(ymax)\n",
    "best_k = k_values[xpos]\n",
    "plt.annotate( \"k=%d\" % best_k, xy=(best_k, ymax), xytext=(best_k, ymax), textcoords=\"offset points\", fontsize=16)\n",
    "# show the plot\n",
    "plt.show()"
   ]
  },
  {
   "cell_type": "code",
   "execution_count": 89,
   "metadata": {},
   "outputs": [],
   "source": [
    "k = best_k\n",
    "# get the model that we generated earlier.\n",
    "W = topic_models[k-kmin][1]\n",
    "H = topic_models[k-kmin][2]"
   ]
  },
  {
   "cell_type": "code",
   "execution_count": 90,
   "metadata": {},
   "outputs": [
    {
     "name": "stdout",
     "output_type": "stream",
     "text": [
      "Topic 01: new, apple, says, facebook, study, cases, video, blood, mers, amazon\n",
      "Topic 02: google, glass, android, day, apple, says, 2014, facebook, news, data\n"
     ]
    }
   ],
   "source": [
    "for topic_index in range(k):\n",
    "    descriptor = get_descriptor( terms, H, topic_index, 10 )\n",
    "    str_descriptor = \", \".join( descriptor )\n",
    "    print(\"Topic %02d: %s\" % ( topic_index+1, str_descriptor ) )"
   ]
  },
  {
   "cell_type": "markdown",
   "metadata": {},
   "source": [
    "The words under each topic can be seen above and as per the best K value chosen by NMF. We also saw the coherence value of the NMF model. We will compare those results with LDA, LSI and HDP"
   ]
  },
  {
   "cell_type": "markdown",
   "metadata": {},
   "source": [
    "## Comparing the techniques"
   ]
  },
  {
   "cell_type": "code",
   "execution_count": 92,
   "metadata": {},
   "outputs": [],
   "source": [
    "# Do models again and get topics \n",
    "lsimodel = LsiModel(corpus=corpus, num_topics=5, id2word=id2word)\n",
    "lsitopics = lsimodel.show_topics(formatted=False)"
   ]
  },
  {
   "cell_type": "code",
   "execution_count": 93,
   "metadata": {},
   "outputs": [],
   "source": [
    "ldatopics = lda_model.show_topics(formatted=False)"
   ]
  },
  {
   "cell_type": "code",
   "execution_count": 94,
   "metadata": {},
   "outputs": [],
   "source": [
    "lsitopics = [[word for word, prob in topic] for topicid, topic in lsitopics]\n",
    "\n",
    "hdptopics = [[word for word, prob in topic] for topicid, topic in hdptopics]\n",
    "\n",
    "ldatopics = [[word for word, prob in topic] for topicid, topic in ldatopics]"
   ]
  },
  {
   "cell_type": "code",
   "execution_count": 95,
   "metadata": {},
   "outputs": [],
   "source": [
    "lsi_coherence = CoherenceModel(topics=lsitopics[:10], texts=data_lemmatized, dictionary=id2word, window_size=10).get_coherence()\n",
    "\n",
    "hdp_coherence = CoherenceModel(topics=hdptopics[:10], texts=data_lemmatized, dictionary=id2word, window_size=10).get_coherence()\n",
    "\n",
    "lda_coherence = CoherenceModel(topics=ldatopics, texts=data_lemmatized, dictionary=id2word, window_size=10).get_coherence()\n",
    "\n",
    "# Same data formate for all these. I think we don;t include nnmi because it was a bit more compllicared. "
   ]
  },
  {
   "cell_type": "code",
   "execution_count": 96,
   "metadata": {},
   "outputs": [],
   "source": [
    "def evaluate_bar_graph(coherences, indices):\n",
    "    assert len(coherences) == len(indices)\n",
    "    n = len(coherences)\n",
    "    x = np.arange(n)\n",
    "    plt.figure(figsize=(12,12))\n",
    "    plt.bar(x, coherences, width=0.2, tick_label=indices, align='center')\n",
    "    plt.xlabel('Models')\n",
    "    plt.ylabel('Coherence Value')"
   ]
  },
  {
   "cell_type": "code",
   "execution_count": 97,
   "metadata": {},
   "outputs": [
    {
     "data": {
      "image/png": "[encoded data removed]",
      "text/plain": [
       "<Figure size 864x864 with 1 Axes>"
      ]
     },
     "metadata": {},
     "output_type": "display_data"
    }
   ],
   "source": [
    "evaluate_bar_graph([lsi_coherence, hdp_coherence, lda_coherence],\n",
    "                   ['LSI', 'HDP', 'LDA'])"
   ]
  },
  {
   "cell_type": "markdown",
   "metadata": {},
   "source": [
    "The NMF model has the highest coherence score(not in the plot above -- NMF = .9)"
   ]
  },
  {
   "cell_type": "code",
   "execution_count": null,
   "metadata": {},
   "outputs": [],
   "source": []
  }
 ],
 "metadata": {
  "kernelspec": {
   "display_name": "Python 3",
   "language": "python",
   "name": "python3"
  },
  "language_info": {
   "codemirror_mode": {
    "name": "ipython",
    "version": 3
   },
   "file_extension": ".py",
   "mimetype": "text/x-python",
   "name": "python",
   "nbconvert_exporter": "python",
   "pygments_lexer": "ipython3",
   "version": "3.7.3"
  }
 },
 "nbformat": 4,
 "nbformat_minor": 2
}
